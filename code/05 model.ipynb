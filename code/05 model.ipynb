{
 "cells": [
  {
   "cell_type": "markdown",
   "metadata": {},
   "source": [
    "# Import Packages"
   ]
  },
  {
   "cell_type": "code",
   "execution_count": 14,
   "metadata": {
    "ExecuteTime": {
     "end_time": "2019-11-30T13:26:57.202548Z",
     "start_time": "2019-11-30T13:26:57.083624Z"
    }
   },
   "outputs": [],
   "source": [
    "import pandas as pd\n",
    "import seaborn as sns\n",
    "import matplotlib.pyplot as plt\n",
    "import math\n",
    "%matplotlib inline\n",
    "%config IPCompleter.greedy=True\n",
    "\n",
    "#debug\n",
    "# df = pd.read_csv('../data/df_model_with_dummies.csv') # modeling dataset\n",
    "# df = pd.read_csv('../data/df_model_with_dummies_debug.csv') # modeling dataset\n",
    "df = pd.read_csv('../data/df_model_with_dummies_trimmed.csv') # modeling dataset\n",
    "\n",
    "sns.set(style='darkgrid')\n",
    "from sklearn.metrics import r2_score\n",
    "from sklearn.preprocessing import StandardScaler, PolynomialFeatures, PowerTransformer\n",
    "from sklearn.model_selection import train_test_split, cross_val_score, GridSearchCV\n",
    "from sklearn.linear_model import LinearRegression\n",
    "from sklearn.linear_model import Ridge, Lasso, ElasticNet\n",
    "from sklearn.linear_model import RidgeCV, LassoCV, ElasticNetCV\n",
    "from sklearn.tree import DecisionTreeRegressor\n",
    "from sklearn.ensemble import RandomForestRegressor, ExtraTreesRegressor"
   ]
  },
  {
   "cell_type": "code",
   "execution_count": 15,
   "metadata": {
    "ExecuteTime": {
     "end_time": "2019-11-30T13:27:02.876073Z",
     "start_time": "2019-11-30T13:27:02.831101Z"
    }
   },
   "outputs": [
    {
     "data": {
      "text/html": [
       "<div>\n",
       "<style scoped>\n",
       "    .dataframe tbody tr th:only-of-type {\n",
       "        vertical-align: middle;\n",
       "    }\n",
       "\n",
       "    .dataframe tbody tr th {\n",
       "        vertical-align: top;\n",
       "    }\n",
       "\n",
       "    .dataframe thead th {\n",
       "        text-align: right;\n",
       "    }\n",
       "</style>\n",
       "<table border=\"1\" class=\"dataframe\">\n",
       "  <thead>\n",
       "    <tr style=\"text-align: right;\">\n",
       "      <th></th>\n",
       "      <th>year</th>\n",
       "      <th>company</th>\n",
       "      <th>auwgr</th>\n",
       "      <th>lkpp</th>\n",
       "      <th>hlr_lag1</th>\n",
       "      <th>hlr_lag2</th>\n",
       "      <th>hlr_lag3</th>\n",
       "      <th>hlr_lag4</th>\n",
       "      <th>hlr_lag5</th>\n",
       "      <th>mer</th>\n",
       "      <th>der</th>\n",
       "      <th>oer</th>\n",
       "      <th>prem_write_net_lag1</th>\n",
       "      <th>claim_set_net_lag1</th>\n",
       "      <th>exp_management_lag1</th>\n",
       "      <th>exp_comm_incur_net_lag1</th>\n",
       "      <th>exp_other_lag1</th>\n",
       "      <th>prem_liab_diff_lag1</th>\n",
       "      <th>claim_liab_diff_lag1</th>\n",
       "    </tr>\n",
       "  </thead>\n",
       "  <tbody>\n",
       "    <tr>\n",
       "      <th>0</th>\n",
       "      <td>2005</td>\n",
       "      <td>c166</td>\n",
       "      <td>0.212078</td>\n",
       "      <td>1.546689</td>\n",
       "      <td>4.260059</td>\n",
       "      <td>4.228211</td>\n",
       "      <td>4.225676</td>\n",
       "      <td>4.281284</td>\n",
       "      <td>4.375305</td>\n",
       "      <td>0.287291</td>\n",
       "      <td>0.069188</td>\n",
       "      <td>0.007507</td>\n",
       "      <td>2.910275e+06</td>\n",
       "      <td>1.839364e+06</td>\n",
       "      <td>796281.692308</td>\n",
       "      <td>191766.538462</td>\n",
       "      <td>20807.769231</td>\n",
       "      <td>31225.615385</td>\n",
       "      <td>11025.846154</td>\n",
       "    </tr>\n",
       "    <tr>\n",
       "      <th>1</th>\n",
       "      <td>2006</td>\n",
       "      <td>c166</td>\n",
       "      <td>-0.238092</td>\n",
       "      <td>1.986037</td>\n",
       "      <td>6.355533</td>\n",
       "      <td>4.228211</td>\n",
       "      <td>4.225676</td>\n",
       "      <td>4.281284</td>\n",
       "      <td>4.375305</td>\n",
       "      <td>0.333851</td>\n",
       "      <td>-0.048705</td>\n",
       "      <td>0.013481</td>\n",
       "      <td>1.205469e+06</td>\n",
       "      <td>1.659653e+06</td>\n",
       "      <td>383283.000000</td>\n",
       "      <td>-55917.000000</td>\n",
       "      <td>15477.000000</td>\n",
       "      <td>-642365.000000</td>\n",
       "      <td>-410316.000000</td>\n",
       "    </tr>\n",
       "  </tbody>\n",
       "</table>\n",
       "</div>"
      ],
      "text/plain": [
       "   year company     auwgr      lkpp  hlr_lag1  hlr_lag2  hlr_lag3  hlr_lag4  \\\n",
       "0  2005    c166  0.212078  1.546689  4.260059  4.228211  4.225676  4.281284   \n",
       "1  2006    c166 -0.238092  1.986037  6.355533  4.228211  4.225676  4.281284   \n",
       "\n",
       "   hlr_lag5       mer       der       oer  prem_write_net_lag1  \\\n",
       "0  4.375305  0.287291  0.069188  0.007507         2.910275e+06   \n",
       "1  4.375305  0.333851 -0.048705  0.013481         1.205469e+06   \n",
       "\n",
       "   claim_set_net_lag1  exp_management_lag1  exp_comm_incur_net_lag1  \\\n",
       "0        1.839364e+06        796281.692308            191766.538462   \n",
       "1        1.659653e+06        383283.000000            -55917.000000   \n",
       "\n",
       "   exp_other_lag1  prem_liab_diff_lag1  claim_liab_diff_lag1  \n",
       "0    20807.769231         31225.615385          11025.846154  \n",
       "1    15477.000000       -642365.000000        -410316.000000  "
      ]
     },
     "execution_count": 15,
     "metadata": {},
     "output_type": "execute_result"
    }
   ],
   "source": [
    "df.head(2)"
   ]
  },
  {
   "cell_type": "code",
   "execution_count": 16,
   "metadata": {
    "ExecuteTime": {
     "end_time": "2019-11-30T13:27:12.129404Z",
     "start_time": "2019-11-30T13:27:12.123406Z"
    }
   },
   "outputs": [
    {
     "data": {
      "text/plain": [
       "(4424, 19)"
      ]
     },
     "execution_count": 16,
     "metadata": {},
     "output_type": "execute_result"
    }
   ],
   "source": [
    "df.shape"
   ]
  },
  {
   "cell_type": "markdown",
   "metadata": {},
   "source": [
    "# Get features from dataframe"
   ]
  },
  {
   "cell_type": "code",
   "execution_count": 17,
   "metadata": {
    "ExecuteTime": {
     "end_time": "2019-11-30T13:27:56.496308Z",
     "start_time": "2019-11-30T13:27:56.438346Z"
    }
   },
   "outputs": [
    {
     "name": "stdout",
     "output_type": "stream",
     "text": [
      "(4424, 19)\n",
      "Index(['year', 'auwgr', 'lkpp', 'hlr_lag1', 'hlr_lag2', 'hlr_lag3', 'hlr_lag4',\n",
      "       'hlr_lag5', 'mer', 'der', 'oer', 'prem_write_net_lag1',\n",
      "       'claim_set_net_lag1', 'exp_management_lag1', 'exp_comm_incur_net_lag1',\n",
      "       'exp_other_lag1', 'prem_liab_diff_lag1', 'claim_liab_diff_lag1'],\n",
      "      dtype='object')\n",
      "['lkpp', 'hlr_lag1', 'hlr_lag2', 'hlr_lag3', 'hlr_lag4', 'hlr_lag5', 'mer', 'der', 'oer', 'prem_write_net_lag1', 'claim_set_net_lag1', 'exp_management_lag1', 'exp_comm_incur_net_lag1', 'exp_other_lag1', 'prem_liab_diff_lag1', 'claim_liab_diff_lag1']\n"
     ]
    }
   ],
   "source": [
    "print(df.shape)\n",
    "print(df._get_numeric_data().columns)\n",
    "features = [col for col in df._get_numeric_data().columns if (col != 'auwgr') and (col != 'year')]\n",
    "print(features)"
   ]
  },
  {
   "cell_type": "code",
   "execution_count": 18,
   "metadata": {
    "ExecuteTime": {
     "end_time": "2019-11-30T13:28:06.622876Z",
     "start_time": "2019-11-30T13:28:06.583900Z"
    }
   },
   "outputs": [
    {
     "data": {
      "text/plain": [
       "False"
      ]
     },
     "execution_count": 18,
     "metadata": {},
     "output_type": "execute_result"
    }
   ],
   "source": [
    "df.isna().sum().any()"
   ]
  },
  {
   "cell_type": "code",
   "execution_count": 19,
   "metadata": {
    "ExecuteTime": {
     "end_time": "2019-11-30T13:28:12.856381Z",
     "start_time": "2019-11-30T13:28:12.844390Z"
    }
   },
   "outputs": [
    {
     "name": "stdout",
     "output_type": "stream",
     "text": [
      "(4424, 16)\n",
      "(4424,)\n"
     ]
    }
   ],
   "source": [
    "X = df[features]\n",
    "y = df['auwgr']\n",
    "print(X.shape)\n",
    "print(y.shape)"
   ]
  },
  {
   "cell_type": "markdown",
   "metadata": {},
   "source": [
    "## Regression Model 1"
   ]
  },
  {
   "cell_type": "markdown",
   "metadata": {},
   "source": [
    "### Train/Test Split"
   ]
  },
  {
   "cell_type": "code",
   "execution_count": 20,
   "metadata": {
    "ExecuteTime": {
     "end_time": "2019-11-30T13:28:16.905997Z",
     "start_time": "2019-11-30T13:28:16.800061Z"
    }
   },
   "outputs": [
    {
     "name": "stdout",
     "output_type": "stream",
     "text": [
      "(3318, 16) (1106, 16)\n",
      "(3318,) (1106,)\n"
     ]
    }
   ],
   "source": [
    "# split data into training and testing sets\n",
    "X_train, X_test, y_train, y_test = train_test_split(X, y, random_state=42)\n",
    "print(X_train.shape,X_test.shape)\n",
    "print(y_train.shape,y_test.shape)"
   ]
  },
  {
   "cell_type": "markdown",
   "metadata": {},
   "source": [
    "### Standard Scaler"
   ]
  },
  {
   "cell_type": "code",
   "execution_count": 21,
   "metadata": {
    "ExecuteTime": {
     "end_time": "2019-11-30T13:28:20.554649Z",
     "start_time": "2019-11-30T13:28:20.541659Z"
    }
   },
   "outputs": [],
   "source": [
    "ss = StandardScaler()\n",
    "ss.fit(X_train)\n",
    "X_train_sc = ss.transform(X_train)\n",
    "X_test_sc = ss.transform(X_test)"
   ]
  },
  {
   "cell_type": "markdown",
   "metadata": {},
   "source": [
    "### Linear, Ridge, Lasso (with standard scaled data)"
   ]
  },
  {
   "cell_type": "code",
   "execution_count": 22,
   "metadata": {
    "ExecuteTime": {
     "end_time": "2019-11-30T13:28:26.033493Z",
     "start_time": "2019-11-30T13:28:24.237392Z"
    }
   },
   "outputs": [
    {
     "name": "stdout",
     "output_type": "stream",
     "text": [
      "\n",
      "LINEAR REG cross-val mean score:\n",
      "X-Val score MEAN using X_train\t\t 0.08383396358260631\n",
      "\n",
      "RIDGE cross-val mean score:\n",
      "X-Val score MEAN using X_train\t\t 0.08464331133319362\n",
      "\n",
      "LASSO cross-val mean score:\n",
      "X-Val score MEAN using X_train\t\t 0.07684363003171261\n"
     ]
    }
   ],
   "source": [
    "# LINEAR REG - Instantiate and score using cross validation (3 folds)\n",
    "linreg = LinearRegression()\n",
    "print('\\nLINEAR REG cross-val mean score:')\n",
    "print('X-Val score MEAN using X_train\\t\\t',cross_val_score(linreg, X_train_sc, y_train,cv=3).mean())\n",
    "\n",
    "# RIDGE - Instantiate and score using cross validation (3 folds)\n",
    "ridge=RidgeCV(alphas=np.linspace(.1, 10, 100))\n",
    "print('\\nRIDGE cross-val mean score:')\n",
    "print('X-Val score MEAN using X_train\\t\\t',cross_val_score(ridge, X_train_sc, y_train,cv=3).mean())\n",
    "\n",
    "# LASSO - Instantiate and score using cross validation (3 folds)\n",
    "lasso = LassoCV(n_alphas=200,cv=3)\n",
    "print('\\nLASSO cross-val mean score:')\n",
    "print('X-Val score MEAN using X_train\\t\\t',cross_val_score(lasso, X_train_sc, y_train,cv=3).mean())"
   ]
  },
  {
   "cell_type": "markdown",
   "metadata": {},
   "source": [
    "## Regression Model 2"
   ]
  },
  {
   "cell_type": "markdown",
   "metadata": {},
   "source": [
    "### Power Transformer"
   ]
  },
  {
   "cell_type": "code",
   "execution_count": 23,
   "metadata": {
    "ExecuteTime": {
     "end_time": "2019-11-30T13:28:36.050511Z",
     "start_time": "2019-11-30T13:28:35.736703Z"
    }
   },
   "outputs": [],
   "source": [
    "pt_x = PowerTransformer() # transform X\n",
    "pt_x.fit(X_train)\n",
    "X_train_pt = pt_x.transform(X_train)\n",
    "X_test_pt = pt_x.transform(X_test)\n",
    "\n",
    "pt_y = PowerTransformer() # transform Y\n",
    "# PowerTransformer requires a matrix/DataFrame, so we use .to_frame() method on y_train\n",
    "# subsequently we use .ravel() to flatten it into an array (which is required for cross_val later)\n",
    "pt_y.fit(y_train.to_frame())\n",
    "y_train_pt = pt_y.transform(y_train.to_frame()).ravel()\n",
    "y_test_pt = pt_y.transform(y_test.to_frame()).ravel()"
   ]
  },
  {
   "cell_type": "markdown",
   "metadata": {},
   "source": [
    "### Linear, Ridge Lasso (with power transformed data)"
   ]
  },
  {
   "cell_type": "code",
   "execution_count": 24,
   "metadata": {
    "ExecuteTime": {
     "end_time": "2019-11-30T13:28:41.806986Z",
     "start_time": "2019-11-30T13:28:40.636701Z"
    }
   },
   "outputs": [
    {
     "name": "stdout",
     "output_type": "stream",
     "text": [
      "\n",
      "LINEAR REG cross-val mean score:\n",
      "X-Val score MEAN using X_train\t\t 0.053859700066143414\n",
      "\n",
      "RIDGE cross-val mean score:\n",
      "X-Val score MEAN using X_train\t\t 0.05487273795830964\n",
      "\n",
      "LASSO cross-val mean score:\n",
      "X-Val score MEAN using X_train\t\t 0.05346565519765253\n"
     ]
    }
   ],
   "source": [
    "# LINEAR REG - Instantiate and score using cross validation (3 folds)\n",
    "linreg = LinearRegression()\n",
    "print('\\nLINEAR REG cross-val mean score:')\n",
    "print('X-Val score MEAN using X_train\\t\\t',cross_val_score(linreg, X_train_pt, y_train_pt,cv=3).mean())\n",
    "\n",
    "# RIDGE - Instantiate and score using cross validation (3 folds)\n",
    "ridge=RidgeCV(alphas=np.linspace(.1, 10, 100))\n",
    "print('\\nRIDGE cross-val mean score:')\n",
    "print('X-Val score MEAN using X_train\\t\\t',cross_val_score(ridge, X_train_pt, y_train_pt,cv=3).mean())\n",
    "\n",
    "# LASSO - Instantiate and score using cross validation (3 folds)\n",
    "lasso = LassoCV(n_alphas=200,cv=3)\n",
    "print('\\nLASSO cross-val mean score:')\n",
    "print('X-Val score MEAN using X_train\\t\\t',cross_val_score(lasso, X_train_pt, y_train_pt,cv=3).mean())"
   ]
  },
  {
   "cell_type": "markdown",
   "metadata": {},
   "source": [
    "# Checkpoint 1: Comments\n",
    "The cross-validation scores above show that the data, as it is, cannot be used for regression.<br>\n",
    "The next step is to divide the data into the 13 individual insurance types (fire, motor, wic, cargo etc). For each insurance type, check the data for possiblity of regression."
   ]
  },
  {
   "cell_type": "markdown",
   "metadata": {},
   "source": [
    "# Separate data into individual insurance types"
   ]
  },
  {
   "cell_type": "code",
   "execution_count": null,
   "metadata": {
    "ExecuteTime": {
     "end_time": "2019-11-26T05:58:50.781432Z",
     "start_time": "2019-11-26T05:58:50.773437Z"
    }
   },
   "outputs": [],
   "source": [
    "# insurance class dictionary\n",
    "ins_class_dict = {'mac':'Marine and Aviation Cargo',\n",
    "                  'mahl':'Marine and Aviation Hull and Liability',\n",
    "                  'fire':'Fire',\n",
    "                  'motor':'Motor',\n",
    "                  'wic':'Work Injury Compensation',\n",
    "                  'pa':'Personal Accident',\n",
    "                  'health':'Health',\n",
    "                  'pub_lia':'Public Liability',\n",
    "                  'bonds':'Bonds',\n",
    "                  'cnstr_engr':'Engineering/CAR/EAR',\n",
    "                  'prof_indm':'Professional Indemnity',\n",
    "                  'cpr':'Credit/Political Risk',\n",
    "                  'others':'Others'}"
   ]
  },
  {
   "cell_type": "code",
   "execution_count": null,
   "metadata": {
    "ExecuteTime": {
     "end_time": "2019-11-26T06:03:46.333942Z",
     "start_time": "2019-11-26T06:03:46.269983Z"
    },
    "cell_style": "center"
   },
   "outputs": [],
   "source": [
    "# split insurance types into their corresponding dataframes\n",
    "df_mac = df[df['class']=='mac'].copy()\n",
    "df_mahl = df[df['class']=='mahl'].copy()\n",
    "df_fire = df[df['class']=='fire'].copy()\n",
    "df_motor = df[df['class']=='motor'].copy()\n",
    "df_wic = df[df['class']=='wic'].copy()\n",
    "df_pa = df[df['class']=='pa'].copy()\n",
    "df_health = df[df['class']=='health'].copy()\n",
    "df_pub_lia = df[df['class']=='pub_lia'].copy()\n",
    "df_bonds = df[df['class']=='bonds'].copy()\n",
    "df_cnstr_engr = df[df['class']=='cnstr_engr'].copy()\n",
    "df_prof_indm = df[df['class']=='prof_indm'].copy()\n",
    "df_cpr = df[df['class']=='cpr'].copy()\n",
    "df_others = df[df['class']=='others'].copy()\n",
    "print('df_mac:\\t\\t',df_mac.shape[0],'rows')\n",
    "print('df_mahl:\\t',df_mahl.shape[0],'rows')\n",
    "print('df_fire:\\t',df_fire.shape[0],'rows')\n",
    "print('df_motor:\\t',df_motor.shape[0],'rows')\n",
    "print('df_wic:\\t\\t',df_wic.shape[0],'rows')\n",
    "print('df_pa:\\t\\t',df_pa.shape[0],'rows')\n",
    "print('df_health:\\t',df_health.shape[0],'rows')\n",
    "print('df_pub_lia:\\t',df_pub_lia.shape[0],'rows')\n",
    "print('df_bonds:\\t',df_bonds.shape[0],'rows')\n",
    "print('df_cnstr_engr:\\t',df_cnstr_engr.shape[0],'rows')\n",
    "print('df_prof_indm:\\t',df_prof_indm.shape[0],'rows')\n",
    "print('df_cpr:\\t\\t',df_cpr.shape[0],'rows')\n",
    "print('df_others:\\t',df_others.shape[0],'rows')"
   ]
  },
  {
   "cell_type": "markdown",
   "metadata": {},
   "source": [
    "# Explore Insurance Types"
   ]
  },
  {
   "cell_type": "markdown",
   "metadata": {},
   "source": [
    "## Class 'mac'"
   ]
  },
  {
   "cell_type": "markdown",
   "metadata": {},
   "source": [
    "### Prepare Data"
   ]
  },
  {
   "cell_type": "code",
   "execution_count": null,
   "metadata": {
    "ExecuteTime": {
     "end_time": "2019-11-26T05:58:50.882413Z",
     "start_time": "2019-11-26T05:58:50.869421Z"
    },
    "cell_style": "center"
   },
   "outputs": [],
   "source": [
    "# df_mac\n",
    "features = [col for col in df_mac._get_numeric_data().columns if (col != 'auwgr') and (col != 'year')]\n",
    "X = df_mac[features]\n",
    "y = df_mac['auwgr']\n",
    "print(X.shape, y.shape)"
   ]
  },
  {
   "cell_type": "markdown",
   "metadata": {},
   "source": [
    "### Train/Test Split"
   ]
  },
  {
   "cell_type": "code",
   "execution_count": null,
   "metadata": {
    "ExecuteTime": {
     "end_time": "2019-11-26T05:58:50.899403Z",
     "start_time": "2019-11-26T05:58:50.887411Z"
    }
   },
   "outputs": [],
   "source": [
    "# split data into training and testing sets\n",
    "X_train, X_test, y_train, y_test = train_test_split(X, y, random_state=42)\n",
    "print(X_train.shape,X_test.shape,y_train.shape,y_test.shape)"
   ]
  },
  {
   "cell_type": "markdown",
   "metadata": {},
   "source": [
    "### Standard Scaler"
   ]
  },
  {
   "cell_type": "code",
   "execution_count": null,
   "metadata": {
    "ExecuteTime": {
     "end_time": "2019-11-26T05:58:50.919390Z",
     "start_time": "2019-11-26T05:58:50.904400Z"
    }
   },
   "outputs": [],
   "source": [
    "ss = StandardScaler()\n",
    "ss.fit(X_train)\n",
    "X_train_sc = ss.transform(X_train)\n",
    "X_test_sc = ss.transform(X_test)"
   ]
  },
  {
   "cell_type": "markdown",
   "metadata": {},
   "source": [
    "### Linear, Ridge, Lasso (with standard scaled data)"
   ]
  },
  {
   "cell_type": "code",
   "execution_count": null,
   "metadata": {
    "ExecuteTime": {
     "end_time": "2019-11-26T05:58:51.517358Z",
     "start_time": "2019-11-26T05:58:50.923388Z"
    }
   },
   "outputs": [],
   "source": [
    "# LINEAR REG - Instantiate and score using cross validation (3 folds)\n",
    "linreg = LinearRegression()\n",
    "print('\\nLINEAR REG cross-val mean score:')\n",
    "print('X-Val score MEAN using X_train\\t\\t',cross_val_score(linreg, X_train_sc, y_train,cv=3).mean())\n",
    "\n",
    "# RIDGE - Instantiate and score using cross validation (3 folds)\n",
    "ridge=RidgeCV(alphas=np.linspace(.1, 10, 100))\n",
    "print('\\nRIDGE cross-val mean score:')\n",
    "print('X-Val score MEAN using X_train\\t\\t',cross_val_score(ridge, X_train_sc, y_train,cv=3).mean())\n",
    "\n",
    "# LASSO - Instantiate and score using cross validation (3 folds)\n",
    "lasso = LassoCV(n_alphas=200,cv=3)\n",
    "print('\\nLASSO cross-val mean score:')\n",
    "print('X-Val score MEAN using X_train\\t\\t',cross_val_score(lasso, X_train_sc, y_train,cv=3).mean())"
   ]
  },
  {
   "cell_type": "markdown",
   "metadata": {},
   "source": [
    "### Power Transformer"
   ]
  },
  {
   "cell_type": "code",
   "execution_count": null,
   "metadata": {
    "ExecuteTime": {
     "end_time": "2019-11-26T05:58:51.592775Z",
     "start_time": "2019-11-26T05:58:51.521353Z"
    }
   },
   "outputs": [],
   "source": [
    "pt_x = PowerTransformer() # transform X\n",
    "pt_x.fit(X_train)\n",
    "X_train_pt = pt_x.transform(X_train)\n",
    "X_test_pt = pt_x.transform(X_test)\n",
    "\n",
    "pt_y = PowerTransformer() # transform Y\n",
    "# PowerTransformer requires a matrix/DataFrame, so we use .to_frame() method on y_train\n",
    "# subsequently we use .ravel() to flatten it into an array (which is required for cross_val later)\n",
    "pt_y.fit(y_train.to_frame())\n",
    "y_train_pt = pt_y.transform(y_train.to_frame()).ravel()\n",
    "y_test_pt = pt_y.transform(y_test.to_frame()).ravel()"
   ]
  },
  {
   "cell_type": "markdown",
   "metadata": {},
   "source": [
    "### Linear, Ridge Lasso (with power transformed data)"
   ]
  },
  {
   "cell_type": "code",
   "execution_count": null,
   "metadata": {
    "ExecuteTime": {
     "end_time": "2019-11-26T05:58:52.224436Z",
     "start_time": "2019-11-26T05:58:51.595774Z"
    },
    "scrolled": true
   },
   "outputs": [],
   "source": [
    "# LINEAR REG - Instantiate and score using cross validation (3 folds)\n",
    "linreg = LinearRegression()\n",
    "print('\\nLINEAR REG cross-val mean score:')\n",
    "print('X-Val score MEAN using X_train\\t\\t',cross_val_score(linreg, X_train_pt, y_train_pt,cv=3).mean())\n",
    "\n",
    "# RIDGE - Instantiate and score using cross validation (3 folds)\n",
    "ridge=RidgeCV(alphas=np.linspace(.1, 10, 100))\n",
    "print('\\nRIDGE cross-val mean score:')\n",
    "print('X-Val score MEAN using X_train\\t\\t',cross_val_score(ridge, X_train_pt, y_train_pt,cv=3).mean())\n",
    "\n",
    "# LASSO - Instantiate and score using cross validation (3 folds)\n",
    "lasso = LassoCV(n_alphas=200,cv=3)\n",
    "print('\\nLASSO cross-val mean score:')\n",
    "print('X-Val score MEAN using X_train\\t\\t',cross_val_score(lasso, X_train_pt, y_train_pt,cv=3).mean())"
   ]
  },
  {
   "cell_type": "markdown",
   "metadata": {},
   "source": [
    "## Class 'mahl'"
   ]
  },
  {
   "cell_type": "markdown",
   "metadata": {},
   "source": [
    "### Prepare Data"
   ]
  },
  {
   "cell_type": "code",
   "execution_count": null,
   "metadata": {
    "ExecuteTime": {
     "end_time": "2019-11-26T05:58:52.241426Z",
     "start_time": "2019-11-26T05:58:52.228435Z"
    },
    "cell_style": "center"
   },
   "outputs": [],
   "source": [
    "# df_mahl\n",
    "features = [col for col in df_mahl._get_numeric_data().columns if (col != 'auwgr') and (col != 'year')]\n",
    "X = df_mahl[features]\n",
    "y = df_mahl['auwgr']\n",
    "print(X.shape, y.shape)"
   ]
  },
  {
   "cell_type": "markdown",
   "metadata": {},
   "source": [
    "### Train/Test Split"
   ]
  },
  {
   "cell_type": "code",
   "execution_count": null,
   "metadata": {
    "ExecuteTime": {
     "end_time": "2019-11-26T05:58:52.259416Z",
     "start_time": "2019-11-26T05:58:52.246424Z"
    }
   },
   "outputs": [],
   "source": [
    "# split data into training and testing sets\n",
    "X_train, X_test, y_train, y_test = train_test_split(X, y, random_state=42)\n",
    "print(X_train.shape,X_test.shape,y_train.shape,y_test.shape)"
   ]
  },
  {
   "cell_type": "markdown",
   "metadata": {},
   "source": [
    "### Standard Scaler"
   ]
  },
  {
   "cell_type": "code",
   "execution_count": null,
   "metadata": {
    "ExecuteTime": {
     "end_time": "2019-11-26T05:58:52.276406Z",
     "start_time": "2019-11-26T05:58:52.263414Z"
    }
   },
   "outputs": [],
   "source": [
    "ss = StandardScaler()\n",
    "ss.fit(X_train)\n",
    "X_train_sc = ss.transform(X_train)\n",
    "X_test_sc = ss.transform(X_test)"
   ]
  },
  {
   "cell_type": "markdown",
   "metadata": {},
   "source": [
    "### Linear, Ridge, Lasso (with standard scaled data)"
   ]
  },
  {
   "cell_type": "code",
   "execution_count": null,
   "metadata": {
    "ExecuteTime": {
     "end_time": "2019-11-26T05:58:53.031609Z",
     "start_time": "2019-11-26T05:58:52.280403Z"
    }
   },
   "outputs": [],
   "source": [
    "# LINEAR REG - Instantiate and score using cross validation (3 folds)\n",
    "linreg = LinearRegression()\n",
    "print('\\nLINEAR REG cross-val mean score:')\n",
    "print('X-Val score MEAN using X_train\\t\\t',cross_val_score(linreg, X_train_sc, y_train,cv=3).mean())\n",
    "\n",
    "# RIDGE - Instantiate and score using cross validation (3 folds)\n",
    "ridge=RidgeCV(alphas=np.linspace(.1, 10, 100))\n",
    "print('\\nRIDGE cross-val mean score:')\n",
    "print('X-Val score MEAN using X_train\\t\\t',cross_val_score(ridge, X_train_sc, y_train,cv=3).mean())\n",
    "\n",
    "# LASSO - Instantiate and score using cross validation (3 folds)\n",
    "lasso = LassoCV(n_alphas=200,cv=3)\n",
    "print('\\nLASSO cross-val mean score:')\n",
    "print('X-Val score MEAN using X_train\\t\\t',cross_val_score(lasso, X_train_sc, y_train,cv=3).mean())"
   ]
  },
  {
   "cell_type": "markdown",
   "metadata": {},
   "source": [
    "### Power Transformer"
   ]
  },
  {
   "cell_type": "code",
   "execution_count": null,
   "metadata": {
    "ExecuteTime": {
     "end_time": "2019-11-26T05:58:53.107562Z",
     "start_time": "2019-11-26T05:58:53.034606Z"
    }
   },
   "outputs": [],
   "source": [
    "pt_x = PowerTransformer() # transform X\n",
    "pt_x.fit(X_train)\n",
    "X_train_pt = pt_x.transform(X_train)\n",
    "X_test_pt = pt_x.transform(X_test)\n",
    "\n",
    "pt_y = PowerTransformer() # transform Y\n",
    "# PowerTransformer requires a matrix/DataFrame, so we use .to_frame() method on y_train\n",
    "# subsequently we use .ravel() to flatten it into an array (which is required for cross_val later)\n",
    "pt_y.fit(y_train.to_frame())\n",
    "y_train_pt = pt_y.transform(y_train.to_frame()).ravel()\n",
    "y_test_pt = pt_y.transform(y_test.to_frame()).ravel()"
   ]
  },
  {
   "cell_type": "markdown",
   "metadata": {},
   "source": [
    "### Linear, Ridge Lasso (with power transformed data)"
   ]
  },
  {
   "cell_type": "code",
   "execution_count": null,
   "metadata": {
    "ExecuteTime": {
     "end_time": "2019-11-26T05:58:53.736379Z",
     "start_time": "2019-11-26T05:58:53.116558Z"
    },
    "scrolled": true
   },
   "outputs": [],
   "source": [
    "# LINEAR REG - Instantiate and score using cross validation (3 folds)\n",
    "linreg = LinearRegression()\n",
    "print('\\nLINEAR REG cross-val mean score:')\n",
    "print('X-Val score MEAN using X_train\\t\\t',cross_val_score(linreg, X_train_pt, y_train_pt,cv=3).mean())\n",
    "\n",
    "# RIDGE - Instantiate and score using cross validation (3 folds)\n",
    "ridge=RidgeCV(alphas=np.linspace(.1, 10, 100))\n",
    "print('\\nRIDGE cross-val mean score:')\n",
    "print('X-Val score MEAN using X_train\\t\\t',cross_val_score(ridge, X_train_pt, y_train_pt,cv=3).mean())\n",
    "\n",
    "# LASSO - Instantiate and score using cross validation (3 folds)\n",
    "lasso = LassoCV(n_alphas=200,cv=3)\n",
    "print('\\nLASSO cross-val mean score:')\n",
    "print('X-Val score MEAN using X_train\\t\\t',cross_val_score(lasso, X_train_pt, y_train_pt,cv=3).mean())"
   ]
  },
  {
   "cell_type": "markdown",
   "metadata": {},
   "source": [
    "## Class 'fire'"
   ]
  },
  {
   "cell_type": "markdown",
   "metadata": {},
   "source": [
    "### Prepare Data"
   ]
  },
  {
   "cell_type": "code",
   "execution_count": null,
   "metadata": {
    "ExecuteTime": {
     "end_time": "2019-11-26T05:58:53.758352Z",
     "start_time": "2019-11-26T05:58:53.743361Z"
    },
    "cell_style": "center"
   },
   "outputs": [],
   "source": [
    "# df_fire\n",
    "features = [col for col in df_fire._get_numeric_data().columns if (col != 'auwgr') and (col != 'year')]\n",
    "X = df_fire[features]\n",
    "y = df_fire['auwgr']\n",
    "print(X.shape, y.shape)"
   ]
  },
  {
   "cell_type": "markdown",
   "metadata": {},
   "source": [
    "### Train/Test Split"
   ]
  },
  {
   "cell_type": "code",
   "execution_count": null,
   "metadata": {
    "ExecuteTime": {
     "end_time": "2019-11-26T05:58:53.779339Z",
     "start_time": "2019-11-26T05:58:53.763348Z"
    }
   },
   "outputs": [],
   "source": [
    "# split data into training and testing sets\n",
    "X_train, X_test, y_train, y_test = train_test_split(X, y, random_state=42)\n",
    "print(X_train.shape,X_test.shape,y_train.shape,y_test.shape)"
   ]
  },
  {
   "cell_type": "markdown",
   "metadata": {},
   "source": [
    "### Standard Scaler"
   ]
  },
  {
   "cell_type": "code",
   "execution_count": null,
   "metadata": {
    "ExecuteTime": {
     "end_time": "2019-11-26T05:58:53.798220Z",
     "start_time": "2019-11-26T05:58:53.783337Z"
    }
   },
   "outputs": [],
   "source": [
    "ss = StandardScaler()\n",
    "ss.fit(X_train)\n",
    "X_train_sc = ss.transform(X_train)\n",
    "X_test_sc = ss.transform(X_test)"
   ]
  },
  {
   "cell_type": "markdown",
   "metadata": {},
   "source": [
    "### Linear, Ridge, Lasso (with standard scaled data)"
   ]
  },
  {
   "cell_type": "code",
   "execution_count": null,
   "metadata": {
    "ExecuteTime": {
     "end_time": "2019-11-26T05:58:54.409418Z",
     "start_time": "2019-11-26T05:58:53.802217Z"
    }
   },
   "outputs": [],
   "source": [
    "# LINEAR REG - Instantiate and score using cross validation (3 folds)\n",
    "linreg = LinearRegression()\n",
    "print('\\nLINEAR REG cross-val mean score:')\n",
    "print('X-Val score MEAN using X_train\\t\\t',cross_val_score(linreg, X_train_sc, y_train,cv=3).mean())\n",
    "\n",
    "# RIDGE - Instantiate and score using cross validation (3 folds)\n",
    "ridge=RidgeCV(alphas=np.linspace(.1, 10, 100))\n",
    "print('\\nRIDGE cross-val mean score:')\n",
    "print('X-Val score MEAN using X_train\\t\\t',cross_val_score(ridge, X_train_sc, y_train,cv=3).mean())\n",
    "\n",
    "# LASSO - Instantiate and score using cross validation (3 folds)\n",
    "lasso = LassoCV(n_alphas=200,cv=3)\n",
    "print('\\nLASSO cross-val mean score:')\n",
    "print('X-Val score MEAN using X_train\\t\\t',cross_val_score(lasso, X_train_sc, y_train,cv=3).mean())"
   ]
  },
  {
   "cell_type": "markdown",
   "metadata": {},
   "source": [
    "### Power Transformer"
   ]
  },
  {
   "cell_type": "code",
   "execution_count": null,
   "metadata": {
    "ExecuteTime": {
     "end_time": "2019-11-26T05:58:54.473453Z",
     "start_time": "2019-11-26T05:58:54.413414Z"
    }
   },
   "outputs": [],
   "source": [
    "pt_x = PowerTransformer() # transform X\n",
    "pt_x.fit(X_train)\n",
    "X_train_pt = pt_x.transform(X_train)\n",
    "X_test_pt = pt_x.transform(X_test)\n",
    "\n",
    "pt_y = PowerTransformer() # transform Y\n",
    "# PowerTransformer requires a matrix/DataFrame, so we use .to_frame() method on y_train\n",
    "# subsequently we use .ravel() to flatten it into an array (which is required for cross_val later)\n",
    "pt_y.fit(y_train.to_frame())\n",
    "y_train_pt = pt_y.transform(y_train.to_frame()).ravel()\n",
    "y_test_pt = pt_y.transform(y_test.to_frame()).ravel()"
   ]
  },
  {
   "cell_type": "markdown",
   "metadata": {},
   "source": [
    "### Linear, Ridge Lasso (with power transformed data)"
   ]
  },
  {
   "cell_type": "code",
   "execution_count": null,
   "metadata": {
    "ExecuteTime": {
     "end_time": "2019-11-26T05:58:55.102088Z",
     "start_time": "2019-11-26T05:58:54.476452Z"
    },
    "scrolled": true
   },
   "outputs": [],
   "source": [
    "# LINEAR REG - Instantiate and score using cross validation (3 folds)\n",
    "linreg = LinearRegression()\n",
    "print('\\nLINEAR REG cross-val mean score:')\n",
    "print('X-Val score MEAN using X_train\\t\\t',cross_val_score(linreg, X_train_pt, y_train_pt,cv=3).mean())\n",
    "\n",
    "# RIDGE - Instantiate and score using cross validation (3 folds)\n",
    "ridge=RidgeCV(alphas=np.linspace(.1, 10, 100))\n",
    "print('\\nRIDGE cross-val mean score:')\n",
    "print('X-Val score MEAN using X_train\\t\\t',cross_val_score(ridge, X_train_pt, y_train_pt,cv=3).mean())\n",
    "\n",
    "# LASSO - Instantiate and score using cross validation (3 folds)\n",
    "lasso = LassoCV(n_alphas=200,cv=3)\n",
    "print('\\nLASSO cross-val mean score:')\n",
    "print('X-Val score MEAN using X_train\\t\\t',cross_val_score(lasso, X_train_pt, y_train_pt,cv=3).mean())"
   ]
  },
  {
   "cell_type": "markdown",
   "metadata": {},
   "source": [
    "## Class 'motor'"
   ]
  },
  {
   "cell_type": "markdown",
   "metadata": {},
   "source": [
    "### Prepare Data"
   ]
  },
  {
   "cell_type": "code",
   "execution_count": null,
   "metadata": {
    "ExecuteTime": {
     "end_time": "2019-11-26T05:58:55.119077Z",
     "start_time": "2019-11-26T05:58:55.106085Z"
    },
    "cell_style": "center"
   },
   "outputs": [],
   "source": [
    "# df_motor\n",
    "features = [col for col in df_motor._get_numeric_data().columns if (col != 'auwgr') and (col != 'year')]\n",
    "X = df_motor[features]\n",
    "y = df_motor['auwgr']\n",
    "print(X.shape, y.shape)"
   ]
  },
  {
   "cell_type": "markdown",
   "metadata": {},
   "source": [
    "### Train/Test Split"
   ]
  },
  {
   "cell_type": "code",
   "execution_count": null,
   "metadata": {
    "ExecuteTime": {
     "end_time": "2019-11-26T05:58:55.135069Z",
     "start_time": "2019-11-26T05:58:55.123074Z"
    }
   },
   "outputs": [],
   "source": [
    "# split data into training and testing sets\n",
    "X_train, X_test, y_train, y_test = train_test_split(X, y, random_state=42)\n",
    "print(X_train.shape,X_test.shape,y_train.shape,y_test.shape)"
   ]
  },
  {
   "cell_type": "markdown",
   "metadata": {},
   "source": [
    "### Standard Scaler"
   ]
  },
  {
   "cell_type": "code",
   "execution_count": null,
   "metadata": {
    "ExecuteTime": {
     "end_time": "2019-11-26T05:58:55.151058Z",
     "start_time": "2019-11-26T05:58:55.139064Z"
    }
   },
   "outputs": [],
   "source": [
    "ss = StandardScaler()\n",
    "ss.fit(X_train)\n",
    "X_train_sc = ss.transform(X_train)\n",
    "X_test_sc = ss.transform(X_test)"
   ]
  },
  {
   "cell_type": "markdown",
   "metadata": {},
   "source": [
    "### Linear, Ridge, Lasso (with standard scaled data)"
   ]
  },
  {
   "cell_type": "code",
   "execution_count": null,
   "metadata": {
    "ExecuteTime": {
     "end_time": "2019-11-26T05:58:55.778915Z",
     "start_time": "2019-11-26T05:58:55.155056Z"
    }
   },
   "outputs": [],
   "source": [
    "# LINEAR REG - Instantiate and score using cross validation (3 folds)\n",
    "linreg = LinearRegression()\n",
    "print('\\nLINEAR REG cross-val mean score:')\n",
    "print('X-Val score MEAN using X_train\\t\\t',cross_val_score(linreg, X_train_sc, y_train,cv=3).mean())\n",
    "\n",
    "# RIDGE - Instantiate and score using cross validation (3 folds)\n",
    "ridge=RidgeCV(alphas=np.linspace(.1, 10, 100))\n",
    "print('\\nRIDGE cross-val mean score:')\n",
    "print('X-Val score MEAN using X_train\\t\\t',cross_val_score(ridge, X_train_sc, y_train,cv=3).mean())\n",
    "\n",
    "# LASSO - Instantiate and score using cross validation (3 folds)\n",
    "lasso = LassoCV(n_alphas=200,cv=3)\n",
    "print('\\nLASSO cross-val mean score:')\n",
    "print('X-Val score MEAN using X_train\\t\\t',cross_val_score(lasso, X_train_sc, y_train,cv=3).mean())"
   ]
  },
  {
   "cell_type": "markdown",
   "metadata": {},
   "source": [
    "### Power Transformer"
   ]
  },
  {
   "cell_type": "code",
   "execution_count": null,
   "metadata": {
    "ExecuteTime": {
     "end_time": "2019-11-26T05:58:55.857867Z",
     "start_time": "2019-11-26T05:58:55.784911Z"
    }
   },
   "outputs": [],
   "source": [
    "pt_x = PowerTransformer() # transform X\n",
    "pt_x.fit(X_train)\n",
    "X_train_pt = pt_x.transform(X_train)\n",
    "X_test_pt = pt_x.transform(X_test)\n",
    "\n",
    "pt_y = PowerTransformer() # transform Y\n",
    "# PowerTransformer requires a matrix/DataFrame, so we use .to_frame() method on y_train\n",
    "# subsequently we use .ravel() to flatten it into an array (which is required for cross_val later)\n",
    "pt_y.fit(y_train.to_frame())\n",
    "y_train_pt = pt_y.transform(y_train.to_frame()).ravel()\n",
    "y_test_pt = pt_y.transform(y_test.to_frame()).ravel()"
   ]
  },
  {
   "cell_type": "markdown",
   "metadata": {},
   "source": [
    "### Linear, Ridge Lasso (with power transformed data)"
   ]
  },
  {
   "cell_type": "code",
   "execution_count": null,
   "metadata": {
    "ExecuteTime": {
     "end_time": "2019-11-26T05:58:56.476828Z",
     "start_time": "2019-11-26T05:58:55.862865Z"
    },
    "scrolled": false
   },
   "outputs": [],
   "source": [
    "# LINEAR REG - Instantiate and score using cross validation (3 folds)\n",
    "linreg = LinearRegression()\n",
    "print('\\nLINEAR REG cross-val mean score:')\n",
    "print('X-Val score MEAN using X_train\\t\\t',cross_val_score(linreg, X_train_pt, y_train_pt,cv=3).mean())\n",
    "\n",
    "# RIDGE - Instantiate and score using cross validation (3 folds)\n",
    "ridge=RidgeCV(alphas=np.linspace(.1, 10, 100))\n",
    "print('\\nRIDGE cross-val mean score:')\n",
    "print('X-Val score MEAN using X_train\\t\\t',cross_val_score(ridge, X_train_pt, y_train_pt,cv=3).mean())\n",
    "\n",
    "# LASSO - Instantiate and score using cross validation (3 folds)\n",
    "lasso = LassoCV(n_alphas=200,cv=3)\n",
    "print('\\nLASSO cross-val mean score:')\n",
    "print('X-Val score MEAN using X_train\\t\\t',cross_val_score(lasso, X_train_pt, y_train_pt,cv=3).mean())"
   ]
  },
  {
   "cell_type": "markdown",
   "metadata": {},
   "source": [
    "## Class 'wic'"
   ]
  },
  {
   "cell_type": "markdown",
   "metadata": {},
   "source": [
    "### Prepare Data"
   ]
  },
  {
   "cell_type": "code",
   "execution_count": null,
   "metadata": {
    "ExecuteTime": {
     "end_time": "2019-11-26T05:58:56.494818Z",
     "start_time": "2019-11-26T05:58:56.480826Z"
    },
    "cell_style": "center"
   },
   "outputs": [],
   "source": [
    "# df_wic\n",
    "features = [col for col in df_wic._get_numeric_data().columns if (col != 'auwgr') and (col != 'year')]\n",
    "X = df_wic[features]\n",
    "y = df_wic['auwgr']\n",
    "print(X.shape, y.shape)"
   ]
  },
  {
   "cell_type": "markdown",
   "metadata": {},
   "source": [
    "### Train/Test Split"
   ]
  },
  {
   "cell_type": "code",
   "execution_count": null,
   "metadata": {
    "ExecuteTime": {
     "end_time": "2019-11-26T05:58:56.511806Z",
     "start_time": "2019-11-26T05:58:56.498815Z"
    }
   },
   "outputs": [],
   "source": [
    "# split data into training and testing sets\n",
    "X_train, X_test, y_train, y_test = train_test_split(X, y, random_state=42)\n",
    "print(X_train.shape,X_test.shape,y_train.shape,y_test.shape)"
   ]
  },
  {
   "cell_type": "markdown",
   "metadata": {},
   "source": [
    "### Standard Scaler"
   ]
  },
  {
   "cell_type": "code",
   "execution_count": null,
   "metadata": {
    "ExecuteTime": {
     "end_time": "2019-11-26T05:58:56.527797Z",
     "start_time": "2019-11-26T05:58:56.515804Z"
    }
   },
   "outputs": [],
   "source": [
    "ss = StandardScaler()\n",
    "ss.fit(X_train)\n",
    "X_train_sc = ss.transform(X_train)\n",
    "X_test_sc = ss.transform(X_test)"
   ]
  },
  {
   "cell_type": "markdown",
   "metadata": {},
   "source": [
    "### Linear, Ridge, Lasso (with standard scaled data)"
   ]
  },
  {
   "cell_type": "code",
   "execution_count": null,
   "metadata": {
    "ExecuteTime": {
     "end_time": "2019-11-26T05:58:57.153770Z",
     "start_time": "2019-11-26T05:58:56.531794Z"
    }
   },
   "outputs": [],
   "source": [
    "# LINEAR REG - Instantiate and score using cross validation (3 folds)\n",
    "linreg = LinearRegression()\n",
    "print('\\nLINEAR REG cross-val mean score:')\n",
    "print('X-Val score MEAN using X_train\\t\\t',cross_val_score(linreg, X_train_sc, y_train,cv=3).mean())\n",
    "\n",
    "# RIDGE - Instantiate and score using cross validation (3 folds)\n",
    "ridge=RidgeCV(alphas=np.linspace(.1, 10, 100))\n",
    "print('\\nRIDGE cross-val mean score:')\n",
    "print('X-Val score MEAN using X_train\\t\\t',cross_val_score(ridge, X_train_sc, y_train,cv=3).mean())\n",
    "\n",
    "# LASSO - Instantiate and score using cross validation (3 folds)\n",
    "lasso = LassoCV(n_alphas=200,cv=3)\n",
    "print('\\nLASSO cross-val mean score:')\n",
    "print('X-Val score MEAN using X_train\\t\\t',cross_val_score(lasso, X_train_sc, y_train,cv=3).mean())"
   ]
  },
  {
   "cell_type": "markdown",
   "metadata": {},
   "source": [
    "### Power Transformer"
   ]
  },
  {
   "cell_type": "code",
   "execution_count": null,
   "metadata": {
    "ExecuteTime": {
     "end_time": "2019-11-26T05:58:57.223692Z",
     "start_time": "2019-11-26T05:58:57.157767Z"
    }
   },
   "outputs": [],
   "source": [
    "pt_x = PowerTransformer() # transform X\n",
    "pt_x.fit(X_train)\n",
    "X_train_pt = pt_x.transform(X_train)\n",
    "X_test_pt = pt_x.transform(X_test)\n",
    "\n",
    "pt_y = PowerTransformer() # transform Y\n",
    "# PowerTransformer requires a matrix/DataFrame, so we use .to_frame() method on y_train\n",
    "# subsequently we use .ravel() to flatten it into an array (which is required for cross_val later)\n",
    "pt_y.fit(y_train.to_frame())\n",
    "y_train_pt = pt_y.transform(y_train.to_frame()).ravel()\n",
    "y_test_pt = pt_y.transform(y_test.to_frame()).ravel()"
   ]
  },
  {
   "cell_type": "markdown",
   "metadata": {},
   "source": [
    "### Linear, Ridge Lasso (with power transformed data)"
   ]
  },
  {
   "cell_type": "code",
   "execution_count": null,
   "metadata": {
    "ExecuteTime": {
     "end_time": "2019-11-26T05:58:57.815008Z",
     "start_time": "2019-11-26T05:58:57.227691Z"
    },
    "scrolled": true
   },
   "outputs": [],
   "source": [
    "# LINEAR REG - Instantiate and score using cross validation (3 folds)\n",
    "linreg = LinearRegression()\n",
    "print('\\nLINEAR REG cross-val mean score:')\n",
    "print('X-Val score MEAN using X_train\\t\\t',cross_val_score(linreg, X_train_pt, y_train_pt,cv=3).mean())\n",
    "\n",
    "# RIDGE - Instantiate and score using cross validation (3 folds)\n",
    "ridge=RidgeCV(alphas=np.linspace(.1, 10, 100))\n",
    "print('\\nRIDGE cross-val mean score:')\n",
    "print('X-Val score MEAN using X_train\\t\\t',cross_val_score(ridge, X_train_pt, y_train_pt,cv=3).mean())\n",
    "\n",
    "# LASSO - Instantiate and score using cross validation (3 folds)\n",
    "lasso = LassoCV(n_alphas=200,cv=3)\n",
    "print('\\nLASSO cross-val mean score:')\n",
    "print('X-Val score MEAN using X_train\\t\\t',cross_val_score(lasso, X_train_pt, y_train_pt,cv=3).mean())"
   ]
  },
  {
   "cell_type": "markdown",
   "metadata": {},
   "source": [
    "## Class 'pa'"
   ]
  },
  {
   "cell_type": "markdown",
   "metadata": {},
   "source": [
    "### Prepare Data"
   ]
  },
  {
   "cell_type": "code",
   "execution_count": null,
   "metadata": {
    "ExecuteTime": {
     "end_time": "2019-11-26T05:58:57.833995Z",
     "start_time": "2019-11-26T05:58:57.819004Z"
    },
    "cell_style": "center"
   },
   "outputs": [],
   "source": [
    "# df_pa\n",
    "features = [col for col in df_pa._get_numeric_data().columns if (col != 'auwgr') and (col != 'year')]\n",
    "X = df_pa[features]\n",
    "y = df_pa['auwgr']\n",
    "print(X.shape, y.shape)"
   ]
  },
  {
   "cell_type": "markdown",
   "metadata": {},
   "source": [
    "### Train/Test Split"
   ]
  },
  {
   "cell_type": "code",
   "execution_count": null,
   "metadata": {
    "ExecuteTime": {
     "end_time": "2019-11-26T05:58:57.850985Z",
     "start_time": "2019-11-26T05:58:57.838992Z"
    }
   },
   "outputs": [],
   "source": [
    "# split data into training and testing sets\n",
    "X_train, X_test, y_train, y_test = train_test_split(X, y, random_state=42)\n",
    "print(X_train.shape,X_test.shape,y_train.shape,y_test.shape)"
   ]
  },
  {
   "cell_type": "markdown",
   "metadata": {},
   "source": [
    "### Standard Scaler"
   ]
  },
  {
   "cell_type": "code",
   "execution_count": null,
   "metadata": {
    "ExecuteTime": {
     "end_time": "2019-11-26T05:58:57.871980Z",
     "start_time": "2019-11-26T05:58:57.854982Z"
    }
   },
   "outputs": [],
   "source": [
    "ss = StandardScaler()\n",
    "ss.fit(X_train)\n",
    "X_train_sc = ss.transform(X_train)\n",
    "X_test_sc = ss.transform(X_test)"
   ]
  },
  {
   "cell_type": "markdown",
   "metadata": {},
   "source": [
    "### Linear, Ridge, Lasso (with standard scaled data)"
   ]
  },
  {
   "cell_type": "code",
   "execution_count": null,
   "metadata": {
    "ExecuteTime": {
     "end_time": "2019-11-26T05:58:58.473089Z",
     "start_time": "2019-11-26T05:58:57.876977Z"
    }
   },
   "outputs": [],
   "source": [
    "# LINEAR REG - Instantiate and score using cross validation (3 folds)\n",
    "linreg = LinearRegression()\n",
    "print('\\nLINEAR REG cross-val mean score:')\n",
    "print('X-Val score MEAN using X_train\\t\\t',cross_val_score(linreg, X_train_sc, y_train,cv=3).mean())\n",
    "\n",
    "# RIDGE - Instantiate and score using cross validation (3 folds)\n",
    "ridge=RidgeCV(alphas=np.linspace(.1, 10, 100))\n",
    "print('\\nRIDGE cross-val mean score:')\n",
    "print('X-Val score MEAN using X_train\\t\\t',cross_val_score(ridge, X_train_sc, y_train,cv=3).mean())\n",
    "\n",
    "# LASSO - Instantiate and score using cross validation (3 folds)\n",
    "lasso = LassoCV(n_alphas=200,cv=3)\n",
    "print('\\nLASSO cross-val mean score:')\n",
    "print('X-Val score MEAN using X_train\\t\\t',cross_val_score(lasso, X_train_sc, y_train,cv=3).mean())"
   ]
  },
  {
   "cell_type": "markdown",
   "metadata": {},
   "source": [
    "### Power Transformer"
   ]
  },
  {
   "cell_type": "code",
   "execution_count": null,
   "metadata": {
    "ExecuteTime": {
     "end_time": "2019-11-26T05:58:58.538084Z",
     "start_time": "2019-11-26T05:58:58.477086Z"
    }
   },
   "outputs": [],
   "source": [
    "pt_x = PowerTransformer() # transform X\n",
    "pt_x.fit(X_train)\n",
    "X_train_pt = pt_x.transform(X_train)\n",
    "X_test_pt = pt_x.transform(X_test)\n",
    "\n",
    "pt_y = PowerTransformer() # transform Y\n",
    "# PowerTransformer requires a matrix/DataFrame, so we use .to_frame() method on y_train\n",
    "# subsequently we use .ravel() to flatten it into an array (which is required for cross_val later)\n",
    "pt_y.fit(y_train.to_frame())\n",
    "y_train_pt = pt_y.transform(y_train.to_frame()).ravel()\n",
    "y_test_pt = pt_y.transform(y_test.to_frame()).ravel()"
   ]
  },
  {
   "cell_type": "markdown",
   "metadata": {},
   "source": [
    "### Linear, Ridge Lasso (with power transformed data)"
   ]
  },
  {
   "cell_type": "code",
   "execution_count": null,
   "metadata": {
    "ExecuteTime": {
     "end_time": "2019-11-26T05:58:59.163228Z",
     "start_time": "2019-11-26T05:58:58.542084Z"
    },
    "scrolled": true
   },
   "outputs": [],
   "source": [
    "# LINEAR REG - Instantiate and score using cross validation (3 folds)\n",
    "linreg = LinearRegression()\n",
    "print('\\nLINEAR REG cross-val mean score:')\n",
    "print('X-Val score MEAN using X_train\\t\\t',cross_val_score(linreg, X_train_pt, y_train_pt,cv=3).mean())\n",
    "\n",
    "# RIDGE - Instantiate and score using cross validation (3 folds)\n",
    "ridge=RidgeCV(alphas=np.linspace(.1, 10, 100))\n",
    "print('\\nRIDGE cross-val mean score:')\n",
    "print('X-Val score MEAN using X_train\\t\\t',cross_val_score(ridge, X_train_pt, y_train_pt,cv=3).mean())\n",
    "\n",
    "# LASSO - Instantiate and score using cross validation (3 folds)\n",
    "lasso = LassoCV(n_alphas=200,cv=3)\n",
    "print('\\nLASSO cross-val mean score:')\n",
    "print('X-Val score MEAN using X_train\\t\\t',cross_val_score(lasso, X_train_pt, y_train_pt,cv=3).mean())"
   ]
  },
  {
   "cell_type": "markdown",
   "metadata": {},
   "source": [
    "## Class 'health'"
   ]
  },
  {
   "cell_type": "markdown",
   "metadata": {},
   "source": [
    "### Prepare Data"
   ]
  },
  {
   "cell_type": "code",
   "execution_count": null,
   "metadata": {
    "ExecuteTime": {
     "end_time": "2019-11-26T05:58:59.179221Z",
     "start_time": "2019-11-26T05:58:59.167227Z"
    },
    "cell_style": "center"
   },
   "outputs": [],
   "source": [
    "# df_health\n",
    "features = [col for col in df_health._get_numeric_data().columns if (col != 'auwgr') and (col != 'year')]\n",
    "X = df_health[features]\n",
    "y = df_health['auwgr']\n",
    "print(X.shape, y.shape)"
   ]
  },
  {
   "cell_type": "markdown",
   "metadata": {},
   "source": [
    "### Train/Test Split"
   ]
  },
  {
   "cell_type": "code",
   "execution_count": null,
   "metadata": {
    "ExecuteTime": {
     "end_time": "2019-11-26T05:58:59.215197Z",
     "start_time": "2019-11-26T05:58:59.183217Z"
    }
   },
   "outputs": [],
   "source": [
    "# split data into training and testing sets\n",
    "X_train, X_test, y_train, y_test = train_test_split(X, y, random_state=42)\n",
    "print(X_train.shape,X_test.shape,y_train.shape,y_test.shape)"
   ]
  },
  {
   "cell_type": "markdown",
   "metadata": {},
   "source": [
    "### Standard Scaler"
   ]
  },
  {
   "cell_type": "code",
   "execution_count": null,
   "metadata": {
    "ExecuteTime": {
     "end_time": "2019-11-26T05:58:59.232188Z",
     "start_time": "2019-11-26T05:58:59.220195Z"
    }
   },
   "outputs": [],
   "source": [
    "ss = StandardScaler()\n",
    "ss.fit(X_train)\n",
    "X_train_sc = ss.transform(X_train)\n",
    "X_test_sc = ss.transform(X_test)"
   ]
  },
  {
   "cell_type": "markdown",
   "metadata": {},
   "source": [
    "### Linear, Ridge, Lasso (with standard scaled data)"
   ]
  },
  {
   "cell_type": "code",
   "execution_count": null,
   "metadata": {
    "ExecuteTime": {
     "end_time": "2019-11-26T05:58:59.793863Z",
     "start_time": "2019-11-26T05:58:59.237184Z"
    }
   },
   "outputs": [],
   "source": [
    "# LINEAR REG - Instantiate and score using cross validation (3 folds)\n",
    "linreg = LinearRegression()\n",
    "print('\\nLINEAR REG cross-val mean score:')\n",
    "print('X-Val score MEAN using X_train\\t\\t',cross_val_score(linreg, X_train_sc, y_train,cv=3).mean())\n",
    "\n",
    "# RIDGE - Instantiate and score using cross validation (3 folds)\n",
    "ridge=RidgeCV(alphas=np.linspace(.1, 10, 100))\n",
    "print('\\nRIDGE cross-val mean score:')\n",
    "print('X-Val score MEAN using X_train\\t\\t',cross_val_score(ridge, X_train_sc, y_train,cv=3).mean())\n",
    "\n",
    "# LASSO - Instantiate and score using cross validation (3 folds)\n",
    "lasso = LassoCV(n_alphas=200,cv=3)\n",
    "print('\\nLASSO cross-val mean score:')\n",
    "print('X-Val score MEAN using X_train\\t\\t',cross_val_score(lasso, X_train_sc, y_train,cv=3).mean())"
   ]
  },
  {
   "cell_type": "markdown",
   "metadata": {},
   "source": [
    "### Power Transformer"
   ]
  },
  {
   "cell_type": "code",
   "execution_count": null,
   "metadata": {
    "ExecuteTime": {
     "end_time": "2019-11-26T05:58:59.855825Z",
     "start_time": "2019-11-26T05:58:59.796862Z"
    }
   },
   "outputs": [],
   "source": [
    "pt_x = PowerTransformer() # transform X\n",
    "pt_x.fit(X_train)\n",
    "X_train_pt = pt_x.transform(X_train)\n",
    "X_test_pt = pt_x.transform(X_test)\n",
    "\n",
    "pt_y = PowerTransformer() # transform Y\n",
    "# PowerTransformer requires a matrix/DataFrame, so we use .to_frame() method on y_train\n",
    "# subsequently we use .ravel() to flatten it into an array (which is required for cross_val later)\n",
    "pt_y.fit(y_train.to_frame())\n",
    "y_train_pt = pt_y.transform(y_train.to_frame()).ravel()\n",
    "y_test_pt = pt_y.transform(y_test.to_frame()).ravel()"
   ]
  },
  {
   "cell_type": "markdown",
   "metadata": {},
   "source": [
    "### Linear, Ridge Lasso (with power transformed data)"
   ]
  },
  {
   "cell_type": "code",
   "execution_count": null,
   "metadata": {
    "ExecuteTime": {
     "end_time": "2019-11-26T05:59:00.403783Z",
     "start_time": "2019-11-26T05:58:59.860823Z"
    },
    "scrolled": false
   },
   "outputs": [],
   "source": [
    "# LINEAR REG - Instantiate and score using cross validation (3 folds)\n",
    "linreg = LinearRegression()\n",
    "print('\\nLINEAR REG cross-val mean score:')\n",
    "print('X-Val score MEAN using X_train\\t\\t',cross_val_score(linreg, X_train_pt, y_train_pt,cv=3).mean())\n",
    "\n",
    "# RIDGE - Instantiate and score using cross validation (3 folds)\n",
    "ridge=RidgeCV(alphas=np.linspace(.1, 10, 100))\n",
    "print('\\nRIDGE cross-val mean score:')\n",
    "print('X-Val score MEAN using X_train\\t\\t',cross_val_score(ridge, X_train_pt, y_train_pt,cv=3).mean())\n",
    "\n",
    "# LASSO - Instantiate and score using cross validation (3 folds)\n",
    "lasso = LassoCV(n_alphas=200,cv=3)\n",
    "print('\\nLASSO cross-val mean score:')\n",
    "print('X-Val score MEAN using X_train\\t\\t',cross_val_score(lasso, X_train_pt, y_train_pt,cv=3).mean())"
   ]
  },
  {
   "cell_type": "markdown",
   "metadata": {},
   "source": [
    "## Class 'pub_lia'"
   ]
  },
  {
   "cell_type": "markdown",
   "metadata": {},
   "source": [
    "### Prepare Data"
   ]
  },
  {
   "cell_type": "code",
   "execution_count": null,
   "metadata": {
    "ExecuteTime": {
     "end_time": "2019-11-26T05:59:00.420771Z",
     "start_time": "2019-11-26T05:59:00.407778Z"
    },
    "cell_style": "center"
   },
   "outputs": [],
   "source": [
    "# df_pub_lia\n",
    "features = [col for col in df_pub_lia._get_numeric_data().columns if (col != 'auwgr') and (col != 'year')]\n",
    "X = df_pub_lia[features]\n",
    "y = df_pub_lia['auwgr']\n",
    "print(X.shape, y.shape)"
   ]
  },
  {
   "cell_type": "markdown",
   "metadata": {},
   "source": [
    "### Train/Test Split"
   ]
  },
  {
   "cell_type": "code",
   "execution_count": null,
   "metadata": {
    "ExecuteTime": {
     "end_time": "2019-11-26T05:59:00.435762Z",
     "start_time": "2019-11-26T05:59:00.424768Z"
    }
   },
   "outputs": [],
   "source": [
    "# split data into training and testing sets\n",
    "X_train, X_test, y_train, y_test = train_test_split(X, y, random_state=42)\n",
    "print(X_train.shape,X_test.shape,y_train.shape,y_test.shape)"
   ]
  },
  {
   "cell_type": "markdown",
   "metadata": {},
   "source": [
    "### Standard Scaler"
   ]
  },
  {
   "cell_type": "code",
   "execution_count": null,
   "metadata": {
    "ExecuteTime": {
     "end_time": "2019-11-26T05:59:00.453750Z",
     "start_time": "2019-11-26T05:59:00.439760Z"
    }
   },
   "outputs": [],
   "source": [
    "ss = StandardScaler()\n",
    "ss.fit(X_train)\n",
    "X_train_sc = ss.transform(X_train)\n",
    "X_test_sc = ss.transform(X_test)"
   ]
  },
  {
   "cell_type": "markdown",
   "metadata": {},
   "source": [
    "### Linear, Ridge, Lasso (with standard scaled data)"
   ]
  },
  {
   "cell_type": "code",
   "execution_count": null,
   "metadata": {
    "ExecuteTime": {
     "end_time": "2019-11-26T05:59:01.012916Z",
     "start_time": "2019-11-26T05:59:00.457748Z"
    }
   },
   "outputs": [],
   "source": [
    "# LINEAR REG - Instantiate and score using cross validation (3 folds)\n",
    "linreg = LinearRegression()\n",
    "print('\\nLINEAR REG cross-val mean score:')\n",
    "print('X-Val score MEAN using X_train\\t\\t',cross_val_score(linreg, X_train_sc, y_train,cv=3).mean())\n",
    "\n",
    "# RIDGE - Instantiate and score using cross validation (3 folds)\n",
    "ridge=RidgeCV(alphas=np.linspace(.1, 10, 100))\n",
    "print('\\nRIDGE cross-val mean score:')\n",
    "print('X-Val score MEAN using X_train\\t\\t',cross_val_score(ridge, X_train_sc, y_train,cv=3).mean())\n",
    "\n",
    "# LASSO - Instantiate and score using cross validation (3 folds)\n",
    "lasso = LassoCV(n_alphas=200,cv=3)\n",
    "print('\\nLASSO cross-val mean score:')\n",
    "print('X-Val score MEAN using X_train\\t\\t',cross_val_score(lasso, X_train_sc, y_train,cv=3).mean())"
   ]
  },
  {
   "cell_type": "markdown",
   "metadata": {},
   "source": [
    "### Power Transformer"
   ]
  },
  {
   "cell_type": "code",
   "execution_count": null,
   "metadata": {
    "ExecuteTime": {
     "end_time": "2019-11-26T05:59:01.080990Z",
     "start_time": "2019-11-26T05:59:01.016913Z"
    }
   },
   "outputs": [],
   "source": [
    "pt_x = PowerTransformer() # transform X\n",
    "pt_x.fit(X_train)\n",
    "X_train_pt = pt_x.transform(X_train)\n",
    "X_test_pt = pt_x.transform(X_test)\n",
    "\n",
    "pt_y = PowerTransformer() # transform Y\n",
    "# PowerTransformer requires a matrix/DataFrame, so we use .to_frame() method on y_train\n",
    "# subsequently we use .ravel() to flatten it into an array (which is required for cross_val later)\n",
    "pt_y.fit(y_train.to_frame())\n",
    "y_train_pt = pt_y.transform(y_train.to_frame()).ravel()\n",
    "y_test_pt = pt_y.transform(y_test.to_frame()).ravel()"
   ]
  },
  {
   "cell_type": "markdown",
   "metadata": {},
   "source": [
    "### Linear, Ridge Lasso (with power transformed data)"
   ]
  },
  {
   "cell_type": "code",
   "execution_count": null,
   "metadata": {
    "ExecuteTime": {
     "end_time": "2019-11-26T05:59:01.607314Z",
     "start_time": "2019-11-26T05:59:01.085985Z"
    },
    "scrolled": false
   },
   "outputs": [],
   "source": [
    "# LINEAR REG - Instantiate and score using cross validation (3 folds)\n",
    "linreg = LinearRegression()\n",
    "print('\\nLINEAR REG cross-val mean score:')\n",
    "print('X-Val score MEAN using X_train\\t\\t',cross_val_score(linreg, X_train_pt, y_train_pt,cv=3).mean())\n",
    "\n",
    "# RIDGE - Instantiate and score using cross validation (3 folds)\n",
    "ridge=RidgeCV(alphas=np.linspace(.1, 10, 100))\n",
    "print('\\nRIDGE cross-val mean score:')\n",
    "print('X-Val score MEAN using X_train\\t\\t',cross_val_score(ridge, X_train_pt, y_train_pt,cv=3).mean())\n",
    "\n",
    "# LASSO - Instantiate and score using cross validation (3 folds)\n",
    "lasso = LassoCV(n_alphas=200,cv=3)\n",
    "print('\\nLASSO cross-val mean score:')\n",
    "print('X-Val score MEAN using X_train\\t\\t',cross_val_score(lasso, X_train_pt, y_train_pt,cv=3).mean())"
   ]
  },
  {
   "cell_type": "markdown",
   "metadata": {},
   "source": [
    "## Class 'bonds'"
   ]
  },
  {
   "cell_type": "markdown",
   "metadata": {},
   "source": [
    "### Prepare Data"
   ]
  },
  {
   "cell_type": "code",
   "execution_count": null,
   "metadata": {
    "ExecuteTime": {
     "end_time": "2019-11-26T05:59:01.622307Z",
     "start_time": "2019-11-26T05:59:01.610312Z"
    },
    "cell_style": "center"
   },
   "outputs": [],
   "source": [
    "# df_bonds\n",
    "features = [col for col in df_bonds._get_numeric_data().columns if (col != 'auwgr') and (col != 'year')]\n",
    "X = df_bonds[features]\n",
    "y = df_bonds['auwgr']\n",
    "print(X.shape, y.shape)"
   ]
  },
  {
   "cell_type": "markdown",
   "metadata": {},
   "source": [
    "### Train/Test Split"
   ]
  },
  {
   "cell_type": "code",
   "execution_count": null,
   "metadata": {
    "ExecuteTime": {
     "end_time": "2019-11-26T05:59:01.638296Z",
     "start_time": "2019-11-26T05:59:01.627302Z"
    }
   },
   "outputs": [],
   "source": [
    "# split data into training and testing sets\n",
    "X_train, X_test, y_train, y_test = train_test_split(X, y, random_state=42)\n",
    "print(X_train.shape,X_test.shape,y_train.shape,y_test.shape)"
   ]
  },
  {
   "cell_type": "markdown",
   "metadata": {},
   "source": [
    "### Standard Scaler"
   ]
  },
  {
   "cell_type": "code",
   "execution_count": null,
   "metadata": {
    "ExecuteTime": {
     "end_time": "2019-11-26T05:59:01.654285Z",
     "start_time": "2019-11-26T05:59:01.642292Z"
    }
   },
   "outputs": [],
   "source": [
    "ss = StandardScaler()\n",
    "ss.fit(X_train)\n",
    "X_train_sc = ss.transform(X_train)\n",
    "X_test_sc = ss.transform(X_test)"
   ]
  },
  {
   "cell_type": "markdown",
   "metadata": {},
   "source": [
    "### Linear, Ridge, Lasso (with standard scaled data)"
   ]
  },
  {
   "cell_type": "code",
   "execution_count": null,
   "metadata": {
    "ExecuteTime": {
     "end_time": "2019-11-26T05:59:02.285256Z",
     "start_time": "2019-11-26T05:59:01.658283Z"
    }
   },
   "outputs": [],
   "source": [
    "# LINEAR REG - Instantiate and score using cross validation (3 folds)\n",
    "linreg = LinearRegression()\n",
    "print('\\nLINEAR REG cross-val mean score:')\n",
    "print('X-Val score MEAN using X_train\\t\\t',cross_val_score(linreg, X_train_sc, y_train,cv=3).mean())\n",
    "\n",
    "# RIDGE - Instantiate and score using cross validation (3 folds)\n",
    "ridge=RidgeCV(alphas=np.linspace(.1, 10, 100))\n",
    "print('\\nRIDGE cross-val mean score:')\n",
    "print('X-Val score MEAN using X_train\\t\\t',cross_val_score(ridge, X_train_sc, y_train,cv=3).mean())\n",
    "\n",
    "# LASSO - Instantiate and score using cross validation (3 folds)\n",
    "lasso = LassoCV(n_alphas=200,cv=3)\n",
    "print('\\nLASSO cross-val mean score:')\n",
    "print('X-Val score MEAN using X_train\\t\\t',cross_val_score(lasso, X_train_sc, y_train,cv=3).mean())"
   ]
  },
  {
   "cell_type": "markdown",
   "metadata": {},
   "source": [
    "### Power Transformer"
   ]
  },
  {
   "cell_type": "code",
   "execution_count": null,
   "metadata": {
    "ExecuteTime": {
     "end_time": "2019-11-26T05:59:02.351213Z",
     "start_time": "2019-11-26T05:59:02.288253Z"
    }
   },
   "outputs": [],
   "source": [
    "pt_x = PowerTransformer() # transform X\n",
    "pt_x.fit(X_train)\n",
    "X_train_pt = pt_x.transform(X_train)\n",
    "X_test_pt = pt_x.transform(X_test)\n",
    "\n",
    "pt_y = PowerTransformer() # transform Y\n",
    "# PowerTransformer requires a matrix/DataFrame, so we use .to_frame() method on y_train\n",
    "# subsequently we use .ravel() to flatten it into an array (which is required for cross_val later)\n",
    "pt_y.fit(y_train.to_frame())\n",
    "y_train_pt = pt_y.transform(y_train.to_frame()).ravel()\n",
    "y_test_pt = pt_y.transform(y_test.to_frame()).ravel()"
   ]
  },
  {
   "cell_type": "markdown",
   "metadata": {},
   "source": [
    "### Linear, Ridge Lasso (with power transformed data)"
   ]
  },
  {
   "cell_type": "code",
   "execution_count": null,
   "metadata": {
    "ExecuteTime": {
     "end_time": "2019-11-26T05:59:02.947276Z",
     "start_time": "2019-11-26T05:59:02.355212Z"
    },
    "scrolled": true
   },
   "outputs": [],
   "source": [
    "# LINEAR REG - Instantiate and score using cross validation (3 folds)\n",
    "linreg = LinearRegression()\n",
    "print('\\nLINEAR REG cross-val mean score:')\n",
    "print('X-Val score MEAN using X_train\\t\\t',cross_val_score(linreg, X_train_pt, y_train_pt,cv=3).mean())\n",
    "\n",
    "# RIDGE - Instantiate and score using cross validation (3 folds)\n",
    "ridge=RidgeCV(alphas=np.linspace(.1, 10, 100))\n",
    "print('\\nRIDGE cross-val mean score:')\n",
    "print('X-Val score MEAN using X_train\\t\\t',cross_val_score(ridge, X_train_pt, y_train_pt,cv=3).mean())\n",
    "\n",
    "# LASSO - Instantiate and score using cross validation (3 folds)\n",
    "lasso = LassoCV(n_alphas=200,cv=3)\n",
    "print('\\nLASSO cross-val mean score:')\n",
    "print('X-Val score MEAN using X_train\\t\\t',cross_val_score(lasso, X_train_pt, y_train_pt,cv=3).mean())"
   ]
  },
  {
   "cell_type": "markdown",
   "metadata": {},
   "source": [
    "## Class 'cnstr_engr'"
   ]
  },
  {
   "cell_type": "markdown",
   "metadata": {},
   "source": [
    "### Prepare Data"
   ]
  },
  {
   "cell_type": "code",
   "execution_count": null,
   "metadata": {
    "ExecuteTime": {
     "end_time": "2019-11-26T05:59:02.964264Z",
     "start_time": "2019-11-26T05:59:02.950274Z"
    },
    "cell_style": "center"
   },
   "outputs": [],
   "source": [
    "# df_cnstr_engr\n",
    "features = [col for col in df_cnstr_engr._get_numeric_data().columns if (col != 'auwgr') and (col != 'year')]\n",
    "X = df_cnstr_engr[features]\n",
    "y = df_cnstr_engr['auwgr']\n",
    "print(X.shape, y.shape)"
   ]
  },
  {
   "cell_type": "markdown",
   "metadata": {},
   "source": [
    "### Train/Test Split"
   ]
  },
  {
   "cell_type": "code",
   "execution_count": null,
   "metadata": {
    "ExecuteTime": {
     "end_time": "2019-11-26T05:59:02.988250Z",
     "start_time": "2019-11-26T05:59:02.969262Z"
    }
   },
   "outputs": [],
   "source": [
    "# split data into training and testing sets\n",
    "X_train, X_test, y_train, y_test = train_test_split(X, y, random_state=42)\n",
    "print(X_train.shape,X_test.shape,y_train.shape,y_test.shape)"
   ]
  },
  {
   "cell_type": "markdown",
   "metadata": {},
   "source": [
    "### Standard Scaler"
   ]
  },
  {
   "cell_type": "code",
   "execution_count": null,
   "metadata": {
    "ExecuteTime": {
     "end_time": "2019-11-26T05:59:03.026228Z",
     "start_time": "2019-11-26T05:59:03.013235Z"
    }
   },
   "outputs": [],
   "source": [
    "ss = StandardScaler()\n",
    "ss.fit(X_train)\n",
    "X_train_sc = ss.transform(X_train)\n",
    "X_test_sc = ss.transform(X_test)"
   ]
  },
  {
   "cell_type": "markdown",
   "metadata": {},
   "source": [
    "### Linear, Ridge, Lasso (with standard scaled data)"
   ]
  },
  {
   "cell_type": "code",
   "execution_count": null,
   "metadata": {
    "ExecuteTime": {
     "end_time": "2019-11-26T05:59:03.615084Z",
     "start_time": "2019-11-26T05:59:03.036220Z"
    }
   },
   "outputs": [],
   "source": [
    "# LINEAR REG - Instantiate and score using cross validation (3 folds)\n",
    "linreg = LinearRegression()\n",
    "print('\\nLINEAR REG cross-val mean score:')\n",
    "print('X-Val score MEAN using X_train\\t\\t',cross_val_score(linreg, X_train_sc, y_train,cv=3).mean())\n",
    "\n",
    "# RIDGE - Instantiate and score using cross validation (3 folds)\n",
    "ridge=RidgeCV(alphas=np.linspace(.1, 10, 100))\n",
    "print('\\nRIDGE cross-val mean score:')\n",
    "print('X-Val score MEAN using X_train\\t\\t',cross_val_score(ridge, X_train_sc, y_train,cv=3).mean())\n",
    "\n",
    "# LASSO - Instantiate and score using cross validation (3 folds)\n",
    "lasso = LassoCV(n_alphas=200,cv=3)\n",
    "print('\\nLASSO cross-val mean score:')\n",
    "print('X-Val score MEAN using X_train\\t\\t',cross_val_score(lasso, X_train_sc, y_train,cv=3).mean())"
   ]
  },
  {
   "cell_type": "markdown",
   "metadata": {},
   "source": [
    "### Power Transformer"
   ]
  },
  {
   "cell_type": "code",
   "execution_count": null,
   "metadata": {
    "ExecuteTime": {
     "end_time": "2019-11-26T05:59:03.678044Z",
     "start_time": "2019-11-26T05:59:03.619079Z"
    }
   },
   "outputs": [],
   "source": [
    "pt_x = PowerTransformer() # transform X\n",
    "pt_x.fit(X_train)\n",
    "X_train_pt = pt_x.transform(X_train)\n",
    "X_test_pt = pt_x.transform(X_test)\n",
    "\n",
    "pt_y = PowerTransformer() # transform Y\n",
    "# PowerTransformer requires a matrix/DataFrame, so we use .to_frame() method on y_train\n",
    "# subsequently we use .ravel() to flatten it into an array (which is required for cross_val later)\n",
    "pt_y.fit(y_train.to_frame())\n",
    "y_train_pt = pt_y.transform(y_train.to_frame()).ravel()\n",
    "y_test_pt = pt_y.transform(y_test.to_frame()).ravel()"
   ]
  },
  {
   "cell_type": "markdown",
   "metadata": {},
   "source": [
    "### Linear, Ridge Lasso (with power transformed data)"
   ]
  },
  {
   "cell_type": "code",
   "execution_count": null,
   "metadata": {
    "ExecuteTime": {
     "end_time": "2019-11-26T05:59:04.225769Z",
     "start_time": "2019-11-26T05:59:03.682040Z"
    },
    "scrolled": false
   },
   "outputs": [],
   "source": [
    "# LINEAR REG - Instantiate and score using cross validation (3 folds)\n",
    "linreg = LinearRegression()\n",
    "print('\\nLINEAR REG cross-val mean score:')\n",
    "print('X-Val score MEAN using X_train\\t\\t',cross_val_score(linreg, X_train_pt, y_train_pt,cv=3).mean())\n",
    "\n",
    "# RIDGE - Instantiate and score using cross validation (3 folds)\n",
    "ridge=RidgeCV(alphas=np.linspace(.1, 10, 100))\n",
    "print('\\nRIDGE cross-val mean score:')\n",
    "print('X-Val score MEAN using X_train\\t\\t',cross_val_score(ridge, X_train_pt, y_train_pt,cv=3).mean())\n",
    "\n",
    "# LASSO - Instantiate and score using cross validation (3 folds)\n",
    "lasso = LassoCV(n_alphas=200,cv=3)\n",
    "print('\\nLASSO cross-val mean score:')\n",
    "print('X-Val score MEAN using X_train\\t\\t',cross_val_score(lasso, X_train_pt, y_train_pt,cv=3).mean())"
   ]
  },
  {
   "cell_type": "markdown",
   "metadata": {},
   "source": [
    "## Class 'prof_indm'"
   ]
  },
  {
   "cell_type": "markdown",
   "metadata": {},
   "source": [
    "### Prepare Data"
   ]
  },
  {
   "cell_type": "code",
   "execution_count": null,
   "metadata": {
    "ExecuteTime": {
     "end_time": "2019-11-26T05:59:04.243758Z",
     "start_time": "2019-11-26T05:59:04.229767Z"
    },
    "cell_style": "center"
   },
   "outputs": [],
   "source": [
    "# df_prof_indm\n",
    "features = [col for col in df_prof_indm._get_numeric_data().columns if (col != 'auwgr') and (col != 'year')]\n",
    "X = df_prof_indm[features]\n",
    "y = df_prof_indm['auwgr']\n",
    "print(X.shape, y.shape)"
   ]
  },
  {
   "cell_type": "markdown",
   "metadata": {},
   "source": [
    "### Train/Test Split"
   ]
  },
  {
   "cell_type": "code",
   "execution_count": null,
   "metadata": {
    "ExecuteTime": {
     "end_time": "2019-11-26T05:59:04.258749Z",
     "start_time": "2019-11-26T05:59:04.247756Z"
    }
   },
   "outputs": [],
   "source": [
    "# split data into training and testing sets\n",
    "X_train, X_test, y_train, y_test = train_test_split(X, y, random_state=42)\n",
    "print(X_train.shape,X_test.shape,y_train.shape,y_test.shape)"
   ]
  },
  {
   "cell_type": "markdown",
   "metadata": {},
   "source": [
    "### Standard Scaler"
   ]
  },
  {
   "cell_type": "code",
   "execution_count": null,
   "metadata": {
    "ExecuteTime": {
     "end_time": "2019-11-26T05:59:04.276738Z",
     "start_time": "2019-11-26T05:59:04.262747Z"
    }
   },
   "outputs": [],
   "source": [
    "ss = StandardScaler()\n",
    "ss.fit(X_train)\n",
    "X_train_sc = ss.transform(X_train)\n",
    "X_test_sc = ss.transform(X_test)"
   ]
  },
  {
   "cell_type": "markdown",
   "metadata": {},
   "source": [
    "### Linear, Ridge, Lasso (with standard scaled data)"
   ]
  },
  {
   "cell_type": "code",
   "execution_count": null,
   "metadata": {
    "ExecuteTime": {
     "end_time": "2019-11-26T05:59:04.822404Z",
     "start_time": "2019-11-26T05:59:04.280736Z"
    }
   },
   "outputs": [],
   "source": [
    "# LINEAR REG - Instantiate and score using cross validation (3 folds)\n",
    "linreg = LinearRegression()\n",
    "print('\\nLINEAR REG cross-val mean score:')\n",
    "print('X-Val score MEAN using X_train\\t\\t',cross_val_score(linreg, X_train_sc, y_train,cv=3).mean())\n",
    "\n",
    "# RIDGE - Instantiate and score using cross validation (3 folds)\n",
    "ridge=RidgeCV(alphas=np.linspace(.1, 10, 100))\n",
    "print('\\nRIDGE cross-val mean score:')\n",
    "print('X-Val score MEAN using X_train\\t\\t',cross_val_score(ridge, X_train_sc, y_train,cv=3).mean())\n",
    "\n",
    "# LASSO - Instantiate and score using cross validation (3 folds)\n",
    "lasso = LassoCV(n_alphas=200,cv=3)\n",
    "print('\\nLASSO cross-val mean score:')\n",
    "print('X-Val score MEAN using X_train\\t\\t',cross_val_score(lasso, X_train_sc, y_train,cv=3).mean())"
   ]
  },
  {
   "cell_type": "markdown",
   "metadata": {},
   "source": [
    "### Power Transformer"
   ]
  },
  {
   "cell_type": "code",
   "execution_count": null,
   "metadata": {
    "ExecuteTime": {
     "end_time": "2019-11-26T05:59:04.885367Z",
     "start_time": "2019-11-26T05:59:04.826401Z"
    }
   },
   "outputs": [],
   "source": [
    "pt_x = PowerTransformer() # transform X\n",
    "pt_x.fit(X_train)\n",
    "X_train_pt = pt_x.transform(X_train)\n",
    "X_test_pt = pt_x.transform(X_test)\n",
    "\n",
    "pt_y = PowerTransformer() # transform Y\n",
    "# PowerTransformer requires a matrix/DataFrame, so we use .to_frame() method on y_train\n",
    "# subsequently we use .ravel() to flatten it into an array (which is required for cross_val later)\n",
    "pt_y.fit(y_train.to_frame())\n",
    "y_train_pt = pt_y.transform(y_train.to_frame()).ravel()\n",
    "y_test_pt = pt_y.transform(y_test.to_frame()).ravel()"
   ]
  },
  {
   "cell_type": "markdown",
   "metadata": {},
   "source": [
    "### Linear, Ridge Lasso (with power transformed data)"
   ]
  },
  {
   "cell_type": "code",
   "execution_count": null,
   "metadata": {
    "ExecuteTime": {
     "end_time": "2019-11-26T05:59:05.465461Z",
     "start_time": "2019-11-26T05:59:04.890362Z"
    },
    "scrolled": true
   },
   "outputs": [],
   "source": [
    "# LINEAR REG - Instantiate and score using cross validation (3 folds)\n",
    "linreg = LinearRegression()\n",
    "print('\\nLINEAR REG cross-val mean score:')\n",
    "print('X-Val score MEAN using X_train\\t\\t',cross_val_score(linreg, X_train_pt, y_train_pt,cv=3).mean())\n",
    "\n",
    "# RIDGE - Instantiate and score using cross validation (3 folds)\n",
    "ridge=RidgeCV(alphas=np.linspace(.1, 10, 100))\n",
    "print('\\nRIDGE cross-val mean score:')\n",
    "print('X-Val score MEAN using X_train\\t\\t',cross_val_score(ridge, X_train_pt, y_train_pt,cv=3).mean())\n",
    "\n",
    "# LASSO - Instantiate and score using cross validation (3 folds)\n",
    "lasso = LassoCV(n_alphas=200,cv=3)\n",
    "print('\\nLASSO cross-val mean score:')\n",
    "print('X-Val score MEAN using X_train\\t\\t',cross_val_score(lasso, X_train_pt, y_train_pt,cv=3).mean())"
   ]
  },
  {
   "cell_type": "markdown",
   "metadata": {},
   "source": [
    "## Class 'cpr'"
   ]
  },
  {
   "cell_type": "markdown",
   "metadata": {},
   "source": [
    "### Prepare Data"
   ]
  },
  {
   "cell_type": "code",
   "execution_count": null,
   "metadata": {
    "ExecuteTime": {
     "end_time": "2019-11-26T05:59:05.483450Z",
     "start_time": "2019-11-26T05:59:05.469458Z"
    },
    "cell_style": "center"
   },
   "outputs": [],
   "source": [
    "# df_cpr\n",
    "features = [col for col in df_cpr._get_numeric_data().columns if (col != 'auwgr') and (col != 'year')]\n",
    "X = df_cpr[features]\n",
    "y = df_cpr['auwgr']\n",
    "print(X.shape, y.shape)"
   ]
  },
  {
   "cell_type": "markdown",
   "metadata": {},
   "source": [
    "### Train/Test Split"
   ]
  },
  {
   "cell_type": "code",
   "execution_count": null,
   "metadata": {
    "ExecuteTime": {
     "end_time": "2019-11-26T05:59:05.498440Z",
     "start_time": "2019-11-26T05:59:05.488447Z"
    }
   },
   "outputs": [],
   "source": [
    "# split data into training and testing sets\n",
    "X_train, X_test, y_train, y_test = train_test_split(X, y, random_state=42)\n",
    "print(X_train.shape,X_test.shape,y_train.shape,y_test.shape)"
   ]
  },
  {
   "cell_type": "markdown",
   "metadata": {},
   "source": [
    "### Standard Scaler"
   ]
  },
  {
   "cell_type": "code",
   "execution_count": null,
   "metadata": {
    "ExecuteTime": {
     "end_time": "2019-11-26T05:59:05.522425Z",
     "start_time": "2019-11-26T05:59:05.503438Z"
    }
   },
   "outputs": [],
   "source": [
    "ss = StandardScaler()\n",
    "ss.fit(X_train)\n",
    "X_train_sc = ss.transform(X_train)\n",
    "X_test_sc = ss.transform(X_test)"
   ]
  },
  {
   "cell_type": "markdown",
   "metadata": {},
   "source": [
    "### Linear, Ridge, Lasso (with standard scaled data)"
   ]
  },
  {
   "cell_type": "code",
   "execution_count": null,
   "metadata": {
    "ExecuteTime": {
     "end_time": "2019-11-26T05:59:06.073190Z",
     "start_time": "2019-11-26T05:59:05.527424Z"
    }
   },
   "outputs": [],
   "source": [
    "# LINEAR REG - Instantiate and score using cross validation (3 folds)\n",
    "linreg = LinearRegression()\n",
    "print('\\nLINEAR REG cross-val mean score:')\n",
    "print('X-Val score MEAN using X_train\\t\\t',cross_val_score(linreg, X_train_sc, y_train,cv=3).mean())\n",
    "\n",
    "# RIDGE - Instantiate and score using cross validation (3 folds)\n",
    "ridge=RidgeCV(alphas=np.linspace(.1, 10, 100))\n",
    "print('\\nRIDGE cross-val mean score:')\n",
    "print('X-Val score MEAN using X_train\\t\\t',cross_val_score(ridge, X_train_sc, y_train,cv=3).mean())\n",
    "\n",
    "# LASSO - Instantiate and score using cross validation (3 folds)\n",
    "lasso = LassoCV(n_alphas=200,cv=3)\n",
    "print('\\nLASSO cross-val mean score:')\n",
    "print('X-Val score MEAN using X_train\\t\\t',cross_val_score(lasso, X_train_sc, y_train,cv=3).mean())"
   ]
  },
  {
   "cell_type": "markdown",
   "metadata": {},
   "source": [
    "### Power Transformer"
   ]
  },
  {
   "cell_type": "code",
   "execution_count": null,
   "metadata": {
    "ExecuteTime": {
     "end_time": "2019-11-26T05:59:06.129156Z",
     "start_time": "2019-11-26T05:59:06.077190Z"
    }
   },
   "outputs": [],
   "source": [
    "pt_x = PowerTransformer() # transform X\n",
    "pt_x.fit(X_train)\n",
    "X_train_pt = pt_x.transform(X_train)\n",
    "X_test_pt = pt_x.transform(X_test)\n",
    "\n",
    "pt_y = PowerTransformer() # transform Y\n",
    "# PowerTransformer requires a matrix/DataFrame, so we use .to_frame() method on y_train\n",
    "# subsequently we use .ravel() to flatten it into an array (which is required for cross_val later)\n",
    "pt_y.fit(y_train.to_frame())\n",
    "y_train_pt = pt_y.transform(y_train.to_frame()).ravel()\n",
    "y_test_pt = pt_y.transform(y_test.to_frame()).ravel()"
   ]
  },
  {
   "cell_type": "markdown",
   "metadata": {},
   "source": [
    "### Linear, Ridge Lasso (with power transformed data)"
   ]
  },
  {
   "cell_type": "code",
   "execution_count": null,
   "metadata": {
    "ExecuteTime": {
     "end_time": "2019-11-26T05:59:06.649393Z",
     "start_time": "2019-11-26T05:59:06.133154Z"
    },
    "scrolled": false
   },
   "outputs": [],
   "source": [
    "# LINEAR REG - Instantiate and score using cross validation (3 folds)\n",
    "linreg = LinearRegression()\n",
    "print('\\nLINEAR REG cross-val mean score:')\n",
    "print('X-Val score MEAN using X_train\\t\\t',cross_val_score(linreg, X_train_pt, y_train_pt,cv=3).mean())\n",
    "\n",
    "# RIDGE - Instantiate and score using cross validation (3 folds)\n",
    "ridge=RidgeCV(alphas=np.linspace(.1, 10, 100))\n",
    "print('\\nRIDGE cross-val mean score:')\n",
    "print('X-Val score MEAN using X_train\\t\\t',cross_val_score(ridge, X_train_pt, y_train_pt,cv=3).mean())\n",
    "\n",
    "# LASSO - Instantiate and score using cross validation (3 folds)\n",
    "lasso = LassoCV(n_alphas=200,cv=3)\n",
    "print('\\nLASSO cross-val mean score:')\n",
    "print('X-Val score MEAN using X_train\\t\\t',cross_val_score(lasso, X_train_pt, y_train_pt,cv=3).mean())"
   ]
  },
  {
   "cell_type": "markdown",
   "metadata": {},
   "source": [
    "## Class 'others'"
   ]
  },
  {
   "cell_type": "markdown",
   "metadata": {},
   "source": [
    "### Prepare Data"
   ]
  },
  {
   "cell_type": "code",
   "execution_count": null,
   "metadata": {
    "ExecuteTime": {
     "end_time": "2019-11-26T05:59:06.666380Z",
     "start_time": "2019-11-26T05:59:06.653388Z"
    },
    "cell_style": "center"
   },
   "outputs": [],
   "source": [
    "# df_others\n",
    "features = [col for col in df_others._get_numeric_data().columns if (col != 'auwgr') and (col != 'year')]\n",
    "X = df_others[features]\n",
    "y = df_others['auwgr']\n",
    "print(X.shape, y.shape)"
   ]
  },
  {
   "cell_type": "markdown",
   "metadata": {},
   "source": [
    "### Train/Test Split"
   ]
  },
  {
   "cell_type": "code",
   "execution_count": null,
   "metadata": {
    "ExecuteTime": {
     "end_time": "2019-11-26T05:59:06.686368Z",
     "start_time": "2019-11-26T05:59:06.670377Z"
    }
   },
   "outputs": [],
   "source": [
    "# split data into training and testing sets\n",
    "X_train, X_test, y_train, y_test = train_test_split(X, y, random_state=42)\n",
    "print(X_train.shape,X_test.shape,y_train.shape,y_test.shape)"
   ]
  },
  {
   "cell_type": "markdown",
   "metadata": {},
   "source": [
    "### Standard Scaler"
   ]
  },
  {
   "cell_type": "code",
   "execution_count": null,
   "metadata": {
    "ExecuteTime": {
     "end_time": "2019-11-26T05:59:06.704357Z",
     "start_time": "2019-11-26T05:59:06.690368Z"
    }
   },
   "outputs": [],
   "source": [
    "ss = StandardScaler()\n",
    "ss.fit(X_train)\n",
    "X_train_sc = ss.transform(X_train)\n",
    "X_test_sc = ss.transform(X_test)"
   ]
  },
  {
   "cell_type": "markdown",
   "metadata": {},
   "source": [
    "### Linear, Ridge, Lasso (with standard scaled data)"
   ]
  },
  {
   "cell_type": "code",
   "execution_count": null,
   "metadata": {
    "ExecuteTime": {
     "end_time": "2019-11-26T05:59:07.401509Z",
     "start_time": "2019-11-26T05:59:06.708354Z"
    }
   },
   "outputs": [],
   "source": [
    "# LINEAR REG - Instantiate and score using cross validation (3 folds)\n",
    "linreg = LinearRegression()\n",
    "print('\\nLINEAR REG cross-val mean score:')\n",
    "print('X-Val score MEAN using X_train\\t\\t',cross_val_score(linreg, X_train_sc, y_train,cv=3).mean())\n",
    "\n",
    "# RIDGE - Instantiate and score using cross validation (3 folds)\n",
    "ridge=RidgeCV(alphas=np.linspace(.1, 10, 100))\n",
    "print('\\nRIDGE cross-val mean score:')\n",
    "print('X-Val score MEAN using X_train\\t\\t',cross_val_score(ridge, X_train_sc, y_train,cv=3).mean())\n",
    "\n",
    "# LASSO - Instantiate and score using cross validation (3 folds)\n",
    "lasso = LassoCV(n_alphas=200,cv=3)\n",
    "print('\\nLASSO cross-val mean score:')\n",
    "print('X-Val score MEAN using X_train\\t\\t',cross_val_score(lasso, X_train_sc, y_train,cv=3).mean())"
   ]
  },
  {
   "cell_type": "markdown",
   "metadata": {},
   "source": [
    "### Power Transformer"
   ]
  },
  {
   "cell_type": "code",
   "execution_count": null,
   "metadata": {
    "ExecuteTime": {
     "end_time": "2019-11-26T05:59:07.473466Z",
     "start_time": "2019-11-26T05:59:07.405507Z"
    }
   },
   "outputs": [],
   "source": [
    "pt_x = PowerTransformer() # transform X\n",
    "pt_x.fit(X_train)\n",
    "X_train_pt = pt_x.transform(X_train)\n",
    "X_test_pt = pt_x.transform(X_test)\n",
    "\n",
    "pt_y = PowerTransformer() # transform Y\n",
    "# PowerTransformer requires a matrix/DataFrame, so we use .to_frame() method on y_train\n",
    "# subsequently we use .ravel() to flatten it into an array (which is required for cross_val later)\n",
    "pt_y.fit(y_train.to_frame())\n",
    "y_train_pt = pt_y.transform(y_train.to_frame()).ravel()\n",
    "y_test_pt = pt_y.transform(y_test.to_frame()).ravel()"
   ]
  },
  {
   "cell_type": "markdown",
   "metadata": {},
   "source": [
    "### Linear, Ridge Lasso (with power transformed data)"
   ]
  },
  {
   "cell_type": "code",
   "execution_count": null,
   "metadata": {
    "ExecuteTime": {
     "end_time": "2019-11-26T05:59:08.074084Z",
     "start_time": "2019-11-26T05:59:07.476464Z"
    },
    "scrolled": false
   },
   "outputs": [],
   "source": [
    "# LINEAR REG - Instantiate and score using cross validation (3 folds)\n",
    "linreg = LinearRegression()\n",
    "print('\\nLINEAR REG cross-val mean score:')\n",
    "print('X-Val score MEAN using X_train\\t\\t',cross_val_score(linreg, X_train_pt, y_train_pt,cv=3).mean())\n",
    "\n",
    "# RIDGE - Instantiate and score using cross validation (3 folds)\n",
    "ridge=RidgeCV(alphas=np.linspace(.1, 10, 100))\n",
    "print('\\nRIDGE cross-val mean score:')\n",
    "print('X-Val score MEAN using X_train\\t\\t',cross_val_score(ridge, X_train_pt, y_train_pt,cv=3).mean())\n",
    "\n",
    "# LASSO - Instantiate and score using cross validation (3 folds)\n",
    "lasso = LassoCV(n_alphas=200,cv=3)\n",
    "print('\\nLASSO cross-val mean score:')\n",
    "print('X-Val score MEAN using X_train\\t\\t',cross_val_score(lasso, X_train_pt, y_train_pt,cv=3).mean())"
   ]
  },
  {
   "cell_type": "markdown",
   "metadata": {},
   "source": [
    "# Checkpoint 2: Comments\n",
    "The cross-validation scores above show that the data, even when separated into individual insurance types, cannot be used for regression.<br>\n",
    "Further analysis of the data is required.<br><br>\n",
    "Deep dive in the 'fire' class (this has the most number of rows - 765 rows) to see what we can find."
   ]
  },
  {
   "cell_type": "markdown",
   "metadata": {},
   "source": [
    "# Define Functions"
   ]
  },
  {
   "cell_type": "code",
   "execution_count": null,
   "metadata": {
    "ExecuteTime": {
     "end_time": "2019-11-26T06:04:09.849070Z",
     "start_time": "2019-11-26T06:04:09.838078Z"
    }
   },
   "outputs": [],
   "source": [
    "def find_threshold_count(df_arg, col_name, min_thresh, max_thresh):\n",
    "    counter_min=df_arg[df_arg[col_name]< min_thresh].count().head(1).values[0]\n",
    "    counter_pct_min=round(100*(df_arg[df_arg[col_name]< min_thresh].count().head(1).values[0]/num_rows),2)\n",
    "    counter_max=df_arg[df_arg[col_name]> max_thresh].count().head(1).values[0]\n",
    "    counter_pct_max=round(100*(df_arg[df_arg[col_name]> max_thresh].count().head(1).values[0]/num_rows),2)\n",
    "    print('column name:', col_name)\n",
    "    print('no. of rows with values less than',min_thresh,'=>\\t',counter_min,'(',counter_pct_min,'% )')\n",
    "    print('no. of rows with values more than',max_thresh,'=>\\t',counter_max,'(',counter_pct_max,'% )')\n",
    "    print('total percentage of rows beyond min/max thresholds:',round(counter_pct_min+counter_pct_max,2),'%')\n",
    "    return None"
   ]
  },
  {
   "cell_type": "code",
   "execution_count": null,
   "metadata": {
    "ExecuteTime": {
     "end_time": "2019-11-26T06:33:50.676073Z",
     "start_time": "2019-11-26T06:33:50.666079Z"
    }
   },
   "outputs": [],
   "source": [
    "# get the list of indexes, then drop the rows based on the corresponding index\n",
    "def drop_outside_threshold(df_arg, col_name, min_thresh, max_thresh):\n",
    "    old_shape = df_arg.shape\n",
    "    try:\n",
    "        idx_list = list(df_arg[(df_arg[col_name]<min_thresh) | (df_arg[col_name]>max_thresh)].index.values)\n",
    "    except:\n",
    "        print(\"No such cases found...\")\n",
    "    else:\n",
    "        if len(idx_list) > 0:\n",
    "            df_arg.drop(index=idx_list,inplace=True)\n",
    "    finally:\n",
    "        print('Dropped',len(idx_list),'rows...')\n",
    "        print('Old shape =>',old_shape)\n",
    "        print('New shape =>',df_arg.shape)\n",
    "    \n",
    "    return None"
   ]
  },
  {
   "cell_type": "markdown",
   "metadata": {},
   "source": [
    "# Deep Dive into 'fire' class"
   ]
  },
  {
   "cell_type": "markdown",
   "metadata": {},
   "source": [
    "## Reset Dataframe"
   ]
  },
  {
   "cell_type": "code",
   "execution_count": null,
   "metadata": {
    "ExecuteTime": {
     "end_time": "2019-11-29T04:17:14.288209Z",
     "start_time": "2019-11-29T04:17:14.280213Z"
    }
   },
   "outputs": [],
   "source": [
    "# df_fire = df[df['class']=='fire'].copy()\n",
    "df_fire = df.copy()"
   ]
  },
  {
   "cell_type": "markdown",
   "metadata": {},
   "source": [
    "## Explore data"
   ]
  },
  {
   "cell_type": "code",
   "execution_count": null,
   "metadata": {
    "ExecuteTime": {
     "end_time": "2019-11-26T08:14:39.032367Z",
     "start_time": "2019-11-26T08:14:36.684803Z"
    }
   },
   "outputs": [],
   "source": [
    "sns.pairplot(df_fire, x_vars=['lkpp', 'amlr', 'amer', 'der', 'aoer'], y_vars=['auwgr'])"
   ]
  },
  {
   "cell_type": "code",
   "execution_count": null,
   "metadata": {
    "ExecuteTime": {
     "end_time": "2019-11-26T08:14:41.647275Z",
     "start_time": "2019-11-26T08:14:41.590311Z"
    }
   },
   "outputs": [],
   "source": [
    "df_fire.describe()"
   ]
  },
  {
   "cell_type": "markdown",
   "metadata": {},
   "source": [
    "### augwr"
   ]
  },
  {
   "cell_type": "code",
   "execution_count": null,
   "metadata": {
    "ExecuteTime": {
     "end_time": "2019-11-26T08:14:45.680480Z",
     "start_time": "2019-11-26T08:14:45.245745Z"
    }
   },
   "outputs": [],
   "source": [
    "sns.boxplot(df_fire['auwgr']);"
   ]
  },
  {
   "cell_type": "code",
   "execution_count": null,
   "metadata": {
    "ExecuteTime": {
     "end_time": "2019-11-26T08:14:48.589511Z",
     "start_time": "2019-11-26T08:14:48.562526Z"
    }
   },
   "outputs": [],
   "source": [
    "# find_threshold_count(df_fire,'auwgr',-3,7)\n",
    "find_threshold_count(df_fire,'auwgr',-2,2)"
   ]
  },
  {
   "cell_type": "code",
   "execution_count": null,
   "metadata": {
    "ExecuteTime": {
     "end_time": "2019-11-26T08:14:51.392349Z",
     "start_time": "2019-11-26T08:14:51.380357Z"
    }
   },
   "outputs": [],
   "source": [
    "drop_outside_threshold(df_fire,'auwgr',-2,2)"
   ]
  },
  {
   "cell_type": "code",
   "execution_count": null,
   "metadata": {
    "ExecuteTime": {
     "end_time": "2019-11-26T08:14:53.814659Z",
     "start_time": "2019-11-26T08:14:53.328954Z"
    }
   },
   "outputs": [],
   "source": [
    "sns.boxplot(df_fire['auwgr']);"
   ]
  },
  {
   "cell_type": "code",
   "execution_count": null,
   "metadata": {
    "ExecuteTime": {
     "end_time": "2019-11-26T08:14:55.470075Z",
     "start_time": "2019-11-26T08:14:55.419107Z"
    }
   },
   "outputs": [],
   "source": [
    "df_fire.describe()"
   ]
  },
  {
   "cell_type": "markdown",
   "metadata": {},
   "source": [
    "### lkpp"
   ]
  },
  {
   "cell_type": "code",
   "execution_count": null,
   "metadata": {
    "ExecuteTime": {
     "end_time": "2019-11-26T08:15:00.444573Z",
     "start_time": "2019-11-26T08:14:59.984857Z"
    }
   },
   "outputs": [],
   "source": [
    "sns.boxplot(df_fire['lkpp']);"
   ]
  },
  {
   "cell_type": "code",
   "execution_count": null,
   "metadata": {
    "ExecuteTime": {
     "end_time": "2019-11-26T08:15:02.472137Z",
     "start_time": "2019-11-26T08:15:02.444155Z"
    }
   },
   "outputs": [],
   "source": [
    "find_threshold_count(df_fire,'lkpp',-5,13)"
   ]
  },
  {
   "cell_type": "code",
   "execution_count": null,
   "metadata": {
    "ExecuteTime": {
     "end_time": "2019-11-26T08:15:04.222064Z",
     "start_time": "2019-11-26T08:15:04.209073Z"
    }
   },
   "outputs": [],
   "source": [
    "drop_outside_threshold(df_fire,'lkpp',-5,13)"
   ]
  },
  {
   "cell_type": "code",
   "execution_count": null,
   "metadata": {
    "ExecuteTime": {
     "end_time": "2019-11-26T08:15:06.933978Z",
     "start_time": "2019-11-26T08:15:06.457269Z"
    }
   },
   "outputs": [],
   "source": [
    "sns.boxplot(df_fire['lkpp']);"
   ]
  },
  {
   "cell_type": "code",
   "execution_count": null,
   "metadata": {
    "ExecuteTime": {
     "end_time": "2019-11-26T08:15:08.301456Z",
     "start_time": "2019-11-26T08:15:08.237494Z"
    }
   },
   "outputs": [],
   "source": [
    "df_fire.describe()"
   ]
  },
  {
   "cell_type": "markdown",
   "metadata": {},
   "source": [
    "### amlr"
   ]
  },
  {
   "cell_type": "code",
   "execution_count": null,
   "metadata": {
    "ExecuteTime": {
     "end_time": "2019-11-26T08:15:12.290018Z",
     "start_time": "2019-11-26T08:15:11.835295Z"
    }
   },
   "outputs": [],
   "source": [
    "sns.boxplot(df_fire['amlr']);"
   ]
  },
  {
   "cell_type": "code",
   "execution_count": null,
   "metadata": {
    "ExecuteTime": {
     "end_time": "2019-11-26T08:15:13.455305Z",
     "start_time": "2019-11-26T08:15:13.424321Z"
    }
   },
   "outputs": [],
   "source": [
    "find_threshold_count(df_fire,'amlr',-1,2.2)"
   ]
  },
  {
   "cell_type": "code",
   "execution_count": null,
   "metadata": {
    "ExecuteTime": {
     "end_time": "2019-11-26T08:15:14.673556Z",
     "start_time": "2019-11-26T08:15:14.658564Z"
    }
   },
   "outputs": [],
   "source": [
    "drop_outside_threshold(df_fire,'amlr',-1,2.2)"
   ]
  },
  {
   "cell_type": "code",
   "execution_count": null,
   "metadata": {
    "ExecuteTime": {
     "end_time": "2019-11-26T08:15:16.311552Z",
     "start_time": "2019-11-26T08:15:15.886813Z"
    }
   },
   "outputs": [],
   "source": [
    "sns.boxplot(df_fire['amlr']);"
   ]
  },
  {
   "cell_type": "code",
   "execution_count": null,
   "metadata": {
    "ExecuteTime": {
     "end_time": "2019-11-26T08:15:17.515815Z",
     "start_time": "2019-11-26T08:15:17.452855Z"
    }
   },
   "outputs": [],
   "source": [
    "df_fire.describe()"
   ]
  },
  {
   "cell_type": "markdown",
   "metadata": {},
   "source": [
    "### amer"
   ]
  },
  {
   "cell_type": "code",
   "execution_count": null,
   "metadata": {
    "ExecuteTime": {
     "end_time": "2019-11-26T08:15:19.081857Z",
     "start_time": "2019-11-26T08:15:18.606147Z"
    }
   },
   "outputs": [],
   "source": [
    "sns.boxplot(df_fire['amer']);"
   ]
  },
  {
   "cell_type": "code",
   "execution_count": null,
   "metadata": {
    "ExecuteTime": {
     "end_time": "2019-11-26T08:15:35.751679Z",
     "start_time": "2019-11-26T08:15:35.731689Z"
    }
   },
   "outputs": [],
   "source": [
    "find_threshold_count(df_fire,'amer',0,5)"
   ]
  },
  {
   "cell_type": "code",
   "execution_count": null,
   "metadata": {
    "ExecuteTime": {
     "end_time": "2019-11-26T08:15:37.629780Z",
     "start_time": "2019-11-26T08:15:37.617789Z"
    }
   },
   "outputs": [],
   "source": [
    "drop_outside_threshold(df_fire,'amer',0,5)"
   ]
  },
  {
   "cell_type": "code",
   "execution_count": null,
   "metadata": {
    "ExecuteTime": {
     "end_time": "2019-11-26T08:15:39.374712Z",
     "start_time": "2019-11-26T08:15:38.955968Z"
    }
   },
   "outputs": [],
   "source": [
    "sns.boxplot(df_fire['amer']);"
   ]
  },
  {
   "cell_type": "code",
   "execution_count": null,
   "metadata": {
    "ExecuteTime": {
     "end_time": "2019-11-26T08:15:40.559984Z",
     "start_time": "2019-11-26T08:15:40.502020Z"
    }
   },
   "outputs": [],
   "source": [
    "df_fire.describe()"
   ]
  },
  {
   "cell_type": "markdown",
   "metadata": {},
   "source": [
    "### der"
   ]
  },
  {
   "cell_type": "code",
   "execution_count": null,
   "metadata": {
    "ExecuteTime": {
     "end_time": "2019-11-26T08:15:25.646835Z",
     "start_time": "2019-11-26T08:15:25.216097Z"
    }
   },
   "outputs": [],
   "source": [
    "sns.boxplot(df_fire['der']);"
   ]
  },
  {
   "cell_type": "code",
   "execution_count": null,
   "metadata": {
    "ExecuteTime": {
     "end_time": "2019-11-26T08:15:35.751679Z",
     "start_time": "2019-11-26T08:15:35.731689Z"
    }
   },
   "outputs": [],
   "source": [
    "find_threshold_count(df_fire,'der',-1,2)"
   ]
  },
  {
   "cell_type": "code",
   "execution_count": null,
   "metadata": {
    "ExecuteTime": {
     "end_time": "2019-11-26T08:15:37.629780Z",
     "start_time": "2019-11-26T08:15:37.617789Z"
    }
   },
   "outputs": [],
   "source": [
    "drop_outside_threshold(df_fire,'der',-1,2)"
   ]
  },
  {
   "cell_type": "code",
   "execution_count": null,
   "metadata": {
    "ExecuteTime": {
     "end_time": "2019-11-26T08:15:39.374712Z",
     "start_time": "2019-11-26T08:15:38.955968Z"
    }
   },
   "outputs": [],
   "source": [
    "sns.boxplot(df_fire['der']);"
   ]
  },
  {
   "cell_type": "code",
   "execution_count": null,
   "metadata": {
    "ExecuteTime": {
     "end_time": "2019-11-26T08:15:40.559984Z",
     "start_time": "2019-11-26T08:15:40.502020Z"
    }
   },
   "outputs": [],
   "source": [
    "df_fire.describe()"
   ]
  },
  {
   "cell_type": "markdown",
   "metadata": {},
   "source": [
    "### aoer"
   ]
  },
  {
   "cell_type": "code",
   "execution_count": null,
   "metadata": {
    "ExecuteTime": {
     "end_time": "2019-11-26T08:15:34.376771Z",
     "start_time": "2019-11-26T08:15:33.933041Z"
    }
   },
   "outputs": [],
   "source": [
    "sns.boxplot(df_fire['aoer']);"
   ]
  },
  {
   "cell_type": "code",
   "execution_count": null,
   "metadata": {
    "ExecuteTime": {
     "end_time": "2019-11-26T08:15:35.751679Z",
     "start_time": "2019-11-26T08:15:35.731689Z"
    }
   },
   "outputs": [],
   "source": [
    "find_threshold_count(df_fire,'aoer',0,0.2)"
   ]
  },
  {
   "cell_type": "code",
   "execution_count": null,
   "metadata": {
    "ExecuteTime": {
     "end_time": "2019-11-26T08:15:37.629780Z",
     "start_time": "2019-11-26T08:15:37.617789Z"
    }
   },
   "outputs": [],
   "source": [
    "drop_outside_threshold(df_fire,'aoer',0,0.2)"
   ]
  },
  {
   "cell_type": "code",
   "execution_count": null,
   "metadata": {
    "ExecuteTime": {
     "end_time": "2019-11-26T08:15:39.374712Z",
     "start_time": "2019-11-26T08:15:38.955968Z"
    }
   },
   "outputs": [],
   "source": [
    "sns.boxplot(df_fire['aoer']);"
   ]
  },
  {
   "cell_type": "code",
   "execution_count": null,
   "metadata": {
    "ExecuteTime": {
     "end_time": "2019-11-26T08:15:40.559984Z",
     "start_time": "2019-11-26T08:15:40.502020Z"
    }
   },
   "outputs": [],
   "source": [
    "df_fire.describe()"
   ]
  },
  {
   "cell_type": "markdown",
   "metadata": {},
   "source": [
    "## Re-run Regression Model"
   ]
  },
  {
   "cell_type": "markdown",
   "metadata": {},
   "source": [
    "### Prepare Data"
   ]
  },
  {
   "cell_type": "code",
   "execution_count": null,
   "metadata": {
    "ExecuteTime": {
     "end_time": "2019-11-29T04:17:25.202520Z",
     "start_time": "2019-11-29T04:17:25.194526Z"
    }
   },
   "outputs": [],
   "source": [
    "df_fire.shape"
   ]
  },
  {
   "cell_type": "code",
   "execution_count": null,
   "metadata": {
    "ExecuteTime": {
     "end_time": "2019-11-29T04:17:29.317000Z",
     "start_time": "2019-11-29T04:17:29.299011Z"
    },
    "cell_style": "center"
   },
   "outputs": [],
   "source": [
    "# df_fire\n",
    "features = [col for col in df_fire._get_numeric_data().columns if (col != 'auwgr') and (col != 'year')]\n",
    "X = df_fire[features]\n",
    "y = df_fire['auwgr']\n",
    "print(X.shape, y.shape)"
   ]
  },
  {
   "cell_type": "markdown",
   "metadata": {},
   "source": [
    "### Train/Test Split"
   ]
  },
  {
   "cell_type": "code",
   "execution_count": null,
   "metadata": {
    "ExecuteTime": {
     "end_time": "2019-11-29T04:17:33.190628Z",
     "start_time": "2019-11-29T04:17:33.170639Z"
    }
   },
   "outputs": [],
   "source": [
    "# split data into training and testing sets\n",
    "X_train, X_test, y_train, y_test = train_test_split(X, y, random_state=42)\n",
    "print(X_train.shape,X_test.shape,y_train.shape,y_test.shape)"
   ]
  },
  {
   "cell_type": "markdown",
   "metadata": {},
   "source": [
    "### Standard Scaler"
   ]
  },
  {
   "cell_type": "code",
   "execution_count": null,
   "metadata": {
    "ExecuteTime": {
     "end_time": "2019-11-29T04:17:37.125217Z",
     "start_time": "2019-11-29T04:17:37.094236Z"
    }
   },
   "outputs": [],
   "source": [
    "ss = StandardScaler()\n",
    "ss.fit(X_train)\n",
    "X_train_sc = ss.transform(X_train)\n",
    "X_test_sc = ss.transform(X_test)"
   ]
  },
  {
   "cell_type": "markdown",
   "metadata": {},
   "source": [
    "### Linear, Ridge, Lasso (with standard scaled data)"
   ]
  },
  {
   "cell_type": "code",
   "execution_count": null,
   "metadata": {
    "ExecuteTime": {
     "end_time": "2019-11-29T04:17:44.220868Z",
     "start_time": "2019-11-29T04:17:41.167740Z"
    }
   },
   "outputs": [],
   "source": [
    "# LINEAR REG - Instantiate and score using cross validation (3 folds)\n",
    "linreg = LinearRegression()\n",
    "print('\\nLINEAR REG cross-val mean score:')\n",
    "print('X-Val score MEAN using X_train\\t\\t',cross_val_score(linreg, X_train_sc, y_train,cv=3).mean())\n",
    "\n",
    "# RIDGE - Instantiate and score using cross validation (3 folds)\n",
    "ridge=RidgeCV(alphas=np.linspace(.1, 10, 100))\n",
    "print('\\nRIDGE cross-val mean score:')\n",
    "print('X-Val score MEAN using X_train\\t\\t',cross_val_score(ridge, X_train_sc, y_train,cv=3).mean())\n",
    "\n",
    "# LASSO - Instantiate and score using cross validation (3 folds)\n",
    "lasso = LassoCV(n_alphas=200,cv=3)\n",
    "print('\\nLASSO cross-val mean score:')\n",
    "print('X-Val score MEAN using X_train\\t\\t',cross_val_score(lasso, X_train_sc, y_train,cv=3).mean())"
   ]
  },
  {
   "cell_type": "markdown",
   "metadata": {},
   "source": [
    "### Power Transformer"
   ]
  },
  {
   "cell_type": "code",
   "execution_count": null,
   "metadata": {
    "ExecuteTime": {
     "end_time": "2019-11-29T04:17:50.317133Z",
     "start_time": "2019-11-29T04:17:49.634553Z"
    }
   },
   "outputs": [],
   "source": [
    "pt_x = PowerTransformer() # transform X\n",
    "pt_x.fit(X_train)\n",
    "X_train_pt = pt_x.transform(X_train)\n",
    "X_test_pt = pt_x.transform(X_test)\n",
    "\n",
    "pt_y = PowerTransformer() # transform Y\n",
    "# PowerTransformer requires a matrix/DataFrame, so we use .to_frame() method on y_train\n",
    "# subsequently we use .ravel() to flatten it into an array (which is required for cross_val later)\n",
    "pt_y.fit(y_train.to_frame())\n",
    "y_train_pt = pt_y.transform(y_train.to_frame()).ravel()\n",
    "y_test_pt = pt_y.transform(y_test.to_frame()).ravel()"
   ]
  },
  {
   "cell_type": "markdown",
   "metadata": {},
   "source": [
    "### Linear, Ridge Lasso (with power transformed data)"
   ]
  },
  {
   "cell_type": "code",
   "execution_count": null,
   "metadata": {
    "ExecuteTime": {
     "end_time": "2019-11-29T04:17:57.219904Z",
     "start_time": "2019-11-29T04:17:54.267712Z"
    },
    "scrolled": true
   },
   "outputs": [],
   "source": [
    "# LINEAR REG - Instantiate and score using cross validation (3 folds)\n",
    "linreg = LinearRegression()\n",
    "print('\\nLINEAR REG cross-val mean score:')\n",
    "print('X-Val score MEAN using X_train\\t\\t',cross_val_score(linreg, X_train_pt, y_train_pt,cv=3).mean())\n",
    "\n",
    "# RIDGE - Instantiate and score using cross validation (3 folds)\n",
    "ridge=RidgeCV(alphas=np.linspace(.1, 10, 100))\n",
    "print('\\nRIDGE cross-val mean score:')\n",
    "print('X-Val score MEAN using X_train\\t\\t',cross_val_score(ridge, X_train_pt, y_train_pt,cv=3).mean())\n",
    "\n",
    "# LASSO - Instantiate and score using cross validation (3 folds)\n",
    "lasso = LassoCV(n_alphas=200,cv=3)\n",
    "print('\\nLASSO cross-val mean score:')\n",
    "print('X-Val score MEAN using X_train\\t\\t',cross_val_score(lasso, X_train_pt, y_train_pt,cv=3).mean())"
   ]
  },
  {
   "cell_type": "code",
   "execution_count": null,
   "metadata": {
    "ExecuteTime": {
     "end_time": "2019-11-26T08:16:12.354174Z",
     "start_time": "2019-11-26T08:16:09.880688Z"
    }
   },
   "outputs": [],
   "source": [
    "sns.pairplot(df_fire, x_vars=['lkpp', 'amlr', 'amer', 'der', 'aoer'], y_vars=['auwgr'])"
   ]
  },
  {
   "cell_type": "markdown",
   "metadata": {},
   "source": [
    "## Decision Tree Regressor"
   ]
  },
  {
   "cell_type": "markdown",
   "metadata": {},
   "source": [
    "### Initial Hyperparameters"
   ]
  },
  {
   "cell_type": "code",
   "execution_count": null,
   "metadata": {
    "ExecuteTime": {
     "end_time": "2019-11-29T04:18:06.168423Z",
     "start_time": "2019-11-29T04:18:05.422878Z"
    }
   },
   "outputs": [],
   "source": [
    "dtreg = DecisionTreeRegressor()\n",
    "dtreg.fit(X_train,y_train) # Use un-scaled data\n",
    "# Evaluate model.\n",
    "print(dtreg.score(X_train,y_train))\n",
    "print(dtreg.score(X_test,y_test))"
   ]
  },
  {
   "cell_type": "markdown",
   "metadata": {},
   "source": [
    "### GridSearchCV"
   ]
  },
  {
   "cell_type": "code",
   "execution_count": null,
   "metadata": {
    "ExecuteTime": {
     "end_time": "2019-11-29T04:18:19.137954Z",
     "start_time": "2019-11-29T04:18:19.132956Z"
    }
   },
   "outputs": [],
   "source": [
    "param_grid = [{'max_depth':range(2,1000),\n",
    "               'min_samples_split':range(2,21)\n",
    "              }]"
   ]
  },
  {
   "cell_type": "code",
   "execution_count": null,
   "metadata": {
    "ExecuteTime": {
     "end_time": "2019-11-29T06:50:07.604673Z",
     "start_time": "2019-11-29T04:18:22.314276Z"
    }
   },
   "outputs": [],
   "source": [
    "reg = GridSearchCV(DecisionTreeRegressor(), param_grid, cv=5)\n",
    "reg.fit(X_train, y_train)\n",
    "reg.best_params_"
   ]
  },
  {
   "cell_type": "markdown",
   "metadata": {},
   "source": [
    "### Results"
   ]
  },
  {
   "cell_type": "code",
   "execution_count": null,
   "metadata": {
    "ExecuteTime": {
     "end_time": "2019-11-26T08:44:56.214014Z",
     "start_time": "2019-11-26T08:44:56.193026Z"
    }
   },
   "outputs": [],
   "source": [
    "dtreg = DecisionTreeRegressor(max_depth=2, min_samples_split=15)\n",
    "dtreg.fit(X_train,y_train) # Use un-scaled data\n",
    "# Evaluate model.\n",
    "print(dtreg.score(X_train,y_train))\n",
    "print(dtreg.score(X_test,y_test))"
   ]
  },
  {
   "cell_type": "markdown",
   "metadata": {},
   "source": [
    "########## **Poor score, can't use this** ###########"
   ]
  },
  {
   "cell_type": "markdown",
   "metadata": {},
   "source": [
    "## Random Forest Regressor"
   ]
  },
  {
   "cell_type": "markdown",
   "metadata": {},
   "source": [
    "### Initial Hyperparameters"
   ]
  },
  {
   "cell_type": "code",
   "execution_count": null,
   "metadata": {
    "ExecuteTime": {
     "end_time": "2019-11-26T09:15:53.866005Z",
     "start_time": "2019-11-26T09:15:53.736084Z"
    }
   },
   "outputs": [],
   "source": [
    "rfreg = RandomForestRegressor(n_estimators=10) # default no. of trees ('n_estimators') = 10\n",
    "rfreg.fit(X_train,y_train) # Use un-scaled data\n",
    "# Evaluate model\n",
    "print(rfreg.score(X_train,y_train))\n",
    "print(rfreg.score(X_test,y_test))"
   ]
  },
  {
   "cell_type": "markdown",
   "metadata": {},
   "source": [
    "### GridSearchCV"
   ]
  },
  {
   "cell_type": "code",
   "execution_count": null,
   "metadata": {
    "ExecuteTime": {
     "end_time": "2019-11-26T14:48:27.015110Z",
     "start_time": "2019-11-26T13:25:11.716273Z"
    }
   },
   "outputs": [],
   "source": [
    "param_grid = [{'n_estimators':[50,100,200],\n",
    "               'max_depth':range(2,50),\n",
    "               'min_samples_split':range(2,20),\n",
    "               'oob_score':[True]\n",
    "              }]\n",
    "\n",
    "reg = GridSearchCV(RandomForestRegressor(), param_grid, cv=5)\n",
    "reg.fit(X_train, y_train)\n",
    "reg.best_params_"
   ]
  },
  {
   "cell_type": "markdown",
   "metadata": {},
   "source": [
    "### Results"
   ]
  },
  {
   "cell_type": "code",
   "execution_count": null,
   "metadata": {
    "ExecuteTime": {
     "end_time": "2019-11-26T22:37:45.545272Z",
     "start_time": "2019-11-26T22:37:45.232463Z"
    }
   },
   "outputs": [],
   "source": [
    "rfreg = RandomForestRegressor(n_estimators=100,max_depth=2,min_samples_split=10,oob_score=True)\n",
    "rfreg.fit(X_train,y_train) # Use un-scaled data\n",
    "# Evaluate model\n",
    "print(rfreg.score(X_train,y_train))\n",
    "print(rfreg.score(X_test,y_test))"
   ]
  },
  {
   "cell_type": "markdown",
   "metadata": {},
   "source": [
    "########## **Poor score, can't use this** ###########"
   ]
  },
  {
   "cell_type": "markdown",
   "metadata": {},
   "source": [
    "## Extra Trees Regressor"
   ]
  },
  {
   "cell_type": "markdown",
   "metadata": {},
   "source": [
    "### Initial Hyperparameters"
   ]
  },
  {
   "cell_type": "code",
   "execution_count": null,
   "metadata": {
    "ExecuteTime": {
     "end_time": "2019-11-27T00:19:18.215926Z",
     "start_time": "2019-11-27T00:19:17.715233Z"
    }
   },
   "outputs": [],
   "source": [
    "etreg = ExtraTreesRegressor(bootstrap=True,oob_score=True,warm_start=False,n_estimators=100)\n",
    "etreg.fit(X_train,y_train) # Use un-scaled data\n",
    "# Evaluate model\n",
    "print(etreg.score(X_train,y_train))\n",
    "print(etreg.score(X_test,y_test))"
   ]
  },
  {
   "cell_type": "markdown",
   "metadata": {},
   "source": [
    "### GridSearchCV"
   ]
  },
  {
   "cell_type": "code",
   "execution_count": null,
   "metadata": {
    "ExecuteTime": {
     "end_time": "2019-11-27T06:34:33.617911Z",
     "start_time": "2019-11-27T04:39:13.532369Z"
    }
   },
   "outputs": [],
   "source": [
    "param_grid = [{'n_estimators':[100,200,300],\n",
    "               'max_depth':range(2,50),\n",
    "               'min_samples_split':range(2,20),\n",
    "               'oob_score':[True],\n",
    "               'bootstrap':[True]\n",
    "              }]\n",
    "\n",
    "reg = GridSearchCV(ExtraTreesRegressor(), param_grid, cv=5)\n",
    "reg.fit(X_train, y_train)\n",
    "reg.best_params_"
   ]
  },
  {
   "cell_type": "markdown",
   "metadata": {},
   "source": [
    "### Results"
   ]
  },
  {
   "cell_type": "code",
   "execution_count": null,
   "metadata": {
    "ExecuteTime": {
     "end_time": "2019-11-27T06:40:05.107704Z",
     "start_time": "2019-11-27T06:40:04.697956Z"
    }
   },
   "outputs": [],
   "source": [
    "etreg = ExtraTreesRegressor(bootstrap=True,max_depth=23,min_samples_split=14,n_estimators=100,oob_score=True)\n",
    "etreg.fit(X_train,y_train) # Use un-scaled data\n",
    "# Evaluate model\n",
    "print(etreg.score(X_train,y_train))\n",
    "print(etreg.score(X_test,y_test))"
   ]
  },
  {
   "cell_type": "markdown",
   "metadata": {},
   "source": [
    "## Ada Boost Regressor"
   ]
  },
  {
   "cell_type": "markdown",
   "metadata": {},
   "source": [
    "### Initial Hyperparameters"
   ]
  },
  {
   "cell_type": "markdown",
   "metadata": {},
   "source": [
    "### GridSearchCV"
   ]
  },
  {
   "cell_type": "markdown",
   "metadata": {},
   "source": [
    "### Results"
   ]
  },
  {
   "cell_type": "markdown",
   "metadata": {},
   "source": [
    "## Gradient Boost Regressor"
   ]
  },
  {
   "cell_type": "markdown",
   "metadata": {},
   "source": [
    "### Initial Hyperparameters"
   ]
  },
  {
   "cell_type": "markdown",
   "metadata": {},
   "source": [
    "Consider using the following loss functions (more robust to outliers) instead of MSE<br>\n",
    "- Absolute Loss\n",
    "- Huber Loss"
   ]
  },
  {
   "cell_type": "markdown",
   "metadata": {},
   "source": [
    "### GridSearchCV"
   ]
  },
  {
   "cell_type": "markdown",
   "metadata": {},
   "source": [
    "### Results"
   ]
  },
  {
   "cell_type": "code",
   "execution_count": null,
   "metadata": {},
   "outputs": [],
   "source": []
  },
  {
   "cell_type": "markdown",
   "metadata": {},
   "source": [
    "## Model with PCA"
   ]
  },
  {
   "cell_type": "code",
   "execution_count": null,
   "metadata": {},
   "outputs": [],
   "source": []
  }
 ],
 "metadata": {
  "kernelspec": {
   "display_name": "Python 3",
   "language": "python",
   "name": "python3"
  },
  "language_info": {
   "codemirror_mode": {
    "name": "ipython",
    "version": 3
   },
   "file_extension": ".py",
   "mimetype": "text/x-python",
   "name": "python",
   "nbconvert_exporter": "python",
   "pygments_lexer": "ipython3",
   "version": "3.7.3"
  },
  "toc": {
   "base_numbering": 1,
   "nav_menu": {},
   "number_sections": true,
   "sideBar": true,
   "skip_h1_title": false,
   "title_cell": "Table of Contents",
   "title_sidebar": "Contents",
   "toc_cell": false,
   "toc_position": {
    "height": "calc(100% - 180px)",
    "left": "10px",
    "top": "150px",
    "width": "264px"
   },
   "toc_section_display": true,
   "toc_window_display": true
  },
  "varInspector": {
   "cols": {
    "lenName": 16,
    "lenType": 16,
    "lenVar": 40
   },
   "kernels_config": {
    "python": {
     "delete_cmd_postfix": "",
     "delete_cmd_prefix": "del ",
     "library": "var_list.py",
     "varRefreshCmd": "print(var_dic_list())"
    },
    "r": {
     "delete_cmd_postfix": ") ",
     "delete_cmd_prefix": "rm(",
     "library": "var_list.r",
     "varRefreshCmd": "cat(var_dic_list()) "
    }
   },
   "oldHeight": 390,
   "position": {
    "height": "40px",
    "left": "658px",
    "right": "20px",
    "top": "8px",
    "width": "580px"
   },
   "types_to_exclude": [
    "module",
    "function",
    "builtin_function_or_method",
    "instance",
    "_Feature"
   ],
   "varInspector_section_display": "none",
   "window_display": true
  }
 },
 "nbformat": 4,
 "nbformat_minor": 2
}
