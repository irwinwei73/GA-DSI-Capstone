{
 "cells": [
  {
   "cell_type": "code",
   "execution_count": null,
   "metadata": {},
   "outputs": [],
   "source": [
    "import pandas as pd\n",
    "import seaborn as sns\n",
    "import matplotlib.pyplot as plt\n",
    "%matplotlib inline\n",
    "%config IPCompleter.greedy=True\n",
    "df = pd.read_csv('../data/master.csv') # master dataset\n",
    "df_company = pd.read_csv('../data/company.csv') # list of companies, prefixes and code\n",
    "sns.set(style='darkgrid')\n",
    "pd.options.display.max_columns = 999"
   ]
  },
  {
   "cell_type": "code",
   "execution_count": null,
   "metadata": {},
   "outputs": [],
   "source": [
    "# strip spaces for all fields\n",
    "df_company['code'] = [i.strip() for i in df_company['code']]\n",
    "df_company['prefix'] = [i.strip() for i in df_company['prefix']]\n",
    "df_company['name'] = [i.strip() for i in df_company['name']]"
   ]
  },
  {
   "cell_type": "markdown",
   "metadata": {},
   "source": [
    "##### Drop 'index' column"
   ]
  },
  {
   "cell_type": "code",
   "execution_count": null,
   "metadata": {},
   "outputs": [],
   "source": [
    "df.drop(columns='index',inplace=True)"
   ]
  },
  {
   "cell_type": "markdown",
   "metadata": {},
   "source": [
    "##### Exclude rows where there is no activity - use \"prem_liab_begin\" AND \"prem_liab_end\"  as the determinants for inactivity"
   ]
  },
  {
   "cell_type": "code",
   "execution_count": null,
   "metadata": {},
   "outputs": [],
   "source": [
    "df = df[(df['prem_liab_begin']!=0) & (df['prem_liab_end']!=0)]"
   ]
  },
  {
   "cell_type": "markdown",
   "metadata": {},
   "source": [
    "##### Keep only those rows where column 'class' != 'total'  AND  column 'class' != 'misc_total'"
   ]
  },
  {
   "cell_type": "code",
   "execution_count": null,
   "metadata": {},
   "outputs": [],
   "source": [
    "df = df[(df['class']!='total') & (df['class']!='misc_total')]"
   ]
  },
  {
   "cell_type": "markdown",
   "metadata": {},
   "source": [
    "### Set 'year' as the index"
   ]
  },
  {
   "cell_type": "code",
   "execution_count": null,
   "metadata": {},
   "outputs": [],
   "source": [
    "# do not drop the 'year' column yet - will need it later\n",
    "# will drop later when no longer required\n",
    "df.set_index('year',inplace=True, drop=False)"
   ]
  },
  {
   "cell_type": "markdown",
   "metadata": {},
   "source": [
    "### Add columns for Policy Liability (period begin, period end, difference i.e. end-begin)"
   ]
  },
  {
   "cell_type": "code",
   "execution_count": null,
   "metadata": {},
   "outputs": [],
   "source": [
    "# insert additional columns:\n",
    "# df['policy_liab_begin'] : policy liability at the beginning of the valuation period\n",
    "# df['policy_liab_end'] : policy liability at the end of the valuation period\n",
    "# df['policy_liab_diff'] : policy liability difference (delta) over the course of the valuation period\n",
    "# refer to MAS Guideline ID 1/04 regarding definition of Policy Liability\n",
    "df['policy_liab_begin'] = df['prem_liab_begin'] + df['claim_liab_begin']\n",
    "df['policy_liab_end'] = df['prem_liab_end'] + df['claim_liab_end']\n",
    "df['policy_liab_diff'] = df['policy_liab_end'] - df['policy_liab_begin']"
   ]
  },
  {
   "cell_type": "code",
   "execution_count": null,
   "metadata": {},
   "outputs": [],
   "source": [
    "# check if there exists any cases where at least one of the following is 0\n",
    "# prem_liab_begin / prem_liab_end / policy_liab_begin / policy_liab_end\n",
    "df[(df['prem_liab_begin']==0)|(df['prem_liab_end']==0)|\n",
    "   (df['policy_liab_begin']==0)|(df['policy_liab_end']==0)].sum().any()"
   ]
  },
  {
   "cell_type": "markdown",
   "metadata": {},
   "source": [
    "# Feature Engineering"
   ]
  },
  {
   "cell_type": "markdown",
   "metadata": {},
   "source": [
    "### Generate the Target:\n",
    "AUWGR(t) = UWG(t)  /  PL_end(t) <=== Approx. Underwriting Gain Rate\n",
    "### Generate the Features:\n",
    "(1) AUWR(t) = NPW(t)  /  PL_end(t)          <=== Approx. Underwriting Rate<br>\n",
    "(2) AMLR(t) = ( ewm[CSN(t)] + ewm[CL(t)] )   /  ewm[NPW(t-1)]          <=== Approx. Mean Loss Rate<br>\n",
    "(3) AMMER(t) = ewm[ME(t)]   /  ewm[NPW(t-1)]          <=== Approx. Mean Management Expense Rate<br>\n",
    "(4) AMDER(t) = ewm[DE(t)]   /   ewm[NPW(t-1)]          <=== Approx. Mean Distribution Expense Rate<br>\n",
    "(5) AMOER(t) = ewm[OE(t)]   /  ewm[NPW(t-1)]          <=== Approx. Mean Other Expense Rate<br>"
   ]
  },
  {
   "cell_type": "code",
   "execution_count": null,
   "metadata": {},
   "outputs": [],
   "source": [
    "# AUWGR(t) = NPW(t) / PL_end(t)\n",
    "df['auwgr'] = df['uw_gain'] / df['prem_liab_end']"
   ]
  },
  {
   "cell_type": "code",
   "execution_count": null,
   "metadata": {},
   "outputs": [],
   "source": [
    "# AUWR(t) = NPW(t) / PL_end(t)\n",
    "df['auwr'] = df['prem_write_net'] / df['prem_liab_end']"
   ]
  },
  {
   "cell_type": "code",
   "execution_count": null,
   "metadata": {},
   "outputs": [],
   "source": [
    "df.shape"
   ]
  },
  {
   "cell_type": "code",
   "execution_count": null,
   "metadata": {},
   "outputs": [],
   "source": [
    "df[df['auwr']<0].count().head(1)"
   ]
  },
  {
   "cell_type": "markdown",
   "metadata": {},
   "source": [
    "### NOTE: there are 137 cases where AUWR < 0. Check these."
   ]
  },
  {
   "cell_type": "code",
   "execution_count": null,
   "metadata": {},
   "outputs": [],
   "source": [
    "# Investigation into 137 cases where AUWR < 0\n",
    "df[df['auwr']<0][['company','class','prem_liab_begin','prem_liab_end','prem_write_net']].to_csv('../data/auwr_negative.csv',index=False)"
   ]
  },
  {
   "cell_type": "markdown",
   "metadata": {},
   "source": [
    "For the 137 cases where AUWR < 0 (as above):\n",
    "- In 130 cases, Net Premium Written was Negative while Premium Liability (End of period) was Positive.<br>\n",
    "- In 7  cases , Net Premium Written was Positive while Premium Liability (End of period) was Negative."
   ]
  },
  {
   "cell_type": "code",
   "execution_count": null,
   "metadata": {},
   "outputs": [],
   "source": [
    "df_temp_next = df[(df['company']=='c027') & (df['class']=='pub_lia')]\n",
    "df_temp_next.shape[0]"
   ]
  },
  {
   "cell_type": "markdown",
   "metadata": {},
   "source": [
    " "
   ]
  },
  {
   "cell_type": "markdown",
   "metadata": {},
   "source": [
    "### GENERATE Exponentially Weighted Means for  <sp><sp><sp> *prem_write_net( t-1 )*"
   ]
  },
  {
   "cell_type": "code",
   "execution_count": null,
   "metadata": {},
   "outputs": [],
   "source": [
    "company_list = list(df['company'].value_counts().index.values)\n",
    "print(len(company_list))"
   ]
  },
  {
   "cell_type": "code",
   "execution_count": null,
   "metadata": {},
   "outputs": [],
   "source": [
    "# Exponentially Weighted Mean - global setting for span\n",
    "ewm_span = 5"
   ]
  },
  {
   "cell_type": "code",
   "execution_count": null,
   "metadata": {},
   "outputs": [],
   "source": [
    "# The following code will loop through each company\n",
    "# For each company, it will loop through each class of insurance sold by that company\n",
    "# A new column 'prem_write_net_lag1' will be assigned the delayed (1 time period) value of 'prem_write_net'\n",
    "# The 1st value of 'prem_write_net_lag1' will thus by NaN. Impute mean(prem_write_net_lag1) here.\n",
    "# Other relevant columns will be created too.\n",
    "\n",
    "# create an empty dataframe of the same structure as df\n",
    "df_temp = pd.DataFrame(columns = df.columns.values)\n",
    "# add column\n",
    "df_temp['prem_write_net_lag1'] = ''\n",
    "df_temp['ewm_prem_write_net_lag1'] = ''\n",
    "df_temp['ewm_claim_set_net'] = ''\n",
    "df_temp['ewm_claim_liab_end'] = ''\n",
    "df_temp['ewm_exp_management'] = ''\n",
    "df_temp['ewm_exp_comm_incur_net'] = ''\n",
    "df_temp['ewm_exp_other'] = ''\n",
    "\n",
    "for company in company_list:\n",
    "    # retrieve insurance classes sold by that company\n",
    "    ins_class_list = list(df[df['company']==company]['class'].value_counts().index.values)\n",
    "    # loop through each insurance class sold by that company\n",
    "    for ins_class in ins_class_list:\n",
    "        # create df_temp_next to be the filtered subset (company, ins_class) of df\n",
    "        df_temp_next = df[(df['company']==company) & (df['class']==ins_class)]\n",
    "        # assign new column \n",
    "        df_temp_next['prem_write_net_lag1'] = df_temp_next['prem_write_net'].shift(1)\n",
    "        \n",
    "        # for the row where 'prem_write_net_lag1' = NaN, impute ==> mean(prem_write_net_lag1)\n",
    "        idx = df_temp_next[df_temp_next['prem_write_net_lag1'].isna()].index.values[0]\n",
    "        df_temp_next.loc[idx,'prem_write_net_lag1'] = df_temp_next['prem_write_net_lag1'].mean(skipna=True)\n",
    "        \n",
    "        # compute relevant Exponentially Weighted Means (EWM with ewm_span)\n",
    "        df_temp_next['ewm_prem_write_net_lag1'] = df_temp_next['prem_write_net_lag1'].ewm(span=ewm_span).mean()\n",
    "        df_temp_next['ewm_claim_set_net'] = df_temp_next['claim_set_net'].ewm(span=ewm_span).mean()\n",
    "        df_temp_next['ewm_claim_liab_end'] = df_temp_next['claim_liab_end'].ewm(span=ewm_span).mean()\n",
    "        df_temp_next['ewm_exp_management'] = df_temp_next['exp_management'].ewm(span=ewm_span).mean()\n",
    "        df_temp_next['ewm_exp_comm_incur_net'] = df_temp_next['exp_comm_incur_net'].ewm(span=ewm_span).mean()\n",
    "        df_temp_next['ewm_exp_other'] = df_temp_next['exp_other'].ewm(span=ewm_span).mean()\n",
    "        \n",
    "        # concatenate df_temp_next to df_temp\n",
    "        df_temp = pd.concat([df_temp, df_temp_next],ignore_index=True)\n",
    "\n",
    "# after looping all company, ins_class, df_temp is completed\n",
    "# assign df as a copy of df_temp (make a copy, in case we make changes to df_temp later)\n",
    "df = df_temp.copy()"
   ]
  },
  {
   "cell_type": "code",
   "execution_count": null,
   "metadata": {},
   "outputs": [],
   "source": [
    "# generate remaining relevant ratios\n",
    "df['amlr'] = (df['ewm_claim_set_net'] + df['ewm_claim_liab_end']) / df['ewm_prem_write_net_lag1']\n",
    "df['ammer'] = df['ewm_exp_management'] / df['ewm_prem_write_net_lag1']\n",
    "df['amder'] = df['ewm_exp_comm_incur_net'] / df['ewm_prem_write_net_lag1']\n",
    "df['amoer'] = df['ewm_exp_other'] / df['ewm_prem_write_net_lag1']"
   ]
  },
  {
   "cell_type": "code",
   "execution_count": null,
   "metadata": {},
   "outputs": [],
   "source": [
    "df.shape"
   ]
  },
  {
   "cell_type": "markdown",
   "metadata": {},
   "source": [
    "### Fudge factor: for 'amoer' column where value is 0.0, update this to 0.01 (non-zero) so that regression models have a non-zero value to work with."
   ]
  },
  {
   "cell_type": "code",
   "execution_count": null,
   "metadata": {},
   "outputs": [],
   "source": [
    "df['amoer'] = [i if i > 0.0 else 0.0001 for i in df['amoer']]"
   ]
  },
  {
   "cell_type": "code",
   "execution_count": null,
   "metadata": {},
   "outputs": [],
   "source": [
    "# sample check\n",
    "df[(df['company']=='c015') & (df['class']=='cnstr_engr')]"
   ]
  },
  {
   "cell_type": "code",
   "execution_count": null,
   "metadata": {},
   "outputs": [],
   "source": [
    "df.dtypes.values"
   ]
  },
  {
   "cell_type": "code",
   "execution_count": null,
   "metadata": {},
   "outputs": [],
   "source": [
    "# change all fields (except 'class' and 'company') to numeric\n",
    "columns_to_convert = list(df.columns.values)\n",
    "columns_to_convert.pop(0) # remove 'year'\n",
    "columns_to_convert.pop(0) # remove 'company'\n",
    "columns_to_convert.pop(0) # remove 'class'\n",
    "\n",
    "for col in columns_to_convert:\n",
    "    df[col] = pd.to_numeric(df[col])"
   ]
  },
  {
   "cell_type": "code",
   "execution_count": null,
   "metadata": {},
   "outputs": [],
   "source": [
    "df.dtypes.values"
   ]
  },
  {
   "cell_type": "code",
   "execution_count": null,
   "metadata": {},
   "outputs": [],
   "source": [
    "df.describe()"
   ]
  },
  {
   "cell_type": "code",
   "execution_count": null,
   "metadata": {},
   "outputs": [],
   "source": [
    "df[df['prem_write_net_lag1'].isna()].count().head(1)"
   ]
  },
  {
   "cell_type": "markdown",
   "metadata": {},
   "source": [
    "# !!!!!!! need to invstigate NaN and infinity values"
   ]
  },
  {
   "cell_type": "markdown",
   "metadata": {},
   "source": [
    "### Set 'year' as index, and drop 'year' column"
   ]
  },
  {
   "cell_type": "code",
   "execution_count": null,
   "metadata": {},
   "outputs": [],
   "source": [
    "df.set_index('year',drop=True,inplace=True)"
   ]
  },
  {
   "cell_type": "code",
   "execution_count": null,
   "metadata": {},
   "outputs": [],
   "source": [
    "df.head()"
   ]
  },
  {
   "cell_type": "markdown",
   "metadata": {},
   "source": [
    "### Shrink table: drop columns that will not be used for modelling"
   ]
  },
  {
   "cell_type": "code",
   "execution_count": null,
   "metadata": {},
   "outputs": [],
   "source": [
    "# generate df_model, which is a subset of df\n",
    "# df_model = df[['company','class','uw_gain','auwgr',\n",
    "#                'auwr','amlr','ammer','amder','amoer',\n",
    "#                'ewm_prem_write_net_lag1','ewm_claim_set_net','ewm_claim_liab_end',\n",
    "#                'ewm_exp_management','ewm_exp_comm_incur_net','ewm_exp_other']]\n",
    "\n",
    "df_model = df[['company','class','auwgr','auwr','amlr','ammer','amder','amoer']]\n",
    "df_model.shape"
   ]
  },
  {
   "cell_type": "code",
   "execution_count": null,
   "metadata": {},
   "outputs": [],
   "source": [
    "df_model.head()"
   ]
  },
  {
   "cell_type": "code",
   "execution_count": null,
   "metadata": {},
   "outputs": [],
   "source": [
    "df_model.describe()"
   ]
  },
  {
   "cell_type": "markdown",
   "metadata": {},
   "source": [
    " "
   ]
  },
  {
   "cell_type": "markdown",
   "metadata": {},
   "source": [
    "# <<<<<< No more changes to DataFrame from this point ... >>>>>>"
   ]
  },
  {
   "cell_type": "code",
   "execution_count": null,
   "metadata": {},
   "outputs": [],
   "source": [
    "# define insurance class dictionary\n",
    "ins_class_dict = {'mac':'Marine and Aviation Cargo',\n",
    "                  'mahl':'Marine and Aviation Hull and Liability',\n",
    "                  'fire':'Fire',\n",
    "                  'motor':'Motor',\n",
    "                  'wic':'Work Injury Compensation',\n",
    "                  'pa':'Personal Accident',\n",
    "                  'health':'Health',\n",
    "                  'pub_lia':'Public Liability',\n",
    "                  'bonds':'Bonds',\n",
    "                  'cnstr_engr':'Engineering/CAR/EAR',\n",
    "                  'prof_indm':'Professional Indemnity',\n",
    "                  'cpr':'Credit/Political Risk',\n",
    "                  'others':'Others'}"
   ]
  },
  {
   "cell_type": "markdown",
   "metadata": {},
   "source": [
    "# EDA"
   ]
  },
  {
   "cell_type": "markdown",
   "metadata": {},
   "source": [
    "### Check the number of Active Insurers each year since 2005 (no records before that)"
   ]
  },
  {
   "cell_type": "code",
   "execution_count": null,
   "metadata": {},
   "outputs": [],
   "source": [
    "ins_class = 'wic'\n",
    "year = 2018\n",
    "df[df['year']==year]['company'].nunique()\n",
    "\n",
    "\n",
    "# df[df['year']==year].describe()[['prem_write_net','policy_liab_end',\n",
    "#                                                               'claim_set_net','claim_liab_end']].head(1)\n",
    "# df[(df['year']==year) & (df['class']==ins_class)].describe()[['prem_write_net','policy_liab_end',\n",
    "#                                                               'claim_set_net','claim_liab_end']].head(1)"
   ]
  },
  {
   "cell_type": "markdown",
   "metadata": {},
   "source": [
    "==> **XX (20yy) - XX (20yy,20yy)** active insurers per year"
   ]
  },
  {
   "cell_type": "markdown",
   "metadata": {},
   "source": [
    "### How many cases of Negative U/W gains?"
   ]
  },
  {
   "cell_type": "code",
   "execution_count": null,
   "metadata": {},
   "outputs": [],
   "source": [
    "# across entire dataset\n",
    "df[df['uw_gain']<0].describe()[['uw_gain']].head(1)"
   ]
  },
  {
   "cell_type": "markdown",
   "metadata": {},
   "source": [
    "**==> In the dataset, there are 3,275 instances of negative U/W gains**"
   ]
  },
  {
   "cell_type": "code",
   "execution_count": null,
   "metadata": {},
   "outputs": [],
   "source": [
    "# filter out those records where uw_gain < 0\n",
    "df_neg_uwg = df[df['uw_gain']<0]\n",
    "df_neg_uwg.shape"
   ]
  },
  {
   "cell_type": "code",
   "execution_count": null,
   "metadata": {},
   "outputs": [],
   "source": [
    "# crosstab of no. of cases, by year/class, whereby uw_gain < 0\n",
    "pd.crosstab(df_neg_uwg['class'], df_neg_uwg['year'])"
   ]
  },
  {
   "cell_type": "code",
   "execution_count": null,
   "metadata": {},
   "outputs": [],
   "source": [
    "# crosstab based on percentages of cases with negative U/W gains\n",
    "x"
   ]
  },
  {
   "cell_type": "code",
   "execution_count": null,
   "metadata": {},
   "outputs": [],
   "source": []
  },
  {
   "cell_type": "markdown",
   "metadata": {},
   "source": [
    "# Histograms"
   ]
  },
  {
   "cell_type": "code",
   "execution_count": null,
   "metadata": {},
   "outputs": [],
   "source": [
    "plt.figure(figsize=(10,5))\n",
    "ins_class = 'motor'\n",
    "year = 2010\n",
    "\n",
    "# x = df['prem_write_net']\n",
    "x = df[(df['year']==year) & (df['prem_write_net'] > 10000000)]['prem_write_net']\n",
    "# x = df[(df['class']==ins_class) & (df['year']==year)]['prem_write_net']\n",
    "# x = df[(df['class']==ins_class)]['prem_write_net']\n",
    "plt.hist(x,align='mid')"
   ]
  },
  {
   "cell_type": "markdown",
   "metadata": {},
   "source": [
    "# Line Plots"
   ]
  },
  {
   "cell_type": "markdown",
   "metadata": {},
   "source": [
    "### Set Class & Company"
   ]
  },
  {
   "cell_type": "code",
   "execution_count": null,
   "metadata": {},
   "outputs": [],
   "source": [
    "ins_class = 'motor'\n",
    "company = 'c006'\n",
    "company_name = df_company[df_company['prefix']==company]['name'].values[0]"
   ]
  },
  {
   "cell_type": "markdown",
   "metadata": {},
   "source": [
    "##### Primary metrics"
   ]
  },
  {
   "cell_type": "code",
   "execution_count": null,
   "metadata": {},
   "outputs": [],
   "source": [
    "plt.figure(figsize=(14,7.5))\n",
    "x = df[(df['class']==ins_class) & (df['company']==company)]['year']\n",
    "\n",
    "y = df[(df['class']==ins_class) & (df['company']==company)]['prem_write_net']/1000\n",
    "plt.plot(x,y,label='Net Premiums Written', color='blue',alpha=0.6, marker='o')\n",
    "\n",
    "y = df[(df['class']==ins_class) & (df['company']==company)]['policy_liab_end']/1000\n",
    "plt.plot(x,y,label='Policy Liability at end of period', color='darkgreen',alpha=0.6)\n",
    "\n",
    "y = df[(df['class']==ins_class) & (df['company']==company)]['policy_liab_begin']/1000\n",
    "plt.plot(x,y,label='Policy Liability at beginning of period', color='lightgreen',alpha=1.0)\n",
    "\n",
    "y = df[(df['class']==ins_class) & (df['company']==company)]['policy_liab_diff']/1000\n",
    "plt.plot(x,y,label='Policy Liability Difference (end - beginning)', color='grey',alpha=0.7,linestyle='dashed', marker='o')\n",
    "\n",
    "y = df[(df['class']==ins_class) & (df['company']==company)]['claim_set_net']/1000\n",
    "plt.plot(x,y,label='Net Claims Settled', color='red',alpha=0.6)\n",
    "\n",
    "y = df[(df['class']==ins_class) & (df['company']==company)]['exp_management']/1000\n",
    "plt.plot(x,y,label='Management Expenses', color='orange',alpha=0.6)\n",
    "\n",
    "y = df[(df['class']==ins_class) & (df['company']==company)]['exp_comm_incur_net']/1000\n",
    "plt.plot(x,y,label='Net Commissions Incurred', color='yellow',alpha=1.0)\n",
    "\n",
    "y = df[(df['class']==ins_class) & (df['company']==company)]['uw_gain']/1000\n",
    "plt.plot(x,y,label='Underwriting Gain/Loss', color='black',alpha=0.8, marker='o')\n",
    "\n",
    "plt.title(company_name + ' / ' + ins_class_dict[ins_class])\n",
    "plt.xlabel('Reporting Period')\n",
    "plt.ylabel('Amount in SGD 1,000')\n",
    "plt.legend();"
   ]
  },
  {
   "cell_type": "markdown",
   "metadata": {},
   "source": [
    "###### Normalized by Policy Liability (end of reporting period)"
   ]
  },
  {
   "cell_type": "code",
   "execution_count": null,
   "metadata": {},
   "outputs": [],
   "source": [
    "plt.figure(figsize=(14,7.5))\n",
    "normalizing_value = df[(df['class']==ins_class) & (df['company']==company)]['policy_liab_end']\n",
    "x = df[(df['class']==ins_class) & (df['company']==company)]['year']\n",
    "\n",
    "y = 100*df[(df['class']==ins_class) & (df['company']==company)]['prem_write_net']/normalizing_value\n",
    "plt.plot(x,y,label='Net Premiums Written', color='blue',alpha=0.6, marker='o')\n",
    "\n",
    "y = 100*df[(df['class']==ins_class) & (df['company']==company)]['claim_set_net']/normalizing_value\n",
    "plt.plot(x,y,label='Net Claims Settled', color='red',alpha=0.6)\n",
    "\n",
    "y = 100*df[(df['class']==ins_class) & (df['company']==company)]['exp_management']/normalizing_value\n",
    "plt.plot(x,y,label='Management Expenses', color='orange',alpha=0.6)\n",
    "\n",
    "y = 100*df[(df['class']==ins_class) & (df['company']==company)]['exp_comm_incur_net']/normalizing_value\n",
    "plt.plot(x,y,label='Net Commissions Incurred', color='yellow',alpha=1.0)\n",
    "\n",
    "y = 100*df[(df['class']==ins_class) & (df['company']==company)]['uw_gain']/normalizing_value\n",
    "plt.plot(x,y,label='Underwriting Gain/Loss', color='black',alpha=0.8, marker='o')\n",
    "\n",
    "plt.title(company_name + ' / ' + ins_class_dict[ins_class]+' (Values as a % of Policy Liability)')\n",
    "plt.xlabel('Reporting Period')\n",
    "plt.ylabel('% of Policy Liability at End of Reporting Period')\n",
    "plt.legend();"
   ]
  },
  {
   "cell_type": "markdown",
   "metadata": {},
   "source": [
    "#####  Normalized by Net Premiums Written"
   ]
  },
  {
   "cell_type": "code",
   "execution_count": null,
   "metadata": {},
   "outputs": [],
   "source": [
    "plt.figure(figsize=(14,6))\n",
    "normalizing_value = df[(df['class']==ins_class) & (df['company']==company)]['prem_write_net']\n",
    "x = df[(df['class']==ins_class) & (df['company']==company)]['year']\n",
    "\n",
    "y = 100*df[(df['class']==ins_class) & (df['company']==company)]['exp_management']/normalizing_value\n",
    "plt.plot(x,y,label='Management Expenses', color='blue',alpha=0.6, marker='o')\n",
    "\n",
    "y = 100*df[(df['class']==ins_class) & (df['company']==company)]['claim_set_net']/normalizing_value\n",
    "plt.plot(x,y,label='Net Claims Settled', color='red',alpha=0.6)\n",
    "\n",
    "y = 100*df[(df['class']==ins_class) & (df['company']==company)]['exp_comm_incur_net']/normalizing_value\n",
    "plt.plot(x,y,label='Net Commissions Incurred', color='yellow',alpha=1.0)\n",
    "\n",
    "plt.title(company_name + ' / ' + ins_class_dict[ins_class]+' (Values as a % of Net Premiums Written)')\n",
    "plt.xlabel('Reporting Period')\n",
    "plt.ylabel('% of Net Premiums Written')\n",
    "plt.legend();"
   ]
  },
  {
   "cell_type": "markdown",
   "metadata": {},
   "source": [
    "#####  Normalized by Claims Liability"
   ]
  },
  {
   "cell_type": "code",
   "execution_count": null,
   "metadata": {},
   "outputs": [],
   "source": [
    "plt.figure(figsize=(14,6))\n",
    "normalizing_value = df[(df['class']==ins_class) & (df['company']==company)]['claim_liab_end']\n",
    "x = df[(df['class']==ins_class) & (df['company']==company)]['year']\n",
    "\n",
    "y = 100*df[(df['class']==ins_class) & (df['company']==company)]['exp_management']/normalizing_value\n",
    "plt.plot(x,y,label='Management Expenses', color='blue',alpha=0.6, marker='o')\n",
    "\n",
    "y = 100*df[(df['class']==ins_class) & (df['company']==company)]['claim_set_net']/normalizing_value\n",
    "plt.plot(x,y,label='Net Claims Settled', color='red',alpha=0.6)\n",
    "\n",
    "y = 100*df[(df['class']==ins_class) & (df['company']==company)]['exp_comm_incur_net']/normalizing_value\n",
    "plt.plot(x,y,label='Net Commissions Incurred', color='yellow',alpha=1.0)\n",
    "\n",
    "plt.title(company_name + ' / ' + ins_class_dict[ins_class]+' (Values as a % of Claims Liability)')\n",
    "plt.xlabel('Reporting Period')\n",
    "plt.ylabel('% of Claims Liability at the end of reporting period')\n",
    "plt.legend();"
   ]
  },
  {
   "cell_type": "code",
   "execution_count": null,
   "metadata": {},
   "outputs": [],
   "source": []
  }
 ],
 "metadata": {
  "kernelspec": {
   "display_name": "Python 3",
   "language": "python",
   "name": "python3"
  },
  "language_info": {
   "codemirror_mode": {
    "name": "ipython",
    "version": 3
   },
   "file_extension": ".py",
   "mimetype": "text/x-python",
   "name": "python",
   "nbconvert_exporter": "python",
   "pygments_lexer": "ipython3",
   "version": "3.7.3"
  }
 },
 "nbformat": 4,
 "nbformat_minor": 2
}
