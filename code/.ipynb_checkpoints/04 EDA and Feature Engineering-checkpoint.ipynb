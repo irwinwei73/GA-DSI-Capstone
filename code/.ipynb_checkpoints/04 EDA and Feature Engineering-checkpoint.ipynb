{
 "cells": [
  {
   "cell_type": "markdown",
   "metadata": {},
   "source": [
    "# (!WIP) Introduction"
   ]
  },
  {
   "cell_type": "markdown",
   "metadata": {},
   "source": []
  },
  {
   "cell_type": "markdown",
   "metadata": {},
   "source": [
    "# Import Packages"
   ]
  },
  {
   "cell_type": "code",
   "execution_count": 1,
   "metadata": {
    "ExecuteTime": {
     "end_time": "2019-12-04T02:40:17.114862Z",
     "start_time": "2019-12-04T02:40:15.253841Z"
    }
   },
   "outputs": [],
   "source": [
    "import pandas as pd\n",
    "import seaborn as sns\n",
    "import matplotlib.pyplot as plt\n",
    "import math\n",
    "from scipy import stats\n",
    "%matplotlib inline\n",
    "%config IPCompleter.greedy=True\n",
    "sns.set(style='darkgrid')\n",
    "pd.options.display.max_columns = 999"
   ]
  },
  {
   "cell_type": "markdown",
   "metadata": {},
   "source": [
    "# Load Data"
   ]
  },
  {
   "cell_type": "code",
   "execution_count": 2,
   "metadata": {
    "ExecuteTime": {
     "end_time": "2019-12-04T02:40:18.144286Z",
     "start_time": "2019-12-04T02:40:18.002859Z"
    }
   },
   "outputs": [],
   "source": [
    "df = pd.read_csv('../data/master.csv') # master dataset\n",
    "df_company = pd.read_csv('../data/company.csv') # list of companies, prefixes and code"
   ]
  },
  {
   "cell_type": "code",
   "execution_count": 3,
   "metadata": {
    "ExecuteTime": {
     "end_time": "2019-12-04T02:40:20.986319Z",
     "start_time": "2019-12-04T02:40:20.939347Z"
    }
   },
   "outputs": [
    {
     "data": {
      "text/html": [
       "<div>\n",
       "<style scoped>\n",
       "    .dataframe tbody tr th:only-of-type {\n",
       "        vertical-align: middle;\n",
       "    }\n",
       "\n",
       "    .dataframe tbody tr th {\n",
       "        vertical-align: top;\n",
       "    }\n",
       "\n",
       "    .dataframe thead th {\n",
       "        text-align: right;\n",
       "    }\n",
       "</style>\n",
       "<table border=\"1\" class=\"dataframe\">\n",
       "  <thead>\n",
       "    <tr style=\"text-align: right;\">\n",
       "      <th></th>\n",
       "      <th>index</th>\n",
       "      <th>year</th>\n",
       "      <th>company</th>\n",
       "      <th>class</th>\n",
       "      <th>prem_acc_direct</th>\n",
       "      <th>prem_acc_rein_sg</th>\n",
       "      <th>prem_acc_rein_asean</th>\n",
       "      <th>prem_acc_rein_other</th>\n",
       "      <th>prem_acc_total_rein</th>\n",
       "      <th>prem_cede_rein_sg</th>\n",
       "      <th>prem_cede_rein_asean</th>\n",
       "      <th>prem_cede_rein_other</th>\n",
       "      <th>prem_cede_rein_total</th>\n",
       "      <th>prem_write_net</th>\n",
       "      <th>prem_liab_begin</th>\n",
       "      <th>prem_liab_end</th>\n",
       "      <th>prem_earned</th>\n",
       "      <th>claim_set_direct</th>\n",
       "      <th>claim_set_rein_sg</th>\n",
       "      <th>claim_set_rein_asean</th>\n",
       "      <th>claim_set_rein_other</th>\n",
       "      <th>claim_set_total_rein</th>\n",
       "      <th>claim_rcv_rein_sg</th>\n",
       "      <th>claim_rcv_rein_asean</th>\n",
       "      <th>claim_rcv_rein_other</th>\n",
       "      <th>claim_rcv_rein_total</th>\n",
       "      <th>claim_set_net</th>\n",
       "      <th>claim_liab_end</th>\n",
       "      <th>claim_liab_begin</th>\n",
       "      <th>claim_incur_net</th>\n",
       "      <th>exp_management</th>\n",
       "      <th>exp_comm_paid</th>\n",
       "      <th>exp_comm_earned</th>\n",
       "      <th>exp_comm_incur_net</th>\n",
       "      <th>exp_other</th>\n",
       "      <th>uw_gain</th>\n",
       "      <th>net_invest_income</th>\n",
       "      <th>operating_result</th>\n",
       "    </tr>\n",
       "  </thead>\n",
       "  <tbody>\n",
       "    <tr>\n",
       "      <th>0</th>\n",
       "      <td>0</td>\n",
       "      <td>2007</td>\n",
       "      <td>c001</td>\n",
       "      <td>mac</td>\n",
       "      <td>0</td>\n",
       "      <td>0</td>\n",
       "      <td>0</td>\n",
       "      <td>0</td>\n",
       "      <td>0</td>\n",
       "      <td>0</td>\n",
       "      <td>0</td>\n",
       "      <td>0</td>\n",
       "      <td>0</td>\n",
       "      <td>0</td>\n",
       "      <td>0</td>\n",
       "      <td>0</td>\n",
       "      <td>0</td>\n",
       "      <td>0</td>\n",
       "      <td>0</td>\n",
       "      <td>0</td>\n",
       "      <td>0</td>\n",
       "      <td>0</td>\n",
       "      <td>0</td>\n",
       "      <td>0</td>\n",
       "      <td>0</td>\n",
       "      <td>0</td>\n",
       "      <td>0</td>\n",
       "      <td>0</td>\n",
       "      <td>0</td>\n",
       "      <td>0</td>\n",
       "      <td>0</td>\n",
       "      <td>0</td>\n",
       "      <td>0</td>\n",
       "      <td>0</td>\n",
       "      <td>0</td>\n",
       "      <td>0</td>\n",
       "      <td>0</td>\n",
       "      <td>0</td>\n",
       "    </tr>\n",
       "    <tr>\n",
       "      <th>1</th>\n",
       "      <td>1</td>\n",
       "      <td>2007</td>\n",
       "      <td>c001</td>\n",
       "      <td>mahl</td>\n",
       "      <td>0</td>\n",
       "      <td>0</td>\n",
       "      <td>0</td>\n",
       "      <td>0</td>\n",
       "      <td>0</td>\n",
       "      <td>0</td>\n",
       "      <td>0</td>\n",
       "      <td>0</td>\n",
       "      <td>0</td>\n",
       "      <td>0</td>\n",
       "      <td>0</td>\n",
       "      <td>0</td>\n",
       "      <td>0</td>\n",
       "      <td>0</td>\n",
       "      <td>0</td>\n",
       "      <td>0</td>\n",
       "      <td>0</td>\n",
       "      <td>0</td>\n",
       "      <td>0</td>\n",
       "      <td>0</td>\n",
       "      <td>0</td>\n",
       "      <td>0</td>\n",
       "      <td>0</td>\n",
       "      <td>0</td>\n",
       "      <td>0</td>\n",
       "      <td>0</td>\n",
       "      <td>0</td>\n",
       "      <td>0</td>\n",
       "      <td>0</td>\n",
       "      <td>0</td>\n",
       "      <td>0</td>\n",
       "      <td>0</td>\n",
       "      <td>0</td>\n",
       "      <td>0</td>\n",
       "    </tr>\n",
       "    <tr>\n",
       "      <th>2</th>\n",
       "      <td>2</td>\n",
       "      <td>2007</td>\n",
       "      <td>c001</td>\n",
       "      <td>fire</td>\n",
       "      <td>0</td>\n",
       "      <td>0</td>\n",
       "      <td>0</td>\n",
       "      <td>0</td>\n",
       "      <td>0</td>\n",
       "      <td>0</td>\n",
       "      <td>0</td>\n",
       "      <td>0</td>\n",
       "      <td>0</td>\n",
       "      <td>0</td>\n",
       "      <td>0</td>\n",
       "      <td>0</td>\n",
       "      <td>0</td>\n",
       "      <td>0</td>\n",
       "      <td>0</td>\n",
       "      <td>0</td>\n",
       "      <td>0</td>\n",
       "      <td>0</td>\n",
       "      <td>0</td>\n",
       "      <td>0</td>\n",
       "      <td>0</td>\n",
       "      <td>0</td>\n",
       "      <td>0</td>\n",
       "      <td>0</td>\n",
       "      <td>0</td>\n",
       "      <td>0</td>\n",
       "      <td>0</td>\n",
       "      <td>0</td>\n",
       "      <td>0</td>\n",
       "      <td>0</td>\n",
       "      <td>0</td>\n",
       "      <td>0</td>\n",
       "      <td>0</td>\n",
       "      <td>0</td>\n",
       "    </tr>\n",
       "    <tr>\n",
       "      <th>3</th>\n",
       "      <td>3</td>\n",
       "      <td>2007</td>\n",
       "      <td>c001</td>\n",
       "      <td>motor</td>\n",
       "      <td>0</td>\n",
       "      <td>0</td>\n",
       "      <td>0</td>\n",
       "      <td>0</td>\n",
       "      <td>0</td>\n",
       "      <td>0</td>\n",
       "      <td>0</td>\n",
       "      <td>0</td>\n",
       "      <td>0</td>\n",
       "      <td>0</td>\n",
       "      <td>0</td>\n",
       "      <td>0</td>\n",
       "      <td>0</td>\n",
       "      <td>0</td>\n",
       "      <td>0</td>\n",
       "      <td>0</td>\n",
       "      <td>0</td>\n",
       "      <td>0</td>\n",
       "      <td>0</td>\n",
       "      <td>0</td>\n",
       "      <td>0</td>\n",
       "      <td>0</td>\n",
       "      <td>0</td>\n",
       "      <td>0</td>\n",
       "      <td>0</td>\n",
       "      <td>0</td>\n",
       "      <td>0</td>\n",
       "      <td>0</td>\n",
       "      <td>0</td>\n",
       "      <td>0</td>\n",
       "      <td>0</td>\n",
       "      <td>0</td>\n",
       "      <td>0</td>\n",
       "      <td>0</td>\n",
       "    </tr>\n",
       "    <tr>\n",
       "      <th>4</th>\n",
       "      <td>4</td>\n",
       "      <td>2007</td>\n",
       "      <td>c001</td>\n",
       "      <td>wic</td>\n",
       "      <td>0</td>\n",
       "      <td>0</td>\n",
       "      <td>0</td>\n",
       "      <td>0</td>\n",
       "      <td>0</td>\n",
       "      <td>0</td>\n",
       "      <td>0</td>\n",
       "      <td>0</td>\n",
       "      <td>0</td>\n",
       "      <td>0</td>\n",
       "      <td>0</td>\n",
       "      <td>0</td>\n",
       "      <td>0</td>\n",
       "      <td>0</td>\n",
       "      <td>0</td>\n",
       "      <td>0</td>\n",
       "      <td>0</td>\n",
       "      <td>0</td>\n",
       "      <td>0</td>\n",
       "      <td>0</td>\n",
       "      <td>0</td>\n",
       "      <td>0</td>\n",
       "      <td>0</td>\n",
       "      <td>0</td>\n",
       "      <td>0</td>\n",
       "      <td>0</td>\n",
       "      <td>0</td>\n",
       "      <td>0</td>\n",
       "      <td>0</td>\n",
       "      <td>0</td>\n",
       "      <td>0</td>\n",
       "      <td>0</td>\n",
       "      <td>0</td>\n",
       "      <td>0</td>\n",
       "    </tr>\n",
       "  </tbody>\n",
       "</table>\n",
       "</div>"
      ],
      "text/plain": [
       "   index  year company  class  prem_acc_direct  prem_acc_rein_sg  \\\n",
       "0      0  2007    c001    mac                0                 0   \n",
       "1      1  2007    c001   mahl                0                 0   \n",
       "2      2  2007    c001   fire                0                 0   \n",
       "3      3  2007    c001  motor                0                 0   \n",
       "4      4  2007    c001    wic                0                 0   \n",
       "\n",
       "   prem_acc_rein_asean  prem_acc_rein_other  prem_acc_total_rein  \\\n",
       "0                    0                    0                    0   \n",
       "1                    0                    0                    0   \n",
       "2                    0                    0                    0   \n",
       "3                    0                    0                    0   \n",
       "4                    0                    0                    0   \n",
       "\n",
       "   prem_cede_rein_sg  prem_cede_rein_asean  prem_cede_rein_other  \\\n",
       "0                  0                     0                     0   \n",
       "1                  0                     0                     0   \n",
       "2                  0                     0                     0   \n",
       "3                  0                     0                     0   \n",
       "4                  0                     0                     0   \n",
       "\n",
       "   prem_cede_rein_total  prem_write_net  prem_liab_begin  prem_liab_end  \\\n",
       "0                     0               0                0              0   \n",
       "1                     0               0                0              0   \n",
       "2                     0               0                0              0   \n",
       "3                     0               0                0              0   \n",
       "4                     0               0                0              0   \n",
       "\n",
       "   prem_earned  claim_set_direct  claim_set_rein_sg  claim_set_rein_asean  \\\n",
       "0            0                 0                  0                     0   \n",
       "1            0                 0                  0                     0   \n",
       "2            0                 0                  0                     0   \n",
       "3            0                 0                  0                     0   \n",
       "4            0                 0                  0                     0   \n",
       "\n",
       "   claim_set_rein_other  claim_set_total_rein  claim_rcv_rein_sg  \\\n",
       "0                     0                     0                  0   \n",
       "1                     0                     0                  0   \n",
       "2                     0                     0                  0   \n",
       "3                     0                     0                  0   \n",
       "4                     0                     0                  0   \n",
       "\n",
       "   claim_rcv_rein_asean  claim_rcv_rein_other  claim_rcv_rein_total  \\\n",
       "0                     0                     0                     0   \n",
       "1                     0                     0                     0   \n",
       "2                     0                     0                     0   \n",
       "3                     0                     0                     0   \n",
       "4                     0                     0                     0   \n",
       "\n",
       "   claim_set_net  claim_liab_end  claim_liab_begin  claim_incur_net  \\\n",
       "0              0               0                 0                0   \n",
       "1              0               0                 0                0   \n",
       "2              0               0                 0                0   \n",
       "3              0               0                 0                0   \n",
       "4              0               0                 0                0   \n",
       "\n",
       "   exp_management  exp_comm_paid  exp_comm_earned  exp_comm_incur_net  \\\n",
       "0               0              0                0                   0   \n",
       "1               0              0                0                   0   \n",
       "2               0              0                0                   0   \n",
       "3               0              0                0                   0   \n",
       "4               0              0                0                   0   \n",
       "\n",
       "   exp_other  uw_gain  net_invest_income  operating_result  \n",
       "0          0        0                  0                 0  \n",
       "1          0        0                  0                 0  \n",
       "2          0        0                  0                 0  \n",
       "3          0        0                  0                 0  \n",
       "4          0        0                  0                 0  "
      ]
     },
     "execution_count": 3,
     "metadata": {},
     "output_type": "execute_result"
    }
   ],
   "source": [
    "df.head()"
   ]
  },
  {
   "cell_type": "code",
   "execution_count": 4,
   "metadata": {
    "ExecuteTime": {
     "end_time": "2019-12-04T02:40:23.634024Z",
     "start_time": "2019-12-04T02:40:23.627029Z"
    }
   },
   "outputs": [
    {
     "data": {
      "text/plain": [
       "(16140, 38)"
      ]
     },
     "execution_count": 4,
     "metadata": {},
     "output_type": "execute_result"
    }
   ],
   "source": [
    "df.shape"
   ]
  },
  {
   "cell_type": "code",
   "execution_count": 5,
   "metadata": {
    "ExecuteTime": {
     "end_time": "2019-12-04T02:40:26.216043Z",
     "start_time": "2019-12-04T02:40:26.203051Z"
    }
   },
   "outputs": [
    {
     "data": {
      "text/html": [
       "<div>\n",
       "<style scoped>\n",
       "    .dataframe tbody tr th:only-of-type {\n",
       "        vertical-align: middle;\n",
       "    }\n",
       "\n",
       "    .dataframe tbody tr th {\n",
       "        vertical-align: top;\n",
       "    }\n",
       "\n",
       "    .dataframe thead th {\n",
       "        text-align: right;\n",
       "    }\n",
       "</style>\n",
       "<table border=\"1\" class=\"dataframe\">\n",
       "  <thead>\n",
       "    <tr style=\"text-align: right;\">\n",
       "      <th></th>\n",
       "      <th>code</th>\n",
       "      <th>prefix</th>\n",
       "      <th>name</th>\n",
       "    </tr>\n",
       "  </thead>\n",
       "  <tbody>\n",
       "    <tr>\n",
       "      <th>0</th>\n",
       "      <td>I855G</td>\n",
       "      <td>c001</td>\n",
       "      <td>ADVANTAGE HEALTH BENEFITS PTE LTD</td>\n",
       "    </tr>\n",
       "    <tr>\n",
       "      <th>1</th>\n",
       "      <td>I864G</td>\n",
       "      <td>c002</td>\n",
       "      <td>AETNA INSURANCE COMPANY LIMITED (SINGAPORE BR...</td>\n",
       "    </tr>\n",
       "    <tr>\n",
       "      <th>2</th>\n",
       "      <td>I877G</td>\n",
       "      <td>c003</td>\n",
       "      <td>AETNA INSURANCE (SINGAPORE) PTE. LTD.</td>\n",
       "    </tr>\n",
       "    <tr>\n",
       "      <th>3</th>\n",
       "      <td>I566C</td>\n",
       "      <td>c004</td>\n",
       "      <td>AIA SINGAPORE PRIVATE LIMITED</td>\n",
       "    </tr>\n",
       "    <tr>\n",
       "      <th>4</th>\n",
       "      <td>I823G</td>\n",
       "      <td>c005</td>\n",
       "      <td>AGR SERVICES PTE. LTD.</td>\n",
       "    </tr>\n",
       "  </tbody>\n",
       "</table>\n",
       "</div>"
      ],
      "text/plain": [
       "     code prefix                                               name\n",
       "0   I855G   c001                  ADVANTAGE HEALTH BENEFITS PTE LTD\n",
       "1   I864G   c002   AETNA INSURANCE COMPANY LIMITED (SINGAPORE BR...\n",
       "2   I877G   c003              AETNA INSURANCE (SINGAPORE) PTE. LTD.\n",
       "3   I566C   c004                      AIA SINGAPORE PRIVATE LIMITED\n",
       "4   I823G   c005                             AGR SERVICES PTE. LTD."
      ]
     },
     "execution_count": 5,
     "metadata": {},
     "output_type": "execute_result"
    }
   ],
   "source": [
    "df_company.head()"
   ]
  },
  {
   "cell_type": "markdown",
   "metadata": {},
   "source": [
    "## Pre-processing"
   ]
  },
  {
   "cell_type": "code",
   "execution_count": 6,
   "metadata": {
    "ExecuteTime": {
     "end_time": "2019-12-04T02:40:32.023596Z",
     "start_time": "2019-12-04T02:40:32.014602Z"
    }
   },
   "outputs": [],
   "source": [
    "# strip spaces for all fields\n",
    "df_company['code'] = [i.strip() for i in df_company['code']]\n",
    "df_company['prefix'] = [i.strip() for i in df_company['prefix']]\n",
    "df_company['name'] = [i.strip() for i in df_company['name']]"
   ]
  },
  {
   "cell_type": "markdown",
   "metadata": {},
   "source": [
    "##### Drop 'index' column"
   ]
  },
  {
   "cell_type": "code",
   "execution_count": 7,
   "metadata": {
    "ExecuteTime": {
     "end_time": "2019-12-04T02:40:36.270611Z",
     "start_time": "2019-12-04T02:40:36.261616Z"
    }
   },
   "outputs": [],
   "source": [
    "df.drop(columns='index',inplace=True)"
   ]
  },
  {
   "cell_type": "markdown",
   "metadata": {},
   "source": [
    "##### Drop (unwanted) rows where 'class' == 'total' | 'class' == 'misc_total"
   ]
  },
  {
   "cell_type": "code",
   "execution_count": 8,
   "metadata": {
    "ExecuteTime": {
     "end_time": "2019-12-04T02:40:38.864677Z",
     "start_time": "2019-12-04T02:40:38.828697Z"
    }
   },
   "outputs": [
    {
     "name": "stdout",
     "output_type": "stream",
     "text": [
      "2152\n"
     ]
    }
   ],
   "source": [
    "print(df[(df['class']=='total') | (df['class']=='misc_total')].count().values[0])\n",
    "idx_list = list(df[(df['class']=='total') | (df['class']=='misc_total')].index.values)\n",
    "df.drop(index=idx_list,inplace=True)"
   ]
  },
  {
   "cell_type": "code",
   "execution_count": 9,
   "metadata": {
    "ExecuteTime": {
     "end_time": "2019-12-04T02:40:43.940271Z",
     "start_time": "2019-12-04T02:40:43.932276Z"
    }
   },
   "outputs": [
    {
     "data": {
      "text/plain": [
       "(13988, 37)"
      ]
     },
     "execution_count": 9,
     "metadata": {},
     "output_type": "execute_result"
    }
   ],
   "source": [
    "df.shape"
   ]
  },
  {
   "cell_type": "markdown",
   "metadata": {},
   "source": [
    "##### Use only rows where there is evidence of ongoing activity i.e. 'prem_liab_begin!=0'  AND  'prem_liab_end!=0'"
   ]
  },
  {
   "cell_type": "code",
   "execution_count": 10,
   "metadata": {
    "ExecuteTime": {
     "end_time": "2019-12-04T02:40:47.119921Z",
     "start_time": "2019-12-04T02:40:47.100933Z"
    }
   },
   "outputs": [
    {
     "data": {
      "text/plain": [
       "(6420, 37)"
      ]
     },
     "execution_count": 10,
     "metadata": {},
     "output_type": "execute_result"
    }
   ],
   "source": [
    "df = df[(df['prem_liab_begin']!=0) & (df['prem_liab_end']!=0)].copy()\n",
    "df.shape"
   ]
  },
  {
   "cell_type": "code",
   "execution_count": 11,
   "metadata": {
    "ExecuteTime": {
     "end_time": "2019-12-04T02:40:53.255976Z",
     "start_time": "2019-12-04T02:40:53.251979Z"
    }
   },
   "outputs": [],
   "source": [
    "# do not drop the 'year' column yet - will need it later\n",
    "# will drop later when no longer required\n",
    "df.reset_index(drop=True, inplace=True)"
   ]
  },
  {
   "cell_type": "code",
   "execution_count": 12,
   "metadata": {
    "ExecuteTime": {
     "end_time": "2019-12-04T02:40:59.018259Z",
     "start_time": "2019-12-04T02:40:58.973287Z"
    }
   },
   "outputs": [
    {
     "data": {
      "text/html": [
       "<div>\n",
       "<style scoped>\n",
       "    .dataframe tbody tr th:only-of-type {\n",
       "        vertical-align: middle;\n",
       "    }\n",
       "\n",
       "    .dataframe tbody tr th {\n",
       "        vertical-align: top;\n",
       "    }\n",
       "\n",
       "    .dataframe thead th {\n",
       "        text-align: right;\n",
       "    }\n",
       "</style>\n",
       "<table border=\"1\" class=\"dataframe\">\n",
       "  <thead>\n",
       "    <tr style=\"text-align: right;\">\n",
       "      <th></th>\n",
       "      <th>year</th>\n",
       "      <th>company</th>\n",
       "      <th>class</th>\n",
       "      <th>prem_acc_direct</th>\n",
       "      <th>prem_acc_rein_sg</th>\n",
       "      <th>prem_acc_rein_asean</th>\n",
       "      <th>prem_acc_rein_other</th>\n",
       "      <th>prem_acc_total_rein</th>\n",
       "      <th>prem_cede_rein_sg</th>\n",
       "      <th>prem_cede_rein_asean</th>\n",
       "      <th>prem_cede_rein_other</th>\n",
       "      <th>prem_cede_rein_total</th>\n",
       "      <th>prem_write_net</th>\n",
       "      <th>prem_liab_begin</th>\n",
       "      <th>prem_liab_end</th>\n",
       "      <th>prem_earned</th>\n",
       "      <th>claim_set_direct</th>\n",
       "      <th>claim_set_rein_sg</th>\n",
       "      <th>claim_set_rein_asean</th>\n",
       "      <th>claim_set_rein_other</th>\n",
       "      <th>claim_set_total_rein</th>\n",
       "      <th>claim_rcv_rein_sg</th>\n",
       "      <th>claim_rcv_rein_asean</th>\n",
       "      <th>claim_rcv_rein_other</th>\n",
       "      <th>claim_rcv_rein_total</th>\n",
       "      <th>claim_set_net</th>\n",
       "      <th>claim_liab_end</th>\n",
       "      <th>claim_liab_begin</th>\n",
       "      <th>claim_incur_net</th>\n",
       "      <th>exp_management</th>\n",
       "      <th>exp_comm_paid</th>\n",
       "      <th>exp_comm_earned</th>\n",
       "      <th>exp_comm_incur_net</th>\n",
       "      <th>exp_other</th>\n",
       "      <th>uw_gain</th>\n",
       "      <th>net_invest_income</th>\n",
       "      <th>operating_result</th>\n",
       "    </tr>\n",
       "  </thead>\n",
       "  <tbody>\n",
       "    <tr>\n",
       "      <th>0</th>\n",
       "      <td>2009</td>\n",
       "      <td>c002</td>\n",
       "      <td>health</td>\n",
       "      <td>5105503</td>\n",
       "      <td>0</td>\n",
       "      <td>0</td>\n",
       "      <td>0</td>\n",
       "      <td>0</td>\n",
       "      <td>0</td>\n",
       "      <td>0</td>\n",
       "      <td>18176</td>\n",
       "      <td>18176</td>\n",
       "      <td>5087327</td>\n",
       "      <td>-122589</td>\n",
       "      <td>3656745</td>\n",
       "      <td>1307993</td>\n",
       "      <td>694266</td>\n",
       "      <td>0</td>\n",
       "      <td>0</td>\n",
       "      <td>0</td>\n",
       "      <td>0</td>\n",
       "      <td>0</td>\n",
       "      <td>0</td>\n",
       "      <td>0</td>\n",
       "      <td>0</td>\n",
       "      <td>694266</td>\n",
       "      <td>1049173</td>\n",
       "      <td>-35173</td>\n",
       "      <td>1778612</td>\n",
       "      <td>402004</td>\n",
       "      <td>601793</td>\n",
       "      <td>0</td>\n",
       "      <td>601793</td>\n",
       "      <td>0</td>\n",
       "      <td>-1474416</td>\n",
       "      <td>2170</td>\n",
       "      <td>-1472246</td>\n",
       "    </tr>\n",
       "    <tr>\n",
       "      <th>1</th>\n",
       "      <td>2010</td>\n",
       "      <td>c002</td>\n",
       "      <td>health</td>\n",
       "      <td>9407385</td>\n",
       "      <td>0</td>\n",
       "      <td>0</td>\n",
       "      <td>0</td>\n",
       "      <td>0</td>\n",
       "      <td>0</td>\n",
       "      <td>0</td>\n",
       "      <td>73981</td>\n",
       "      <td>73981</td>\n",
       "      <td>9333404</td>\n",
       "      <td>3279559</td>\n",
       "      <td>4357154</td>\n",
       "      <td>8255809</td>\n",
       "      <td>5121498</td>\n",
       "      <td>0</td>\n",
       "      <td>0</td>\n",
       "      <td>0</td>\n",
       "      <td>0</td>\n",
       "      <td>0</td>\n",
       "      <td>0</td>\n",
       "      <td>0</td>\n",
       "      <td>0</td>\n",
       "      <td>5121498</td>\n",
       "      <td>1948299</td>\n",
       "      <td>897771</td>\n",
       "      <td>6172026</td>\n",
       "      <td>1340434</td>\n",
       "      <td>987714</td>\n",
       "      <td>0</td>\n",
       "      <td>987714</td>\n",
       "      <td>0</td>\n",
       "      <td>-244365</td>\n",
       "      <td>14355</td>\n",
       "      <td>-230010</td>\n",
       "    </tr>\n",
       "    <tr>\n",
       "      <th>2</th>\n",
       "      <td>2011</td>\n",
       "      <td>c002</td>\n",
       "      <td>health</td>\n",
       "      <td>9386439</td>\n",
       "      <td>0</td>\n",
       "      <td>0</td>\n",
       "      <td>0</td>\n",
       "      <td>0</td>\n",
       "      <td>0</td>\n",
       "      <td>0</td>\n",
       "      <td>4690426</td>\n",
       "      <td>4690426</td>\n",
       "      <td>4696013</td>\n",
       "      <td>4346504</td>\n",
       "      <td>2628518</td>\n",
       "      <td>6413999</td>\n",
       "      <td>6161156</td>\n",
       "      <td>0</td>\n",
       "      <td>0</td>\n",
       "      <td>0</td>\n",
       "      <td>0</td>\n",
       "      <td>0</td>\n",
       "      <td>0</td>\n",
       "      <td>806620</td>\n",
       "      <td>806620</td>\n",
       "      <td>5354536</td>\n",
       "      <td>1739485</td>\n",
       "      <td>1961409</td>\n",
       "      <td>5132612</td>\n",
       "      <td>1432763</td>\n",
       "      <td>982201</td>\n",
       "      <td>492162</td>\n",
       "      <td>490039</td>\n",
       "      <td>0</td>\n",
       "      <td>-641415</td>\n",
       "      <td>6749</td>\n",
       "      <td>-634666</td>\n",
       "    </tr>\n",
       "    <tr>\n",
       "      <th>3</th>\n",
       "      <td>2012</td>\n",
       "      <td>c002</td>\n",
       "      <td>health</td>\n",
       "      <td>9560102</td>\n",
       "      <td>0</td>\n",
       "      <td>0</td>\n",
       "      <td>0</td>\n",
       "      <td>0</td>\n",
       "      <td>0</td>\n",
       "      <td>0</td>\n",
       "      <td>4827647</td>\n",
       "      <td>4827647</td>\n",
       "      <td>4732455</td>\n",
       "      <td>2483623</td>\n",
       "      <td>2164959</td>\n",
       "      <td>5051119</td>\n",
       "      <td>5892717</td>\n",
       "      <td>0</td>\n",
       "      <td>0</td>\n",
       "      <td>0</td>\n",
       "      <td>0</td>\n",
       "      <td>0</td>\n",
       "      <td>0</td>\n",
       "      <td>2789997</td>\n",
       "      <td>2789997</td>\n",
       "      <td>3102720</td>\n",
       "      <td>1281165</td>\n",
       "      <td>1646957</td>\n",
       "      <td>2736928</td>\n",
       "      <td>1128033</td>\n",
       "      <td>1050084</td>\n",
       "      <td>525043</td>\n",
       "      <td>525041</td>\n",
       "      <td>0</td>\n",
       "      <td>661117</td>\n",
       "      <td>11960</td>\n",
       "      <td>673077</td>\n",
       "    </tr>\n",
       "    <tr>\n",
       "      <th>4</th>\n",
       "      <td>2013</td>\n",
       "      <td>c002</td>\n",
       "      <td>health</td>\n",
       "      <td>12284004</td>\n",
       "      <td>0</td>\n",
       "      <td>0</td>\n",
       "      <td>0</td>\n",
       "      <td>0</td>\n",
       "      <td>0</td>\n",
       "      <td>0</td>\n",
       "      <td>6194945</td>\n",
       "      <td>6194945</td>\n",
       "      <td>6089059</td>\n",
       "      <td>2244439</td>\n",
       "      <td>3044172</td>\n",
       "      <td>5289326</td>\n",
       "      <td>6583877</td>\n",
       "      <td>0</td>\n",
       "      <td>0</td>\n",
       "      <td>0</td>\n",
       "      <td>0</td>\n",
       "      <td>0</td>\n",
       "      <td>0</td>\n",
       "      <td>3283009</td>\n",
       "      <td>3283009</td>\n",
       "      <td>3300868</td>\n",
       "      <td>1470513</td>\n",
       "      <td>1325221</td>\n",
       "      <td>3446160</td>\n",
       "      <td>1101279</td>\n",
       "      <td>1424087</td>\n",
       "      <td>711939</td>\n",
       "      <td>712148</td>\n",
       "      <td>0</td>\n",
       "      <td>29739</td>\n",
       "      <td>7003</td>\n",
       "      <td>36742</td>\n",
       "    </tr>\n",
       "  </tbody>\n",
       "</table>\n",
       "</div>"
      ],
      "text/plain": [
       "   year company   class  prem_acc_direct  prem_acc_rein_sg  \\\n",
       "0  2009    c002  health          5105503                 0   \n",
       "1  2010    c002  health          9407385                 0   \n",
       "2  2011    c002  health          9386439                 0   \n",
       "3  2012    c002  health          9560102                 0   \n",
       "4  2013    c002  health         12284004                 0   \n",
       "\n",
       "   prem_acc_rein_asean  prem_acc_rein_other  prem_acc_total_rein  \\\n",
       "0                    0                    0                    0   \n",
       "1                    0                    0                    0   \n",
       "2                    0                    0                    0   \n",
       "3                    0                    0                    0   \n",
       "4                    0                    0                    0   \n",
       "\n",
       "   prem_cede_rein_sg  prem_cede_rein_asean  prem_cede_rein_other  \\\n",
       "0                  0                     0                 18176   \n",
       "1                  0                     0                 73981   \n",
       "2                  0                     0               4690426   \n",
       "3                  0                     0               4827647   \n",
       "4                  0                     0               6194945   \n",
       "\n",
       "   prem_cede_rein_total  prem_write_net  prem_liab_begin  prem_liab_end  \\\n",
       "0                 18176         5087327          -122589        3656745   \n",
       "1                 73981         9333404          3279559        4357154   \n",
       "2               4690426         4696013          4346504        2628518   \n",
       "3               4827647         4732455          2483623        2164959   \n",
       "4               6194945         6089059          2244439        3044172   \n",
       "\n",
       "   prem_earned  claim_set_direct  claim_set_rein_sg  claim_set_rein_asean  \\\n",
       "0      1307993            694266                  0                     0   \n",
       "1      8255809           5121498                  0                     0   \n",
       "2      6413999           6161156                  0                     0   \n",
       "3      5051119           5892717                  0                     0   \n",
       "4      5289326           6583877                  0                     0   \n",
       "\n",
       "   claim_set_rein_other  claim_set_total_rein  claim_rcv_rein_sg  \\\n",
       "0                     0                     0                  0   \n",
       "1                     0                     0                  0   \n",
       "2                     0                     0                  0   \n",
       "3                     0                     0                  0   \n",
       "4                     0                     0                  0   \n",
       "\n",
       "   claim_rcv_rein_asean  claim_rcv_rein_other  claim_rcv_rein_total  \\\n",
       "0                     0                     0                     0   \n",
       "1                     0                     0                     0   \n",
       "2                     0                806620                806620   \n",
       "3                     0               2789997               2789997   \n",
       "4                     0               3283009               3283009   \n",
       "\n",
       "   claim_set_net  claim_liab_end  claim_liab_begin  claim_incur_net  \\\n",
       "0         694266         1049173            -35173          1778612   \n",
       "1        5121498         1948299            897771          6172026   \n",
       "2        5354536         1739485           1961409          5132612   \n",
       "3        3102720         1281165           1646957          2736928   \n",
       "4        3300868         1470513           1325221          3446160   \n",
       "\n",
       "   exp_management  exp_comm_paid  exp_comm_earned  exp_comm_incur_net  \\\n",
       "0          402004         601793                0              601793   \n",
       "1         1340434         987714                0              987714   \n",
       "2         1432763         982201           492162              490039   \n",
       "3         1128033        1050084           525043              525041   \n",
       "4         1101279        1424087           711939              712148   \n",
       "\n",
       "   exp_other  uw_gain  net_invest_income  operating_result  \n",
       "0          0 -1474416               2170          -1472246  \n",
       "1          0  -244365              14355           -230010  \n",
       "2          0  -641415               6749           -634666  \n",
       "3          0   661117              11960            673077  \n",
       "4          0    29739               7003             36742  "
      ]
     },
     "execution_count": 12,
     "metadata": {},
     "output_type": "execute_result"
    }
   ],
   "source": [
    "df.head()"
   ]
  },
  {
   "cell_type": "code",
   "execution_count": 13,
   "metadata": {
    "ExecuteTime": {
     "end_time": "2019-12-04T02:41:02.114649Z",
     "start_time": "2019-12-04T02:41:02.107652Z"
    }
   },
   "outputs": [
    {
     "data": {
      "text/plain": [
       "(6420, 37)"
      ]
     },
     "execution_count": 13,
     "metadata": {},
     "output_type": "execute_result"
    }
   ],
   "source": [
    "df.shape"
   ]
  },
  {
   "cell_type": "code",
   "execution_count": 14,
   "metadata": {
    "ExecuteTime": {
     "end_time": "2019-12-04T02:41:04.331770Z",
     "start_time": "2019-12-04T02:41:04.315780Z"
    }
   },
   "outputs": [
    {
     "data": {
      "text/plain": [
       "False"
      ]
     },
     "execution_count": 14,
     "metadata": {},
     "output_type": "execute_result"
    }
   ],
   "source": [
    "df.isna().sum().any()"
   ]
  },
  {
   "cell_type": "code",
   "execution_count": 15,
   "metadata": {
    "ExecuteTime": {
     "end_time": "2019-12-04T02:41:10.316266Z",
     "start_time": "2019-12-04T02:41:10.270294Z"
    }
   },
   "outputs": [
    {
     "data": {
      "text/html": [
       "<div>\n",
       "<style scoped>\n",
       "    .dataframe tbody tr th:only-of-type {\n",
       "        vertical-align: middle;\n",
       "    }\n",
       "\n",
       "    .dataframe tbody tr th {\n",
       "        vertical-align: top;\n",
       "    }\n",
       "\n",
       "    .dataframe thead th {\n",
       "        text-align: right;\n",
       "    }\n",
       "</style>\n",
       "<table border=\"1\" class=\"dataframe\">\n",
       "  <thead>\n",
       "    <tr style=\"text-align: right;\">\n",
       "      <th></th>\n",
       "      <th>year</th>\n",
       "      <th>company</th>\n",
       "      <th>class</th>\n",
       "      <th>prem_acc_direct</th>\n",
       "      <th>prem_acc_rein_sg</th>\n",
       "      <th>prem_acc_rein_asean</th>\n",
       "      <th>prem_acc_rein_other</th>\n",
       "      <th>prem_acc_total_rein</th>\n",
       "      <th>prem_cede_rein_sg</th>\n",
       "      <th>prem_cede_rein_asean</th>\n",
       "      <th>prem_cede_rein_other</th>\n",
       "      <th>prem_cede_rein_total</th>\n",
       "      <th>prem_write_net</th>\n",
       "      <th>prem_liab_begin</th>\n",
       "      <th>prem_liab_end</th>\n",
       "      <th>prem_earned</th>\n",
       "      <th>claim_set_direct</th>\n",
       "      <th>claim_set_rein_sg</th>\n",
       "      <th>claim_set_rein_asean</th>\n",
       "      <th>claim_set_rein_other</th>\n",
       "      <th>claim_set_total_rein</th>\n",
       "      <th>claim_rcv_rein_sg</th>\n",
       "      <th>claim_rcv_rein_asean</th>\n",
       "      <th>claim_rcv_rein_other</th>\n",
       "      <th>claim_rcv_rein_total</th>\n",
       "      <th>claim_set_net</th>\n",
       "      <th>claim_liab_end</th>\n",
       "      <th>claim_liab_begin</th>\n",
       "      <th>claim_incur_net</th>\n",
       "      <th>exp_management</th>\n",
       "      <th>exp_comm_paid</th>\n",
       "      <th>exp_comm_earned</th>\n",
       "      <th>exp_comm_incur_net</th>\n",
       "      <th>exp_other</th>\n",
       "      <th>uw_gain</th>\n",
       "      <th>net_invest_income</th>\n",
       "      <th>operating_result</th>\n",
       "    </tr>\n",
       "  </thead>\n",
       "  <tbody>\n",
       "    <tr>\n",
       "      <th>1287</th>\n",
       "      <td>2010</td>\n",
       "      <td>c038</td>\n",
       "      <td>mahl</td>\n",
       "      <td>22819</td>\n",
       "      <td>0</td>\n",
       "      <td>0</td>\n",
       "      <td>0</td>\n",
       "      <td>0</td>\n",
       "      <td>0</td>\n",
       "      <td>0</td>\n",
       "      <td>0</td>\n",
       "      <td>0</td>\n",
       "      <td>22819</td>\n",
       "      <td>14759</td>\n",
       "      <td>14345</td>\n",
       "      <td>23233</td>\n",
       "      <td>250</td>\n",
       "      <td>0</td>\n",
       "      <td>0</td>\n",
       "      <td>0</td>\n",
       "      <td>0</td>\n",
       "      <td>0</td>\n",
       "      <td>0</td>\n",
       "      <td>0</td>\n",
       "      <td>0</td>\n",
       "      <td>250</td>\n",
       "      <td>0</td>\n",
       "      <td>0</td>\n",
       "      <td>250</td>\n",
       "      <td>6007</td>\n",
       "      <td>4292</td>\n",
       "      <td>0</td>\n",
       "      <td>4292</td>\n",
       "      <td>0</td>\n",
       "      <td>12684</td>\n",
       "      <td>1598</td>\n",
       "      <td>14282</td>\n",
       "    </tr>\n",
       "    <tr>\n",
       "      <th>1454</th>\n",
       "      <td>2006</td>\n",
       "      <td>c044</td>\n",
       "      <td>bonds</td>\n",
       "      <td>3710493</td>\n",
       "      <td>0</td>\n",
       "      <td>0</td>\n",
       "      <td>0</td>\n",
       "      <td>0</td>\n",
       "      <td>-4303</td>\n",
       "      <td>0</td>\n",
       "      <td>2107577</td>\n",
       "      <td>2103274</td>\n",
       "      <td>1607219</td>\n",
       "      <td>7023000</td>\n",
       "      <td>6029000</td>\n",
       "      <td>2601219</td>\n",
       "      <td>1155710</td>\n",
       "      <td>0</td>\n",
       "      <td>0</td>\n",
       "      <td>0</td>\n",
       "      <td>0</td>\n",
       "      <td>-2207</td>\n",
       "      <td>0</td>\n",
       "      <td>924147</td>\n",
       "      <td>921940</td>\n",
       "      <td>233770</td>\n",
       "      <td>0</td>\n",
       "      <td>0</td>\n",
       "      <td>233770</td>\n",
       "      <td>1233781</td>\n",
       "      <td>354246</td>\n",
       "      <td>515311</td>\n",
       "      <td>-161065</td>\n",
       "      <td>97109</td>\n",
       "      <td>1197624</td>\n",
       "      <td>1064936</td>\n",
       "      <td>2262560</td>\n",
       "    </tr>\n",
       "    <tr>\n",
       "      <th>1456</th>\n",
       "      <td>2007</td>\n",
       "      <td>c044</td>\n",
       "      <td>bonds</td>\n",
       "      <td>9868235</td>\n",
       "      <td>0</td>\n",
       "      <td>0</td>\n",
       "      <td>0</td>\n",
       "      <td>0</td>\n",
       "      <td>0</td>\n",
       "      <td>0</td>\n",
       "      <td>6165402</td>\n",
       "      <td>6165402</td>\n",
       "      <td>3702833</td>\n",
       "      <td>6029000</td>\n",
       "      <td>6393000</td>\n",
       "      <td>3338833</td>\n",
       "      <td>1862392</td>\n",
       "      <td>0</td>\n",
       "      <td>0</td>\n",
       "      <td>0</td>\n",
       "      <td>0</td>\n",
       "      <td>912526</td>\n",
       "      <td>0</td>\n",
       "      <td>-205237</td>\n",
       "      <td>707289</td>\n",
       "      <td>1155103</td>\n",
       "      <td>0</td>\n",
       "      <td>0</td>\n",
       "      <td>1155103</td>\n",
       "      <td>2284965</td>\n",
       "      <td>569305</td>\n",
       "      <td>1751080</td>\n",
       "      <td>-1181775</td>\n",
       "      <td>-135037</td>\n",
       "      <td>1215577</td>\n",
       "      <td>1416875</td>\n",
       "      <td>2632452</td>\n",
       "    </tr>\n",
       "    <tr>\n",
       "      <th>3410</th>\n",
       "      <td>2005</td>\n",
       "      <td>c088</td>\n",
       "      <td>health</td>\n",
       "      <td>10839</td>\n",
       "      <td>0</td>\n",
       "      <td>0</td>\n",
       "      <td>0</td>\n",
       "      <td>0</td>\n",
       "      <td>0</td>\n",
       "      <td>0</td>\n",
       "      <td>0</td>\n",
       "      <td>0</td>\n",
       "      <td>10839</td>\n",
       "      <td>15921</td>\n",
       "      <td>136</td>\n",
       "      <td>26624</td>\n",
       "      <td>16707</td>\n",
       "      <td>0</td>\n",
       "      <td>0</td>\n",
       "      <td>0</td>\n",
       "      <td>0</td>\n",
       "      <td>0</td>\n",
       "      <td>0</td>\n",
       "      <td>0</td>\n",
       "      <td>0</td>\n",
       "      <td>16707</td>\n",
       "      <td>0</td>\n",
       "      <td>0</td>\n",
       "      <td>16707</td>\n",
       "      <td>1187</td>\n",
       "      <td>1626</td>\n",
       "      <td>0</td>\n",
       "      <td>1626</td>\n",
       "      <td>133</td>\n",
       "      <td>6971</td>\n",
       "      <td>203</td>\n",
       "      <td>7174</td>\n",
       "    </tr>\n",
       "    <tr>\n",
       "      <th>4465</th>\n",
       "      <td>2008</td>\n",
       "      <td>c109</td>\n",
       "      <td>bonds</td>\n",
       "      <td>1361699</td>\n",
       "      <td>47483</td>\n",
       "      <td>0</td>\n",
       "      <td>0</td>\n",
       "      <td>47483</td>\n",
       "      <td>134435</td>\n",
       "      <td>0</td>\n",
       "      <td>9880</td>\n",
       "      <td>144315</td>\n",
       "      <td>1264867</td>\n",
       "      <td>378000</td>\n",
       "      <td>802000</td>\n",
       "      <td>840867</td>\n",
       "      <td>37399</td>\n",
       "      <td>0</td>\n",
       "      <td>0</td>\n",
       "      <td>0</td>\n",
       "      <td>0</td>\n",
       "      <td>1570</td>\n",
       "      <td>0</td>\n",
       "      <td>1544</td>\n",
       "      <td>3114</td>\n",
       "      <td>34285</td>\n",
       "      <td>0</td>\n",
       "      <td>0</td>\n",
       "      <td>34285</td>\n",
       "      <td>242265</td>\n",
       "      <td>222218</td>\n",
       "      <td>20103</td>\n",
       "      <td>202115</td>\n",
       "      <td>3006</td>\n",
       "      <td>359196</td>\n",
       "      <td>-98248</td>\n",
       "      <td>260948</td>\n",
       "    </tr>\n",
       "    <tr>\n",
       "      <th>5699</th>\n",
       "      <td>2006</td>\n",
       "      <td>c153</td>\n",
       "      <td>pa</td>\n",
       "      <td>0</td>\n",
       "      <td>261227</td>\n",
       "      <td>0</td>\n",
       "      <td>296</td>\n",
       "      <td>261523</td>\n",
       "      <td>0</td>\n",
       "      <td>0</td>\n",
       "      <td>0</td>\n",
       "      <td>0</td>\n",
       "      <td>261523</td>\n",
       "      <td>240000</td>\n",
       "      <td>107000</td>\n",
       "      <td>394523</td>\n",
       "      <td>0</td>\n",
       "      <td>35411</td>\n",
       "      <td>0</td>\n",
       "      <td>0</td>\n",
       "      <td>35411</td>\n",
       "      <td>0</td>\n",
       "      <td>0</td>\n",
       "      <td>0</td>\n",
       "      <td>0</td>\n",
       "      <td>35411</td>\n",
       "      <td>0</td>\n",
       "      <td>0</td>\n",
       "      <td>35411</td>\n",
       "      <td>9063</td>\n",
       "      <td>28870</td>\n",
       "      <td>0</td>\n",
       "      <td>28870</td>\n",
       "      <td>588</td>\n",
       "      <td>320591</td>\n",
       "      <td>20140</td>\n",
       "      <td>340731</td>\n",
       "    </tr>\n",
       "    <tr>\n",
       "      <th>5796</th>\n",
       "      <td>2005</td>\n",
       "      <td>c156</td>\n",
       "      <td>mahl</td>\n",
       "      <td>130706</td>\n",
       "      <td>0</td>\n",
       "      <td>0</td>\n",
       "      <td>0</td>\n",
       "      <td>0</td>\n",
       "      <td>3268</td>\n",
       "      <td>0</td>\n",
       "      <td>116906</td>\n",
       "      <td>120174</td>\n",
       "      <td>10532</td>\n",
       "      <td>7354</td>\n",
       "      <td>6654</td>\n",
       "      <td>11232</td>\n",
       "      <td>253355</td>\n",
       "      <td>0</td>\n",
       "      <td>0</td>\n",
       "      <td>0</td>\n",
       "      <td>0</td>\n",
       "      <td>6334</td>\n",
       "      <td>0</td>\n",
       "      <td>236887</td>\n",
       "      <td>243221</td>\n",
       "      <td>10134</td>\n",
       "      <td>0</td>\n",
       "      <td>0</td>\n",
       "      <td>10134</td>\n",
       "      <td>2758</td>\n",
       "      <td>0</td>\n",
       "      <td>5904</td>\n",
       "      <td>-5904</td>\n",
       "      <td>0</td>\n",
       "      <td>4244</td>\n",
       "      <td>359</td>\n",
       "      <td>4603</td>\n",
       "    </tr>\n",
       "  </tbody>\n",
       "</table>\n",
       "</div>"
      ],
      "text/plain": [
       "      year company   class  prem_acc_direct  prem_acc_rein_sg  \\\n",
       "1287  2010    c038    mahl            22819                 0   \n",
       "1454  2006    c044   bonds          3710493                 0   \n",
       "1456  2007    c044   bonds          9868235                 0   \n",
       "3410  2005    c088  health            10839                 0   \n",
       "4465  2008    c109   bonds          1361699             47483   \n",
       "5699  2006    c153      pa                0            261227   \n",
       "5796  2005    c156    mahl           130706                 0   \n",
       "\n",
       "      prem_acc_rein_asean  prem_acc_rein_other  prem_acc_total_rein  \\\n",
       "1287                    0                    0                    0   \n",
       "1454                    0                    0                    0   \n",
       "1456                    0                    0                    0   \n",
       "3410                    0                    0                    0   \n",
       "4465                    0                    0                47483   \n",
       "5699                    0                  296               261523   \n",
       "5796                    0                    0                    0   \n",
       "\n",
       "      prem_cede_rein_sg  prem_cede_rein_asean  prem_cede_rein_other  \\\n",
       "1287                  0                     0                     0   \n",
       "1454              -4303                     0               2107577   \n",
       "1456                  0                     0               6165402   \n",
       "3410                  0                     0                     0   \n",
       "4465             134435                     0                  9880   \n",
       "5699                  0                     0                     0   \n",
       "5796               3268                     0                116906   \n",
       "\n",
       "      prem_cede_rein_total  prem_write_net  prem_liab_begin  prem_liab_end  \\\n",
       "1287                     0           22819            14759          14345   \n",
       "1454               2103274         1607219          7023000        6029000   \n",
       "1456               6165402         3702833          6029000        6393000   \n",
       "3410                     0           10839            15921            136   \n",
       "4465                144315         1264867           378000         802000   \n",
       "5699                     0          261523           240000         107000   \n",
       "5796                120174           10532             7354           6654   \n",
       "\n",
       "      prem_earned  claim_set_direct  claim_set_rein_sg  claim_set_rein_asean  \\\n",
       "1287        23233               250                  0                     0   \n",
       "1454      2601219           1155710                  0                     0   \n",
       "1456      3338833           1862392                  0                     0   \n",
       "3410        26624             16707                  0                     0   \n",
       "4465       840867             37399                  0                     0   \n",
       "5699       394523                 0              35411                     0   \n",
       "5796        11232            253355                  0                     0   \n",
       "\n",
       "      claim_set_rein_other  claim_set_total_rein  claim_rcv_rein_sg  \\\n",
       "1287                     0                     0                  0   \n",
       "1454                     0                     0              -2207   \n",
       "1456                     0                     0             912526   \n",
       "3410                     0                     0                  0   \n",
       "4465                     0                     0               1570   \n",
       "5699                     0                 35411                  0   \n",
       "5796                     0                     0               6334   \n",
       "\n",
       "      claim_rcv_rein_asean  claim_rcv_rein_other  claim_rcv_rein_total  \\\n",
       "1287                     0                     0                     0   \n",
       "1454                     0                924147                921940   \n",
       "1456                     0               -205237                707289   \n",
       "3410                     0                     0                     0   \n",
       "4465                     0                  1544                  3114   \n",
       "5699                     0                     0                     0   \n",
       "5796                     0                236887                243221   \n",
       "\n",
       "      claim_set_net  claim_liab_end  claim_liab_begin  claim_incur_net  \\\n",
       "1287            250               0                 0              250   \n",
       "1454         233770               0                 0           233770   \n",
       "1456        1155103               0                 0          1155103   \n",
       "3410          16707               0                 0            16707   \n",
       "4465          34285               0                 0            34285   \n",
       "5699          35411               0                 0            35411   \n",
       "5796          10134               0                 0            10134   \n",
       "\n",
       "      exp_management  exp_comm_paid  exp_comm_earned  exp_comm_incur_net  \\\n",
       "1287            6007           4292                0                4292   \n",
       "1454         1233781         354246           515311             -161065   \n",
       "1456         2284965         569305          1751080            -1181775   \n",
       "3410            1187           1626                0                1626   \n",
       "4465          242265         222218            20103              202115   \n",
       "5699            9063          28870                0               28870   \n",
       "5796            2758              0             5904               -5904   \n",
       "\n",
       "      exp_other  uw_gain  net_invest_income  operating_result  \n",
       "1287          0    12684               1598             14282  \n",
       "1454      97109  1197624            1064936           2262560  \n",
       "1456    -135037  1215577            1416875           2632452  \n",
       "3410        133     6971                203              7174  \n",
       "4465       3006   359196             -98248            260948  \n",
       "5699        588   320591              20140            340731  \n",
       "5796          0     4244                359              4603  "
      ]
     },
     "execution_count": 15,
     "metadata": {},
     "output_type": "execute_result"
    }
   ],
   "source": [
    "# check if there are cases where claim liability was 0 at both the beginning/end of period, AND claims were settled.\n",
    "# this means the claims occurred and were settled within the reporting period\n",
    "df[(df['claim_liab_begin']==0) & (df['claim_liab_end']==0) & (df['claim_set_net']>0)]"
   ]
  },
  {
   "cell_type": "markdown",
   "metadata": {},
   "source": [
    "## Add columns for Policy Liability \n",
    "Add: period begin, period end, difference = end-begin"
   ]
  },
  {
   "cell_type": "code",
   "execution_count": 16,
   "metadata": {
    "ExecuteTime": {
     "end_time": "2019-12-04T02:41:13.513921Z",
     "start_time": "2019-12-04T02:41:13.484937Z"
    }
   },
   "outputs": [],
   "source": [
    "# insert additional columns:\n",
    "# 'policy_liab_begin' : policy liability at the beginning of the valuation period\n",
    "# 'policy_liab_end' : policy liability at the end of the valuation period\n",
    "# 'policy_liab_diff' : policy liability difference (delta) over the course of the valuation period\n",
    "# refer to MAS Guideline ID 1/04 regarding definition of Policy Liability\n",
    "df['policy_liab_begin'] = df['prem_liab_begin'] + df['claim_liab_begin']\n",
    "df['policy_liab_end'] = df['prem_liab_end'] + df['claim_liab_end']\n",
    "df['policy_liab_diff'] = df['policy_liab_end'] - df['policy_liab_begin']"
   ]
  },
  {
   "cell_type": "code",
   "execution_count": 17,
   "metadata": {
    "ExecuteTime": {
     "end_time": "2019-12-04T02:41:16.372373Z",
     "start_time": "2019-12-04T02:41:16.328400Z"
    }
   },
   "outputs": [
    {
     "data": {
      "text/html": [
       "<div>\n",
       "<style scoped>\n",
       "    .dataframe tbody tr th:only-of-type {\n",
       "        vertical-align: middle;\n",
       "    }\n",
       "\n",
       "    .dataframe tbody tr th {\n",
       "        vertical-align: top;\n",
       "    }\n",
       "\n",
       "    .dataframe thead th {\n",
       "        text-align: right;\n",
       "    }\n",
       "</style>\n",
       "<table border=\"1\" class=\"dataframe\">\n",
       "  <thead>\n",
       "    <tr style=\"text-align: right;\">\n",
       "      <th></th>\n",
       "      <th>year</th>\n",
       "      <th>company</th>\n",
       "      <th>class</th>\n",
       "      <th>prem_acc_direct</th>\n",
       "      <th>prem_acc_rein_sg</th>\n",
       "      <th>prem_acc_rein_asean</th>\n",
       "      <th>prem_acc_rein_other</th>\n",
       "      <th>prem_acc_total_rein</th>\n",
       "      <th>prem_cede_rein_sg</th>\n",
       "      <th>prem_cede_rein_asean</th>\n",
       "      <th>prem_cede_rein_other</th>\n",
       "      <th>prem_cede_rein_total</th>\n",
       "      <th>prem_write_net</th>\n",
       "      <th>prem_liab_begin</th>\n",
       "      <th>prem_liab_end</th>\n",
       "      <th>prem_earned</th>\n",
       "      <th>claim_set_direct</th>\n",
       "      <th>claim_set_rein_sg</th>\n",
       "      <th>claim_set_rein_asean</th>\n",
       "      <th>claim_set_rein_other</th>\n",
       "      <th>claim_set_total_rein</th>\n",
       "      <th>claim_rcv_rein_sg</th>\n",
       "      <th>claim_rcv_rein_asean</th>\n",
       "      <th>claim_rcv_rein_other</th>\n",
       "      <th>claim_rcv_rein_total</th>\n",
       "      <th>claim_set_net</th>\n",
       "      <th>claim_liab_end</th>\n",
       "      <th>claim_liab_begin</th>\n",
       "      <th>claim_incur_net</th>\n",
       "      <th>exp_management</th>\n",
       "      <th>exp_comm_paid</th>\n",
       "      <th>exp_comm_earned</th>\n",
       "      <th>exp_comm_incur_net</th>\n",
       "      <th>exp_other</th>\n",
       "      <th>uw_gain</th>\n",
       "      <th>net_invest_income</th>\n",
       "      <th>operating_result</th>\n",
       "      <th>policy_liab_begin</th>\n",
       "      <th>policy_liab_end</th>\n",
       "      <th>policy_liab_diff</th>\n",
       "    </tr>\n",
       "  </thead>\n",
       "  <tbody>\n",
       "    <tr>\n",
       "      <th>0</th>\n",
       "      <td>2009</td>\n",
       "      <td>c002</td>\n",
       "      <td>health</td>\n",
       "      <td>5105503</td>\n",
       "      <td>0</td>\n",
       "      <td>0</td>\n",
       "      <td>0</td>\n",
       "      <td>0</td>\n",
       "      <td>0</td>\n",
       "      <td>0</td>\n",
       "      <td>18176</td>\n",
       "      <td>18176</td>\n",
       "      <td>5087327</td>\n",
       "      <td>-122589</td>\n",
       "      <td>3656745</td>\n",
       "      <td>1307993</td>\n",
       "      <td>694266</td>\n",
       "      <td>0</td>\n",
       "      <td>0</td>\n",
       "      <td>0</td>\n",
       "      <td>0</td>\n",
       "      <td>0</td>\n",
       "      <td>0</td>\n",
       "      <td>0</td>\n",
       "      <td>0</td>\n",
       "      <td>694266</td>\n",
       "      <td>1049173</td>\n",
       "      <td>-35173</td>\n",
       "      <td>1778612</td>\n",
       "      <td>402004</td>\n",
       "      <td>601793</td>\n",
       "      <td>0</td>\n",
       "      <td>601793</td>\n",
       "      <td>0</td>\n",
       "      <td>-1474416</td>\n",
       "      <td>2170</td>\n",
       "      <td>-1472246</td>\n",
       "      <td>-157762</td>\n",
       "      <td>4705918</td>\n",
       "      <td>4863680</td>\n",
       "    </tr>\n",
       "    <tr>\n",
       "      <th>1</th>\n",
       "      <td>2010</td>\n",
       "      <td>c002</td>\n",
       "      <td>health</td>\n",
       "      <td>9407385</td>\n",
       "      <td>0</td>\n",
       "      <td>0</td>\n",
       "      <td>0</td>\n",
       "      <td>0</td>\n",
       "      <td>0</td>\n",
       "      <td>0</td>\n",
       "      <td>73981</td>\n",
       "      <td>73981</td>\n",
       "      <td>9333404</td>\n",
       "      <td>3279559</td>\n",
       "      <td>4357154</td>\n",
       "      <td>8255809</td>\n",
       "      <td>5121498</td>\n",
       "      <td>0</td>\n",
       "      <td>0</td>\n",
       "      <td>0</td>\n",
       "      <td>0</td>\n",
       "      <td>0</td>\n",
       "      <td>0</td>\n",
       "      <td>0</td>\n",
       "      <td>0</td>\n",
       "      <td>5121498</td>\n",
       "      <td>1948299</td>\n",
       "      <td>897771</td>\n",
       "      <td>6172026</td>\n",
       "      <td>1340434</td>\n",
       "      <td>987714</td>\n",
       "      <td>0</td>\n",
       "      <td>987714</td>\n",
       "      <td>0</td>\n",
       "      <td>-244365</td>\n",
       "      <td>14355</td>\n",
       "      <td>-230010</td>\n",
       "      <td>4177330</td>\n",
       "      <td>6305453</td>\n",
       "      <td>2128123</td>\n",
       "    </tr>\n",
       "    <tr>\n",
       "      <th>2</th>\n",
       "      <td>2011</td>\n",
       "      <td>c002</td>\n",
       "      <td>health</td>\n",
       "      <td>9386439</td>\n",
       "      <td>0</td>\n",
       "      <td>0</td>\n",
       "      <td>0</td>\n",
       "      <td>0</td>\n",
       "      <td>0</td>\n",
       "      <td>0</td>\n",
       "      <td>4690426</td>\n",
       "      <td>4690426</td>\n",
       "      <td>4696013</td>\n",
       "      <td>4346504</td>\n",
       "      <td>2628518</td>\n",
       "      <td>6413999</td>\n",
       "      <td>6161156</td>\n",
       "      <td>0</td>\n",
       "      <td>0</td>\n",
       "      <td>0</td>\n",
       "      <td>0</td>\n",
       "      <td>0</td>\n",
       "      <td>0</td>\n",
       "      <td>806620</td>\n",
       "      <td>806620</td>\n",
       "      <td>5354536</td>\n",
       "      <td>1739485</td>\n",
       "      <td>1961409</td>\n",
       "      <td>5132612</td>\n",
       "      <td>1432763</td>\n",
       "      <td>982201</td>\n",
       "      <td>492162</td>\n",
       "      <td>490039</td>\n",
       "      <td>0</td>\n",
       "      <td>-641415</td>\n",
       "      <td>6749</td>\n",
       "      <td>-634666</td>\n",
       "      <td>6307913</td>\n",
       "      <td>4368003</td>\n",
       "      <td>-1939910</td>\n",
       "    </tr>\n",
       "    <tr>\n",
       "      <th>3</th>\n",
       "      <td>2012</td>\n",
       "      <td>c002</td>\n",
       "      <td>health</td>\n",
       "      <td>9560102</td>\n",
       "      <td>0</td>\n",
       "      <td>0</td>\n",
       "      <td>0</td>\n",
       "      <td>0</td>\n",
       "      <td>0</td>\n",
       "      <td>0</td>\n",
       "      <td>4827647</td>\n",
       "      <td>4827647</td>\n",
       "      <td>4732455</td>\n",
       "      <td>2483623</td>\n",
       "      <td>2164959</td>\n",
       "      <td>5051119</td>\n",
       "      <td>5892717</td>\n",
       "      <td>0</td>\n",
       "      <td>0</td>\n",
       "      <td>0</td>\n",
       "      <td>0</td>\n",
       "      <td>0</td>\n",
       "      <td>0</td>\n",
       "      <td>2789997</td>\n",
       "      <td>2789997</td>\n",
       "      <td>3102720</td>\n",
       "      <td>1281165</td>\n",
       "      <td>1646957</td>\n",
       "      <td>2736928</td>\n",
       "      <td>1128033</td>\n",
       "      <td>1050084</td>\n",
       "      <td>525043</td>\n",
       "      <td>525041</td>\n",
       "      <td>0</td>\n",
       "      <td>661117</td>\n",
       "      <td>11960</td>\n",
       "      <td>673077</td>\n",
       "      <td>4130580</td>\n",
       "      <td>3446124</td>\n",
       "      <td>-684456</td>\n",
       "    </tr>\n",
       "    <tr>\n",
       "      <th>4</th>\n",
       "      <td>2013</td>\n",
       "      <td>c002</td>\n",
       "      <td>health</td>\n",
       "      <td>12284004</td>\n",
       "      <td>0</td>\n",
       "      <td>0</td>\n",
       "      <td>0</td>\n",
       "      <td>0</td>\n",
       "      <td>0</td>\n",
       "      <td>0</td>\n",
       "      <td>6194945</td>\n",
       "      <td>6194945</td>\n",
       "      <td>6089059</td>\n",
       "      <td>2244439</td>\n",
       "      <td>3044172</td>\n",
       "      <td>5289326</td>\n",
       "      <td>6583877</td>\n",
       "      <td>0</td>\n",
       "      <td>0</td>\n",
       "      <td>0</td>\n",
       "      <td>0</td>\n",
       "      <td>0</td>\n",
       "      <td>0</td>\n",
       "      <td>3283009</td>\n",
       "      <td>3283009</td>\n",
       "      <td>3300868</td>\n",
       "      <td>1470513</td>\n",
       "      <td>1325221</td>\n",
       "      <td>3446160</td>\n",
       "      <td>1101279</td>\n",
       "      <td>1424087</td>\n",
       "      <td>711939</td>\n",
       "      <td>712148</td>\n",
       "      <td>0</td>\n",
       "      <td>29739</td>\n",
       "      <td>7003</td>\n",
       "      <td>36742</td>\n",
       "      <td>3569660</td>\n",
       "      <td>4514685</td>\n",
       "      <td>945025</td>\n",
       "    </tr>\n",
       "  </tbody>\n",
       "</table>\n",
       "</div>"
      ],
      "text/plain": [
       "   year company   class  prem_acc_direct  prem_acc_rein_sg  \\\n",
       "0  2009    c002  health          5105503                 0   \n",
       "1  2010    c002  health          9407385                 0   \n",
       "2  2011    c002  health          9386439                 0   \n",
       "3  2012    c002  health          9560102                 0   \n",
       "4  2013    c002  health         12284004                 0   \n",
       "\n",
       "   prem_acc_rein_asean  prem_acc_rein_other  prem_acc_total_rein  \\\n",
       "0                    0                    0                    0   \n",
       "1                    0                    0                    0   \n",
       "2                    0                    0                    0   \n",
       "3                    0                    0                    0   \n",
       "4                    0                    0                    0   \n",
       "\n",
       "   prem_cede_rein_sg  prem_cede_rein_asean  prem_cede_rein_other  \\\n",
       "0                  0                     0                 18176   \n",
       "1                  0                     0                 73981   \n",
       "2                  0                     0               4690426   \n",
       "3                  0                     0               4827647   \n",
       "4                  0                     0               6194945   \n",
       "\n",
       "   prem_cede_rein_total  prem_write_net  prem_liab_begin  prem_liab_end  \\\n",
       "0                 18176         5087327          -122589        3656745   \n",
       "1                 73981         9333404          3279559        4357154   \n",
       "2               4690426         4696013          4346504        2628518   \n",
       "3               4827647         4732455          2483623        2164959   \n",
       "4               6194945         6089059          2244439        3044172   \n",
       "\n",
       "   prem_earned  claim_set_direct  claim_set_rein_sg  claim_set_rein_asean  \\\n",
       "0      1307993            694266                  0                     0   \n",
       "1      8255809           5121498                  0                     0   \n",
       "2      6413999           6161156                  0                     0   \n",
       "3      5051119           5892717                  0                     0   \n",
       "4      5289326           6583877                  0                     0   \n",
       "\n",
       "   claim_set_rein_other  claim_set_total_rein  claim_rcv_rein_sg  \\\n",
       "0                     0                     0                  0   \n",
       "1                     0                     0                  0   \n",
       "2                     0                     0                  0   \n",
       "3                     0                     0                  0   \n",
       "4                     0                     0                  0   \n",
       "\n",
       "   claim_rcv_rein_asean  claim_rcv_rein_other  claim_rcv_rein_total  \\\n",
       "0                     0                     0                     0   \n",
       "1                     0                     0                     0   \n",
       "2                     0                806620                806620   \n",
       "3                     0               2789997               2789997   \n",
       "4                     0               3283009               3283009   \n",
       "\n",
       "   claim_set_net  claim_liab_end  claim_liab_begin  claim_incur_net  \\\n",
       "0         694266         1049173            -35173          1778612   \n",
       "1        5121498         1948299            897771          6172026   \n",
       "2        5354536         1739485           1961409          5132612   \n",
       "3        3102720         1281165           1646957          2736928   \n",
       "4        3300868         1470513           1325221          3446160   \n",
       "\n",
       "   exp_management  exp_comm_paid  exp_comm_earned  exp_comm_incur_net  \\\n",
       "0          402004         601793                0              601793   \n",
       "1         1340434         987714                0              987714   \n",
       "2         1432763         982201           492162              490039   \n",
       "3         1128033        1050084           525043              525041   \n",
       "4         1101279        1424087           711939              712148   \n",
       "\n",
       "   exp_other  uw_gain  net_invest_income  operating_result  policy_liab_begin  \\\n",
       "0          0 -1474416               2170          -1472246            -157762   \n",
       "1          0  -244365              14355           -230010            4177330   \n",
       "2          0  -641415               6749           -634666            6307913   \n",
       "3          0   661117              11960            673077            4130580   \n",
       "4          0    29739               7003             36742            3569660   \n",
       "\n",
       "   policy_liab_end  policy_liab_diff  \n",
       "0          4705918           4863680  \n",
       "1          6305453           2128123  \n",
       "2          4368003          -1939910  \n",
       "3          3446124           -684456  \n",
       "4          4514685            945025  "
      ]
     },
     "execution_count": 17,
     "metadata": {},
     "output_type": "execute_result"
    }
   ],
   "source": [
    "df.head()"
   ]
  },
  {
   "cell_type": "markdown",
   "metadata": {},
   "source": [
    "# Exploratory Data Analysis (EDA)"
   ]
  },
  {
   "cell_type": "code",
   "execution_count": 18,
   "metadata": {
    "ExecuteTime": {
     "end_time": "2019-12-04T02:41:21.792597Z",
     "start_time": "2019-12-04T02:41:21.784601Z"
    }
   },
   "outputs": [],
   "source": [
    "# insurance class dictionary\n",
    "ins_class_dict = {'mac':'Marine and Aviation Cargo',\n",
    "                  'mahl':'Marine and Aviation Hull and Liability',\n",
    "                  'fire':'Fire',\n",
    "                  'motor':'Motor',\n",
    "                  'wic':'Work Injury Compensation',\n",
    "                  'pa':'Personal Accident',\n",
    "                  'health':'Health',\n",
    "                  'pub_lia':'Public Liability',\n",
    "                  'bonds':'Bonds',\n",
    "                  'cnstr_engr':'Engineering/CAR/EAR',\n",
    "                  'prof_indm':'Professional Indemnity',\n",
    "                  'cpr':'Credit/Political Risk',\n",
    "                  'others':'Others'}"
   ]
  },
  {
   "cell_type": "code",
   "execution_count": 19,
   "metadata": {
    "ExecuteTime": {
     "end_time": "2019-12-04T02:41:30.067680Z",
     "start_time": "2019-12-04T02:41:30.060684Z"
    }
   },
   "outputs": [
    {
     "name": "stdout",
     "output_type": "stream",
     "text": [
      "['health', 'cpr', 'pa', 'pub_lia', 'motor', 'prof_indm', 'others', 'fire', 'cnstr_engr', 'wic', 'mahl', 'bonds', 'mac']\n"
     ]
    }
   ],
   "source": [
    "class_list = list(set(df['class']))\n",
    "print(class_list)"
   ]
  },
  {
   "cell_type": "code",
   "execution_count": 45,
   "metadata": {
    "ExecuteTime": {
     "end_time": "2019-12-04T04:10:24.580551Z",
     "start_time": "2019-12-04T04:10:23.995912Z"
    }
   },
   "outputs": [
    {
     "data": {
      "image/png": "[encoded data removed]",
      "text/plain": [
       "<Figure size 720x360 with 1 Axes>"
      ]
     },
     "metadata": {
      "needs_background": "light"
     },
     "output_type": "display_data"
    }
   ],
   "source": [
    "class_code_list = list(set(df['class']))\n",
    "class_name_list = [ins_class_dict[i] for i in class_code_list]\n",
    "width = [df[df['class']==i].count().values[0] for i in class_code_list]\n",
    "\n",
    "plt.figure(figsize=(10,5))\n",
    "plt.xticks(range(0,round(max(width)+50,-2),50))\n",
    "plt.barh(class_name_list,width)\n",
    "plt.ylabel('Insurance Classes')\n",
    "plt.xlabel('No. of rows')\n",
    "plt.title('Available Data by Insurance Classes')\n",
    "plt.show()"
   ]
  },
  {
   "cell_type": "markdown",
   "metadata": {},
   "source": [
    "Based on the count, 'cpr' (Credit/Political Risks) insurance type has the least number of rows (about 200) while 'fire' (Fire) insurance type has the most rows (about 730)."
   ]
  },
  {
   "cell_type": "markdown",
   "metadata": {},
   "source": [
    "### Check Number of 'Active' Insurers Each Year Since 2005\n",
    "(records available from MAS from 2005 onwards only)"
   ]
  },
  {
   "cell_type": "code",
   "execution_count": 44,
   "metadata": {
    "ExecuteTime": {
     "end_time": "2019-12-04T04:09:44.429759Z",
     "start_time": "2019-12-04T04:09:43.972039Z"
    }
   },
   "outputs": [
    {
     "data": {
      "image/png": "[encoded data removed]",
      "text/plain": [
       "<Figure size 720x360 with 1 Axes>"
      ]
     },
     "metadata": {
      "needs_background": "light"
     },
     "output_type": "display_data"
    }
   ],
   "source": [
    "year_list = [2005,2006,2007,2008,2009,2010,2011,2012,2013,2014,2015,2016,2017,2018]\n",
    "width = [len(set(df[df['year']==i]['company'])) for i in year_list]\n",
    "\n",
    "plt.figure(figsize=(10,5))\n",
    "plt.xticks(range(0,round(max(width)+50,-1),10))\n",
    "plt.yticks(ticks=year_list)\n",
    "plt.barh(year_list,width)\n",
    "plt.ylabel('Year')\n",
    "plt.xlabel('No. of insurance companies that submitted annual returns to MAS')\n",
    "plt.title('Active Insurers By Year')\n",
    "plt.show()"
   ]
  },
  {
   "cell_type": "markdown",
   "metadata": {},
   "source": [
    "### Percentage of Negative U/W Gain for All Insurance Classes, by Year\n",
    "Across all companies and insurance classes"
   ]
  },
  {
   "cell_type": "code",
   "execution_count": 31,
   "metadata": {
    "ExecuteTime": {
     "end_time": "2019-12-04T02:47:39.489650Z",
     "start_time": "2019-12-04T02:47:39.363727Z"
    }
   },
   "outputs": [
    {
     "name": "stdout",
     "output_type": "stream",
     "text": [
      "45\n"
     ]
    }
   ],
   "source": [
    "year_list = [2005,2006,2007,2008,2009,2010,2011,2012,2013,2014,2015,2016,2017,2018]\n",
    "width = [100* df[(df['uw_gain']<0) & \n",
    "                 (df['year']==i)].count().values[0] /\n",
    "         df[df['year']==i].count().values[0] \n",
    "         for i in year_list]\n",
    "print(math.ceil(max(width)))"
   ]
  },
  {
   "cell_type": "code",
   "execution_count": 32,
   "metadata": {
    "ExecuteTime": {
     "end_time": "2019-12-04T02:47:45.304404Z",
     "start_time": "2019-12-04T02:47:44.743193Z"
    }
   },
   "outputs": [
    {
     "data": {
      "image/png": "[encoded data removed]",
      "text/plain": [
       "<Figure size 720x360 with 1 Axes>"
      ]
     },
     "metadata": {
      "needs_background": "light"
     },
     "output_type": "display_data"
    }
   ],
   "source": [
    "year_list = [2005,2006,2007,2008,2009,2010,2011,2012,2013,2014,2015,2016,2017,2018]\n",
    "width = [100* df[(df['uw_gain']<0) & \n",
    "                 (df['year']==i)].count().values[0] /\n",
    "         df[df['year']==i].count().values[0] \n",
    "         for i in year_list]\n",
    "\n",
    "plt.figure(figsize=(10,5))\n",
    "# plt.xticks(range(0,XXXXX,10))\n",
    "plt.xticks(range(0,50,5))\n",
    "plt.yticks(ticks=year_list)\n",
    "plt.barh(year_list,width)\n",
    "plt.ylabel('Year')\n",
    "plt.xlabel('Percentage (%) of insurance types sold which resulted in Negative Underwriting Gains')\n",
    "plt.title('Year-On-Year Negative Underwriting Gains (Aggregated across ALL Insurance Classes)')\n",
    "plt.show()"
   ]
  },
  {
   "cell_type": "markdown",
   "metadata": {},
   "source": [
    "### Percentage of Negative U/W Gain for Each Insurance Class, by Year\n",
    "Across all companies and insurance classes"
   ]
  },
  {
   "cell_type": "code",
   "execution_count": 34,
   "metadata": {
    "ExecuteTime": {
     "end_time": "2019-12-04T02:48:20.504879Z",
     "start_time": "2019-12-04T02:48:12.980491Z"
    }
   },
   "outputs": [
    {
     "data": {
      "image/png": "[encoded data removed]",
      "text/plain": [
       "<Figure size 720x4680 with 13 Axes>"
      ]
     },
     "metadata": {
      "needs_background": "light"
     },
     "output_type": "display_data"
    }
   ],
   "source": [
    "year_list = [2005,2006,2007,2008,2009,2010,2011,2012,2013,2014,2015,2016,2017,2018]\n",
    "ins_class_list = list(ins_class_dict.keys())\n",
    "\n",
    "fig, axes = plt.subplots(len(ins_class_list),figsize=(10,65),sharex=False)\n",
    "for counter, c_item in enumerate(ins_class_list):\n",
    "    # use list comprehension to construct width vector\n",
    "    width = [100* df[(df['uw_gain']<0) & (df['class']==c_item) & \n",
    "                     (df['year']==i)].count().values[0] / \n",
    "             df[(df['year']==i) & (df['class']==c_item)].count().values[0] \n",
    "             for i in year_list]\n",
    "    \n",
    "    axes[counter].set_ylabel('Year')\n",
    "    axes[counter].set_xlabel('Percentage (%) of insurance types sold which resulted in Negative Underwriting Gains')\n",
    "    axes[counter].set_title(str(counter+1)+')  Year-On-Year Negative Underwriting Gains ('+ ins_class_dict[c_item].upper() + ')')\n",
    "    axes[counter].set_xticks(range(0,100,5))\n",
    "    axes[counter].set_yticks(ticks=year_list)\n",
    "    axes[counter].barh(year_list,width)\n",
    "    \n",
    "plt.show()"
   ]
  },
  {
   "cell_type": "code",
   "execution_count": 48,
   "metadata": {
    "ExecuteTime": {
     "end_time": "2019-12-04T04:15:05.763200Z",
     "start_time": "2019-12-04T04:15:05.723226Z"
    }
   },
   "outputs": [
    {
     "data": {
      "text/html": [
       "<div>\n",
       "<style scoped>\n",
       "    .dataframe tbody tr th:only-of-type {\n",
       "        vertical-align: middle;\n",
       "    }\n",
       "\n",
       "    .dataframe tbody tr th {\n",
       "        vertical-align: top;\n",
       "    }\n",
       "\n",
       "    .dataframe thead th {\n",
       "        text-align: right;\n",
       "    }\n",
       "</style>\n",
       "<table border=\"1\" class=\"dataframe\">\n",
       "  <thead>\n",
       "    <tr style=\"text-align: right;\">\n",
       "      <th></th>\n",
       "      <th>year</th>\n",
       "      <th>company</th>\n",
       "      <th>class</th>\n",
       "      <th>prem_acc_direct</th>\n",
       "      <th>prem_acc_rein_sg</th>\n",
       "      <th>prem_acc_rein_asean</th>\n",
       "      <th>prem_acc_rein_other</th>\n",
       "      <th>prem_acc_total_rein</th>\n",
       "      <th>prem_cede_rein_sg</th>\n",
       "      <th>prem_cede_rein_asean</th>\n",
       "      <th>prem_cede_rein_other</th>\n",
       "      <th>prem_cede_rein_total</th>\n",
       "      <th>prem_write_net</th>\n",
       "      <th>prem_liab_begin</th>\n",
       "      <th>prem_liab_end</th>\n",
       "      <th>prem_earned</th>\n",
       "      <th>claim_set_direct</th>\n",
       "      <th>claim_set_rein_sg</th>\n",
       "      <th>claim_set_rein_asean</th>\n",
       "      <th>claim_set_rein_other</th>\n",
       "      <th>claim_set_total_rein</th>\n",
       "      <th>claim_rcv_rein_sg</th>\n",
       "      <th>claim_rcv_rein_asean</th>\n",
       "      <th>claim_rcv_rein_other</th>\n",
       "      <th>claim_rcv_rein_total</th>\n",
       "      <th>claim_set_net</th>\n",
       "      <th>claim_liab_end</th>\n",
       "      <th>claim_liab_begin</th>\n",
       "      <th>claim_incur_net</th>\n",
       "      <th>exp_management</th>\n",
       "      <th>exp_comm_paid</th>\n",
       "      <th>exp_comm_earned</th>\n",
       "      <th>exp_comm_incur_net</th>\n",
       "      <th>exp_other</th>\n",
       "      <th>uw_gain</th>\n",
       "      <th>net_invest_income</th>\n",
       "      <th>operating_result</th>\n",
       "      <th>policy_liab_begin</th>\n",
       "      <th>policy_liab_end</th>\n",
       "      <th>policy_liab_diff</th>\n",
       "    </tr>\n",
       "  </thead>\n",
       "  <tbody>\n",
       "    <tr>\n",
       "      <th>0</th>\n",
       "      <td>2009</td>\n",
       "      <td>c002</td>\n",
       "      <td>health</td>\n",
       "      <td>5105503</td>\n",
       "      <td>0</td>\n",
       "      <td>0</td>\n",
       "      <td>0</td>\n",
       "      <td>0</td>\n",
       "      <td>0</td>\n",
       "      <td>0</td>\n",
       "      <td>18176</td>\n",
       "      <td>18176</td>\n",
       "      <td>5087327</td>\n",
       "      <td>-122589</td>\n",
       "      <td>3656745</td>\n",
       "      <td>1307993</td>\n",
       "      <td>694266</td>\n",
       "      <td>0</td>\n",
       "      <td>0</td>\n",
       "      <td>0</td>\n",
       "      <td>0</td>\n",
       "      <td>0</td>\n",
       "      <td>0</td>\n",
       "      <td>0</td>\n",
       "      <td>0</td>\n",
       "      <td>694266</td>\n",
       "      <td>1049173</td>\n",
       "      <td>-35173</td>\n",
       "      <td>1778612</td>\n",
       "      <td>402004</td>\n",
       "      <td>601793</td>\n",
       "      <td>0</td>\n",
       "      <td>601793</td>\n",
       "      <td>0</td>\n",
       "      <td>-1474416</td>\n",
       "      <td>2170</td>\n",
       "      <td>-1472246</td>\n",
       "      <td>-157762</td>\n",
       "      <td>4705918</td>\n",
       "      <td>4863680</td>\n",
       "    </tr>\n",
       "    <tr>\n",
       "      <th>1</th>\n",
       "      <td>2010</td>\n",
       "      <td>c002</td>\n",
       "      <td>health</td>\n",
       "      <td>9407385</td>\n",
       "      <td>0</td>\n",
       "      <td>0</td>\n",
       "      <td>0</td>\n",
       "      <td>0</td>\n",
       "      <td>0</td>\n",
       "      <td>0</td>\n",
       "      <td>73981</td>\n",
       "      <td>73981</td>\n",
       "      <td>9333404</td>\n",
       "      <td>3279559</td>\n",
       "      <td>4357154</td>\n",
       "      <td>8255809</td>\n",
       "      <td>5121498</td>\n",
       "      <td>0</td>\n",
       "      <td>0</td>\n",
       "      <td>0</td>\n",
       "      <td>0</td>\n",
       "      <td>0</td>\n",
       "      <td>0</td>\n",
       "      <td>0</td>\n",
       "      <td>0</td>\n",
       "      <td>5121498</td>\n",
       "      <td>1948299</td>\n",
       "      <td>897771</td>\n",
       "      <td>6172026</td>\n",
       "      <td>1340434</td>\n",
       "      <td>987714</td>\n",
       "      <td>0</td>\n",
       "      <td>987714</td>\n",
       "      <td>0</td>\n",
       "      <td>-244365</td>\n",
       "      <td>14355</td>\n",
       "      <td>-230010</td>\n",
       "      <td>4177330</td>\n",
       "      <td>6305453</td>\n",
       "      <td>2128123</td>\n",
       "    </tr>\n",
       "    <tr>\n",
       "      <th>2</th>\n",
       "      <td>2011</td>\n",
       "      <td>c002</td>\n",
       "      <td>health</td>\n",
       "      <td>9386439</td>\n",
       "      <td>0</td>\n",
       "      <td>0</td>\n",
       "      <td>0</td>\n",
       "      <td>0</td>\n",
       "      <td>0</td>\n",
       "      <td>0</td>\n",
       "      <td>4690426</td>\n",
       "      <td>4690426</td>\n",
       "      <td>4696013</td>\n",
       "      <td>4346504</td>\n",
       "      <td>2628518</td>\n",
       "      <td>6413999</td>\n",
       "      <td>6161156</td>\n",
       "      <td>0</td>\n",
       "      <td>0</td>\n",
       "      <td>0</td>\n",
       "      <td>0</td>\n",
       "      <td>0</td>\n",
       "      <td>0</td>\n",
       "      <td>806620</td>\n",
       "      <td>806620</td>\n",
       "      <td>5354536</td>\n",
       "      <td>1739485</td>\n",
       "      <td>1961409</td>\n",
       "      <td>5132612</td>\n",
       "      <td>1432763</td>\n",
       "      <td>982201</td>\n",
       "      <td>492162</td>\n",
       "      <td>490039</td>\n",
       "      <td>0</td>\n",
       "      <td>-641415</td>\n",
       "      <td>6749</td>\n",
       "      <td>-634666</td>\n",
       "      <td>6307913</td>\n",
       "      <td>4368003</td>\n",
       "      <td>-1939910</td>\n",
       "    </tr>\n",
       "    <tr>\n",
       "      <th>3</th>\n",
       "      <td>2012</td>\n",
       "      <td>c002</td>\n",
       "      <td>health</td>\n",
       "      <td>9560102</td>\n",
       "      <td>0</td>\n",
       "      <td>0</td>\n",
       "      <td>0</td>\n",
       "      <td>0</td>\n",
       "      <td>0</td>\n",
       "      <td>0</td>\n",
       "      <td>4827647</td>\n",
       "      <td>4827647</td>\n",
       "      <td>4732455</td>\n",
       "      <td>2483623</td>\n",
       "      <td>2164959</td>\n",
       "      <td>5051119</td>\n",
       "      <td>5892717</td>\n",
       "      <td>0</td>\n",
       "      <td>0</td>\n",
       "      <td>0</td>\n",
       "      <td>0</td>\n",
       "      <td>0</td>\n",
       "      <td>0</td>\n",
       "      <td>2789997</td>\n",
       "      <td>2789997</td>\n",
       "      <td>3102720</td>\n",
       "      <td>1281165</td>\n",
       "      <td>1646957</td>\n",
       "      <td>2736928</td>\n",
       "      <td>1128033</td>\n",
       "      <td>1050084</td>\n",
       "      <td>525043</td>\n",
       "      <td>525041</td>\n",
       "      <td>0</td>\n",
       "      <td>661117</td>\n",
       "      <td>11960</td>\n",
       "      <td>673077</td>\n",
       "      <td>4130580</td>\n",
       "      <td>3446124</td>\n",
       "      <td>-684456</td>\n",
       "    </tr>\n",
       "    <tr>\n",
       "      <th>4</th>\n",
       "      <td>2013</td>\n",
       "      <td>c002</td>\n",
       "      <td>health</td>\n",
       "      <td>12284004</td>\n",
       "      <td>0</td>\n",
       "      <td>0</td>\n",
       "      <td>0</td>\n",
       "      <td>0</td>\n",
       "      <td>0</td>\n",
       "      <td>0</td>\n",
       "      <td>6194945</td>\n",
       "      <td>6194945</td>\n",
       "      <td>6089059</td>\n",
       "      <td>2244439</td>\n",
       "      <td>3044172</td>\n",
       "      <td>5289326</td>\n",
       "      <td>6583877</td>\n",
       "      <td>0</td>\n",
       "      <td>0</td>\n",
       "      <td>0</td>\n",
       "      <td>0</td>\n",
       "      <td>0</td>\n",
       "      <td>0</td>\n",
       "      <td>3283009</td>\n",
       "      <td>3283009</td>\n",
       "      <td>3300868</td>\n",
       "      <td>1470513</td>\n",
       "      <td>1325221</td>\n",
       "      <td>3446160</td>\n",
       "      <td>1101279</td>\n",
       "      <td>1424087</td>\n",
       "      <td>711939</td>\n",
       "      <td>712148</td>\n",
       "      <td>0</td>\n",
       "      <td>29739</td>\n",
       "      <td>7003</td>\n",
       "      <td>36742</td>\n",
       "      <td>3569660</td>\n",
       "      <td>4514685</td>\n",
       "      <td>945025</td>\n",
       "    </tr>\n",
       "  </tbody>\n",
       "</table>\n",
       "</div>"
      ],
      "text/plain": [
       "   year company   class  prem_acc_direct  prem_acc_rein_sg  \\\n",
       "0  2009    c002  health          5105503                 0   \n",
       "1  2010    c002  health          9407385                 0   \n",
       "2  2011    c002  health          9386439                 0   \n",
       "3  2012    c002  health          9560102                 0   \n",
       "4  2013    c002  health         12284004                 0   \n",
       "\n",
       "   prem_acc_rein_asean  prem_acc_rein_other  prem_acc_total_rein  \\\n",
       "0                    0                    0                    0   \n",
       "1                    0                    0                    0   \n",
       "2                    0                    0                    0   \n",
       "3                    0                    0                    0   \n",
       "4                    0                    0                    0   \n",
       "\n",
       "   prem_cede_rein_sg  prem_cede_rein_asean  prem_cede_rein_other  \\\n",
       "0                  0                     0                 18176   \n",
       "1                  0                     0                 73981   \n",
       "2                  0                     0               4690426   \n",
       "3                  0                     0               4827647   \n",
       "4                  0                     0               6194945   \n",
       "\n",
       "   prem_cede_rein_total  prem_write_net  prem_liab_begin  prem_liab_end  \\\n",
       "0                 18176         5087327          -122589        3656745   \n",
       "1                 73981         9333404          3279559        4357154   \n",
       "2               4690426         4696013          4346504        2628518   \n",
       "3               4827647         4732455          2483623        2164959   \n",
       "4               6194945         6089059          2244439        3044172   \n",
       "\n",
       "   prem_earned  claim_set_direct  claim_set_rein_sg  claim_set_rein_asean  \\\n",
       "0      1307993            694266                  0                     0   \n",
       "1      8255809           5121498                  0                     0   \n",
       "2      6413999           6161156                  0                     0   \n",
       "3      5051119           5892717                  0                     0   \n",
       "4      5289326           6583877                  0                     0   \n",
       "\n",
       "   claim_set_rein_other  claim_set_total_rein  claim_rcv_rein_sg  \\\n",
       "0                     0                     0                  0   \n",
       "1                     0                     0                  0   \n",
       "2                     0                     0                  0   \n",
       "3                     0                     0                  0   \n",
       "4                     0                     0                  0   \n",
       "\n",
       "   claim_rcv_rein_asean  claim_rcv_rein_other  claim_rcv_rein_total  \\\n",
       "0                     0                     0                     0   \n",
       "1                     0                     0                     0   \n",
       "2                     0                806620                806620   \n",
       "3                     0               2789997               2789997   \n",
       "4                     0               3283009               3283009   \n",
       "\n",
       "   claim_set_net  claim_liab_end  claim_liab_begin  claim_incur_net  \\\n",
       "0         694266         1049173            -35173          1778612   \n",
       "1        5121498         1948299            897771          6172026   \n",
       "2        5354536         1739485           1961409          5132612   \n",
       "3        3102720         1281165           1646957          2736928   \n",
       "4        3300868         1470513           1325221          3446160   \n",
       "\n",
       "   exp_management  exp_comm_paid  exp_comm_earned  exp_comm_incur_net  \\\n",
       "0          402004         601793                0              601793   \n",
       "1         1340434         987714                0              987714   \n",
       "2         1432763         982201           492162              490039   \n",
       "3         1128033        1050084           525043              525041   \n",
       "4         1101279        1424087           711939              712148   \n",
       "\n",
       "   exp_other  uw_gain  net_invest_income  operating_result  policy_liab_begin  \\\n",
       "0          0 -1474416               2170          -1472246            -157762   \n",
       "1          0  -244365              14355           -230010            4177330   \n",
       "2          0  -641415               6749           -634666            6307913   \n",
       "3          0   661117              11960            673077            4130580   \n",
       "4          0    29739               7003             36742            3569660   \n",
       "\n",
       "   policy_liab_end  policy_liab_diff  \n",
       "0          4705918           4863680  \n",
       "1          6305453           2128123  \n",
       "2          4368003          -1939910  \n",
       "3          3446124           -684456  \n",
       "4          4514685            945025  "
      ]
     },
     "execution_count": 48,
     "metadata": {},
     "output_type": "execute_result"
    }
   ],
   "source": [
    "df.head()"
   ]
  },
  {
   "cell_type": "code",
   "execution_count": null,
   "metadata": {},
   "outputs": [],
   "source": []
  },
  {
   "cell_type": "markdown",
   "metadata": {},
   "source": [
    "## Histograms"
   ]
  },
  {
   "cell_type": "code",
   "execution_count": 42,
   "metadata": {
    "ExecuteTime": {
     "end_time": "2019-12-04T04:06:24.750149Z",
     "start_time": "2019-12-04T04:06:24.161513Z"
    }
   },
   "outputs": [
    {
     "data": {
      "text/plain": [
       "(array([39.,  4.,  2.,  0.,  0.,  0.,  0.,  1.,  1.,  1.]),\n",
       " array([1.04117260e+07, 3.35720344e+07, 5.67323428e+07, 7.98926512e+07,\n",
       "        1.03052960e+08, 1.26213268e+08, 1.49373576e+08, 1.72533885e+08,\n",
       "        1.95694193e+08, 2.18854502e+08, 2.42014810e+08]),\n",
       " <a list of 10 Patch objects>)"
      ]
     },
     "execution_count": 42,
     "metadata": {},
     "output_type": "execute_result"
    },
    {
     "data": {
      "image/png": "[encoded data removed]",
      "text/plain": [
       "<Figure size 720x360 with 1 Axes>"
      ]
     },
     "metadata": {
      "needs_background": "light"
     },
     "output_type": "display_data"
    }
   ],
   "source": [
    "plt.figure(figsize=(10,5))\n",
    "ins_class = 'motor'\n",
    "year = 2010\n",
    "\n",
    "# x = df['prem_write_net']\n",
    "x = df[(df['year']==year) & (df['prem_write_net'] > 10000000)]['prem_write_net']\n",
    "# x = df[(df['class']==ins_class) & (df['year']==year)]['prem_write_net']\n",
    "# x = df[(df['class']==ins_class)]['prem_write_net']\n",
    "plt.hist(x,align='mid')"
   ]
  },
  {
   "cell_type": "markdown",
   "metadata": {},
   "source": [
    "## Line Plots"
   ]
  },
  {
   "cell_type": "markdown",
   "metadata": {},
   "source": [
    "### Set Class & Company"
   ]
  },
  {
   "cell_type": "code",
   "execution_count": 37,
   "metadata": {
    "ExecuteTime": {
     "end_time": "2019-12-04T04:04:18.965820Z",
     "start_time": "2019-12-04T04:04:18.955829Z"
    }
   },
   "outputs": [],
   "source": [
    "ins_class = 'motor' # Motor insurance\n",
    "company = 'c006' # AIG\n",
    "company_name = df_company[df_company['prefix']==company]['name'].values[0]"
   ]
  },
  {
   "cell_type": "markdown",
   "metadata": {},
   "source": [
    "##### Primary metrics"
   ]
  },
  {
   "cell_type": "code",
   "execution_count": 38,
   "metadata": {
    "ExecuteTime": {
     "end_time": "2019-12-04T04:04:22.253792Z",
     "start_time": "2019-12-04T04:04:21.105499Z"
    }
   },
   "outputs": [
    {
     "data": {
      "image/png": "[encoded data removed]",
      "text/plain": [
       "<Figure size 1008x540 with 1 Axes>"
      ]
     },
     "metadata": {
      "needs_background": "light"
     },
     "output_type": "display_data"
    }
   ],
   "source": [
    "plt.figure(figsize=(14,7.5))\n",
    "x = df[(df['class']==ins_class) & (df['company']==company)]['year']\n",
    "\n",
    "y = df[(df['class']==ins_class) & (df['company']==company)]['prem_write_net']/1000\n",
    "plt.plot(x,y,label='Net Premiums Written', color='blue',alpha=0.6, marker='o')\n",
    "\n",
    "y = df[(df['class']==ins_class) & (df['company']==company)]['policy_liab_end']/1000\n",
    "plt.plot(x,y,label='Policy Liability at end of period', color='darkgreen',alpha=0.6)\n",
    "\n",
    "y = df[(df['class']==ins_class) & (df['company']==company)]['policy_liab_begin']/1000\n",
    "plt.plot(x,y,label='Policy Liability at beginning of period', color='lightgreen',alpha=1.0)\n",
    "\n",
    "y = df[(df['class']==ins_class) & (df['company']==company)]['policy_liab_diff']/1000\n",
    "plt.plot(x,y,label='Policy Liability Difference (end - beginning)', color='grey',alpha=0.7,linestyle='dashed', marker='o')\n",
    "\n",
    "y = df[(df['class']==ins_class) & (df['company']==company)]['claim_set_net']/1000\n",
    "plt.plot(x,y,label='Net Claims Settled', color='red',alpha=0.6)\n",
    "\n",
    "y = df[(df['class']==ins_class) & (df['company']==company)]['exp_management']/1000\n",
    "plt.plot(x,y,label='Management Expenses', color='orange',alpha=0.6)\n",
    "\n",
    "y = df[(df['class']==ins_class) & (df['company']==company)]['exp_comm_incur_net']/1000\n",
    "plt.plot(x,y,label='Net Commissions Incurred', color='yellow',alpha=1.0)\n",
    "\n",
    "y = df[(df['class']==ins_class) & (df['company']==company)]['uw_gain']/1000\n",
    "plt.plot(x,y,label='Underwriting Gain/Loss', color='black',alpha=0.8, marker='o')\n",
    "\n",
    "plt.title(company_name + ' / ' + ins_class_dict[ins_class])\n",
    "plt.xlabel('Reporting Period')\n",
    "plt.ylabel('Amount in SGD 1,000')\n",
    "plt.legend();"
   ]
  },
  {
   "cell_type": "markdown",
   "metadata": {},
   "source": [
    "###### Normalized by Policy Liability (end of reporting period)"
   ]
  },
  {
   "cell_type": "code",
   "execution_count": 39,
   "metadata": {
    "ExecuteTime": {
     "end_time": "2019-12-04T04:04:37.350699Z",
     "start_time": "2019-12-04T04:04:36.111466Z"
    }
   },
   "outputs": [
    {
     "data": {
      "image/png": "[encoded data removed]",
      "text/plain": [
       "<Figure size 1008x540 with 1 Axes>"
      ]
     },
     "metadata": {
      "needs_background": "light"
     },
     "output_type": "display_data"
    }
   ],
   "source": [
    "plt.figure(figsize=(14,7.5))\n",
    "normalizing_value = df[(df['class']==ins_class) & (df['company']==company)]['policy_liab_end']\n",
    "x = df[(df['class']==ins_class) & (df['company']==company)]['year']\n",
    "\n",
    "y = 100*df[(df['class']==ins_class) & (df['company']==company)]['prem_write_net']/normalizing_value\n",
    "plt.plot(x,y,label='Net Premiums Written', color='blue',alpha=0.6, marker='o')\n",
    "\n",
    "y = 100*df[(df['class']==ins_class) & (df['company']==company)]['claim_set_net']/normalizing_value\n",
    "plt.plot(x,y,label='Net Claims Settled', color='red',alpha=0.6)\n",
    "\n",
    "y = 100*df[(df['class']==ins_class) & (df['company']==company)]['exp_management']/normalizing_value\n",
    "plt.plot(x,y,label='Management Expenses', color='orange',alpha=0.6)\n",
    "\n",
    "y = 100*df[(df['class']==ins_class) & (df['company']==company)]['exp_comm_incur_net']/normalizing_value\n",
    "plt.plot(x,y,label='Net Commissions Incurred', color='yellow',alpha=1.0)\n",
    "\n",
    "y = 100*df[(df['class']==ins_class) & (df['company']==company)]['uw_gain']/normalizing_value\n",
    "plt.plot(x,y,label='Underwriting Gain/Loss', color='black',alpha=0.8, marker='o')\n",
    "\n",
    "plt.title(company_name + ' / ' + ins_class_dict[ins_class]+' (Values as a % of Policy Liability)')\n",
    "plt.xlabel('Reporting Period')\n",
    "plt.ylabel('% of Policy Liability at End of Reporting Period')\n",
    "plt.legend();"
   ]
  },
  {
   "cell_type": "markdown",
   "metadata": {},
   "source": [
    "#####  Normalized by Net Premiums Written"
   ]
  },
  {
   "cell_type": "code",
   "execution_count": 40,
   "metadata": {
    "ExecuteTime": {
     "end_time": "2019-12-04T04:04:56.270988Z",
     "start_time": "2019-12-04T04:04:55.603403Z"
    }
   },
   "outputs": [
    {
     "data": {
      "image/png": "[encoded data removed]",
      "text/plain": [
       "<Figure size 1008x432 with 1 Axes>"
      ]
     },
     "metadata": {
      "needs_background": "light"
     },
     "output_type": "display_data"
    }
   ],
   "source": [
    "plt.figure(figsize=(14,6))\n",
    "normalizing_value = df[(df['class']==ins_class) & (df['company']==company)]['prem_write_net']\n",
    "x = df[(df['class']==ins_class) & (df['company']==company)]['year']\n",
    "\n",
    "y = 100*df[(df['class']==ins_class) & (df['company']==company)]['exp_management']/normalizing_value\n",
    "plt.plot(x,y,label='Management Expenses', color='blue',alpha=0.6, marker='o')\n",
    "\n",
    "y = 100*df[(df['class']==ins_class) & (df['company']==company)]['claim_set_net']/normalizing_value\n",
    "plt.plot(x,y,label='Net Claims Settled', color='red',alpha=0.6)\n",
    "\n",
    "y = 100*df[(df['class']==ins_class) & (df['company']==company)]['exp_comm_incur_net']/normalizing_value\n",
    "plt.plot(x,y,label='Net Commissions Incurred', color='yellow',alpha=1.0)\n",
    "\n",
    "plt.title(company_name + ' / ' + ins_class_dict[ins_class]+' (Values as a % of Net Premiums Written)')\n",
    "plt.xlabel('Reporting Period')\n",
    "plt.ylabel('% of Net Premiums Written')\n",
    "plt.legend();"
   ]
  },
  {
   "cell_type": "markdown",
   "metadata": {},
   "source": [
    "#####  Normalized by Claims Liability"
   ]
  },
  {
   "cell_type": "code",
   "execution_count": 41,
   "metadata": {
    "ExecuteTime": {
     "end_time": "2019-12-04T04:05:11.943983Z",
     "start_time": "2019-12-04T04:05:11.232418Z"
    }
   },
   "outputs": [
    {
     "data": {
      "image/png": "[encoded data removed]",
      "text/plain": [
       "<Figure size 1008x432 with 1 Axes>"
      ]
     },
     "metadata": {
      "needs_background": "light"
     },
     "output_type": "display_data"
    }
   ],
   "source": [
    "plt.figure(figsize=(14,6))\n",
    "normalizing_value = df[(df['class']==ins_class) & (df['company']==company)]['claim_liab_end']\n",
    "x = df[(df['class']==ins_class) & (df['company']==company)]['year']\n",
    "\n",
    "y = 100*df[(df['class']==ins_class) & (df['company']==company)]['exp_management']/normalizing_value\n",
    "plt.plot(x,y,label='Management Expenses', color='blue',alpha=0.6, marker='o')\n",
    "\n",
    "y = 100*df[(df['class']==ins_class) & (df['company']==company)]['claim_set_net']/normalizing_value\n",
    "plt.plot(x,y,label='Net Claims Settled', color='red',alpha=0.6)\n",
    "\n",
    "y = 100*df[(df['class']==ins_class) & (df['company']==company)]['exp_comm_incur_net']/normalizing_value\n",
    "plt.plot(x,y,label='Net Commissions Incurred', color='yellow',alpha=1.0)\n",
    "\n",
    "plt.title(company_name + ' / ' + ins_class_dict[ins_class]+' (Values as a % of Claims Liability)')\n",
    "plt.xlabel('Reporting Period')\n",
    "plt.ylabel('% of Claims Liability at the end of reporting period')\n",
    "plt.legend();"
   ]
  },
  {
   "cell_type": "code",
   "execution_count": null,
   "metadata": {},
   "outputs": [],
   "source": []
  },
  {
   "cell_type": "markdown",
   "metadata": {},
   "source": [
    "# Feature Engineering"
   ]
  },
  {
   "cell_type": "markdown",
   "metadata": {},
   "source": [
    "### Drop Columns Not Used"
   ]
  },
  {
   "cell_type": "code",
   "execution_count": null,
   "metadata": {
    "ExecuteTime": {
     "end_time": "2019-12-04T01:58:51.928338Z",
     "start_time": "2019-12-04T01:58:51.918344Z"
    }
   },
   "outputs": [],
   "source": [
    "df.drop(columns=['net_invest_income','operating_result'],inplace=True)"
   ]
  },
  {
   "cell_type": "markdown",
   "metadata": {},
   "source": [
    "### Generate the Target:\n",
    "**AUWGR(t)** = UWG(t)  /  NPW(t)<br>=== Approx. Underwriting Gain Rate\n",
    "### Generate Additional Features:\n",
    "\n",
    "(1) **LKPP(t)** = NPW(t-1) / { CSN(t-1) + [ ClaimL_end(t-1) - CLaimL_begin(t-1) ] + [ PremL_end(t-1) - PremL_begin(t-1) ] }<br>=== Last known pricing performance<br>\n",
    "*which is equivalent to =>* **NPW(t-1) / [ CSN(t-1) +  PolicyLiabilityDiff(t-1) ]**<br><br>\n",
    "(2) **HLR_lag1** = ( ewm[CSN(t-1)] + ewm[CL_end(t-1)] ) / ewm[NPW(t-1)]<br>=== Historical Loss Rate based on timelag1<br><br>\n",
    "(3) **HLR_lag2** = ( ewm[CSN(t-2)] + ewm[CL_end(t-2)] ) / ewm[NPW(t-2)]<br>=== Historical Loss Rate based on timelag2<br><br>\n",
    "(4) **HLR_lag3** = ( ewm[CSN(t-3)] + ewm[CL_end(t-3)] ) / ewm[NPW(t-3)]<br>=== Historical Loss Rate based on timelag3<br><br>\n",
    "(5) **HLR_lag4** = ( ewm[CSN(t-4)] + ewm[CL_end(t-4)] ) / ewm[NPW(t-4)]<br>=== Historical Loss Rate based on timelag4<br><br>\n",
    "(6) **HLR_lag5** = ( ewm[CSN(t-5)] + ewm[CL_end(t-5)] ) / ewm[NPW(t-5)]<br>=== Historical Loss Rate based on timelag5<br><br>\n",
    "(7) **MER(t)** = **(-1)x alpha x**ME(t-1) / NPW(t-1)<br>=== Management Expense Rate (previous year), **alpha** is an adjustment factor for inflation etc<br><br>\n",
    "(8) **DER(t)** = **(-1)x alpha x**DE(t-1) / NPW(t-1)<br>=== Distribution Expense Rate (previous year), **alpha** is an adjustment factor for inflation etc<br><br>\n",
    "(9) **OER(t)** = **(-1)x alpha x**OE(t-1)] / NPW(t-1)<br>=== Other Expense Rate (previous year), **alpha** is an adjustment factor for inflation etc<br>"
   ]
  },
  {
   "cell_type": "code",
   "execution_count": null,
   "metadata": {
    "ExecuteTime": {
     "end_time": "2019-12-04T01:58:52.225155Z",
     "start_time": "2019-12-04T01:58:52.203167Z"
    }
   },
   "outputs": [],
   "source": [
    "# check for cases where NPW(t) = 0\n",
    "df[df['prem_write_net']==0].count().head(1)"
   ]
  },
  {
   "cell_type": "code",
   "execution_count": null,
   "metadata": {
    "ExecuteTime": {
     "end_time": "2019-12-04T01:58:52.274124Z",
     "start_time": "2019-12-04T01:58:52.228153Z"
    }
   },
   "outputs": [],
   "source": [
    "df[df['prem_write_net']==0].head(5)"
   ]
  },
  {
   "cell_type": "markdown",
   "metadata": {},
   "source": [
    "==> Zero premiums written, while Premium Liability (either begin/end) non-zero. \n",
    "Drop rows."
   ]
  },
  {
   "cell_type": "code",
   "execution_count": null,
   "metadata": {
    "ExecuteTime": {
     "end_time": "2019-12-04T01:58:52.294111Z",
     "start_time": "2019-12-04T01:58:52.278121Z"
    }
   },
   "outputs": [],
   "source": [
    "# get the list of indexes, then drop the rows based on the corresponding index\n",
    "try:\n",
    "    idx_list = list(df[df['prem_write_net']==0].index.values)\n",
    "except:\n",
    "    pass\n",
    "else:\n",
    "    if len(idx_list) > 0:\n",
    "        df.drop(index=idx_list,inplace=True)"
   ]
  },
  {
   "cell_type": "code",
   "execution_count": null,
   "metadata": {
    "ExecuteTime": {
     "end_time": "2019-12-04T01:58:52.305105Z",
     "start_time": "2019-12-04T01:58:52.297109Z"
    }
   },
   "outputs": [],
   "source": [
    "df.shape"
   ]
  },
  {
   "cell_type": "code",
   "execution_count": null,
   "metadata": {
    "ExecuteTime": {
     "end_time": "2019-12-04T01:58:52.323093Z",
     "start_time": "2019-12-04T01:58:52.316097Z"
    }
   },
   "outputs": [],
   "source": [
    "# Generate Target: AUWGR(t) = UWG(t) / NPW(t)\n",
    "df['auwgr'] = df['uw_gain'] / df['prem_write_net']"
   ]
  },
  {
   "cell_type": "markdown",
   "metadata": {},
   "source": [
    "### Time-Shifts and Exponentially Weighted Means"
   ]
  },
  {
   "cell_type": "code",
   "execution_count": null,
   "metadata": {
    "ExecuteTime": {
     "end_time": "2019-12-04T01:58:52.341083Z",
     "start_time": "2019-12-04T01:58:52.330089Z"
    }
   },
   "outputs": [],
   "source": [
    "company_list = list(df['company'].value_counts().index.values)\n",
    "print(len(company_list))"
   ]
  },
  {
   "cell_type": "code",
   "execution_count": null,
   "metadata": {
    "ExecuteTime": {
     "end_time": "2019-12-04T01:58:52.349078Z",
     "start_time": "2019-12-04T01:58:52.345082Z"
    }
   },
   "outputs": [],
   "source": [
    "# Exponentially Weighted Mean - global setting for span\n",
    "ewm_span = 5"
   ]
  },
  {
   "cell_type": "code",
   "execution_count": null,
   "metadata": {
    "ExecuteTime": {
     "end_time": "2019-12-04T01:58:52.363070Z",
     "start_time": "2019-12-04T01:58:52.353076Z"
    }
   },
   "outputs": [],
   "source": [
    "# define function update_nan_with_mean()\n",
    "# retrieves index(es) of row(s) where the specified column is NaN, and then updates that row with the mean (skip NaN) of the column\n",
    "def update_nan_with_mean(df_arg, col_name):\n",
    "    try:\n",
    "        idx = list(df_arg[df_arg[col_name].isna()].index.values)\n",
    "    except:\n",
    "        print('update_nan_with_mean(): EXCEPTION: no rows with NaN for this iteration', col_name)\n",
    "    else:\n",
    "        for row_num in idx:\n",
    "            df_arg.loc[row_num,col_name] = df_arg[col_name].mean(skipna=True)\n",
    "    return df_arg"
   ]
  },
  {
   "cell_type": "code",
   "execution_count": null,
   "metadata": {
    "ExecuteTime": {
     "end_time": "2019-12-04T01:58:52.439021Z",
     "start_time": "2019-12-04T01:58:52.369065Z"
    }
   },
   "outputs": [],
   "source": [
    "# New columns '*_lagX' will be assigned the delayed (lag by X time periods) value of their original columns\n",
    "# The initial values of '*_lagX' will thus be NaN. Impute mean(*_lagX) here.\n",
    "# Other relevant columns will be created too.\n",
    "# create an empty dataframe of the same structure as df\n",
    "df_temp = pd.DataFrame(columns = df.columns.values)\n",
    "\n",
    "# net premiums written (historic: lag1 to lag5)\n",
    "df_temp['prem_write_net_lag1'] = ''\n",
    "df_temp['prem_write_net_lag2'] = ''\n",
    "df_temp['prem_write_net_lag3'] = ''\n",
    "df_temp['prem_write_net_lag4'] = ''\n",
    "df_temp['prem_write_net_lag5'] = ''\n",
    "# net claims settled (historic: lag1 to lag5)\n",
    "df_temp['claim_set_net_lag1'] = ''\n",
    "df_temp['claim_set_net_lag2'] = ''\n",
    "df_temp['claim_set_net_lag3'] = ''\n",
    "df_temp['claim_set_net_lag4'] = ''\n",
    "df_temp['claim_set_net_lag5'] = ''\n",
    "\n",
    "# premium liability @beginning and @end of period (historic: lag1)\n",
    "df_temp['prem_liab_begin_lag1'] = ''\n",
    "df_temp['prem_liab_end_lag1'] = ''\n",
    "# claim liability @beginning of period (historic: lag1)\n",
    "df_temp['claim_liab_begin_lag1'] = ''\n",
    "\n",
    "# claim liability @end of period (historic: lag1 to lag5)\n",
    "df_temp['claim_liab_end_lag1'] = ''\n",
    "df_temp['claim_liab_end_lag2'] = ''\n",
    "df_temp['claim_liab_end_lag3'] = ''\n",
    "df_temp['claim_liab_end_lag4'] = ''\n",
    "df_temp['claim_liab_end_lag5'] = ''\n",
    "# policy_liability@end - policy_liability@beginning (historic: lag1)\n",
    "df_temp['policy_liab_diff_lag1'] = ''\n",
    "# expenses (historic: lag1)\n",
    "df_temp['exp_management_lag1'] = ''\n",
    "df_temp['exp_comm_incur_net_lag1'] = ''\n",
    "df_temp['exp_other_lag1'] = ''\n",
    "# underwriting gain/loss (historic: lag1)\n",
    "df_temp['uw_gain_lag1'] = ''\n",
    "# exponentially weighted means (historic: lag1 to lag5)\n",
    "df_temp['ewm_prem_write_net_lag1'] = ''\n",
    "df_temp['ewm_prem_write_net_lag2'] = ''\n",
    "df_temp['ewm_prem_write_net_lag3'] = ''\n",
    "df_temp['ewm_prem_write_net_lag4'] = ''\n",
    "df_temp['ewm_prem_write_net_lag5'] = ''\n",
    "df_temp['ewm_claim_set_net_lag1'] = ''\n",
    "df_temp['ewm_claim_set_net_lag2'] = ''\n",
    "df_temp['ewm_claim_set_net_lag3'] = ''\n",
    "df_temp['ewm_claim_set_net_lag4'] = ''\n",
    "df_temp['ewm_claim_set_net_lag5'] = ''\n",
    "df_temp['ewm_claim_liab_end_lag1'] = ''\n",
    "df_temp['ewm_claim_liab_end_lag2'] = ''\n",
    "df_temp['ewm_claim_liab_end_lag3'] = ''\n",
    "df_temp['ewm_claim_liab_end_lag4'] = ''\n",
    "df_temp['ewm_claim_liab_end_lag5'] = ''"
   ]
  },
  {
   "cell_type": "code",
   "execution_count": null,
   "metadata": {
    "ExecuteTime": {
     "end_time": "2019-12-04T02:00:31.368596Z",
     "start_time": "2019-12-04T01:58:52.444020Z"
    }
   },
   "outputs": [],
   "source": [
    "# The following code will loop through each company\n",
    "# For each company, it will loop through each class of insurance sold by that company\n",
    "\n",
    "for company in company_list:\n",
    "    # retrieve insurance classes sold by that company\n",
    "    ins_class_list = list(df[df['company']==company]['class'].value_counts().index.values)\n",
    "    \n",
    "    # loop through each insurance class sold by that company\n",
    "    for ins_class in ins_class_list:\n",
    "        # create df_temp_next to be the filtered subset (company, ins_class) of df\n",
    "        df_temp_next = df[(df['company']==company) & (df['class']==ins_class)].copy()\n",
    "     \n",
    "        # assign new column to time-delayed (1 lag) value of 'prem_write_net','policy_liab_diff_lag1','claim_set_net_lag1'\n",
    "        # however, if there is only 1 row in this class, then do not assign time delayed value\n",
    "        # (or else it will be assigned NaN - not what we want)\n",
    "        \n",
    "        ##########\n",
    "        if df_temp_next.shape[0] == 1: # THERE IS ONLY 1 ROW\n",
    "        ##########\n",
    "            df_temp_next['prem_write_net_lag1'] = df_temp_next['prem_write_net']\n",
    "            df_temp_next['prem_write_net_lag2'] = df_temp_next['prem_write_net']\n",
    "            df_temp_next['prem_write_net_lag3'] = df_temp_next['prem_write_net']\n",
    "            df_temp_next['prem_write_net_lag4'] = df_temp_next['prem_write_net']\n",
    "            df_temp_next['prem_write_net_lag5'] = df_temp_next['prem_write_net']\n",
    "            \n",
    "            df_temp_next['claim_set_net_lag1'] = df_temp_next['claim_set_net']\n",
    "            df_temp_next['claim_set_net_lag2'] = df_temp_next['claim_set_net']\n",
    "            df_temp_next['claim_set_net_lag3'] = df_temp_next['claim_set_net']\n",
    "            df_temp_next['claim_set_net_lag4'] = df_temp_next['claim_set_net']\n",
    "            df_temp_next['claim_set_net_lag5'] = df_temp_next['claim_set_net']\n",
    "            \n",
    "            df_temp_next['claim_liab_end_lag1'] = df_temp_next['claim_liab_end']\n",
    "            df_temp_next['claim_liab_end_lag2'] = df_temp_next['claim_liab_end']\n",
    "            df_temp_next['claim_liab_end_lag3'] = df_temp_next['claim_liab_end']\n",
    "            df_temp_next['claim_liab_end_lag4'] = df_temp_next['claim_liab_end']\n",
    "            df_temp_next['claim_liab_end_lag5'] = df_temp_next['claim_liab_end']\n",
    "            \n",
    "            df_temp_next['policy_liab_diff_lag1'] = df_temp_next['policy_liab_diff']\n",
    "            df_temp_next['exp_management_lag1'] = df_temp_next['exp_management']\n",
    "            df_temp_next['exp_comm_incur_net_lag1'] = df_temp_next['exp_comm_incur_net']\n",
    "            df_temp_next['exp_other_lag1'] = df_temp_next['exp_other']\n",
    "            df_temp_next['prem_liab_begin_lag1'] = df_temp_next['prem_liab_begin']\n",
    "            df_temp_next['prem_liab_end_lag1'] = df_temp_next['prem_liab_end']\n",
    "            df_temp_next['claim_liab_begin_lag1'] = df_temp_next['claim_liab_begin']\n",
    "            df_temp_next['uw_gain_lag1'] = df_temp_next['uw_gain']\n",
    "            \n",
    "        ##########\n",
    "        elif df_temp_next.shape[0] == 2: # THERE ARE 2 ROWS\n",
    "        ##########\n",
    "            df_temp_next['prem_write_net_lag1'] = df_temp_next['prem_write_net'].shift(1)\n",
    "            df_temp_next['prem_write_net_lag2'] = df_temp_next['prem_write_net']\n",
    "            df_temp_next['prem_write_net_lag3'] = df_temp_next['prem_write_net']\n",
    "            df_temp_next['prem_write_net_lag4'] = df_temp_next['prem_write_net']\n",
    "            df_temp_next['prem_write_net_lag5'] = df_temp_next['prem_write_net']\n",
    "            \n",
    "            df_temp_next['claim_set_net_lag1'] = df_temp_next['claim_set_net'].shift(1)\n",
    "            df_temp_next['claim_set_net_lag2'] = df_temp_next['claim_set_net']\n",
    "            df_temp_next['claim_set_net_lag3'] = df_temp_next['claim_set_net']\n",
    "            df_temp_next['claim_set_net_lag4'] = df_temp_next['claim_set_net']\n",
    "            df_temp_next['claim_set_net_lag5'] = df_temp_next['claim_set_net']\n",
    "            \n",
    "            df_temp_next['claim_liab_end_lag1'] = df_temp_next['claim_liab_end'].shift(1)\n",
    "            df_temp_next['claim_liab_end_lag2'] = df_temp_next['claim_liab_end']\n",
    "            df_temp_next['claim_liab_end_lag3'] = df_temp_next['claim_liab_end']\n",
    "            df_temp_next['claim_liab_end_lag4'] = df_temp_next['claim_liab_end']\n",
    "            df_temp_next['claim_liab_end_lag5'] = df_temp_next['claim_liab_end']\n",
    "            \n",
    "            df_temp_next['policy_liab_diff_lag1'] = df_temp_next['policy_liab_diff'].shift(1)\n",
    "            df_temp_next['exp_management_lag1'] = df_temp_next['exp_management'].shift(1)\n",
    "            df_temp_next['exp_comm_incur_net_lag1'] = df_temp_next['exp_comm_incur_net'].shift(1)\n",
    "            df_temp_next['exp_other_lag1'] = df_temp_next['exp_other'].shift(1)\n",
    "            df_temp_next['prem_liab_begin_lag1'] = df_temp_next['prem_liab_begin'].shift(1)\n",
    "            df_temp_next['prem_liab_end_lag1'] = df_temp_next['prem_liab_end'].shift(1)\n",
    "            df_temp_next['claim_liab_begin_lag1'] = df_temp_next['claim_liab_begin'].shift(1)\n",
    "            df_temp_next['uw_gain_lag1'] = df_temp_next['uw_gain'].shift(1)\n",
    "        \n",
    "        ##########\n",
    "        elif df_temp_next.shape[0] == 3: # THERE ARE 3 ROWS\n",
    "        ##########\n",
    "            df_temp_next['prem_write_net_lag1'] = df_temp_next['prem_write_net'].shift(1)\n",
    "            df_temp_next['prem_write_net_lag2'] = df_temp_next['prem_write_net'].shift(2)\n",
    "            df_temp_next['prem_write_net_lag3'] = df_temp_next['prem_write_net']\n",
    "            df_temp_next['prem_write_net_lag4'] = df_temp_next['prem_write_net']\n",
    "            df_temp_next['prem_write_net_lag5'] = df_temp_next['prem_write_net']\n",
    "            \n",
    "            df_temp_next['claim_set_net_lag1'] = df_temp_next['claim_set_net'].shift(1)\n",
    "            df_temp_next['claim_set_net_lag2'] = df_temp_next['claim_set_net'].shift(2)\n",
    "            df_temp_next['claim_set_net_lag3'] = df_temp_next['claim_set_net']\n",
    "            df_temp_next['claim_set_net_lag4'] = df_temp_next['claim_set_net']\n",
    "            df_temp_next['claim_set_net_lag5'] = df_temp_next['claim_set_net']\n",
    "            \n",
    "            df_temp_next['claim_liab_end_lag1'] = df_temp_next['claim_liab_end'].shift(1)\n",
    "            df_temp_next['claim_liab_end_lag2'] = df_temp_next['claim_liab_end'].shift(2)\n",
    "            df_temp_next['claim_liab_end_lag3'] = df_temp_next['claim_liab_end']\n",
    "            df_temp_next['claim_liab_end_lag4'] = df_temp_next['claim_liab_end']\n",
    "            df_temp_next['claim_liab_end_lag5'] = df_temp_next['claim_liab_end']\n",
    "            \n",
    "            df_temp_next['policy_liab_diff_lag1'] = df_temp_next['policy_liab_diff'].shift(1)\n",
    "            df_temp_next['exp_management_lag1'] = df_temp_next['exp_management'].shift(1)\n",
    "            df_temp_next['exp_comm_incur_net_lag1'] = df_temp_next['exp_comm_incur_net'].shift(1)\n",
    "            df_temp_next['exp_other_lag1'] = df_temp_next['exp_other'].shift(1)\n",
    "            df_temp_next['prem_liab_begin_lag1'] = df_temp_next['prem_liab_begin'].shift(1)\n",
    "            df_temp_next['prem_liab_end_lag1'] = df_temp_next['prem_liab_end'].shift(1)\n",
    "            df_temp_next['claim_liab_begin_lag1'] = df_temp_next['claim_liab_begin'].shift(1)\n",
    "            df_temp_next['uw_gain_lag1'] = df_temp_next['uw_gain'].shift(1)\n",
    "            \n",
    "        ##########\n",
    "        elif df_temp_next.shape[0] == 4: # THERE ARE 4 ROWS\n",
    "        ##########\n",
    "            df_temp_next['prem_write_net_lag1'] = df_temp_next['prem_write_net'].shift(1)\n",
    "            df_temp_next['prem_write_net_lag2'] = df_temp_next['prem_write_net'].shift(2)\n",
    "            df_temp_next['prem_write_net_lag3'] = df_temp_next['prem_write_net'].shift(3)\n",
    "            df_temp_next['prem_write_net_lag4'] = df_temp_next['prem_write_net']\n",
    "            df_temp_next['prem_write_net_lag5'] = df_temp_next['prem_write_net']\n",
    "        \n",
    "            df_temp_next['claim_set_net_lag1'] = df_temp_next['claim_set_net'].shift(1)\n",
    "            df_temp_next['claim_set_net_lag2'] = df_temp_next['claim_set_net'].shift(2)\n",
    "            df_temp_next['claim_set_net_lag3'] = df_temp_next['claim_set_net'].shift(3)\n",
    "            df_temp_next['claim_set_net_lag4'] = df_temp_next['claim_set_net']\n",
    "            df_temp_next['claim_set_net_lag5'] = df_temp_next['claim_set_net']\n",
    "        \n",
    "            df_temp_next['claim_liab_end_lag1'] = df_temp_next['claim_liab_end'].shift(1)\n",
    "            df_temp_next['claim_liab_end_lag2'] = df_temp_next['claim_liab_end'].shift(2)\n",
    "            df_temp_next['claim_liab_end_lag3'] = df_temp_next['claim_liab_end'].shift(3)\n",
    "            df_temp_next['claim_liab_end_lag4'] = df_temp_next['claim_liab_end']\n",
    "            df_temp_next['claim_liab_end_lag5'] = df_temp_next['claim_liab_end']\n",
    "            \n",
    "            df_temp_next['policy_liab_diff_lag1'] = df_temp_next['policy_liab_diff'].shift(1)\n",
    "            df_temp_next['exp_management_lag1'] = df_temp_next['exp_management'].shift(1)\n",
    "            df_temp_next['exp_comm_incur_net_lag1'] = df_temp_next['exp_comm_incur_net'].shift(1)\n",
    "            df_temp_next['exp_other_lag1'] = df_temp_next['exp_other'].shift(1)\n",
    "            df_temp_next['prem_liab_begin_lag1'] = df_temp_next['prem_liab_begin'].shift(1)\n",
    "            df_temp_next['prem_liab_end_lag1'] = df_temp_next['prem_liab_end'].shift(1)\n",
    "            df_temp_next['claim_liab_begin_lag1'] = df_temp_next['claim_liab_begin'].shift(1)\n",
    "            df_temp_next['uw_gain_lag1'] = df_temp_next['uw_gain'].shift(1)\n",
    "        \n",
    "        ##########\n",
    "        elif df_temp_next.shape[0] == 5: # THERE ARE 5 ROWS\n",
    "        ##########\n",
    "            df_temp_next['prem_write_net_lag1'] = df_temp_next['prem_write_net'].shift(1)\n",
    "            df_temp_next['prem_write_net_lag2'] = df_temp_next['prem_write_net'].shift(2)\n",
    "            df_temp_next['prem_write_net_lag3'] = df_temp_next['prem_write_net'].shift(3)\n",
    "            df_temp_next['prem_write_net_lag4'] = df_temp_next['prem_write_net'].shift(4)\n",
    "            df_temp_next['prem_write_net_lag5'] = df_temp_next['prem_write_net']\n",
    "    \n",
    "            df_temp_next['claim_set_net_lag1'] = df_temp_next['claim_set_net'].shift(1)\n",
    "            df_temp_next['claim_set_net_lag2'] = df_temp_next['claim_set_net'].shift(2)\n",
    "            df_temp_next['claim_set_net_lag3'] = df_temp_next['claim_set_net'].shift(3)\n",
    "            df_temp_next['claim_set_net_lag4'] = df_temp_next['claim_set_net'].shift(4)\n",
    "            df_temp_next['claim_set_net_lag5'] = df_temp_next['claim_set_net']\n",
    "    \n",
    "            df_temp_next['claim_liab_end_lag1'] = df_temp_next['claim_liab_end'].shift(1)\n",
    "            df_temp_next['claim_liab_end_lag2'] = df_temp_next['claim_liab_end'].shift(2)\n",
    "            df_temp_next['claim_liab_end_lag3'] = df_temp_next['claim_liab_end'].shift(3)\n",
    "            df_temp_next['claim_liab_end_lag4'] = df_temp_next['claim_liab_end'].shift(4)\n",
    "            df_temp_next['claim_liab_end_lag5'] = df_temp_next['claim_liab_end']\n",
    "            \n",
    "            df_temp_next['policy_liab_diff_lag1'] = df_temp_next['policy_liab_diff'].shift(1)\n",
    "            df_temp_next['exp_management_lag1'] = df_temp_next['exp_management'].shift(1)\n",
    "            df_temp_next['exp_comm_incur_net_lag1'] = df_temp_next['exp_comm_incur_net'].shift(1)\n",
    "            df_temp_next['exp_other_lag1'] = df_temp_next['exp_other'].shift(1)\n",
    "            df_temp_next['prem_liab_begin_lag1'] = df_temp_next['prem_liab_begin'].shift(1)\n",
    "            df_temp_next['prem_liab_end_lag1'] = df_temp_next['prem_liab_end'].shift(1)\n",
    "            df_temp_next['claim_liab_begin_lag1'] = df_temp_next['claim_liab_begin'].shift(1)\n",
    "            df_temp_next['uw_gain_lag1'] = df_temp_next['uw_gain'].shift(1)\n",
    "            \n",
    "        else: # THERE ARE AT LEAST 6 ROWS\n",
    "            \n",
    "            # assign time delayed (lag X) value\n",
    "            df_temp_next['prem_write_net_lag1'] = df_temp_next['prem_write_net'].shift(1)\n",
    "            df_temp_next['prem_write_net_lag2'] = df_temp_next['prem_write_net'].shift(2)\n",
    "            df_temp_next['prem_write_net_lag3'] = df_temp_next['prem_write_net'].shift(3)\n",
    "            df_temp_next['prem_write_net_lag4'] = df_temp_next['prem_write_net'].shift(4)\n",
    "            df_temp_next['prem_write_net_lag5'] = df_temp_next['prem_write_net'].shift(5)\n",
    "            \n",
    "            df_temp_next['claim_set_net_lag1'] = df_temp_next['claim_set_net'].shift(1)\n",
    "            df_temp_next['claim_set_net_lag2'] = df_temp_next['claim_set_net'].shift(2)\n",
    "            df_temp_next['claim_set_net_lag3'] = df_temp_next['claim_set_net'].shift(3)\n",
    "            df_temp_next['claim_set_net_lag4'] = df_temp_next['claim_set_net'].shift(4)\n",
    "            df_temp_next['claim_set_net_lag5'] = df_temp_next['claim_set_net'].shift(5)\n",
    "            \n",
    "            df_temp_next['claim_liab_end_lag1'] = df_temp_next['claim_liab_end'].shift(1)\n",
    "            df_temp_next['claim_liab_end_lag2'] = df_temp_next['claim_liab_end'].shift(2)\n",
    "            df_temp_next['claim_liab_end_lag3'] = df_temp_next['claim_liab_end'].shift(3)\n",
    "            df_temp_next['claim_liab_end_lag4'] = df_temp_next['claim_liab_end'].shift(4)\n",
    "            df_temp_next['claim_liab_end_lag5'] = df_temp_next['claim_liab_end'].shift(5)\n",
    "        \n",
    "            df_temp_next['policy_liab_diff_lag1'] = df_temp_next['policy_liab_diff'].shift(1)\n",
    "            df_temp_next['exp_management_lag1'] = df_temp_next['exp_management'].shift(1)\n",
    "            df_temp_next['exp_comm_incur_net_lag1'] = df_temp_next['exp_comm_incur_net'].shift(1)\n",
    "            df_temp_next['exp_other_lag1'] = df_temp_next['exp_other'].shift(1)\n",
    "            df_temp_next['prem_liab_begin_lag1'] = df_temp_next['prem_liab_begin'].shift(1)\n",
    "            df_temp_next['prem_liab_end_lag1'] = df_temp_next['prem_liab_end'].shift(1)\n",
    "            df_temp_next['claim_liab_begin_lag1'] = df_temp_next['claim_liab_begin'].shift(1)\n",
    "            df_temp_next['uw_gain_lag1'] = df_temp_next['uw_gain'].shift(1)\n",
    "        \n",
    "        # for the row where specified column value = NaN, impute mean_value of column\n",
    "        df_temp_next = update_nan_with_mean(df_temp_next, 'prem_write_net_lag1')\n",
    "        df_temp_next = update_nan_with_mean(df_temp_next, 'prem_write_net_lag2')\n",
    "        df_temp_next = update_nan_with_mean(df_temp_next, 'prem_write_net_lag3')\n",
    "        df_temp_next = update_nan_with_mean(df_temp_next, 'prem_write_net_lag4')\n",
    "        df_temp_next = update_nan_with_mean(df_temp_next, 'prem_write_net_lag5')\n",
    "        df_temp_next = update_nan_with_mean(df_temp_next, 'claim_set_net_lag1')\n",
    "        df_temp_next = update_nan_with_mean(df_temp_next, 'claim_set_net_lag2')\n",
    "        df_temp_next = update_nan_with_mean(df_temp_next, 'claim_set_net_lag3')\n",
    "        df_temp_next = update_nan_with_mean(df_temp_next, 'claim_set_net_lag4')\n",
    "        df_temp_next = update_nan_with_mean(df_temp_next, 'claim_set_net_lag5')\n",
    "        df_temp_next = update_nan_with_mean(df_temp_next, 'claim_liab_end_lag1')\n",
    "        df_temp_next = update_nan_with_mean(df_temp_next, 'claim_liab_end_lag2')\n",
    "        df_temp_next = update_nan_with_mean(df_temp_next, 'claim_liab_end_lag3')\n",
    "        df_temp_next = update_nan_with_mean(df_temp_next, 'claim_liab_end_lag4')\n",
    "        df_temp_next = update_nan_with_mean(df_temp_next, 'claim_liab_end_lag5')\n",
    "        df_temp_next = update_nan_with_mean(df_temp_next, 'policy_liab_diff_lag1')\n",
    "        df_temp_next = update_nan_with_mean(df_temp_next, 'exp_management_lag1')\n",
    "        df_temp_next = update_nan_with_mean(df_temp_next, 'exp_comm_incur_net_lag1')\n",
    "        df_temp_next = update_nan_with_mean(df_temp_next, 'exp_other_lag1')\n",
    "        df_temp_next = update_nan_with_mean(df_temp_next, 'prem_liab_begin_lag1')\n",
    "        df_temp_next = update_nan_with_mean(df_temp_next, 'prem_liab_end_lag1')\n",
    "        df_temp_next = update_nan_with_mean(df_temp_next, 'claim_liab_begin_lag1')\n",
    "        df_temp_next = update_nan_with_mean(df_temp_next, 'uw_gain_lag1')\n",
    "        \n",
    "        # compute relevant Exponentially Weighted Means (EWM with ewm_span)\n",
    "        df_temp_next['ewm_prem_write_net_lag1'] = df_temp_next['prem_write_net_lag1'].ewm(span=ewm_span).mean()\n",
    "        df_temp_next['ewm_prem_write_net_lag2'] = df_temp_next['prem_write_net_lag2'].ewm(span=ewm_span).mean()\n",
    "        df_temp_next['ewm_prem_write_net_lag3'] = df_temp_next['prem_write_net_lag3'].ewm(span=ewm_span).mean()\n",
    "        df_temp_next['ewm_prem_write_net_lag4'] = df_temp_next['prem_write_net_lag4'].ewm(span=ewm_span).mean()\n",
    "        df_temp_next['ewm_prem_write_net_lag5'] = df_temp_next['prem_write_net_lag5'].ewm(span=ewm_span).mean()\n",
    "        df_temp_next['ewm_claim_set_net_lag1'] = df_temp_next['claim_set_net_lag1'].ewm(span=ewm_span).mean()\n",
    "        df_temp_next['ewm_claim_set_net_lag2'] = df_temp_next['claim_set_net_lag2'].ewm(span=ewm_span).mean()\n",
    "        df_temp_next['ewm_claim_set_net_lag3'] = df_temp_next['claim_set_net_lag3'].ewm(span=ewm_span).mean()\n",
    "        df_temp_next['ewm_claim_set_net_lag4'] = df_temp_next['claim_set_net_lag4'].ewm(span=ewm_span).mean()\n",
    "        df_temp_next['ewm_claim_set_net_lag5'] = df_temp_next['claim_set_net_lag5'].ewm(span=ewm_span).mean()\n",
    "        df_temp_next['ewm_claim_liab_end_lag1'] = df_temp_next['claim_liab_end_lag1'].ewm(span=ewm_span).mean()\n",
    "        df_temp_next['ewm_claim_liab_end_lag2'] = df_temp_next['claim_liab_end_lag2'].ewm(span=ewm_span).mean()\n",
    "        df_temp_next['ewm_claim_liab_end_lag3'] = df_temp_next['claim_liab_end_lag3'].ewm(span=ewm_span).mean()\n",
    "        df_temp_next['ewm_claim_liab_end_lag4'] = df_temp_next['claim_liab_end_lag4'].ewm(span=ewm_span).mean()\n",
    "        df_temp_next['ewm_claim_liab_end_lag5'] = df_temp_next['claim_liab_end_lag5'].ewm(span=ewm_span).mean()\n",
    "        \n",
    "        # concatenate df_temp_next to df_temp\n",
    "        df_temp = pd.concat([df_temp, df_temp_next],ignore_index=True, sort=False)\n",
    "\n",
    "# after looping all company, ins_class, df_temp is completed\n",
    "# assign df as a copy of df_temp (make a copy, in case we make changes to df_temp later)\n",
    "df = df_temp.copy()"
   ]
  },
  {
   "cell_type": "code",
   "execution_count": null,
   "metadata": {
    "ExecuteTime": {
     "end_time": "2019-12-04T02:00:31.383582Z",
     "start_time": "2019-12-04T02:00:31.371592Z"
    }
   },
   "outputs": [],
   "source": [
    "df.shape"
   ]
  },
  {
   "cell_type": "markdown",
   "metadata": {
    "ExecuteTime": {
     "end_time": "2019-11-29T06:08:33.815695Z",
     "start_time": "2019-11-29T06:08:33.810699Z"
    }
   },
   "source": [
    "### Check Denominators\n",
    "\n",
    "Before generating the remaining ratios, check the denominators first. Denominators where value = 0 will result in ratios => Inf/NaN and thus need to be removed. "
   ]
  },
  {
   "cell_type": "code",
   "execution_count": null,
   "metadata": {
    "ExecuteTime": {
     "end_time": "2019-12-04T02:00:31.467531Z",
     "start_time": "2019-12-04T02:00:31.388580Z"
    }
   },
   "outputs": [],
   "source": [
    "print(df[df['claim_set_net_lag1'].isna()].count().any(),end=' ')\n",
    "print(df[df['ewm_prem_write_net_lag1'].isna()].count().any(),end=' ')\n",
    "print(df[df['ewm_prem_write_net_lag1']==0].count().values[0],end=' ')\n",
    "print(df[df['ewm_prem_write_net_lag1']==0].count().any(),end=' ')\n",
    "print(df[df['ewm_prem_write_net_lag2']==0].count().any(),end=' ')\n",
    "print(df[df['ewm_prem_write_net_lag3']==0].count().any(),end=' ')\n",
    "print(df[df['ewm_prem_write_net_lag4']==0].count().any(),end=' ')\n",
    "print(df[df['ewm_prem_write_net_lag5']==0].count().any(),end=' ')\n",
    "print(df[df['prem_write_net_lag1']==0].count().values[0],end=' ')\n",
    "print(df[df['prem_write_net_lag2']==0].count().values[0],end=' ')\n",
    "print(df[df['prem_write_net_lag3']==0].count().values[0],end=' ')\n",
    "print(df[df['prem_write_net_lag4']==0].count().values[0],end=' ')\n",
    "print(df[df['prem_write_net_lag5']==0].count().values[0])"
   ]
  },
  {
   "cell_type": "code",
   "execution_count": null,
   "metadata": {
    "ExecuteTime": {
     "end_time": "2019-12-04T02:00:31.561474Z",
     "start_time": "2019-12-04T02:00:31.471528Z"
    }
   },
   "outputs": [],
   "source": [
    "print(df[df['prem_write_net_lag1'].isna()].count().values[0],end=' ')\n",
    "print(df[df['prem_write_net_lag2'].isna()].count().values[0],end=' ')\n",
    "print(df[df['prem_write_net_lag3'].isna()].count().values[0],end=' ')\n",
    "print(df[df['prem_write_net_lag4'].isna()].count().values[0],end=' ')\n",
    "print(df[df['prem_write_net_lag5'].isna()].count().values[0],end=' ')\n",
    "print(df[df['claim_set_net_lag1'].isna()].count().values[0],end=' ')\n",
    "print(df[df['claim_set_net_lag2'].isna()].count().values[0],end=' ')\n",
    "print(df[df['claim_set_net_lag3'].isna()].count().values[0],end=' ')\n",
    "print(df[df['claim_set_net_lag4'].isna()].count().values[0],end=' ')\n",
    "print(df[df['claim_set_net_lag5'].isna()].count().values[0],end=' ')\n",
    "print(df[df['claim_liab_end_lag1'].isna()].count().values[0],end=' ')\n",
    "print(df[df['claim_liab_end_lag2'].isna()].count().values[0],end=' ')\n",
    "print(df[df['claim_liab_end_lag3'].isna()].count().values[0],end=' ')\n",
    "print(df[df['claim_liab_end_lag4'].isna()].count().values[0],end=' ')\n",
    "print(df[df['claim_liab_end_lag5'].isna()].count().values[0],end=' ')"
   ]
  },
  {
   "cell_type": "code",
   "execution_count": null,
   "metadata": {
    "ExecuteTime": {
     "end_time": "2019-12-04T02:00:31.621439Z",
     "start_time": "2019-12-04T02:00:31.566470Z"
    }
   },
   "outputs": [],
   "source": [
    "print(df[(df['prem_write_net_lag1'].isna()) & \n",
    "         (df['claim_set_net_lag1'].isna()) & (df['claim_liab_end_lag1'].isna())].count().values[0],end=' ')\n",
    "print(df[(df['prem_write_net_lag2'].isna()) & \n",
    "         (df['claim_set_net_lag2'].isna()) & (df['claim_liab_end_lag2'].isna())].count().values[0],end=' ')\n",
    "print(df[(df['prem_write_net_lag3'].isna()) & \n",
    "         (df['claim_set_net_lag3'].isna()) & (df['claim_liab_end_lag3'].isna())].count().values[0],end=' ')\n",
    "print(df[(df['prem_write_net_lag4'].isna()) & \n",
    "         (df['claim_set_net_lag4'].isna()) & (df['claim_liab_end_lag4'].isna())].count().values[0],end=' ')\n",
    "print(df[(df['prem_write_net_lag5'].isna()) & \n",
    "         (df['claim_set_net_lag5'].isna()) & (df['claim_liab_end_lag5'].isna())].count().values[0],end=' ')"
   ]
  },
  {
   "cell_type": "code",
   "execution_count": null,
   "metadata": {
    "ExecuteTime": {
     "end_time": "2019-12-04T02:00:31.666407Z",
     "start_time": "2019-12-04T02:00:31.625433Z"
    }
   },
   "outputs": [],
   "source": [
    "# define alpha\n",
    "alpha = 1.05\n",
    "# generate remaining features\n",
    "df['lkpp'] = df['prem_write_net_lag1'] / (df['claim_set_net_lag1'] + df['policy_liab_diff_lag1'])\n",
    "df['hlr_lag1'] = (df['ewm_claim_set_net_lag1'] + df['ewm_claim_liab_end_lag1']) / df['ewm_prem_write_net_lag1']\n",
    "df['hlr_lag2'] = (df['ewm_claim_set_net_lag2'] + df['ewm_claim_liab_end_lag2']) / df['ewm_prem_write_net_lag2']\n",
    "df['hlr_lag3'] = (df['ewm_claim_set_net_lag3'] + df['ewm_claim_liab_end_lag3']) / df['ewm_prem_write_net_lag3']\n",
    "df['hlr_lag4'] = (df['ewm_claim_set_net_lag4'] + df['ewm_claim_liab_end_lag4']) / df['ewm_prem_write_net_lag4']\n",
    "df['hlr_lag5'] = (df['ewm_claim_set_net_lag5'] + df['ewm_claim_liab_end_lag5']) / df['ewm_prem_write_net_lag5']\n",
    "df['prem_liab_diff_lag1'] = df['prem_liab_end_lag1'] - df['prem_liab_begin_lag1']\n",
    "df['claim_liab_diff_lag1'] = df['claim_liab_end_lag1'] - df['claim_liab_begin_lag1']\n",
    "\n",
    "#debug\n",
    "# df['mer'] = -1*alpha*df['exp_management_lag1'] / df['prem_write_net_lag1'] # multiply by -1 (negative polarity)\n",
    "# df['der'] = -1*alpha*df['exp_comm_incur_net_lag1'] / df['prem_write_net_lag1'] # multiply by -1 (negative polarity)\n",
    "# df['oer'] = -1*alpha*df['exp_other_lag1'] / df['prem_write_net_lag1'] # multiply by -1 (negative polarity)\n",
    "df['mer'] = 1*alpha*df['exp_management_lag1'] / df['prem_write_net_lag1'] # multiply by -1 (negative polarity)\n",
    "df['der'] = 1*alpha*df['exp_comm_incur_net_lag1'] / df['prem_write_net_lag1'] # multiply by -1 (negative polarity)\n",
    "df['oer'] = 1*alpha*df['exp_other_lag1'] / df['prem_write_net_lag1'] # multiply by -1 (negative polarity)"
   ]
  },
  {
   "cell_type": "code",
   "execution_count": null,
   "metadata": {
    "ExecuteTime": {
     "end_time": "2019-12-04T02:00:31.718377Z",
     "start_time": "2019-12-04T02:00:31.669405Z"
    },
    "scrolled": true
   },
   "outputs": [],
   "source": [
    "# SANITY CHECK\n",
    "print(df[df['prem_liab_diff_lag1']==0].count().values[0])\n",
    "print(df[df['claim_liab_diff_lag1']==0].count().values[0])\n",
    "print(df[df['uw_gain_lag1']==0].count().values[0])\n",
    "print('---')\n",
    "print(df[df['prem_liab_diff_lag1'].isna()].count().values[0])\n",
    "print(df[df['claim_liab_diff_lag1'].isna()].count().values[0])\n",
    "print(df[df['uw_gain_lag1'].isna()].count().values[0])"
   ]
  },
  {
   "cell_type": "code",
   "execution_count": null,
   "metadata": {
    "ExecuteTime": {
     "end_time": "2019-12-04T02:00:31.898265Z",
     "start_time": "2019-12-04T02:00:31.722375Z"
    }
   },
   "outputs": [],
   "source": [
    "# change all fields (except 'class' and 'company') to numeric\n",
    "columns_to_convert = list(df.columns.values)\n",
    "columns_to_convert.pop(0) # remove 'year'\n",
    "columns_to_convert.pop(0) # remove 'company'\n",
    "columns_to_convert.pop(0) # remove 'class'\n",
    "for col in columns_to_convert:\n",
    "    df[col] = pd.to_numeric(df[col])"
   ]
  },
  {
   "cell_type": "code",
   "execution_count": null,
   "metadata": {
    "ExecuteTime": {
     "end_time": "2019-12-04T02:00:32.443958Z",
     "start_time": "2019-12-04T02:00:31.901264Z"
    }
   },
   "outputs": [],
   "source": [
    "df.describe()"
   ]
  },
  {
   "cell_type": "code",
   "execution_count": null,
   "metadata": {
    "ExecuteTime": {
     "end_time": "2019-12-04T02:00:32.577884Z",
     "start_time": "2019-12-04T02:00:32.447952Z"
    }
   },
   "outputs": [],
   "source": [
    "# LKPP(t) = NPW(t-1) / [ CSN(t-1) +  PolicyLiability(t-1) ]\n",
    "df[(df['lkpp'].isna()) | (df['lkpp']==float(\"inf\"))]"
   ]
  },
  {
   "cell_type": "markdown",
   "metadata": {},
   "source": [
    "=> In the above 4 records, the Policy Liabiity in the prior time period is zero, and the Net Claims Settled is also zero. As a result, these 4 records cannot be used for calculation the Last Known Pricing Performance (LPKK). Drop these 4 rows."
   ]
  },
  {
   "cell_type": "code",
   "execution_count": null,
   "metadata": {
    "ExecuteTime": {
     "end_time": "2019-12-04T02:00:32.601868Z",
     "start_time": "2019-12-04T02:00:32.581881Z"
    }
   },
   "outputs": [],
   "source": [
    "# get the list of indexes, then drop the rows based on the corresponding index\n",
    "try:\n",
    "    idx_list = list(df[(df['lkpp'].isna()) | (df['lkpp']==float(\"inf\"))].index.values)\n",
    "except:\n",
    "    pass\n",
    "else:\n",
    "    if len(idx_list) > 0:\n",
    "        df.drop(index=idx_list,inplace=True)"
   ]
  },
  {
   "cell_type": "code",
   "execution_count": null,
   "metadata": {
    "ExecuteTime": {
     "end_time": "2019-12-04T02:00:32.666120Z",
     "start_time": "2019-12-04T02:00:32.604867Z"
    }
   },
   "outputs": [],
   "source": [
    "# check num rows where expenses are >= 0\n",
    "print(df[df['mer']>=0].count().values[0])\n",
    "print(df[df['der']>=0].count().values[0])\n",
    "print(df[df['oer']>=0].count().values[0])"
   ]
  },
  {
   "cell_type": "markdown",
   "metadata": {},
   "source": [
    "### Assign Polarity to Features"
   ]
  },
  {
   "cell_type": "markdown",
   "metadata": {},
   "source": [
    "**The following features represent monies and/or ratio of monies that are OUTGOING.**<br>\n",
    "**Therefore, these should be assigned -ve sign.**<br>\n",
    "- hlr_lag1\n",
    "- hlr_lag2\n",
    "- hlr_lag3\n",
    "- hlr_lag4\n",
    "- hlr_lag5\n",
    "- mer\n",
    "- der\n",
    "- oer\n",
    "- claim_set_net_lag1\n",
    "- exp_management_lag1\n",
    "- exp_com_incur_net_lag1\n",
    "- exp_other_lag1\n",
    "- prem_liab_diff_lag1\n",
    "- claim_liab_diff_lag1<br><br>\n",
    "**Notes regarding features not listed above:-**<br><br>\n",
    "- **lkpp** = NPW(t-1) / [ CSN(t-1) + PolicyLiabilityDiff(t-1) ]; this can be Negative if business intake shrinks significantly over the year i.e. PolicyLiabilityDiff is -ve and |PolicyLiabilityDiff| > CSN(t-1)\n",
    "- **prem_write_net_lag1** is INCOMING money and hence POSITIVE\n",
    "- **uw_gain_lag1** is the performance for the previous year and must not be modified "
   ]
  },
  {
   "cell_type": "code",
   "execution_count": null,
   "metadata": {
    "ExecuteTime": {
     "end_time": "2019-12-04T02:00:32.675115Z",
     "start_time": "2019-12-04T02:00:32.670117Z"
    }
   },
   "outputs": [],
   "source": [
    "def make_columns_negative(df_arg, col_list):\n",
    "    for i in col_list:\n",
    "        df_arg[i] = -1 * df_arg[i]\n",
    "    return df_arg.copy()"
   ]
  },
  {
   "cell_type": "code",
   "execution_count": null,
   "metadata": {
    "ExecuteTime": {
     "end_time": "2019-12-04T02:00:32.703098Z",
     "start_time": "2019-12-04T02:00:32.680112Z"
    }
   },
   "outputs": [],
   "source": [
    "# change signs to negative\n",
    "columns_to_change = ['hlr_lag1','hlr_lag2','hlr_lag3','hlr_lag4','hlr_lag5',\n",
    "                     'mer','der','oer','claim_set_net_lag1','exp_management_lag1',\n",
    "                     'exp_comm_incur_net_lag1','exp_other_lag1','prem_liab_diff_lag1',\n",
    "                     'claim_liab_diff_lag1']\n",
    "\n",
    "df = make_columns_negative(df, columns_to_change)"
   ]
  },
  {
   "cell_type": "code",
   "execution_count": null,
   "metadata": {
    "ExecuteTime": {
     "end_time": "2019-12-04T02:00:32.715090Z",
     "start_time": "2019-12-04T02:00:32.707094Z"
    }
   },
   "outputs": [],
   "source": [
    "df.shape"
   ]
  },
  {
   "cell_type": "code",
   "execution_count": null,
   "metadata": {
    "ExecuteTime": {
     "end_time": "2019-12-04T02:00:32.836016Z",
     "start_time": "2019-12-04T02:00:32.719088Z"
    }
   },
   "outputs": [],
   "source": [
    "df.head()"
   ]
  },
  {
   "cell_type": "markdown",
   "metadata": {},
   "source": [
    "# Put Modeling Features into Dataframe"
   ]
  },
  {
   "cell_type": "markdown",
   "metadata": {},
   "source": [
    "### Create df_model using only those columns to be used for modelling"
   ]
  },
  {
   "cell_type": "code",
   "execution_count": null,
   "metadata": {
    "ExecuteTime": {
     "end_time": "2019-12-04T02:00:32.854004Z",
     "start_time": "2019-12-04T02:00:32.840013Z"
    }
   },
   "outputs": [],
   "source": [
    "# generate df_model, which is a subset of df\n",
    "df_model = df[['year','company','class','auwgr','lkpp','hlr_lag1','hlr_lag2','hlr_lag3','hlr_lag4','hlr_lag5','mer',\n",
    "               'der','oer','prem_write_net_lag1','claim_set_net_lag1','exp_management_lag1','exp_comm_incur_net_lag1',\n",
    "               'exp_other_lag1','prem_liab_diff_lag1','claim_liab_diff_lag1','uw_gain_lag1']]\n",
    "df_model.shape"
   ]
  },
  {
   "cell_type": "markdown",
   "metadata": {},
   "source": [
    "### Get Dummies (based on 'class' column)"
   ]
  },
  {
   "cell_type": "code",
   "execution_count": null,
   "metadata": {
    "ExecuteTime": {
     "end_time": "2019-12-04T02:00:32.882986Z",
     "start_time": "2019-12-04T02:00:32.858001Z"
    }
   },
   "outputs": [],
   "source": [
    "df_model = pd.get_dummies(df_model,columns=['class'])\n",
    "df_model.shape"
   ]
  },
  {
   "cell_type": "code",
   "execution_count": null,
   "metadata": {
    "ExecuteTime": {
     "end_time": "2019-12-04T02:00:33.103867Z",
     "start_time": "2019-12-04T02:00:32.886983Z"
    }
   },
   "outputs": [],
   "source": [
    "df_model.describe()"
   ]
  },
  {
   "cell_type": "markdown",
   "metadata": {},
   "source": [
    "# Export Untrimmed Data"
   ]
  },
  {
   "cell_type": "code",
   "execution_count": null,
   "metadata": {
    "ExecuteTime": {
     "end_time": "2019-12-04T02:00:33.587093Z",
     "start_time": "2019-12-04T02:00:33.107865Z"
    }
   },
   "outputs": [],
   "source": [
    "# export the data before checking their distributions and removing outliers\n",
    "df_model.to_csv('../data/df_model_untrimmed.csv',index=False)"
   ]
  },
  {
   "cell_type": "markdown",
   "metadata": {},
   "source": [
    "# Check Distribution of Data"
   ]
  },
  {
   "cell_type": "markdown",
   "metadata": {},
   "source": [
    "## Target: auwgr"
   ]
  },
  {
   "cell_type": "code",
   "execution_count": null,
   "metadata": {
    "ExecuteTime": {
     "end_time": "2019-12-04T02:00:35.029782Z",
     "start_time": "2019-12-04T02:00:33.591091Z"
    }
   },
   "outputs": [],
   "source": [
    "# no limits to range\n",
    "print('mean:',df_model['auwgr'].mean())\n",
    "fig, axes = plt.subplots(1,2,figsize=(14,4))\n",
    "axes[0].hist(df_model['auwgr'],bins=100)\n",
    "axes[1].boxplot(df_model['auwgr'])\n",
    "plt.show();"
   ]
  },
  {
   "cell_type": "code",
   "execution_count": null,
   "metadata": {
    "ExecuteTime": {
     "end_time": "2019-12-04T02:00:36.545088Z",
     "start_time": "2019-12-04T02:00:35.033780Z"
    }
   },
   "outputs": [],
   "source": [
    "# limited to range (-4,4)\n",
    "print('mean:',df_model['auwgr'].mean())\n",
    "fig, axes = plt.subplots(1,2,figsize=(14,4))\n",
    "axes[0].hist(df_model['auwgr'],range=(-4,4),bins=100,density=False)\n",
    "axes[1].boxplot(df_model['auwgr'])\n",
    "axes[1].set_ylim([-4,4])\n",
    "plt.show();"
   ]
  },
  {
   "cell_type": "code",
   "execution_count": null,
   "metadata": {
    "ExecuteTime": {
     "end_time": "2019-12-04T02:00:36.570073Z",
     "start_time": "2019-12-04T02:00:36.549085Z"
    }
   },
   "outputs": [],
   "source": [
    "# check how many rows of data we have if we limit our target to (-4,4)\n",
    "df_model[(df_model['auwgr'] < 4) & (df_model['auwgr'] > -4)].count().values[0]"
   ]
  },
  {
   "cell_type": "code",
   "execution_count": null,
   "metadata": {
    "ExecuteTime": {
     "end_time": "2019-12-04T02:00:36.587062Z",
     "start_time": "2019-12-04T02:00:36.574069Z"
    }
   },
   "outputs": [],
   "source": [
    "df_model_trimmed = df_model[(df_model['auwgr'] < 4) & (df_model['auwgr'] > -4)].copy()"
   ]
  },
  {
   "cell_type": "code",
   "execution_count": null,
   "metadata": {
    "ExecuteTime": {
     "end_time": "2019-12-04T02:00:36.799219Z",
     "start_time": "2019-12-04T02:00:36.591059Z"
    }
   },
   "outputs": [],
   "source": [
    "df_model_trimmed.describe()"
   ]
  },
  {
   "cell_type": "code",
   "execution_count": null,
   "metadata": {
    "ExecuteTime": {
     "end_time": "2019-12-04T02:00:38.302003Z",
     "start_time": "2019-12-04T02:00:36.803217Z"
    }
   },
   "outputs": [],
   "source": [
    "# no limits to range\n",
    "print('mean:',df_model_trimmed['auwgr'].mean())\n",
    "fig, axes = plt.subplots(1,2,figsize=(14,4))\n",
    "axes[0].hist(df_model_trimmed['auwgr'],bins=100)\n",
    "axes[1].boxplot(df_model_trimmed['auwgr'])\n",
    "plt.show();"
   ]
  },
  {
   "cell_type": "markdown",
   "metadata": {},
   "source": [
    "## Define Functions"
   ]
  },
  {
   "cell_type": "code",
   "execution_count": null,
   "metadata": {
    "ExecuteTime": {
     "end_time": "2019-12-04T02:00:38.337978Z",
     "start_time": "2019-12-04T02:00:38.306000Z"
    }
   },
   "outputs": [],
   "source": [
    "# functions to be used for plotting\n",
    "\n",
    "def plot_features_stats(df_arg, features, target):\n",
    "    for i in features:\n",
    "        x=df_arg[i]\n",
    "        y=df_arg[target]\n",
    "        fig, axes = plt.subplots(1,3,figsize=(14,4))\n",
    "        axes[0].hist(x,bins=100)\n",
    "        axes[0].set_title(i+' :  mean = '+str(x.mean()))\n",
    "        axes[1].boxplot(x)\n",
    "        axes[2].scatter(x,y)\n",
    "        axes[2].set_xlabel('Feature Value')\n",
    "        axes[2].set_ylabel('Target Value')\n",
    "\n",
    "def plot_feature_with_limits(df_arg, col_name, min_arg, max_arg, bins_arg=100):\n",
    "    x=df_arg[col_name]\n",
    "    fig, axes = plt.subplots(1,2,figsize=(14,4))\n",
    "    axes[0].hist(x,bins=bins_arg,range=(min_arg,max_arg),density=False)\n",
    "    axes[0].set_title(col_name+' :  mean = '+str(x.mean()))\n",
    "    axes[1].boxplot(x)\n",
    "    axes[1].set_ylim([min_arg,max_arg])\n",
    "    plt.show();\n",
    "    print('no. of rows within limits',df_arg[(df_arg[col_name]>min_arg) & (df_arg[col_name]<max_arg)].count().values[0])\n",
    "    return None\n",
    "\n",
    "def trim_df(df_arg, col_name, min_arg, max_arg):\n",
    "    return df_arg[(df_arg[col_name] > min_arg) & (df_arg[col_name] < max_arg)].copy()"
   ]
  },
  {
   "cell_type": "markdown",
   "metadata": {},
   "source": [
    "## Plot All Features"
   ]
  },
  {
   "cell_type": "code",
   "execution_count": null,
   "metadata": {
    "ExecuteTime": {
     "end_time": "2019-12-04T02:00:38.348971Z",
     "start_time": "2019-12-04T02:00:38.342976Z"
    }
   },
   "outputs": [],
   "source": [
    "features_list = list(df_model_trimmed.columns.values)"
   ]
  },
  {
   "cell_type": "code",
   "execution_count": null,
   "metadata": {
    "ExecuteTime": {
     "end_time": "2019-12-04T02:00:38.362964Z",
     "start_time": "2019-12-04T02:00:38.352970Z"
    }
   },
   "outputs": [],
   "source": [
    "features_list.pop(0) # remove year\n",
    "features_list.pop(0) # remove company\n",
    "features_list.pop(0) # remove auwgr"
   ]
  },
  {
   "cell_type": "code",
   "execution_count": null,
   "metadata": {
    "ExecuteTime": {
     "end_time": "2019-12-04T02:00:38.383950Z",
     "start_time": "2019-12-04T02:00:38.367962Z"
    }
   },
   "outputs": [],
   "source": [
    "# remove 'class' dummies (12 columns, at the end of the df)\n",
    "features_list.pop()\n",
    "features_list.pop()\n",
    "features_list.pop()\n",
    "features_list.pop()\n",
    "features_list.pop()\n",
    "features_list.pop()\n",
    "features_list.pop()\n",
    "features_list.pop()\n",
    "features_list.pop()\n",
    "features_list.pop()\n",
    "features_list.pop()\n",
    "features_list.pop()\n",
    "features_list.pop()\n",
    "print(features_list)"
   ]
  },
  {
   "cell_type": "code",
   "execution_count": null,
   "metadata": {
    "ExecuteTime": {
     "end_time": "2019-12-04T02:01:10.739740Z",
     "start_time": "2019-12-04T02:00:38.390946Z"
    },
    "scrolled": true
   },
   "outputs": [],
   "source": [
    "plot_features_stats(df_model_trimmed, features_list, 'auwgr')"
   ]
  },
  {
   "cell_type": "markdown",
   "metadata": {},
   "source": [
    "## Further Feature Engineering\n",
    "For each feature, some of the extreme outliers are removed by specifying max/min limits and then trimming the data that do not fall within these limits."
   ]
  },
  {
   "cell_type": "markdown",
   "metadata": {},
   "source": [
    "### lkpp"
   ]
  },
  {
   "cell_type": "code",
   "execution_count": null,
   "metadata": {
    "ExecuteTime": {
     "end_time": "2019-12-04T02:01:12.006521Z",
     "start_time": "2019-12-04T02:01:10.743738Z"
    }
   },
   "outputs": [],
   "source": [
    "# plot distribution within limits\n",
    "plot_feature_with_limits(df_model_trimmed, 'lkpp', -20 , 11)"
   ]
  },
  {
   "cell_type": "code",
   "execution_count": null,
   "metadata": {
    "ExecuteTime": {
     "end_time": "2019-12-04T02:01:12.027508Z",
     "start_time": "2019-12-04T02:01:12.010519Z"
    }
   },
   "outputs": [],
   "source": [
    "df_model_trimmed = trim_df(df_model_trimmed,'lkpp', -20 , 11)\n",
    "df_model_trimmed.shape"
   ]
  },
  {
   "cell_type": "markdown",
   "metadata": {},
   "source": [
    "### hlr_lag1"
   ]
  },
  {
   "cell_type": "code",
   "execution_count": null,
   "metadata": {
    "ExecuteTime": {
     "end_time": "2019-12-04T02:01:13.484789Z",
     "start_time": "2019-12-04T02:01:12.031505Z"
    },
    "scrolled": true
   },
   "outputs": [],
   "source": [
    "# plot distribution within limits\n",
    "plot_feature_with_limits(df_model_trimmed, 'hlr_lag1', -9 , 2)"
   ]
  },
  {
   "cell_type": "code",
   "execution_count": null,
   "metadata": {
    "ExecuteTime": {
     "end_time": "2019-12-04T02:01:13.504776Z",
     "start_time": "2019-12-04T02:01:13.488787Z"
    }
   },
   "outputs": [],
   "source": [
    "df_model_trimmed = trim_df(df_model_trimmed,'hlr_lag1', -9,2)\n",
    "df_model_trimmed.shape"
   ]
  },
  {
   "cell_type": "markdown",
   "metadata": {},
   "source": [
    "### hlr_lag2"
   ]
  },
  {
   "cell_type": "code",
   "execution_count": null,
   "metadata": {
    "ExecuteTime": {
     "end_time": "2019-12-04T02:01:15.112619Z",
     "start_time": "2019-12-04T02:01:13.508774Z"
    }
   },
   "outputs": [],
   "source": [
    "# plot distribution within limits\n",
    "plot_feature_with_limits(df_model_trimmed, 'hlr_lag2', -9 , 2)"
   ]
  },
  {
   "cell_type": "code",
   "execution_count": null,
   "metadata": {
    "ExecuteTime": {
     "end_time": "2019-12-04T02:01:15.140601Z",
     "start_time": "2019-12-04T02:01:15.119617Z"
    }
   },
   "outputs": [],
   "source": [
    "df_model_trimmed = trim_df(df_model_trimmed,'hlr_lag2', -9 , 2)\n",
    "df_model_trimmed.shape"
   ]
  },
  {
   "cell_type": "markdown",
   "metadata": {},
   "source": [
    "### hlr_lag3"
   ]
  },
  {
   "cell_type": "code",
   "execution_count": null,
   "metadata": {
    "ExecuteTime": {
     "end_time": "2019-12-04T02:01:16.763792Z",
     "start_time": "2019-12-04T02:01:15.145598Z"
    }
   },
   "outputs": [],
   "source": [
    "# plot distribution within limits\n",
    "plot_feature_with_limits(df_model_trimmed, 'hlr_lag3', -9 , 2)"
   ]
  },
  {
   "cell_type": "code",
   "execution_count": null,
   "metadata": {
    "ExecuteTime": {
     "end_time": "2019-12-04T02:01:16.785777Z",
     "start_time": "2019-12-04T02:01:16.768787Z"
    }
   },
   "outputs": [],
   "source": [
    "df_model_trimmed = trim_df(df_model_trimmed,'hlr_lag3', -9 , 2)\n",
    "df_model_trimmed.shape"
   ]
  },
  {
   "cell_type": "markdown",
   "metadata": {},
   "source": [
    "### hlr_lag4"
   ]
  },
  {
   "cell_type": "code",
   "execution_count": null,
   "metadata": {
    "ExecuteTime": {
     "end_time": "2019-12-04T02:01:17.944002Z",
     "start_time": "2019-12-04T02:01:16.789774Z"
    }
   },
   "outputs": [],
   "source": [
    "# plot distribution within limits\n",
    "plot_feature_with_limits(df_model_trimmed, 'hlr_lag4', -9 , 2)"
   ]
  },
  {
   "cell_type": "code",
   "execution_count": null,
   "metadata": {
    "ExecuteTime": {
     "end_time": "2019-12-04T02:01:18.355746Z",
     "start_time": "2019-12-04T02:01:18.339755Z"
    }
   },
   "outputs": [],
   "source": [
    "df_model_trimmed = trim_df(df_model_trimmed,'hlr_lag4', -9 , 2)\n",
    "df_model_trimmed.shape"
   ]
  },
  {
   "cell_type": "markdown",
   "metadata": {},
   "source": [
    "### hlr_lag5"
   ]
  },
  {
   "cell_type": "code",
   "execution_count": null,
   "metadata": {
    "ExecuteTime": {
     "end_time": "2019-12-04T02:01:19.481859Z",
     "start_time": "2019-12-04T02:01:18.365740Z"
    }
   },
   "outputs": [],
   "source": [
    "# plot distribution within limits\n",
    "plot_feature_with_limits(df_model_trimmed, 'hlr_lag5', -9 , 2)"
   ]
  },
  {
   "cell_type": "code",
   "execution_count": null,
   "metadata": {
    "ExecuteTime": {
     "end_time": "2019-12-04T02:01:19.499849Z",
     "start_time": "2019-12-04T02:01:19.485858Z"
    }
   },
   "outputs": [],
   "source": [
    "df_model_trimmed = trim_df(df_model_trimmed,'hlr_lag5', -9 , 2)\n",
    "df_model_trimmed.shape"
   ]
  },
  {
   "cell_type": "markdown",
   "metadata": {},
   "source": [
    "### mer"
   ]
  },
  {
   "cell_type": "code",
   "execution_count": null,
   "metadata": {
    "ExecuteTime": {
     "end_time": "2019-12-04T02:01:20.732357Z",
     "start_time": "2019-12-04T02:01:19.502848Z"
    }
   },
   "outputs": [],
   "source": [
    "# plot distribution within limits\n",
    "plot_feature_with_limits(df_model_trimmed, 'mer', -2 , 0.1)"
   ]
  },
  {
   "cell_type": "code",
   "execution_count": null,
   "metadata": {
    "ExecuteTime": {
     "end_time": "2019-12-04T02:01:20.751343Z",
     "start_time": "2019-12-04T02:01:20.736352Z"
    }
   },
   "outputs": [],
   "source": [
    "df_model_trimmed = trim_df(df_model_trimmed,'mer', -2 , 0.1)\n",
    "df_model_trimmed.shape"
   ]
  },
  {
   "cell_type": "markdown",
   "metadata": {},
   "source": [
    "### der"
   ]
  },
  {
   "cell_type": "code",
   "execution_count": null,
   "metadata": {
    "ExecuteTime": {
     "end_time": "2019-12-04T02:01:21.997448Z",
     "start_time": "2019-12-04T02:01:20.756341Z"
    }
   },
   "outputs": [],
   "source": [
    "# plot distribution within limits\n",
    "plot_feature_with_limits(df_model_trimmed, 'der', -1 , 1.2)"
   ]
  },
  {
   "cell_type": "code",
   "execution_count": null,
   "metadata": {
    "ExecuteTime": {
     "end_time": "2019-12-04T02:01:22.018436Z",
     "start_time": "2019-12-04T02:01:22.001446Z"
    }
   },
   "outputs": [],
   "source": [
    "df_model_trimmed = trim_df(df_model_trimmed,'der', -1 , 1.2)\n",
    "df_model_trimmed.shape"
   ]
  },
  {
   "cell_type": "markdown",
   "metadata": {},
   "source": [
    "### oer"
   ]
  },
  {
   "cell_type": "code",
   "execution_count": null,
   "metadata": {
    "ExecuteTime": {
     "end_time": "2019-12-04T02:01:23.485895Z",
     "start_time": "2019-12-04T02:01:22.022433Z"
    }
   },
   "outputs": [],
   "source": [
    "# plot distribution within limits\n",
    "plot_feature_with_limits(df_model_trimmed, 'oer', -0.3 , 0.2)"
   ]
  },
  {
   "cell_type": "code",
   "execution_count": null,
   "metadata": {
    "ExecuteTime": {
     "end_time": "2019-12-04T02:01:23.505883Z",
     "start_time": "2019-12-04T02:01:23.489891Z"
    }
   },
   "outputs": [],
   "source": [
    "df_model_trimmed = trim_df(df_model_trimmed,'oer', -0.3 , 0.2)\n",
    "df_model_trimmed.shape"
   ]
  },
  {
   "cell_type": "markdown",
   "metadata": {},
   "source": [
    "### prem_write_net_lag1"
   ]
  },
  {
   "cell_type": "code",
   "execution_count": null,
   "metadata": {
    "ExecuteTime": {
     "end_time": "2019-12-04T02:01:24.854809Z",
     "start_time": "2019-12-04T02:01:23.509880Z"
    }
   },
   "outputs": [],
   "source": [
    "# plot distribution within limits\n",
    "plot_feature_with_limits(df_model_trimmed, 'prem_write_net_lag1', 0 ,  40_000_000)"
   ]
  },
  {
   "cell_type": "code",
   "execution_count": null,
   "metadata": {
    "ExecuteTime": {
     "end_time": "2019-12-04T02:01:24.873797Z",
     "start_time": "2019-12-04T02:01:24.858806Z"
    }
   },
   "outputs": [],
   "source": [
    "df_model_trimmed = trim_df(df_model_trimmed,'prem_write_net_lag1', 0  ,  40_000_000)\n",
    "df_model_trimmed.shape"
   ]
  },
  {
   "cell_type": "markdown",
   "metadata": {},
   "source": [
    "### claim_set_net_lag1"
   ]
  },
  {
   "cell_type": "code",
   "execution_count": null,
   "metadata": {
    "ExecuteTime": {
     "end_time": "2019-12-04T02:01:26.217321Z",
     "start_time": "2019-12-04T02:01:24.877794Z"
    }
   },
   "outputs": [],
   "source": [
    "# plot distribution within limits\n",
    "plot_feature_with_limits(df_model_trimmed, 'claim_set_net_lag1', -20_000_000 ,  10_000)"
   ]
  },
  {
   "cell_type": "code",
   "execution_count": null,
   "metadata": {
    "ExecuteTime": {
     "end_time": "2019-12-04T02:01:26.237308Z",
     "start_time": "2019-12-04T02:01:26.221318Z"
    }
   },
   "outputs": [],
   "source": [
    "df_model_trimmed = trim_df(df_model_trimmed,'claim_set_net_lag1', -20_000_000 ,  10_000)\n",
    "df_model_trimmed.shape"
   ]
  },
  {
   "cell_type": "markdown",
   "metadata": {},
   "source": [
    "### exp_management_lag1"
   ]
  },
  {
   "cell_type": "code",
   "execution_count": null,
   "metadata": {
    "ExecuteTime": {
     "end_time": "2019-12-04T02:01:27.469524Z",
     "start_time": "2019-12-04T02:01:26.241306Z"
    }
   },
   "outputs": [],
   "source": [
    "# plot distribution within limits\n",
    "plot_feature_with_limits(df_model_trimmed, 'exp_management_lag1', -10_000_000  ,  10)"
   ]
  },
  {
   "cell_type": "code",
   "execution_count": null,
   "metadata": {
    "ExecuteTime": {
     "end_time": "2019-12-04T02:01:27.490511Z",
     "start_time": "2019-12-04T02:01:27.474521Z"
    }
   },
   "outputs": [],
   "source": [
    "df_model_trimmed = trim_df(df_model_trimmed,'exp_management_lag1', -10_000_000  ,  10)\n",
    "df_model_trimmed.shape"
   ]
  },
  {
   "cell_type": "markdown",
   "metadata": {},
   "source": [
    "### exp_comm_incur_net_lag1"
   ]
  },
  {
   "cell_type": "code",
   "execution_count": null,
   "metadata": {
    "ExecuteTime": {
     "end_time": "2019-12-04T02:01:28.922995Z",
     "start_time": "2019-12-04T02:01:27.494507Z"
    }
   },
   "outputs": [],
   "source": [
    "# plot distribution within limits\n",
    "plot_feature_with_limits(df_model_trimmed, 'exp_comm_incur_net_lag1', -5_000_000  ,  5_000_000)"
   ]
  },
  {
   "cell_type": "code",
   "execution_count": null,
   "metadata": {
    "ExecuteTime": {
     "end_time": "2019-12-04T02:01:28.946980Z",
     "start_time": "2019-12-04T02:01:28.928991Z"
    }
   },
   "outputs": [],
   "source": [
    "df_model_trimmed = trim_df(df_model_trimmed,'exp_comm_incur_net_lag1', -5_000_000  ,  5_000_000)\n",
    "df_model_trimmed.shape"
   ]
  },
  {
   "cell_type": "markdown",
   "metadata": {},
   "source": [
    "### exp_other_lag1"
   ]
  },
  {
   "cell_type": "code",
   "execution_count": null,
   "metadata": {
    "ExecuteTime": {
     "end_time": "2019-12-04T02:01:30.341756Z",
     "start_time": "2019-12-04T02:01:28.950978Z"
    }
   },
   "outputs": [],
   "source": [
    "# plot distribution within limits\n",
    "plot_feature_with_limits(df_model_trimmed, 'exp_other_lag1', -1_000_000  ,  10_000)"
   ]
  },
  {
   "cell_type": "code",
   "execution_count": null,
   "metadata": {
    "ExecuteTime": {
     "end_time": "2019-12-04T02:01:30.360747Z",
     "start_time": "2019-12-04T02:01:30.345756Z"
    }
   },
   "outputs": [],
   "source": [
    "df_model_trimmed = trim_df(df_model_trimmed,'exp_other_lag1', -1_000_000  ,  10_000)\n",
    "df_model_trimmed.shape"
   ]
  },
  {
   "cell_type": "markdown",
   "metadata": {},
   "source": [
    "### prem_liab_diff_lag1"
   ]
  },
  {
   "cell_type": "code",
   "execution_count": null,
   "metadata": {
    "ExecuteTime": {
     "end_time": "2019-12-04T02:01:31.515348Z",
     "start_time": "2019-12-04T02:01:30.364744Z"
    },
    "scrolled": true
   },
   "outputs": [],
   "source": [
    "# plot distribution within limits\n",
    "plot_feature_with_limits(df_model_trimmed, 'prem_liab_diff_lag1', -2_500_000  ,  2_500_000)"
   ]
  },
  {
   "cell_type": "code",
   "execution_count": null,
   "metadata": {
    "ExecuteTime": {
     "end_time": "2019-12-04T02:01:31.535334Z",
     "start_time": "2019-12-04T02:01:31.519344Z"
    }
   },
   "outputs": [],
   "source": [
    "df_model_trimmed = trim_df(df_model_trimmed,'prem_liab_diff_lag1', -2_500_000  ,  2_500_000)\n",
    "df_model_trimmed.shape"
   ]
  },
  {
   "cell_type": "markdown",
   "metadata": {},
   "source": [
    "### claim_liab_diff_lag1"
   ]
  },
  {
   "cell_type": "code",
   "execution_count": null,
   "metadata": {
    "ExecuteTime": {
     "end_time": "2019-12-04T02:01:32.763577Z",
     "start_time": "2019-12-04T02:01:31.539331Z"
    },
    "scrolled": true
   },
   "outputs": [],
   "source": [
    "# plot distribution within limits\n",
    "plot_feature_with_limits(df_model_trimmed, 'claim_liab_diff_lag1', -6_000_000  ,  6_000_000)"
   ]
  },
  {
   "cell_type": "code",
   "execution_count": null,
   "metadata": {
    "ExecuteTime": {
     "end_time": "2019-12-04T02:01:32.784564Z",
     "start_time": "2019-12-04T02:01:32.767576Z"
    }
   },
   "outputs": [],
   "source": [
    "df_model_trimmed = trim_df(df_model_trimmed,'claim_liab_diff_lag1', -6_000_000  ,  6_000_000)\n",
    "df_model_trimmed.shape"
   ]
  },
  {
   "cell_type": "markdown",
   "metadata": {},
   "source": [
    "### uw_gain_lag1"
   ]
  },
  {
   "cell_type": "code",
   "execution_count": null,
   "metadata": {
    "ExecuteTime": {
     "end_time": "2019-12-04T02:01:34.154716Z",
     "start_time": "2019-12-04T02:01:32.787560Z"
    }
   },
   "outputs": [],
   "source": [
    "# plot distribution within limits\n",
    "plot_feature_with_limits(df_model_trimmed, 'uw_gain_lag1', -10_000_000  ,  10_000_000)"
   ]
  },
  {
   "cell_type": "code",
   "execution_count": null,
   "metadata": {
    "ExecuteTime": {
     "end_time": "2019-12-04T02:01:34.176704Z",
     "start_time": "2019-12-04T02:01:34.160712Z"
    }
   },
   "outputs": [],
   "source": [
    "df_model_trimmed = trim_df(df_model_trimmed,'uw_gain_lag1', -10_000_000  ,  10_000_000)\n",
    "df_model_trimmed.shape"
   ]
  },
  {
   "cell_type": "markdown",
   "metadata": {},
   "source": [
    "# Export Trimmed Data"
   ]
  },
  {
   "cell_type": "code",
   "execution_count": null,
   "metadata": {
    "ExecuteTime": {
     "end_time": "2019-12-04T02:01:34.557472Z",
     "start_time": "2019-12-04T02:01:34.180700Z"
    }
   },
   "outputs": [],
   "source": [
    "df_model_trimmed.to_csv('../data/df_model_trimmed.csv',index=False)"
   ]
  },
  {
   "cell_type": "markdown",
   "metadata": {},
   "source": [
    "# Plot Features After Trimming (less dummies)"
   ]
  },
  {
   "cell_type": "markdown",
   "metadata": {},
   "source": [
    "### Drop 'class' dummies"
   ]
  },
  {
   "cell_type": "code",
   "execution_count": null,
   "metadata": {
    "ExecuteTime": {
     "end_time": "2019-12-04T02:01:34.573459Z",
     "start_time": "2019-12-04T02:01:34.560465Z"
    }
   },
   "outputs": [],
   "source": [
    "# # remove the 'class' dummies\n",
    "droplist = ['class_bonds','class_cnstr_engr','class_cpr','class_fire','class_health',\n",
    "            'class_mac','class_mahl','class_motor','class_others','class_pa',\n",
    "            'class_prof_indm','class_pub_lia','class_wic']\n",
    "df_model_trimmed.drop(columns=droplist,inplace=True)\n",
    "df_model_trimmed.shape"
   ]
  },
  {
   "cell_type": "markdown",
   "metadata": {},
   "source": [
    "### Plot Features (less dummies)"
   ]
  },
  {
   "cell_type": "code",
   "execution_count": null,
   "metadata": {
    "ExecuteTime": {
     "end_time": "2019-12-04T02:02:05.212194Z",
     "start_time": "2019-12-04T02:01:34.577458Z"
    },
    "scrolled": true
   },
   "outputs": [],
   "source": [
    "plot_features_stats(df_model_trimmed, features_list, 'auwgr')"
   ]
  },
  {
   "cell_type": "markdown",
   "metadata": {},
   "source": [
    "# Summary of Data Distribution"
   ]
  },
  {
   "cell_type": "markdown",
   "metadata": {},
   "source": [
    "After trimming the extreme outliers of all features, we are left with a dataset comprising 4347 rows. From the above plots, there does not appear to be a clear relationship between the features and the target. Therefore, it may be a challenge to carry out regressions and classifications with this data."
   ]
  }
 ],
 "metadata": {
  "kernelspec": {
   "display_name": "Python 3",
   "language": "python",
   "name": "python3"
  },
  "language_info": {
   "codemirror_mode": {
    "name": "ipython",
    "version": 3
   },
   "file_extension": ".py",
   "mimetype": "text/x-python",
   "name": "python",
   "nbconvert_exporter": "python",
   "pygments_lexer": "ipython3",
   "version": "3.7.3"
  },
  "toc": {
   "base_numbering": 1,
   "nav_menu": {},
   "number_sections": true,
   "sideBar": true,
   "skip_h1_title": false,
   "title_cell": "Table of Contents",
   "title_sidebar": "Contents",
   "toc_cell": false,
   "toc_position": {
    "height": "455px",
    "left": "136px",
    "top": "252px",
    "width": "354px"
   },
   "toc_section_display": true,
   "toc_window_display": true
  },
  "varInspector": {
   "cols": {
    "lenName": 16,
    "lenType": 16,
    "lenVar": 40
   },
   "kernels_config": {
    "python": {
     "delete_cmd_postfix": "",
     "delete_cmd_prefix": "del ",
     "library": "var_list.py",
     "varRefreshCmd": "print(var_dic_list())"
    },
    "r": {
     "delete_cmd_postfix": ") ",
     "delete_cmd_prefix": "rm(",
     "library": "var_list.r",
     "varRefreshCmd": "cat(var_dic_list()) "
    }
   },
   "types_to_exclude": [
    "module",
    "function",
    "builtin_function_or_method",
    "instance",
    "_Feature"
   ],
   "window_display": false
  }
 },
 "nbformat": 4,
 "nbformat_minor": 2
}
