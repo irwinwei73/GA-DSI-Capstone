{
 "cells": [
  {
   "cell_type": "code",
   "execution_count": null,
   "metadata": {},
   "outputs": [],
   "source": []
  },
  {
   "cell_type": "markdown",
   "metadata": {
    "colab_type": "text",
    "id": "AIfaHpqcs8Cm"
   },
   "source": [
    "# Import Packages"
   ]
  },
  {
   "cell_type": "code",
   "execution_count": 0,
   "metadata": {
    "colab": {},
    "colab_type": "code",
    "id": "e6bbLtb-ShAx"
   },
   "outputs": [],
   "source": [
    "import pandas as pd\n",
    "import matplotlib.pyplot as plt\n",
    "import numpy as np\n",
    "import seaborn as sns\n",
    "sns.set(style='darkgrid')\n",
    "import math\n",
    "import itertools\n",
    "%matplotlib inline\n",
    "%config IPCompleter.greedy=True\n",
    "\n",
    "# load data\n",
    "df = pd.read_csv('df_model_trimmed.csv')\n",
    "\n",
    "# regressors\n",
    "from sklearn.feature_selection import RFECV\n",
    "from sklearn.metrics import r2_score\n",
    "from sklearn.preprocessing import StandardScaler, PolynomialFeatures, PowerTransformer\n",
    "from sklearn.svm import SVR\n",
    "from sklearn.model_selection import train_test_split, cross_val_score, GridSearchCV\n",
    "from sklearn.linear_model import LinearRegression, LogisticRegression\n",
    "from sklearn.linear_model import Ridge, Lasso, ElasticNet\n",
    "from sklearn.linear_model import RidgeCV, LassoCV, ElasticNetCV\n",
    "from sklearn.tree import DecisionTreeRegressor\n",
    "from sklearn.ensemble import RandomForestRegressor, ExtraTreesRegressor, GradientBoostingRegressor\n",
    "\n",
    "# classifiers\n",
    "from sklearn.metrics import roc_auc_score, confusion_matrix, f1_score, classification_report\n",
    "from sklearn.neighbors import KNeighborsClassifier\n",
    "from sklearn.tree import DecisionTreeClassifier\n",
    "from sklearn.svm import SVC\n",
    "from sklearn.ensemble import RandomForestClassifier, ExtraTreesClassifier, AdaBoostClassifier, GradientBoostingClassifier"
   ]
  },
  {
   "cell_type": "markdown",
   "metadata": {
    "colab_type": "text",
    "id": "EBz5Q2kTkEnd"
   },
   "source": [
    "# Load Data"
   ]
  },
  {
   "cell_type": "code",
   "execution_count": 0,
   "metadata": {
    "colab": {},
    "colab_type": "code",
    "id": "hq-2M0Q-HIuk"
   },
   "outputs": [],
   "source": [
    "df = pd.read_csv('df_model_trimmed.csv')"
   ]
  },
  {
   "cell_type": "code",
   "execution_count": 0,
   "metadata": {
    "colab": {
     "base_uri": "https://localhost:8080/",
     "height": 33
    },
    "colab_type": "code",
    "id": "hRs2A9RZHenZ",
    "outputId": "cfa3dc67-722a-4816-8316-6ef4bb832a6a"
   },
   "outputs": [
    {
     "data": {
      "text/plain": [
       "(4347, 20)"
      ]
     },
     "execution_count": 6,
     "metadata": {
      "tags": []
     },
     "output_type": "execute_result"
    }
   ],
   "source": [
    "# # drop the 'class' dummies\n",
    "droplist = ['class_bonds','class_cnstr_engr','class_cpr','class_fire','class_health',\n",
    "            'class_mac','class_mahl','class_motor','class_others','class_pa',\n",
    "            'class_prof_indm','class_pub_lia','class_wic']\n",
    "df.drop(columns=droplist,inplace=True)\n",
    "df.shape"
   ]
  },
  {
   "cell_type": "code",
   "execution_count": 0,
   "metadata": {
    "colab": {},
    "colab_type": "code",
    "id": "aceS_EGP7PV8"
   },
   "outputs": [],
   "source": [
    "df['classification'] = [0 if i<0 else 1 for i in df['auwgr']]"
   ]
  },
  {
   "cell_type": "code",
   "execution_count": 0,
   "metadata": {
    "colab": {
     "base_uri": "https://localhost:8080/",
     "height": 261
    },
    "colab_type": "code",
    "id": "rWUeMj4bkUBT",
    "outputId": "fbac073d-851e-492d-ac10-8d4fe0d79abc"
   },
   "outputs": [
    {
     "data": {
      "text/plain": [
       "2005    311\n",
       "2006    312\n",
       "2007    308\n",
       "2008    301\n",
       "2009    307\n",
       "2010    302\n",
       "2011    328\n",
       "2012    328\n",
       "2013    313\n",
       "2014    296\n",
       "2015    298\n",
       "2016    310\n",
       "2017    316\n",
       "2018    317\n",
       "Name: year, dtype: int64"
      ]
     },
     "execution_count": 25,
     "metadata": {
      "tags": []
     },
     "output_type": "execute_result"
    }
   ],
   "source": [
    "df['year'].value_counts().sort_index()"
   ]
  },
  {
   "cell_type": "code",
   "execution_count": 0,
   "metadata": {
    "colab": {
     "base_uri": "https://localhost:8080/",
     "height": 277
    },
    "colab_type": "code",
    "id": "evDpZ3NHlPvD",
    "outputId": "8aeab0e6-b71e-4a93-dc34-04b175c62c8e"
   },
   "outputs": [
    {
     "data": {
      "text/html": [
       "<div>\n",
       "<style scoped>\n",
       "    .dataframe tbody tr th:only-of-type {\n",
       "        vertical-align: middle;\n",
       "    }\n",
       "\n",
       "    .dataframe tbody tr th {\n",
       "        vertical-align: top;\n",
       "    }\n",
       "\n",
       "    .dataframe thead th {\n",
       "        text-align: right;\n",
       "    }\n",
       "</style>\n",
       "<table border=\"1\" class=\"dataframe\">\n",
       "  <thead>\n",
       "    <tr style=\"text-align: right;\">\n",
       "      <th></th>\n",
       "      <th>prem_write_net_lag1</th>\n",
       "    </tr>\n",
       "  </thead>\n",
       "  <tbody>\n",
       "    <tr>\n",
       "      <th>count</th>\n",
       "      <td>4.347000e+03</td>\n",
       "    </tr>\n",
       "    <tr>\n",
       "      <th>mean</th>\n",
       "      <td>3.098902e+06</td>\n",
       "    </tr>\n",
       "    <tr>\n",
       "      <th>std</th>\n",
       "      <td>4.430762e+06</td>\n",
       "    </tr>\n",
       "    <tr>\n",
       "      <th>min</th>\n",
       "      <td>4.900000e+02</td>\n",
       "    </tr>\n",
       "    <tr>\n",
       "      <th>25%</th>\n",
       "      <td>4.412737e+05</td>\n",
       "    </tr>\n",
       "    <tr>\n",
       "      <th>50%</th>\n",
       "      <td>1.366135e+06</td>\n",
       "    </tr>\n",
       "    <tr>\n",
       "      <th>75%</th>\n",
       "      <td>3.918170e+06</td>\n",
       "    </tr>\n",
       "    <tr>\n",
       "      <th>max</th>\n",
       "      <td>3.393622e+07</td>\n",
       "    </tr>\n",
       "  </tbody>\n",
       "</table>\n",
       "</div>"
      ],
      "text/plain": [
       "       prem_write_net_lag1\n",
       "count         4.347000e+03\n",
       "mean          3.098902e+06\n",
       "std           4.430762e+06\n",
       "min           4.900000e+02\n",
       "25%           4.412737e+05\n",
       "50%           1.366135e+06\n",
       "75%           3.918170e+06\n",
       "max           3.393622e+07"
      ]
     },
     "execution_count": 40,
     "metadata": {
      "tags": []
     },
     "output_type": "execute_result"
    }
   ],
   "source": [
    "df.describe()[['prem_write_net_lag1']]"
   ]
  },
  {
   "cell_type": "markdown",
   "metadata": {
    "colab_type": "text",
    "id": "ekD9L0DFkpXb"
   },
   "source": [
    "# Linear Regression on each Insurance Class"
   ]
  },
  {
   "cell_type": "code",
   "execution_count": 0,
   "metadata": {
    "colab": {
     "base_uri": "https://localhost:8080/",
     "height": 131
    },
    "colab_type": "code",
    "id": "RYJzA9nBkYmu",
    "outputId": "7e1189b5-5e38-4ae3-da2a-b1e49e4cb51e"
   },
   "outputs": [
    {
     "name": "stdout",
     "output_type": "stream",
     "text": [
      "(4347, 31)\n",
      "(4347,)\n",
      "(3260, 31) (1087, 31)\n",
      "(3260,) (1087,)\n",
      "\n",
      "LINEAR REG cross-val mean score:\n",
      "X-Val score MEAN using X_train\t\t 0.431461374782723\n"
     ]
    }
   ],
   "source": [
    "df = pd.read_csv('df_model_trimmed.csv')\n",
    "df['classification'] = [0 if i<0 else 1 for i in df['auwgr']]\n",
    "\n",
    "# df = df[df['prem_write_net_lag1']>1.366135e+06]\n",
    "\n",
    "# df = df[df['year']==2018]\n",
    "# df = df[df['year']==2017]\n",
    "# df = df[df['year']==2016]\n",
    "# df = df[df['year']==2015]\n",
    "# df = df[df['year']==2014]\n",
    "# df = df[df['year']==2013]\n",
    "# df = df[df['year']==2012]\n",
    "# df = df[df['year']==2011]\n",
    "# df = df[df['year']==2010]\n",
    "# df = df[df['year']==2009]\n",
    "# df = df[df['class_bonds']==1]\n",
    "# df = df[df['class_cnstr_engr']==1]\n",
    "# df = df[df['class_cpr']==1]\n",
    "# df = df[df['class_fire']==1]\n",
    "# df = df[df['class_health']==1]\n",
    "# df = df[df['class_mac']==1]\n",
    "# df = df[df['class_mahl']==1]\n",
    "# df = df[df['class_motor']==1]\n",
    "# df = df[df['class_others']==1]\n",
    "# df = df[df['class_pa']==1]\n",
    "# df = df[df['class_prof_indm']==1]\n",
    "# df = df[df['class_pub_lia']==1]\n",
    "# df = df[df['class_wic']==1]\n",
    "df.shape\n",
    "features = [col for col in df._get_numeric_data().columns if (col != 'auwgr') and (col != 'year')]\n",
    "X = df[features]\n",
    "y = df['auwgr']\n",
    "print(X.shape)\n",
    "print(y.shape)\n",
    "X_train, X_test, y_train, y_test = train_test_split(X, y, stratify=X['classification'], random_state=42)\n",
    "# X_train, X_test, y_train, y_test = train_test_split(X, y, random_state=42)\n",
    "print(X_train.shape,X_test.shape)\n",
    "print(y_train.shape,y_test.shape)\n",
    "ss = StandardScaler()\n",
    "ss.fit(X_train)\n",
    "X_train_sc = ss.transform(X_train)\n",
    "X_test_sc = ss.transform(X_test)\n",
    "linreg = LinearRegression()\n",
    "print('\\nLINEAR REG cross-val mean score:')\n",
    "print('X-Val score MEAN using X_train\\t\\t',cross_val_score(linreg, X_train_sc, y_train,cv=3).mean())"
   ]
  },
  {
   "cell_type": "markdown",
   "metadata": {
    "colab_type": "text",
    "id": "rPYJ5fRwoSGW"
   },
   "source": [
    "With the above section code, we take turns to isolate the year and class of insurance and then run the linear regressor to see the cross_val_score. The score does not exceed 0.44. Therefore, even on a insurance class-by-class basis, it appears that the data points cannot be regressed. \n"
   ]
  },
  {
   "cell_type": "markdown",
   "metadata": {
    "colab_type": "text",
    "id": "OfSAnnJ4JTiz"
   },
   "source": [
    "# Get Features"
   ]
  },
  {
   "cell_type": "code",
   "execution_count": 0,
   "metadata": {
    "colab": {
     "base_uri": "https://localhost:8080/",
     "height": 53
    },
    "colab_type": "code",
    "id": "7uTY--Q-HjW4",
    "outputId": "7ec725a2-04bf-4728-d1bc-f8e7ea80a911"
   },
   "outputs": [
    {
     "name": "stdout",
     "output_type": "stream",
     "text": [
      "['lkpp', 'hlr_lag1', 'hlr_lag2', 'hlr_lag3', 'hlr_lag4', 'hlr_lag5', 'mer', 'der', 'oer', 'prem_write_net_lag1', 'claim_set_net_lag1', 'exp_management_lag1', 'exp_comm_incur_net_lag1', 'exp_other_lag1', 'prem_liab_diff_lag1', 'claim_liab_diff_lag1', 'uw_gain_lag1', 'classification']\n"
     ]
    }
   ],
   "source": [
    "features = [col for col in df._get_numeric_data().columns if (col != 'auwgr') and (col != 'year')]\n",
    "print(features)"
   ]
  },
  {
   "cell_type": "code",
   "execution_count": 0,
   "metadata": {
    "colab": {
     "base_uri": "https://localhost:8080/",
     "height": 50
    },
    "colab_type": "code",
    "id": "qv60r06lHnNt",
    "outputId": "dd91f49e-bab9-4fe1-fdf8-6f495945c144"
   },
   "outputs": [
    {
     "name": "stdout",
     "output_type": "stream",
     "text": [
      "(4347, 18)\n",
      "(4347,)\n"
     ]
    }
   ],
   "source": [
    "X = df[features]\n",
    "y = df['auwgr']\n",
    "print(X.shape)\n",
    "print(y.shape)"
   ]
  },
  {
   "cell_type": "code",
   "execution_count": 0,
   "metadata": {
    "colab": {
     "base_uri": "https://localhost:8080/",
     "height": 50
    },
    "colab_type": "code",
    "id": "iUfjwMDJHrXD",
    "outputId": "edbc0418-9b35-4e13-8625-8a101f0b7368"
   },
   "outputs": [
    {
     "name": "stdout",
     "output_type": "stream",
     "text": [
      "(3260, 18) (1087, 18)\n",
      "(3260,) (1087,)\n"
     ]
    }
   ],
   "source": [
    "X_train, X_test, y_train, y_test = train_test_split(X, y, stratify=X['classification'], random_state=42)\n",
    "# X_train, X_test, y_train, y_test = train_test_split(X, y, random_state=42)\n",
    "print(X_train.shape,X_test.shape)\n",
    "print(y_train.shape,y_test.shape)"
   ]
  },
  {
   "cell_type": "code",
   "execution_count": 0,
   "metadata": {
    "colab": {},
    "colab_type": "code",
    "id": "2Uve3Mz0Hy5X"
   },
   "outputs": [],
   "source": [
    "ss = StandardScaler()\n",
    "ss.fit(X_train)\n",
    "X_train_sc = ss.transform(X_train)\n",
    "X_test_sc = ss.transform(X_test)"
   ]
  },
  {
   "cell_type": "code",
   "execution_count": 0,
   "metadata": {
    "colab": {
     "base_uri": "https://localhost:8080/",
     "height": 66
    },
    "colab_type": "code",
    "id": "Wah_tAvBH23t",
    "outputId": "d5ff7e83-2874-438c-a771-94a618e428d0"
   },
   "outputs": [
    {
     "name": "stdout",
     "output_type": "stream",
     "text": [
      "\n",
      "LINEAR REG cross-val mean score:\n",
      "X-Val score MEAN using X_train\t\t 0.4328202717008455\n"
     ]
    }
   ],
   "source": [
    "linreg = LinearRegression()\n",
    "print('\\nLINEAR REG cross-val mean score:')\n",
    "print('X-Val score MEAN using X_train\\t\\t',cross_val_score(linreg, X_train_sc, y_train,cv=3).mean())"
   ]
  },
  {
   "cell_type": "markdown",
   "metadata": {
    "colab_type": "text",
    "id": "ACekZW57JeOG"
   },
   "source": [
    "# RFECV - Linear Regression"
   ]
  },
  {
   "cell_type": "code",
   "execution_count": 0,
   "metadata": {
    "colab": {
     "base_uri": "https://localhost:8080/",
     "height": 33
    },
    "colab_type": "code",
    "id": "MaRwKPYdJdIT",
    "outputId": "2ecca200-22ee-4705-da8f-4d3b70ba21be"
   },
   "outputs": [
    {
     "data": {
      "text/plain": [
       "array([4, 1, 1, 2, 1, 3, 1, 1, 5, 1, 1, 1, 1, 1, 1, 1, 1, 1])"
      ]
     },
     "execution_count": 150,
     "metadata": {
      "tags": []
     },
     "output_type": "execute_result"
    }
   ],
   "source": [
    "estimator = linreg\n",
    "selector = RFECV(estimator, step=1, cv=3) # 3 folds for CV, selector will check all num of features\n",
    "selector = selector.fit(X_train_sc, y_train)\n",
    "selector.ranking_"
   ]
  },
  {
   "cell_type": "markdown",
   "metadata": {
    "colab_type": "text",
    "id": "nDHZQNtALN9q"
   },
   "source": [
    "## Use selected features"
   ]
  },
  {
   "cell_type": "code",
   "execution_count": 0,
   "metadata": {
    "colab": {},
    "colab_type": "code",
    "id": "QojWC6NFLogD"
   },
   "outputs": [],
   "source": [
    "selected_features = features.copy()\n",
    "selected_features.remove('lkpp')\n",
    "selected_features.remove('hlr_lag3')\n",
    "selected_features.remove('hlr_lag5')\n",
    "selected_features.remove('oer')\n",
    "\n",
    "X = df[selected_features]\n",
    "y = df['auwgr']\n",
    "X_train, X_test, y_train, y_test = train_test_split(X, y, stratify=X['classification'], random_state=42)\n",
    "ss = StandardScaler()\n",
    "ss.fit(X_train)\n",
    "X_train_sc = ss.transform(X_train)\n",
    "X_test_sc = ss.transform(X_test)"
   ]
  },
  {
   "cell_type": "code",
   "execution_count": 0,
   "metadata": {
    "colab": {
     "base_uri": "https://localhost:8080/",
     "height": 82
    },
    "colab_type": "code",
    "id": "wPwCFepxLjnL",
    "outputId": "0d782ad6-7ccb-4b0a-eb3e-87e13833ca82"
   },
   "outputs": [
    {
     "name": "stdout",
     "output_type": "stream",
     "text": [
      "\n",
      "LINEAR REG cross-val mean score:\n",
      "X-Val score MEAN using X_train\t\t 0.43328519227600687\n",
      "X-Val score MEAN using X_train\t\t 0.4552348633216165\n"
     ]
    }
   ],
   "source": [
    "linreg = LinearRegression()\n",
    "print('\\nLINEAR REG cross-val mean score:')\n",
    "print('X-Val score MEAN using X_train\\t\\t',cross_val_score(linreg, X_train_sc, y_train,cv=3).mean())\n",
    "print('X-Val score MEAN using X_train\\t\\t',cross_val_score(linreg, X_test_sc, y_test,cv=3).mean())"
   ]
  },
  {
   "cell_type": "markdown",
   "metadata": {
    "colab_type": "text",
    "id": "ZxragMA7PJFf"
   },
   "source": [
    "# RFECV - Extra Trees Regression"
   ]
  },
  {
   "cell_type": "code",
   "execution_count": 0,
   "metadata": {
    "colab": {
     "base_uri": "https://localhost:8080/",
     "height": 50
    },
    "colab_type": "code",
    "id": "bgCWyqejPus_",
    "outputId": "e760f96f-9f0a-40d9-f1f8-9df12d70b424"
   },
   "outputs": [
    {
     "name": "stdout",
     "output_type": "stream",
     "text": [
      "(3260, 18) (1087, 18)\n",
      "(3260,) (1087,)\n"
     ]
    }
   ],
   "source": [
    "X = df[features]\n",
    "y = df['auwgr']\n",
    "X_train, X_test, y_train, y_test = train_test_split(X, y, stratify=X['classification'], random_state=42)\n",
    "print(X_train.shape,X_test.shape)\n",
    "print(y_train.shape,y_test.shape)\n",
    "ss = StandardScaler()\n",
    "ss.fit(X_train)\n",
    "X_train_sc = ss.transform(X_train)\n",
    "X_test_sc = ss.transform(X_test)"
   ]
  },
  {
   "cell_type": "code",
   "execution_count": 0,
   "metadata": {
    "colab": {
     "base_uri": "https://localhost:8080/",
     "height": 33
    },
    "colab_type": "code",
    "id": "6zqOScIEPJFl",
    "outputId": "a63edb20-1616-4871-dd6e-6e2e1fc4f527"
   },
   "outputs": [
    {
     "data": {
      "text/plain": [
       "array([1, 1, 1, 1, 1, 1, 1, 1, 2, 1, 1, 1, 1, 1, 1, 1, 1, 1])"
      ]
     },
     "execution_count": 143,
     "metadata": {
      "tags": []
     },
     "output_type": "execute_result"
    }
   ],
   "source": [
    "estimator = ExtraTreesRegressor(bootstrap=True,oob_score=True,warm_start=False,n_estimators=100)\n",
    "selector = RFECV(estimator, step=1, cv=3) # 3 folds for CV, selector will check all num of features\n",
    "selector = selector.fit(X_train_sc, y_train)\n",
    "selector.ranking_"
   ]
  },
  {
   "cell_type": "markdown",
   "metadata": {
    "colab_type": "text",
    "id": "TApEgZG_PJFw"
   },
   "source": [
    "## Use selected features"
   ]
  },
  {
   "cell_type": "code",
   "execution_count": 0,
   "metadata": {
    "colab": {},
    "colab_type": "code",
    "id": "eQxI8Kl_roxg"
   },
   "outputs": [],
   "source": [
    "selected_features = features.copy()\n",
    "selected_features.remove('oer')\n",
    "\n",
    "X = df[selected_features]\n",
    "y = df['auwgr']\n",
    "X_train, X_test, y_train, y_test = train_test_split(X, y, stratify=X['classification'], random_state=42)\n",
    "ss = StandardScaler()\n",
    "ss.fit(X_train)\n",
    "X_train_sc = ss.transform(X_train)\n",
    "X_test_sc = ss.transform(X_test)"
   ]
  },
  {
   "cell_type": "code",
   "execution_count": 0,
   "metadata": {
    "colab": {
     "base_uri": "https://localhost:8080/",
     "height": 50
    },
    "colab_type": "code",
    "id": "qvYrd4iZPJGH",
    "outputId": "57436572-13d8-428c-b463-0e00d3c3eea7"
   },
   "outputs": [
    {
     "name": "stdout",
     "output_type": "stream",
     "text": [
      "0.9300579919251896\n",
      "0.540305699955996\n"
     ]
    }
   ],
   "source": [
    "etreg = ExtraTreesRegressor(bootstrap=True,oob_score=True,warm_start=False,n_estimators=100)\n",
    "etreg.fit(X_train_sc,y_train) # Use un-scaled data\n",
    "# Evaluate model\n",
    "print(etreg.score(X_train_sc,y_train))\n",
    "print(etreg.score(X_test_sc,y_test))"
   ]
  },
  {
   "cell_type": "markdown",
   "metadata": {
    "colab_type": "text",
    "id": "2ZCrJ896Rl4h"
   },
   "source": [
    "# RFECV - Gradient Boosting Regression"
   ]
  },
  {
   "cell_type": "code",
   "execution_count": 0,
   "metadata": {
    "colab": {
     "base_uri": "https://localhost:8080/",
     "height": 50
    },
    "colab_type": "code",
    "id": "RD1Ug9_xRt8x",
    "outputId": "3e42f2e6-212e-4921-cf20-0377c28e3836"
   },
   "outputs": [
    {
     "name": "stdout",
     "output_type": "stream",
     "text": [
      "(3260, 18) (1087, 18)\n",
      "(3260,) (1087,)\n"
     ]
    }
   ],
   "source": [
    "X = df[features]\n",
    "y = df['auwgr']\n",
    "X_full_train, X_full_test, y_full_train, y_full_test = train_test_split(X, y, stratify=X['classification'], random_state=42)\n",
    "print(X_full_train.shape,X_full_test.shape)\n",
    "print(y_full_train.shape,y_full_test.shape)\n",
    "ss = StandardScaler()\n",
    "ss.fit(X_full_train)\n",
    "X_full_train_sc = ss.transform(X_full_train)\n",
    "X_full_test_sc = ss.transform(X_full_test)"
   ]
  },
  {
   "cell_type": "markdown",
   "metadata": {
    "colab_type": "text",
    "id": "-i12gxqqaAn9"
   },
   "source": [
    "## loss function = 'ls'"
   ]
  },
  {
   "cell_type": "code",
   "execution_count": 0,
   "metadata": {
    "colab": {
     "base_uri": "https://localhost:8080/",
     "height": 33
    },
    "colab_type": "code",
    "id": "95BZuCxfS-LU",
    "outputId": "fd9f9057-a1ac-4958-abc4-f658a27cbeb8"
   },
   "outputs": [
    {
     "name": "stdout",
     "output_type": "stream",
     "text": [
      "[1 1 1 1 1 1 1 1 2 1 1 1 1 1 1 1 1 1]\n"
     ]
    }
   ],
   "source": [
    "estimator = GradientBoostingRegressor(loss='ls',random_state=42)\n",
    "selector = RFECV(estimator, step=1, cv=3) # 3 folds for CV, selector will check all num of features\n",
    "selector = selector.fit(X_full_train_sc, y_full_train)\n",
    "print(selector.ranking_)"
   ]
  },
  {
   "cell_type": "markdown",
   "metadata": {
    "colab_type": "text",
    "id": "5vTlMF6muxxF"
   },
   "source": [
    "### Use selected features"
   ]
  },
  {
   "cell_type": "code",
   "execution_count": 0,
   "metadata": {
    "colab": {},
    "colab_type": "code",
    "id": "DZkWtYRRTzk0"
   },
   "outputs": [],
   "source": [
    "selected_features = features.copy()\n",
    "selected_features.remove('oer')"
   ]
  },
  {
   "cell_type": "code",
   "execution_count": 0,
   "metadata": {
    "colab": {
     "base_uri": "https://localhost:8080/",
     "height": 82
    },
    "colab_type": "code",
    "id": "IFsmTiCzVNqN",
    "outputId": "42763f3e-753b-4f0e-a2c9-64b13327758f"
   },
   "outputs": [
    {
     "name": "stdout",
     "output_type": "stream",
     "text": [
      "(3260, 17) (1087, 17)\n",
      "(3260,) (1087,)\n",
      "0.6338478755036308\n",
      "0.5252429724440713\n"
     ]
    }
   ],
   "source": [
    "X = df[selected_features]\n",
    "y = df['auwgr']\n",
    "X_train, X_test, y_train, y_test = train_test_split(X, y, stratify=X['classification'], random_state=42)\n",
    "print(X_train.shape,X_test.shape)\n",
    "print(y_train.shape,y_test.shape)\n",
    "ss = StandardScaler()\n",
    "ss.fit(X_train)\n",
    "X_train_sc = ss.transform(X_train)\n",
    "X_test_sc = ss.transform(X_test)\n",
    "\n",
    "gbreg = GradientBoostingRegressor(loss='ls',random_state=42)\n",
    "gbreg.fit(X_train_sc,y_train)\n",
    "print(gbreg.score(X_train_sc,y_train))\n",
    "print(gbreg.score(X_test_sc,y_test))"
   ]
  },
  {
   "cell_type": "markdown",
   "metadata": {
    "colab_type": "text",
    "id": "a4Puj0aWaWc0"
   },
   "source": [
    "## loss function = 'huber'"
   ]
  },
  {
   "cell_type": "code",
   "execution_count": 0,
   "metadata": {
    "colab": {
     "base_uri": "https://localhost:8080/",
     "height": 33
    },
    "colab_type": "code",
    "id": "SAB3GJd9acEU",
    "outputId": "6199dd45-6792-426f-cb28-1a9d2083ac11"
   },
   "outputs": [
    {
     "name": "stdout",
     "output_type": "stream",
     "text": [
      "[1 1 5 6 2 1 1 1 8 1 1 1 1 1 7 4 3 1]\n"
     ]
    }
   ],
   "source": [
    "estimator = GradientBoostingRegressor(loss='huber',random_state=42)\n",
    "selector = RFECV(estimator, step=1, cv=3) # 3 folds for CV, selector will check all num of features\n",
    "selector = selector.fit(X_full_train_sc, y_full_train)\n",
    "print(selector.ranking_)"
   ]
  },
  {
   "cell_type": "markdown",
   "metadata": {
    "colab_type": "text",
    "id": "3D00kbMXazpv"
   },
   "source": [
    "### Use selected features"
   ]
  },
  {
   "cell_type": "code",
   "execution_count": 0,
   "metadata": {
    "colab": {
     "base_uri": "https://localhost:8080/",
     "height": 50
    },
    "colab_type": "code",
    "id": "zqqbDTgmtMYS",
    "outputId": "2e67a08f-1933-40b5-8fdb-87c628a0f9a8"
   },
   "outputs": [
    {
     "name": "stdout",
     "output_type": "stream",
     "text": [
      "0.5522876038194138\n",
      "0.514953850134294\n"
     ]
    }
   ],
   "source": [
    "selected_features = features.copy()\n",
    "selected_features.remove('hlr_lag2')\n",
    "selected_features.remove('hlr_lag3')\n",
    "selected_features.remove('hlr_lag4')\n",
    "selected_features.remove('oer')\n",
    "selected_features.remove('exp_other_lag1')\n",
    "selected_features.remove('prem_liab_diff_lag1')\n",
    "selected_features.remove('claim_liab_diff_lag1')\n",
    "\n",
    "X = df[selected_features]\n",
    "y = df['auwgr']\n",
    "X_train, X_test, y_train, y_test = train_test_split(X, y, stratify=X['classification'], random_state=42)\n",
    "ss = StandardScaler()\n",
    "ss.fit(X_train)\n",
    "X_train_sc = ss.transform(X_train)\n",
    "X_test_sc = ss.transform(X_test)\n",
    "\n",
    "gbreg = GradientBoostingRegressor(loss='huber',random_state=42)\n",
    "gbreg.fit(X_train_sc,y_train)\n",
    "print(gbreg.score(X_train_sc,y_train))\n",
    "print(gbreg.score(X_test_sc,y_test))"
   ]
  },
  {
   "cell_type": "markdown",
   "metadata": {
    "colab_type": "text",
    "id": "FUYJaORRbRVC"
   },
   "source": [
    "## loss function = 'lad'"
   ]
  },
  {
   "cell_type": "code",
   "execution_count": 0,
   "metadata": {
    "colab": {
     "base_uri": "https://localhost:8080/",
     "height": 33
    },
    "colab_type": "code",
    "id": "V9BRTtwTbYaY",
    "outputId": "63d2569d-673d-4baf-a68e-a1058fd4f2db"
   },
   "outputs": [
    {
     "name": "stdout",
     "output_type": "stream",
     "text": [
      "[1 1 1 1 2 1 1 1 1 1 1 1 1 1 1 1 1 1]\n"
     ]
    }
   ],
   "source": [
    "estimator = GradientBoostingRegressor(loss='lad',random_state=42)\n",
    "selector = RFECV(estimator, step=1, cv=3) # 3 folds for CV, selector will check all num of features\n",
    "selector = selector.fit(X_full_train_sc, y_full_train)\n",
    "print(selector.ranking_)"
   ]
  },
  {
   "cell_type": "markdown",
   "metadata": {
    "colab_type": "text",
    "id": "Ah9GhcwLbsD3"
   },
   "source": [
    "### Use selected features"
   ]
  },
  {
   "cell_type": "code",
   "execution_count": 0,
   "metadata": {
    "colab": {
     "base_uri": "https://localhost:8080/",
     "height": 50
    },
    "colab_type": "code",
    "id": "Q8rKABorwQ2l",
    "outputId": "9a0d018a-b479-4589-b1ef-9c4ce5b5aed1"
   },
   "outputs": [
    {
     "name": "stdout",
     "output_type": "stream",
     "text": [
      "0.46471246469893757\n",
      "0.4548242424453777\n"
     ]
    }
   ],
   "source": [
    "selected_features = features.copy()\n",
    "selected_features.remove('hlr_lag4')\n",
    "\n",
    "X = df[selected_features]\n",
    "y = df['auwgr']\n",
    "X_train, X_test, y_train, y_test = train_test_split(X, y, stratify=X['classification'], random_state=42)\n",
    "ss = StandardScaler()\n",
    "ss.fit(X_train)\n",
    "X_train_sc = ss.transform(X_train)\n",
    "X_test_sc = ss.transform(X_test)\n",
    "\n",
    "gbreg = GradientBoostingRegressor(loss='lad',random_state=42)\n",
    "gbreg.fit(X_full_train_sc,y_full_train)\n",
    "print(gbreg.score(X_full_train_sc,y_full_train))\n",
    "print(gbreg.score(X_full_test_sc,y_full_test))"
   ]
  },
  {
   "cell_type": "markdown",
   "metadata": {
    "colab_type": "text",
    "id": "-ZBlIIZCb8C9"
   },
   "source": [
    "## loss function = 'quantile'"
   ]
  },
  {
   "cell_type": "code",
   "execution_count": 0,
   "metadata": {
    "colab": {
     "base_uri": "https://localhost:8080/",
     "height": 33
    },
    "colab_type": "code",
    "id": "ZU2qOHvtcF07",
    "outputId": "7ab1e168-bcfe-4ceb-e844-f39665af7782"
   },
   "outputs": [
    {
     "name": "stdout",
     "output_type": "stream",
     "text": [
      "[1 1 1 1 2 1 1 1 1 1 1 1 1 1 1 1 1 1]\n"
     ]
    }
   ],
   "source": [
    "estimator = GradientBoostingRegressor(loss='quantile',random_state=42)\n",
    "selector = RFECV(estimator, step=1, cv=3) # 3 folds for CV, selector will check all num of features\n",
    "selector = selector.fit(X_full_train_sc, y_full_train)\n",
    "print(selector.ranking_)"
   ]
  },
  {
   "cell_type": "code",
   "execution_count": 0,
   "metadata": {
    "colab": {
     "base_uri": "https://localhost:8080/",
     "height": 82
    },
    "colab_type": "code",
    "id": "OrQ4c5hYcTSy",
    "outputId": "cbe6af7d-e59a-497a-b665-83f91cee3d8e"
   },
   "outputs": [
    {
     "name": "stdout",
     "output_type": "stream",
     "text": [
      "(3260, 17) (1087, 17)\n",
      "(3260,) (1087,)\n",
      "0.12713059595099296\n",
      "0.05252308879937795\n"
     ]
    }
   ],
   "source": [
    "selected_features = features.copy()\n",
    "selected_features.remove('hlr_lag4')\n",
    "\n",
    "X = df[selected_features]\n",
    "y = df['auwgr']\n",
    "X_train, X_test, y_train, y_test = train_test_split(X, y, stratify=X['classification'], random_state=42)\n",
    "print(X_train.shape,X_test.shape)\n",
    "print(y_train.shape,y_test.shape)\n",
    "ss = StandardScaler()\n",
    "ss.fit(X_train)\n",
    "X_train_sc = ss.transform(X_train)\n",
    "X_test_sc = ss.transform(X_test)\n",
    "\n",
    "gbreg = GradientBoostingRegressor(loss='quantile',random_state=42)\n",
    "gbreg.fit(X_train_sc,y_train)\n",
    "print(gbreg.score(X_train_sc,y_train))\n",
    "print(gbreg.score(X_test_sc,y_test))"
   ]
  },
  {
   "cell_type": "markdown",
   "metadata": {
    "colab_type": "text",
    "id": "0VoLirt2c_r4"
   },
   "source": [
    "#RFECV - Support Vector Regression"
   ]
  },
  {
   "cell_type": "code",
   "execution_count": 0,
   "metadata": {
    "colab": {
     "base_uri": "https://localhost:8080/",
     "height": 33
    },
    "colab_type": "code",
    "id": "n_329I2XfiXO",
    "outputId": "3b8e6cbc-c52a-4344-c539-75a8c723f190"
   },
   "outputs": [
    {
     "name": "stdout",
     "output_type": "stream",
     "text": [
      "[1 1 1 1 2 1 1 1 1 1 1 1 1 1 1 1 1 1]\n"
     ]
    }
   ],
   "source": [
    "estmator = SVR()\n",
    "selector = RFECV(estimator, step=1, cv=3) # 3 folds for CV, selector will check all num of features\n",
    "selector = selector.fit(X_full_train_sc, y_full_train)\n",
    "print(selector.ranking_)"
   ]
  },
  {
   "cell_type": "code",
   "execution_count": 0,
   "metadata": {
    "colab": {
     "base_uri": "https://localhost:8080/",
     "height": 82
    },
    "colab_type": "code",
    "id": "7xjPpgk4gnWN",
    "outputId": "5b93d728-6e6d-49fc-877c-f50d0832d9f7"
   },
   "outputs": [
    {
     "name": "stdout",
     "output_type": "stream",
     "text": [
      "(3260, 17) (1087, 17)\n",
      "(3260,) (1087,)\n",
      "0.5224360586271621\n",
      "0.4767820216624766\n"
     ]
    }
   ],
   "source": [
    "selected_features = features.copy()\n",
    "selected_features.remove('hlr_lag4')\n",
    "\n",
    "X = df[selected_features]\n",
    "y = df['auwgr']\n",
    "X_train, X_test, y_train, y_test = train_test_split(X, y, stratify=X['classification'], random_state=42)\n",
    "print(X_train.shape,X_test.shape)\n",
    "print(y_train.shape,y_test.shape)\n",
    "ss = StandardScaler()\n",
    "ss.fit(X_train)\n",
    "X_train_sc = ss.transform(X_train)\n",
    "X_test_sc = ss.transform(X_test)\n",
    "\n",
    "svreg = SVR()\n",
    "svreg.fit(X_train_sc,y_train)\n",
    "print(svreg.score(X_train_sc,y_train))\n",
    "print(svreg.score(X_test_sc,y_test))"
   ]
  },
  {
   "cell_type": "markdown",
   "metadata": {
    "colab_type": "text",
    "id": "67eURyTdtQYZ"
   },
   "source": [
    "# CLASSIFICATION ===================="
   ]
  },
  {
   "cell_type": "markdown",
   "metadata": {
    "colab_type": "text",
    "id": "j5jHqdpxxsdd"
   },
   "source": [
    "- logistic reg, et, sv, gb, dt, ab, rf, knn"
   ]
  },
  {
   "cell_type": "code",
   "execution_count": 0,
   "metadata": {
    "colab": {},
    "colab_type": "code",
    "id": "2tV5000HfCvG"
   },
   "outputs": [],
   "source": [
    "df = pd.read_csv('df_model_trimmed.csv')\n",
    "df['classification'] = [1 if i<0 else 0 for i in df['auwgr']]\n",
    "features = [col for col in df._get_numeric_data().columns if (col != 'auwgr') and (col != 'year') and (col != 'classification')]"
   ]
  },
  {
   "cell_type": "code",
   "execution_count": 11,
   "metadata": {
    "colab": {
     "base_uri": "https://localhost:8080/",
     "height": 33
    },
    "colab_type": "code",
    "id": "PZCo4gxl0Yw2",
    "outputId": "38a13ee0-91ea-413c-e231-f753a12bd11b"
   },
   "outputs": [
    {
     "name": "stdout",
     "output_type": "stream",
     "text": [
      "(3260, 30) (1087, 30)\n"
     ]
    }
   ],
   "source": [
    "X = df[features]\n",
    "y = df['classification']\n",
    "X_train, X_test, y_train, y_test = train_test_split(X, y, stratify=y, random_state=42)\n",
    "print(X_train.shape,X_test.shape)"
   ]
  },
  {
   "cell_type": "markdown",
   "metadata": {
    "colab_type": "text",
    "id": "-noDocAKy4aw"
   },
   "source": [
    "## Logistic Regression Classifier"
   ]
  },
  {
   "cell_type": "code",
   "execution_count": 12,
   "metadata": {
    "colab": {
     "base_uri": "https://localhost:8080/",
     "height": 115
    },
    "colab_type": "code",
    "id": "GeUbQILDtalN",
    "outputId": "ab2d3453-becd-4f5a-96bb-0c694c3e37fe"
   },
   "outputs": [
    {
     "data": {
      "text/plain": [
       "{'C': 1.0,\n",
       " 'fit_intercept': True,\n",
       " 'max_iter': 5000,\n",
       " 'penalty': 'l2',\n",
       " 'solver': 'sag',\n",
       " 'tol': 0.1}"
      ]
     },
     "execution_count": 12,
     "metadata": {
      "tags": []
     },
     "output_type": "execute_result"
    }
   ],
   "source": [
    "params = [{'fit_intercept': [True, False],\n",
    "           'C': [0.5,0.6,0.7,0.8,0.9,1.0,1.1,1.2,1.3,1.4],\n",
    "           'tol': [0.00001,0.0001,0.001,0.01,0.1],\n",
    "           'penalty': ['l2'],\n",
    "          #  'penalty': ['l1','l2'],\n",
    "           'max_iter': [5000],\n",
    "          #  'solver': ['newton-cg','lbfgs','liblinear','sag','saga'] no go\n",
    "           'solver': ['lbfgs','liblinear','sag','saga']\n",
    "           }]\n",
    "\n",
    "gs = GridSearchCV(LogisticRegression(), param_grid=params, cv=5)\n",
    "gs.fit(X_train, y_train)\n",
    "gs.best_params_"
   ]
  },
  {
   "cell_type": "code",
   "execution_count": 13,
   "metadata": {
    "colab": {
     "base_uri": "https://localhost:8080/",
     "height": 212
    },
    "colab_type": "code",
    "id": "0e4FUryGSbwr",
    "outputId": "b51f575e-7322-4571-86f6-32046d3e8aa8"
   },
   "outputs": [
    {
     "name": "stdout",
     "output_type": "stream",
     "text": [
      "Score(train/test): 0.7260736196319019 , 0.7203311867525299\n",
      "\n",
      "=== Classification Report  ================================\n",
      "                  precision    recall  f1-score   support\n",
      "\n",
      "Positive UWG (0)       0.76      0.86      0.81       740\n",
      "Negative UWG (1)       0.59      0.41      0.49       347\n",
      "\n",
      "        accuracy                           0.72      1087\n",
      "       macro avg       0.67      0.64      0.65      1087\n",
      "    weighted avg       0.70      0.72      0.71      1087\n",
      "\n"
     ]
    }
   ],
   "source": [
    "lr = LogisticRegression(C=1.0,fit_intercept=True,max_iter=5000,penalty='l2',solver='sag',tol=0.1)\n",
    "lr.fit(X_train,y_train)\n",
    "print('Score(train/test):',lr.score(X_train, y_train),',',lr.score(X_test, y_test))\n",
    "# print('Score (test):\\t',lr.score(X_test, y_test))\n",
    "print('\\n=== Classification Report  ================================')\n",
    "# predict & evaluate\n",
    "predictions = lr.predict(X_test)\n",
    "print(classification_report(y_test,predictions,target_names=['Positive UWG (0)','Negative UWG (1)']))"
   ]
  },
  {
   "cell_type": "markdown",
   "metadata": {
    "colab_type": "text",
    "id": "XWXFznWgy3ss"
   },
   "source": [
    "## Extra Trees Classifier\n",
    "---\n",
    "\n"
   ]
  },
  {
   "cell_type": "markdown",
   "metadata": {
    "colab_type": "text",
    "id": "gaV1NxUKqSzs"
   },
   "source": [
    "### GridSearchCV #1"
   ]
  },
  {
   "cell_type": "code",
   "execution_count": 0,
   "metadata": {
    "colab": {
     "base_uri": "https://localhost:8080/",
     "height": 98
    },
    "colab_type": "code",
    "id": "UHjQFFACzCDD",
    "outputId": "98c59eb3-819f-4a8c-e6ef-bf1d6dbbe24d"
   },
   "outputs": [
    {
     "data": {
      "text/plain": [
       "{'bootstrap': True,\n",
       " 'max_depth': 9,\n",
       " 'min_samples_split': 8,\n",
       " 'n_estimators': 100,\n",
       " 'oob_score': True}"
      ]
     },
     "execution_count": 9,
     "metadata": {
      "tags": []
     },
     "output_type": "execute_result"
    }
   ],
   "source": [
    "params = [{'n_estimators':[100,200,300],\n",
    "               'max_depth':range(2,10),\n",
    "               'min_samples_split':range(2,20),\n",
    "               'oob_score':[True],\n",
    "               'bootstrap':[True]\n",
    "              }]\n",
    "\n",
    "gs = GridSearchCV(ExtraTreesClassifier(), param_grid=params, cv=5)\n",
    "gs.fit(X_train, y_train)\n",
    "gs.best_params_"
   ]
  },
  {
   "cell_type": "code",
   "execution_count": 0,
   "metadata": {
    "colab": {
     "base_uri": "https://localhost:8080/",
     "height": 115
    },
    "colab_type": "code",
    "id": "QH9HLSTPv1u8",
    "outputId": "8cfd40b8-b407-4e59-a18c-e162569abd3c"
   },
   "outputs": [
    {
     "name": "stdout",
     "output_type": "stream",
     "text": [
      "Score (train):\t 0.7414110429447853\n",
      "Score (test):\t 0.7056117755289788\n",
      "TP: 719 \tTN: 48\n",
      "FP: 299 \tFN: 21\n",
      "F1: 0.8179749715585893\n",
      "Acc: 0.7056117755289788\n"
     ]
    }
   ],
   "source": [
    "etcf = ExtraTreesClassifier(criterion='gini',bootstrap=True,max_depth=9,min_samples_split=8,n_estimators=100,oob_score=True)\n",
    "etcf.fit(X_train,y_train)\n",
    "print('Score (train):\\t',etcf.score(X_train, y_train))\n",
    "print('Score (test):\\t',etcf.score(X_test, y_test))\n",
    "# predict & evaluate\n",
    "predictions = etcf.predict(X_test)\n",
    "tn, fp, fn, tp = confusion_matrix(y_test, predictions).ravel()\n",
    "print('TP:',tp,'\\tTN:',tn)\n",
    "print('FP:',fp,'\\tFN:',fn)\n",
    "print('F1:',f1_score(y_test, predictions))\n",
    "print('Acc:',1-(fp+fn)/len(predictions))"
   ]
  },
  {
   "cell_type": "markdown",
   "metadata": {
    "colab_type": "text",
    "id": "08j5vmOoqIGK"
   },
   "source": [
    "### GridSearchCV #2"
   ]
  },
  {
   "cell_type": "code",
   "execution_count": 0,
   "metadata": {
    "colab": {
     "base_uri": "https://localhost:8080/",
     "height": 98
    },
    "colab_type": "code",
    "id": "xeIvkKCuKSX_",
    "outputId": "c0cc7903-29b1-44c7-dc43-6f3d7e2e491f"
   },
   "outputs": [
    {
     "data": {
      "text/plain": [
       "{'bootstrap': True,\n",
       " 'max_depth': 13,\n",
       " 'min_samples_split': 10,\n",
       " 'n_estimators': 100,\n",
       " 'oob_score': True}"
      ]
     },
     "execution_count": 31,
     "metadata": {
      "tags": []
     },
     "output_type": "execute_result"
    }
   ],
   "source": [
    "params = [{'n_estimators':[50,100,150],\n",
    "               'max_depth':range(9,14),\n",
    "               'min_samples_split':range(5,15),\n",
    "               'oob_score':[True],\n",
    "               'bootstrap':[True]\n",
    "              }]\n",
    "\n",
    "gs = GridSearchCV(ExtraTreesClassifier(), param_grid=params, cv=5)\n",
    "gs.fit(X_train, y_train)\n",
    "gs.best_params_"
   ]
  },
  {
   "cell_type": "code",
   "execution_count": 0,
   "metadata": {
    "colab": {
     "base_uri": "https://localhost:8080/",
     "height": 115
    },
    "colab_type": "code",
    "id": "wRtQuExdKpRB",
    "outputId": "6fb65d09-9398-4e4a-a9ca-68f768710772"
   },
   "outputs": [
    {
     "name": "stdout",
     "output_type": "stream",
     "text": [
      "Score (train):\t 0.7797546012269939\n",
      "Score (test):\t 0.7295308187672493\n",
      "TP: 703 \tTN: 90\n",
      "FP: 257 \tFN: 37\n",
      "F1: 0.8270588235294118\n",
      "Acc: 0.7295308187672493\n"
     ]
    }
   ],
   "source": [
    "etcf = ExtraTreesClassifier(bootstrap=True,max_depth=13,min_samples_split=10,n_estimators=100,oob_score=True)\n",
    "etcf.fit(X_train,y_train)\n",
    "print('Score (train):\\t',etcf.score(X_train, y_train))\n",
    "print('Score (test):\\t',etcf.score(X_test, y_test))\n",
    "# predict & evaluate\n",
    "predictions = etcf.predict(X_test)\n",
    "tn, fp, fn, tp = confusion_matrix(y_test, predictions).ravel()\n",
    "print('TP:',tp,'\\tTN:',tn)\n",
    "print('FP:',fp,'\\tFN:',fn)\n",
    "print('F1:',f1_score(y_test, predictions))\n",
    "print('Acc:',1-(fp+fn)/len(predictions))"
   ]
  },
  {
   "cell_type": "markdown",
   "metadata": {
    "colab_type": "text",
    "id": "0cxtH0L4p7jC"
   },
   "source": [
    "### GridSearchCV #3"
   ]
  },
  {
   "cell_type": "code",
   "execution_count": 0,
   "metadata": {
    "colab": {
     "base_uri": "https://localhost:8080/",
     "height": 98
    },
    "colab_type": "code",
    "id": "AfDk7La5p39m",
    "outputId": "acafeb74-2666-4bfe-83da-73927c366a88"
   },
   "outputs": [
    {
     "data": {
      "text/plain": [
       "{'bootstrap': True,\n",
       " 'max_depth': 24,\n",
       " 'min_samples_split': 21,\n",
       " 'n_estimators': 100,\n",
       " 'oob_score': True}"
      ]
     },
     "execution_count": 36,
     "metadata": {
      "tags": []
     },
     "output_type": "execute_result"
    }
   ],
   "source": [
    "params = [{'n_estimators':[100,150,200],\n",
    "               'max_depth':range(12,30),\n",
    "               'min_samples_split':range(5,30),\n",
    "               'oob_score':[True],\n",
    "               'bootstrap':[True]\n",
    "              }]\n",
    "\n",
    "gs = GridSearchCV(ExtraTreesClassifier(), param_grid=params, cv=5)\n",
    "gs.fit(X_train, y_train)\n",
    "gs.best_params_"
   ]
  },
  {
   "cell_type": "code",
   "execution_count": 0,
   "metadata": {
    "colab": {
     "base_uri": "https://localhost:8080/",
     "height": 115
    },
    "colab_type": "code",
    "id": "uJwqaUEpp3-C",
    "outputId": "54390144-7210-4922-f791-edd084924296"
   },
   "outputs": [
    {
     "name": "stdout",
     "output_type": "stream",
     "text": [
      "Score (train):\t 0.811963190184049\n",
      "Score (test):\t 0.7442502299908004\n",
      "TP: 694 \tTN: 115\n",
      "FP: 232 \tFN: 46\n",
      "F1: 0.8331332533013205\n",
      "Acc: 0.7442502299908004\n"
     ]
    }
   ],
   "source": [
    "etcf = ExtraTreesClassifier(bootstrap=True,max_depth=24,min_samples_split=21,n_estimators=100,oob_score=True)\n",
    "etcf.fit(X_train,y_train)\n",
    "print('Score (train):\\t',etcf.score(X_train, y_train))\n",
    "print('Score (test):\\t',etcf.score(X_test, y_test))\n",
    "# predict & evaluate\n",
    "predictions = etcf.predict(X_test)\n",
    "tn, fp, fn, tp = confusion_matrix(y_test, predictions).ravel()\n",
    "print('TP:',tp,'\\tTN:',tn)\n",
    "print('FP:',fp,'\\tFN:',fn)\n",
    "print('F1:',f1_score(y_test, predictions))\n",
    "print('Acc:',1-(fp+fn)/len(predictions))"
   ]
  },
  {
   "cell_type": "markdown",
   "metadata": {
    "colab_type": "text",
    "id": "kX108Ne6A6D7"
   },
   "source": [
    "### GridSearchCV #4"
   ]
  },
  {
   "cell_type": "code",
   "execution_count": 0,
   "metadata": {
    "colab": {
     "base_uri": "https://localhost:8080/",
     "height": 98
    },
    "colab_type": "code",
    "id": "pZx2jEZTAzcY",
    "outputId": "db75b2a6-788d-4b3b-9e9f-125eedee57d9"
   },
   "outputs": [
    {
     "data": {
      "text/plain": [
       "{'bootstrap': True,\n",
       " 'max_depth': 31,\n",
       " 'min_samples_split': 27,\n",
       " 'n_estimators': 150,\n",
       " 'oob_score': True}"
      ]
     },
     "execution_count": 40,
     "metadata": {
      "tags": []
     },
     "output_type": "execute_result"
    }
   ],
   "source": [
    "params = [{'n_estimators':[120,150],\n",
    "               'max_depth':range(24,35),\n",
    "               'min_samples_split':range(15,30),\n",
    "               'oob_score':[True],\n",
    "               'bootstrap':[True]\n",
    "              }]\n",
    "\n",
    "gs = GridSearchCV(ExtraTreesClassifier(), param_grid=params, cv=5)\n",
    "gs.fit(X_train, y_train)\n",
    "gs.best_params_"
   ]
  },
  {
   "cell_type": "code",
   "execution_count": 0,
   "metadata": {
    "colab": {
     "base_uri": "https://localhost:8080/",
     "height": 115
    },
    "colab_type": "code",
    "id": "RYT4Rk1dAzck",
    "outputId": "38d9033d-7892-4e22-956c-732946d5095f"
   },
   "outputs": [
    {
     "name": "stdout",
     "output_type": "stream",
     "text": [
      "Score (train):\t 0.8024539877300614\n",
      "Score (test):\t 0.7359705611775529\n",
      "TP: 689 \tTN: 111\n",
      "FP: 236 \tFN: 51\n",
      "F1: 0.8276276276276276\n",
      "Acc: 0.7359705611775529\n"
     ]
    }
   ],
   "source": [
    "etcf = ExtraTreesClassifier(bootstrap=True,max_depth=31,min_samples_split=27,n_estimators=150,oob_score=True)\n",
    "etcf.fit(X_train,y_train)\n",
    "print('Score (train):\\t',etcf.score(X_train, y_train))\n",
    "print('Score (test):\\t',etcf.score(X_test, y_test))\n",
    "# predict & evaluate\n",
    "predictions = etcf.predict(X_test)\n",
    "tn, fp, fn, tp = confusion_matrix(y_test, predictions).ravel()\n",
    "print('TP:',tp,'\\tTN:',tn)\n",
    "print('FP:',fp,'\\tFN:',fn)\n",
    "print('F1:',f1_score(y_test, predictions))\n",
    "print('Acc:',1-(fp+fn)/len(predictions))"
   ]
  },
  {
   "cell_type": "code",
   "execution_count": 0,
   "metadata": {
    "colab": {
     "base_uri": "https://localhost:8080/",
     "height": 98
    },
    "colab_type": "code",
    "id": "fF6qM_agLduq",
    "outputId": "0f33c06b-ebcd-4867-ef7b-64a136b1d440"
   },
   "outputs": [
    {
     "name": "stdout",
     "output_type": "stream",
     "text": [
      "0\n",
      "1 2 3 4 5 6 7 8 9 10 11 12 13 14 15 16 17 18 19 20 21 22 23 24 25 26 27 28 29 30 31 32 33 34 35 36 37 38 39 40 41 42 43 44 45 46 47 48 49 50\n",
      "51 52 53 54 55 56 57 58 59 60 61 62 63 64 65 66 67 68 69 70 71 72 73 74 75 76 77 78 79 80 81 82 83 84 85 86 87 88 89 90 91 92 93 94 95 96 97 98 99 \n",
      "\n",
      " 100 : 0.7240110395584176 0.7479300827966882\n"
     ]
    }
   ],
   "source": [
    "score_list=[]\n",
    "for i in np.arange(0,100,1):\n",
    "  if i%50==0:\n",
    "    print(i)\n",
    "  else:\n",
    "    print(i,end=' ')\n",
    "  etcf = ExtraTreesClassifier(bootstrap=True,max_depth=13,min_samples_split=10,n_estimators=100,oob_score=True,random_state=i)\n",
    "  etcf.fit(X_train,y_train)\n",
    "  score_list.append(etcf.score(X_test, y_test))\n",
    "print('\\n\\n',len(score_list),':',min(score_list),max(score_list))"
   ]
  },
  {
   "cell_type": "code",
   "execution_count": 0,
   "metadata": {
    "colab": {
     "base_uri": "https://localhost:8080/",
     "height": 82
    },
    "colab_type": "code",
    "id": "vLmTlacUL6Zr",
    "outputId": "8f2082e3-7c9b-4921-e8fa-cf55bb414d8b"
   },
   "outputs": [
    {
     "name": "stdout",
     "output_type": "stream",
     "text": [
      "TP: 707 \tTN: 91\n",
      "FP: 256 \tFN: 33\n",
      "F1: 0.8302994715208455\n",
      "Acc: 0.734130634774609\n"
     ]
    }
   ],
   "source": [
    "# predict & evaluate\n",
    "predictions = etcf.predict(X_test)\n",
    "tn, fp, fn, tp = confusion_matrix(y_test, predictions).ravel()\n",
    "print('TP:',tp,'\\tTN:',tn)\n",
    "print('FP:',fp,'\\tFN:',fn)\n",
    "print('F1:',f1_score(y_test, predictions))\n",
    "print('Acc:',1-(fp+fn)/len(predictions))"
   ]
  },
  {
   "cell_type": "markdown",
   "metadata": {
    "colab_type": "text",
    "id": "Yq47Z0XMysEc"
   },
   "source": [
    "## Support Vector Classifier\n"
   ]
  },
  {
   "cell_type": "markdown",
   "metadata": {
    "colab_type": "text",
    "id": "YUI8WxRTgpae"
   },
   "source": [
    "Kernels to evaluate:\n",
    "- rbf\n",
    "- poly (degree=2,3,4,5)\n",
    "- sigmoid"
   ]
  },
  {
   "cell_type": "code",
   "execution_count": 0,
   "metadata": {
    "colab": {},
    "colab_type": "code",
    "id": "KYL8Cd48JXiI"
   },
   "outputs": [],
   "source": [
    "ss = StandardScaler()\n",
    "ss.fit(X_train)\n",
    "X_train_sc = ss.transform(X_train)\n",
    "X_test_sc = ss.transform(X_test)"
   ]
  },
  {
   "cell_type": "code",
   "execution_count": 0,
   "metadata": {
    "colab": {
     "base_uri": "https://localhost:8080/",
     "height": 33
    },
    "colab_type": "code",
    "id": "_NHdLy3Py-Yf",
    "outputId": "a40e3388-5d0b-4d82-b2d6-c823157881ef"
   },
   "outputs": [
    {
     "data": {
      "text/plain": [
       "{'C': 0.9, 'gamma': 'auto', 'kernel': 'rbf', 'max_iter': 10000, 'tol': 0.01}"
      ]
     },
     "execution_count": 45,
     "metadata": {
      "tags": []
     },
     "output_type": "execute_result"
    }
   ],
   "source": [
    "params = [{'C':[0.3,0.5,0.9],\n",
    "               'gamma':['auto'],\n",
    "               'kernel':['rbf','poly','sigmoid'],\n",
    "               'tol':[0.1,0.01,0.001],\n",
    "               'max_iter':[10000]\n",
    "              }]\n",
    "\n",
    "gs = GridSearchCV(SVC(), param_grid=params, cv=5)\n",
    "gs.fit(X_train_sc, y_train)\n",
    "gs.best_params_"
   ]
  },
  {
   "cell_type": "code",
   "execution_count": 53,
   "metadata": {
    "colab": {
     "base_uri": "https://localhost:8080/",
     "height": 50
    },
    "colab_type": "code",
    "id": "KW5RnRimUPrD",
    "outputId": "3c7e21d0-b835-4f68-d8ef-88bf75e2672c"
   },
   "outputs": [
    {
     "name": "stdout",
     "output_type": "stream",
     "text": [
      "0.7662576687116565\n",
      "0.7276908923643054\n"
     ]
    }
   ],
   "source": [
    "svcf = SVC(C=0.9, kernel='rbf', gamma='auto', max_iter=10000, tol=0.01, random_state=42)\n",
    "svcf.fit(X_train_sc,y_train)\n",
    "# Evaluate Model\n",
    "print(svcf.score(X_train_sc,y_train))\n",
    "print(svcf.score(X_test_sc,y_test))"
   ]
  },
  {
   "cell_type": "markdown",
   "metadata": {
    "colab_type": "text",
    "id": "fYXT4j1ozECd"
   },
   "source": [
    "## Gradient Boosting Classifier"
   ]
  },
  {
   "cell_type": "code",
   "execution_count": 55,
   "metadata": {
    "colab": {
     "base_uri": "https://localhost:8080/",
     "height": 82
    },
    "colab_type": "code",
    "id": "bFnnQ6nRzYtc",
    "outputId": "57acfae9-5be0-47fb-a571-c6d46d86803e"
   },
   "outputs": [
    {
     "data": {
      "text/plain": [
       "{'learning_rate': 0.05,\n",
       " 'max_depth': 3,\n",
       " 'min_samples_leaf': 2,\n",
       " 'n_estimators': 100}"
      ]
     },
     "execution_count": 55,
     "metadata": {
      "tags": []
     },
     "output_type": "execute_result"
    }
   ],
   "source": [
    "param_grid = {\n",
    "    'n_estimators' : [100,150,200],\n",
    "    'max_depth' : [2,3,4,5,6],\n",
    "    'min_samples_leaf':[2,3,4],\n",
    "    'learning_rate' : [0.03,0.05,0.07,0.1]\n",
    "}\n",
    "gs = GridSearchCV(GradientBoostingClassifier(), param_grid, cv=3)\n",
    "gs.fit(X_train_sc, y_train)\n",
    "gs.best_params_"
   ]
  },
  {
   "cell_type": "code",
   "execution_count": 56,
   "metadata": {
    "colab": {
     "base_uri": "https://localhost:8080/",
     "height": 50
    },
    "colab_type": "code",
    "id": "82CTX7i4MtOU",
    "outputId": "04b2fb51-093c-44d9-c329-e34ffb00dedc"
   },
   "outputs": [
    {
     "name": "stdout",
     "output_type": "stream",
     "text": [
      "0.7745398773006135\n",
      "0.7194112235510579\n"
     ]
    }
   ],
   "source": [
    "gbcf=GradientBoostingClassifier(n_estimators=100, max_depth=3, min_samples_leaf=2, learning_rate=0.05)\n",
    "gbcf.fit(X_train_sc,y_train)\n",
    "# Evaluate Model\n",
    "print(gbcf.score(X_train_sc,y_train))\n",
    "print(gbcf.score(X_test_sc,y_test))"
   ]
  },
  {
   "cell_type": "markdown",
   "metadata": {
    "colab_type": "text",
    "id": "_XEy1Mw8zZ2M"
   },
   "source": [
    "## K Nearest Neighbors Classifier"
   ]
  },
  {
   "cell_type": "code",
   "execution_count": 67,
   "metadata": {
    "colab": {
     "base_uri": "https://localhost:8080/",
     "height": 33
    },
    "colab_type": "code",
    "id": "h2FWNGj4zf88",
    "outputId": "138cdf51-6812-4926-eb8f-f68859ad5ddf"
   },
   "outputs": [
    {
     "data": {
      "text/plain": [
       "{'algorithm': 'ball_tree', 'n_neighbors': 19, 'weights': 'uniform'}"
      ]
     },
     "execution_count": 67,
     "metadata": {
      "tags": []
     },
     "output_type": "execute_result"
    }
   ],
   "source": [
    "param_grid = {\n",
    "    'n_neighbors' : [19,20,21,22,23,24,25,26,27,28],\n",
    "    'weights' : ['uniform','distance'],\n",
    "    'algorithm':['ball_tree','kd_tree','brute']\n",
    "}\n",
    "gs = GridSearchCV(KNeighborsClassifier(), param_grid, cv=3)\n",
    "gs.fit(X_train, y_train)\n",
    "gs.best_params_"
   ]
  },
  {
   "cell_type": "code",
   "execution_count": 69,
   "metadata": {
    "colab": {
     "base_uri": "https://localhost:8080/",
     "height": 33
    },
    "colab_type": "code",
    "id": "-S0gDgDEPQYK",
    "outputId": "c25f6020-4346-4422-c71c-535e87cf9459"
   },
   "outputs": [
    {
     "name": "stdout",
     "output_type": "stream",
     "text": [
      "Score(train/test): 0.7420245398773007 , 0.7212511499540019\n"
     ]
    }
   ],
   "source": [
    "knncf = KNeighborsClassifier(n_neighbors=19,weights='uniform',algorithm='ball_tree')\n",
    "knncf.fit(X_train,y_train)\n",
    "# Evaluate model.\n",
    "print('Score(train/test):',knncf.score(X_train, y_train),',',knncf.score(X_test, y_test))"
   ]
  }
 ],
 "metadata": {
  "colab": {
   "collapsed_sections": [
    "Olat9xBSsv1y",
    "ekD9L0DFkpXb"
   ],
   "name": "capstone_notebook3.ipynb",
   "provenance": [],
   "toc_visible": true
  },
  "kernelspec": {
   "display_name": "Python 3",
   "language": "python",
   "name": "python3"
  },
  "language_info": {
   "codemirror_mode": {
    "name": "ipython",
    "version": 3
   },
   "file_extension": ".py",
   "mimetype": "text/x-python",
   "name": "python",
   "nbconvert_exporter": "python",
   "pygments_lexer": "ipython3",
   "version": "3.7.3"
  },
  "toc": {
   "base_numbering": 1,
   "nav_menu": {},
   "number_sections": true,
   "sideBar": true,
   "skip_h1_title": false,
   "title_cell": "Table of Contents",
   "title_sidebar": "Contents",
   "toc_cell": false,
   "toc_position": {
    "height": "calc(100% - 180px)",
    "left": "10px",
    "top": "150px",
    "width": "273.188px"
   },
   "toc_section_display": true,
   "toc_window_display": true
  },
  "varInspector": {
   "cols": {
    "lenName": 16,
    "lenType": 16,
    "lenVar": 40
   },
   "kernels_config": {
    "python": {
     "delete_cmd_postfix": "",
     "delete_cmd_prefix": "del ",
     "library": "var_list.py",
     "varRefreshCmd": "print(var_dic_list())"
    },
    "r": {
     "delete_cmd_postfix": ") ",
     "delete_cmd_prefix": "rm(",
     "library": "var_list.r",
     "varRefreshCmd": "cat(var_dic_list()) "
    }
   },
   "types_to_exclude": [
    "module",
    "function",
    "builtin_function_or_method",
    "instance",
    "_Feature"
   ],
   "window_display": false
  }
 },
 "nbformat": 4,
 "nbformat_minor": 1
}
