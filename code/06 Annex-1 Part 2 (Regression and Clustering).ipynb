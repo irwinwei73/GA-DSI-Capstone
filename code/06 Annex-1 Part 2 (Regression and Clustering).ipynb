{
 "cells": [
  {
   "cell_type": "markdown",
   "metadata": {},
   "source": [
    "##### This notebook is to be viewed together with \"06 Annex-1 Part 1 (Regression)\"."
   ]
  },
  {
   "cell_type": "markdown",
   "metadata": {},
   "source": [
    "# Import Packages"
   ]
  },
  {
   "cell_type": "code",
   "execution_count": 0,
   "metadata": {
    "colab": {},
    "colab_type": "code",
    "id": "SnLNNXeGYXWv"
   },
   "outputs": [],
   "source": [
    "import pandas as pd\n",
    "import seaborn as sns\n",
    "import matplotlib.pyplot as plt\n",
    "import numpy as np\n",
    "import math\n",
    "%matplotlib inline\n",
    "%config IPCompleter.greedy=True\n",
    "# df = pd.read_csv('df_model.csv') # modelling dataset\n",
    "# df = pd.read_csv('df_model_with_dummies.csv') # modeling dataset\n",
    "df = pd.read_csv('df_model_with_dummies_debug.csv') # modeling dataset\n",
    "sns.set(style='darkgrid')\n",
    "from sklearn.metrics import r2_score\n",
    "from sklearn.preprocessing import StandardScaler, PolynomialFeatures, PowerTransformer\n",
    "from sklearn.model_selection import train_test_split, cross_val_score, GridSearchCV\n",
    "from sklearn.linear_model import LinearRegression\n",
    "from sklearn.linear_model import Ridge, Lasso, ElasticNet\n",
    "from sklearn.linear_model import RidgeCV, LassoCV, ElasticNetCV\n",
    "from sklearn.tree import DecisionTreeRegressor\n",
    "from sklearn.ensemble import RandomForestRegressor, ExtraTreesRegressor, AdaBoostRegressor, GradientBoostingRegressor"
   ]
  },
  {
   "cell_type": "code",
   "execution_count": 0,
   "metadata": {
    "colab": {
     "base_uri": "https://localhost:8080/",
     "height": 125
    },
    "colab_type": "code",
    "id": "3D9JoN-WjKWJ",
    "outputId": "43c8dcba-4c81-42db-adc1-ef37822c17cc"
   },
   "outputs": [
    {
     "data": {
      "text/html": [
       "<div>\n",
       "<style scoped>\n",
       "    .dataframe tbody tr th:only-of-type {\n",
       "        vertical-align: middle;\n",
       "    }\n",
       "\n",
       "    .dataframe tbody tr th {\n",
       "        vertical-align: top;\n",
       "    }\n",
       "\n",
       "    .dataframe thead th {\n",
       "        text-align: right;\n",
       "    }\n",
       "</style>\n",
       "<table border=\"1\" class=\"dataframe\">\n",
       "  <thead>\n",
       "    <tr style=\"text-align: right;\">\n",
       "      <th></th>\n",
       "      <th>year</th>\n",
       "      <th>company</th>\n",
       "      <th>auwgr</th>\n",
       "      <th>lkpp</th>\n",
       "      <th>hlr_lag1</th>\n",
       "      <th>hlr_lag2</th>\n",
       "      <th>hlr_lag3</th>\n",
       "      <th>hlr_lag4</th>\n",
       "      <th>hlr_lag5</th>\n",
       "      <th>mer</th>\n",
       "      <th>der</th>\n",
       "      <th>oer</th>\n",
       "      <th>prem_write_net_lag1</th>\n",
       "      <th>claim_set_net_lag1</th>\n",
       "      <th>exp_management_lag1</th>\n",
       "      <th>exp_comm_incur_net_lag1</th>\n",
       "      <th>exp_other_lag1</th>\n",
       "      <th>prem_liab_diff_lag1</th>\n",
       "      <th>claim_liab_diff_lag1</th>\n",
       "      <th>class_bonds</th>\n",
       "      <th>class_cnstr_engr</th>\n",
       "      <th>class_cpr</th>\n",
       "      <th>class_fire</th>\n",
       "      <th>class_health</th>\n",
       "      <th>class_mac</th>\n",
       "      <th>class_mahl</th>\n",
       "      <th>class_motor</th>\n",
       "      <th>class_others</th>\n",
       "      <th>class_pa</th>\n",
       "      <th>class_prof_indm</th>\n",
       "      <th>class_pub_lia</th>\n",
       "      <th>class_wic</th>\n",
       "    </tr>\n",
       "  </thead>\n",
       "  <tbody>\n",
       "    <tr>\n",
       "      <th>0</th>\n",
       "      <td>2005</td>\n",
       "      <td>c166</td>\n",
       "      <td>0.857689</td>\n",
       "      <td>4.440529</td>\n",
       "      <td>0.80076</td>\n",
       "      <td>0.801708</td>\n",
       "      <td>0.800061</td>\n",
       "      <td>0.78091</td>\n",
       "      <td>0.741233</td>\n",
       "      <td>0.294635</td>\n",
       "      <td>-0.208663</td>\n",
       "      <td>0.007911</td>\n",
       "      <td>1.079745e+07</td>\n",
       "      <td>1.672463e+06</td>\n",
       "      <td>3.029820e+06</td>\n",
       "      <td>-2.145740e+06</td>\n",
       "      <td>81347.307692</td>\n",
       "      <td>229526.538462</td>\n",
       "      <td>529578.846154</td>\n",
       "      <td>0</td>\n",
       "      <td>0</td>\n",
       "      <td>0</td>\n",
       "      <td>1</td>\n",
       "      <td>0</td>\n",
       "      <td>0</td>\n",
       "      <td>0</td>\n",
       "      <td>0</td>\n",
       "      <td>0</td>\n",
       "      <td>0</td>\n",
       "      <td>0</td>\n",
       "      <td>0</td>\n",
       "      <td>0</td>\n",
       "    </tr>\n",
       "    <tr>\n",
       "      <th>1</th>\n",
       "      <td>2006</td>\n",
       "      <td>c166</td>\n",
       "      <td>0.734340</td>\n",
       "      <td>5.104554</td>\n",
       "      <td>0.67756</td>\n",
       "      <td>0.801708</td>\n",
       "      <td>0.800061</td>\n",
       "      <td>0.78091</td>\n",
       "      <td>0.741233</td>\n",
       "      <td>0.334138</td>\n",
       "      <td>-0.403902</td>\n",
       "      <td>0.013492</td>\n",
       "      <td>6.799853e+06</td>\n",
       "      <td>8.911880e+05</td>\n",
       "      <td>2.163894e+06</td>\n",
       "      <td>-2.615691e+06</td>\n",
       "      <td>87377.000000</td>\n",
       "      <td>-460009.000000</td>\n",
       "      <td>900936.000000</td>\n",
       "      <td>0</td>\n",
       "      <td>0</td>\n",
       "      <td>0</td>\n",
       "      <td>1</td>\n",
       "      <td>0</td>\n",
       "      <td>0</td>\n",
       "      <td>0</td>\n",
       "      <td>0</td>\n",
       "      <td>0</td>\n",
       "      <td>0</td>\n",
       "      <td>0</td>\n",
       "      <td>0</td>\n",
       "      <td>0</td>\n",
       "    </tr>\n",
       "  </tbody>\n",
       "</table>\n",
       "</div>"
      ],
      "text/plain": [
       "   year company     auwgr  ...  class_prof_indm  class_pub_lia  class_wic\n",
       "0  2005    c166  0.857689  ...                0              0          0\n",
       "1  2006    c166  0.734340  ...                0              0          0\n",
       "\n",
       "[2 rows x 32 columns]"
      ]
     },
     "execution_count": 39,
     "metadata": {
      "tags": []
     },
     "output_type": "execute_result"
    }
   ],
   "source": [
    "df.head(2)"
   ]
  },
  {
   "cell_type": "code",
   "execution_count": 0,
   "metadata": {
    "colab": {
     "base_uri": "https://localhost:8080/",
     "height": 33
    },
    "colab_type": "code",
    "id": "itripicPjNc0",
    "outputId": "4f4b56a9-a09d-4e76-9b55-f1b8ebd5871c"
   },
   "outputs": [
    {
     "data": {
      "text/plain": [
       "(6353, 32)"
      ]
     },
     "execution_count": 40,
     "metadata": {
      "tags": []
     },
     "output_type": "execute_result"
    }
   ],
   "source": [
    "# df_fire = df[df['class']=='fire'].copy()\n",
    "df_fire = df.copy() # take ALL THE DATA\n",
    "df_fire.shape"
   ]
  },
  {
   "cell_type": "code",
   "execution_count": 0,
   "metadata": {
    "colab": {},
    "colab_type": "code",
    "id": "7OpOr7tCjmMn"
   },
   "outputs": [],
   "source": [
    "def find_threshold_count(df_arg, col_name, min_thresh, max_thresh):\n",
    "    counter_min=df_arg[df_arg[col_name]< min_thresh].count().head(1).values[0]\n",
    "    counter_pct_min=round(100*(df_arg[df_arg[col_name]< min_thresh].count().head(1).values[0]/num_rows),2)\n",
    "    counter_max=df_arg[df_arg[col_name]> max_thresh].count().head(1).values[0]\n",
    "    counter_pct_max=round(100*(df_arg[df_arg[col_name]> max_thresh].count().head(1).values[0]/num_rows),2)\n",
    "    print('column name:', col_name)\n",
    "    print('no. of rows with values less than',min_thresh,'=>\\t',counter_min,'(',counter_pct_min,'% )')\n",
    "    print('no. of rows with values more than',max_thresh,'=>\\t',counter_max,'(',counter_pct_max,'% )')\n",
    "    print('total percentage of rows beyond min/max thresholds:',round(counter_pct_min+counter_pct_max,2),'%')\n",
    "    return None\n",
    "\n",
    "def drop_outside_threshold(df_arg, col_name, min_thresh, max_thresh):\n",
    "    old_shape = df_arg.shape\n",
    "    try:\n",
    "        idx_list = list(df_arg[(df_arg[col_name]<min_thresh) | (df_arg[col_name]>max_thresh)].index.values)\n",
    "    except:\n",
    "        print(\"No such cases found...\")\n",
    "    else:\n",
    "        if len(idx_list) > 0:\n",
    "            df_arg.drop(index=idx_list,inplace=True)\n",
    "    finally:\n",
    "        print('Dropped',len(idx_list),'rows...')\n",
    "        print('Old shape =>',old_shape)\n",
    "        print('New shape =>',df_arg.shape)\n",
    "    return None"
   ]
  },
  {
   "cell_type": "markdown",
   "metadata": {
    "colab_type": "text",
    "id": "RqA2d_dYopvg"
   },
   "source": [
    "# Prepare Data, Train/Test Split"
   ]
  },
  {
   "cell_type": "code",
   "execution_count": 0,
   "metadata": {
    "colab": {
     "base_uri": "https://localhost:8080/",
     "height": 33
    },
    "colab_type": "code",
    "id": "ff4QSXKUov7b",
    "outputId": "0711570c-e1c6-45f9-fc7e-5ae4b4621ac8"
   },
   "outputs": [
    {
     "name": "stdout",
     "output_type": "stream",
     "text": [
      "(6353, 29) (6353,)\n"
     ]
    }
   ],
   "source": [
    "# df_fire\n",
    "features = [col for col in df_fire._get_numeric_data().columns if (col != 'auwgr') and (col != 'year')]\n",
    "X = df_fire[features]\n",
    "y = df_fire['auwgr']\n",
    "print(X.shape, y.shape)"
   ]
  },
  {
   "cell_type": "code",
   "execution_count": 0,
   "metadata": {
    "colab": {
     "base_uri": "https://localhost:8080/",
     "height": 33
    },
    "colab_type": "code",
    "id": "y2T7veyYozd-",
    "outputId": "412e7567-d156-447f-b15c-841d7a19acbf"
   },
   "outputs": [
    {
     "name": "stdout",
     "output_type": "stream",
     "text": [
      "(4764, 29) (1589, 29) (4764,) (1589,)\n"
     ]
    }
   ],
   "source": [
    "# split data into training and testing sets\n",
    "X_train, X_test, y_train, y_test = train_test_split(X, y, random_state=42)\n",
    "print(X_train.shape,X_test.shape,y_train.shape,y_test.shape)"
   ]
  },
  {
   "cell_type": "markdown",
   "metadata": {
    "colab_type": "text",
    "id": "Gg_hUgKSpjyJ"
   },
   "source": [
    "# Standard Scaler"
   ]
  },
  {
   "cell_type": "code",
   "execution_count": 0,
   "metadata": {
    "colab": {},
    "colab_type": "code",
    "id": "vvRrYqHbo5_q"
   },
   "outputs": [],
   "source": [
    "ss = StandardScaler()\n",
    "ss.fit(X_train)\n",
    "X_train_sc = ss.transform(X_train)\n",
    "X_test_sc = ss.transform(X_test)"
   ]
  },
  {
   "cell_type": "markdown",
   "metadata": {
    "colab_type": "text",
    "id": "0a-mdD5CmAX9"
   },
   "source": [
    "# AdaBoost Regressor"
   ]
  },
  {
   "cell_type": "markdown",
   "metadata": {
    "colab_type": "text",
    "id": "_Kxgpn5umecJ"
   },
   "source": [
    "## Initial Hyperparameters (using Scaled Data)"
   ]
  },
  {
   "cell_type": "code",
   "execution_count": 0,
   "metadata": {
    "colab": {
     "base_uri": "https://localhost:8080/",
     "height": 50
    },
    "colab_type": "code",
    "id": "MjqgXxh1lLmy",
    "outputId": "75b1c64b-90a5-49f1-eddf-97e8b7710dbd"
   },
   "outputs": [
    {
     "name": "stdout",
     "output_type": "stream",
     "text": [
      "0.9988405726187367\n",
      "0.0027676290890391586\n"
     ]
    }
   ],
   "source": [
    "abreg = AdaBoostRegressor()\n",
    "abreg.fit(X_train_sc,y_train)\n",
    "print(abreg.score(X_train_sc,y_train))\n",
    "print(abreg.score(X_test_sc,y_test))"
   ]
  },
  {
   "cell_type": "markdown",
   "metadata": {
    "colab_type": "text",
    "id": "5ac9g_78qVsE"
   },
   "source": [
    "## GridSearchCV (cv=3)"
   ]
  },
  {
   "cell_type": "code",
   "execution_count": 0,
   "metadata": {
    "colab": {
     "base_uri": "https://localhost:8080/",
     "height": 82
    },
    "colab_type": "code",
    "id": "UrJteNdQqZc3",
    "outputId": "d1755904-7262-4aba-980a-b38d5fac929b"
   },
   "outputs": [
    {
     "data": {
      "text/plain": [
       "{'base_estimator__max_depth': 5,\n",
       " 'learning_rate': 1,\n",
       " 'n_estimators': 150,\n",
       " 'random_state': 42}"
      ]
     },
     "execution_count": 9,
     "metadata": {
      "tags": []
     },
     "output_type": "execute_result"
    }
   ],
   "source": [
    "ada = AdaBoostRegressor(base_estimator=DecisionTreeRegressor())\n",
    "param_grid = {\n",
    "    'n_estimators' : [150,200,250,300,350],\n",
    "    'base_estimator__max_depth' : [2,3,4,5],\n",
    "    'learning_rate' : [0.6,0.7,0.8,0.9,1],\n",
    "    'random_state' : [42]\n",
    "}\n",
    "reg = GridSearchCV(ada, param_grid, cv=3)\n",
    "reg.fit(X_train_sc, y_train)\n",
    "reg.best_params_"
   ]
  },
  {
   "cell_type": "code",
   "execution_count": 0,
   "metadata": {
    "colab": {
     "base_uri": "https://localhost:8080/",
     "height": 82
    },
    "colab_type": "code",
    "id": "sbDRW1KkxKHd",
    "outputId": "1b400c8b-9ede-4b77-dffc-77b63dd8d410"
   },
   "outputs": [
    {
     "data": {
      "text/plain": [
       "{'base_estimator__max_depth': 5,\n",
       " 'learning_rate': 1,\n",
       " 'n_estimators': 30,\n",
       " 'random_state': 42}"
      ]
     },
     "execution_count": 14,
     "metadata": {
      "tags": []
     },
     "output_type": "execute_result"
    }
   ],
   "source": [
    "ada = AdaBoostRegressor(base_estimator=DecisionTreeRegressor())\n",
    "param_grid = {\n",
    "    'n_estimators' : [10, 20, 30, 40],\n",
    "    'base_estimator__max_depth' : [4,5,6],\n",
    "    'learning_rate' : [0.9,1,1.1],\n",
    "    'random_state' : [42]\n",
    "}\n",
    "reg = GridSearchCV(ada, param_grid, cv=3)\n",
    "reg.fit(X_train_sc, y_train)\n",
    "reg.best_params_"
   ]
  },
  {
   "cell_type": "code",
   "execution_count": 0,
   "metadata": {
    "colab": {
     "base_uri": "https://localhost:8080/",
     "height": 50
    },
    "colab_type": "code",
    "id": "97meh55AyGJY",
    "outputId": "0e7f853d-8fea-40f4-b9ef-cd217261e632"
   },
   "outputs": [
    {
     "name": "stdout",
     "output_type": "stream",
     "text": [
      "0.997988301632424\n",
      "-0.0002451312904618863\n"
     ]
    }
   ],
   "source": [
    "abreg = AdaBoostRegressor(base_estimator=DecisionTreeRegressor(max_depth=5),learning_rate=1,n_estimators=30,random_state=42)\n",
    "abreg.fit(X_train_sc,y_train)\n",
    "print(abreg.score(X_train_sc,y_train))\n",
    "print(abreg.score(X_test_sc,y_test))"
   ]
  },
  {
   "cell_type": "markdown",
   "metadata": {
    "colab_type": "text",
    "id": "uRCxYaojzsJZ"
   },
   "source": [
    "## Initial Hyperparameters (using UnScaled Data)"
   ]
  },
  {
   "cell_type": "code",
   "execution_count": 0,
   "metadata": {
    "colab": {
     "base_uri": "https://localhost:8080/",
     "height": 50
    },
    "colab_type": "code",
    "id": "CmlPEsVxzsJb",
    "outputId": "6daa772d-f53c-47df-a871-33d9a790fba3"
   },
   "outputs": [
    {
     "name": "stdout",
     "output_type": "stream",
     "text": [
      "0.9996835382350844\n",
      "0.002588763408910011\n"
     ]
    }
   ],
   "source": [
    "abreg = AdaBoostRegressor()\n",
    "abreg.fit(X_train,y_train)\n",
    "print(abreg.score(X_train,y_train))\n",
    "print(abreg.score(X_test,y_test))"
   ]
  },
  {
   "cell_type": "markdown",
   "metadata": {
    "colab_type": "text",
    "id": "HraXb7Xbz9OF"
   },
   "source": [
    "## GridSearchCV (cv=3)"
   ]
  },
  {
   "cell_type": "code",
   "execution_count": 0,
   "metadata": {
    "colab": {
     "base_uri": "https://localhost:8080/",
     "height": 82
    },
    "colab_type": "code",
    "id": "H7d89P9xz9OL",
    "outputId": "0a988960-eeae-4598-984b-c267bca12166"
   },
   "outputs": [
    {
     "data": {
      "text/plain": [
       "{'base_estimator__max_depth': 5,\n",
       " 'learning_rate': 0.8,\n",
       " 'n_estimators': 150,\n",
       " 'random_state': 42}"
      ]
     },
     "execution_count": 17,
     "metadata": {
      "tags": []
     },
     "output_type": "execute_result"
    }
   ],
   "source": [
    "ada = AdaBoostRegressor(base_estimator=DecisionTreeRegressor())\n",
    "param_grid = {\n",
    "    'n_estimators' : [100,150,200],\n",
    "    'base_estimator__max_depth' : [2,3,4,5],\n",
    "    'learning_rate' : [0.6,0.7,0.8,0.9,1],\n",
    "    'random_state' : [42]\n",
    "}\n",
    "reg = GridSearchCV(ada, param_grid, cv=3)\n",
    "reg.fit(X_train, y_train)\n",
    "reg.best_params_"
   ]
  },
  {
   "cell_type": "code",
   "execution_count": 0,
   "metadata": {
    "colab": {
     "base_uri": "https://localhost:8080/",
     "height": 50
    },
    "colab_type": "code",
    "id": "sci1umiV0h7J",
    "outputId": "8dc7f12c-c8df-44fe-c684-57768c9c5533"
   },
   "outputs": [
    {
     "name": "stdout",
     "output_type": "stream",
     "text": [
      "0.9993977746534836\n",
      "0.0006256119297525231\n"
     ]
    }
   ],
   "source": [
    "abreg = AdaBoostRegressor(base_estimator=DecisionTreeRegressor(max_depth=5),learning_rate=0.8,n_estimators=100,random_state=42)\n",
    "abreg.fit(X_train,y_train)\n",
    "print(abreg.score(X_train,y_train))\n",
    "print(abreg.score(X_test,y_test))"
   ]
  },
  {
   "cell_type": "markdown",
   "metadata": {
    "colab_type": "text",
    "id": "O_sauurX13Hh"
   },
   "source": [
    "# Gradient Boosting Regressor"
   ]
  },
  {
   "cell_type": "markdown",
   "metadata": {
    "colab_type": "text",
    "id": "TPoJguWI37vB"
   },
   "source": [
    "## Initial Hyperparameters (using Scaled Data)"
   ]
  },
  {
   "cell_type": "code",
   "execution_count": 0,
   "metadata": {
    "colab": {
     "base_uri": "https://localhost:8080/",
     "height": 50
    },
    "colab_type": "code",
    "id": "JQAoiWKe37vM",
    "outputId": "d066d2d0-c7e8-46f5-8cf5-10b1c06954e9"
   },
   "outputs": [
    {
     "name": "stdout",
     "output_type": "stream",
     "text": [
      "0.9999031783644269\n",
      "-0.3890761721937448\n"
     ]
    }
   ],
   "source": [
    "gbreg = GradientBoostingRegressor(loss='ls',random_state=42)\n",
    "gbreg.fit(X_train_sc,y_train)\n",
    "print(gbreg.score(X_train_sc,y_train))\n",
    "print(gbreg.score(X_test_sc,y_test))"
   ]
  },
  {
   "cell_type": "code",
   "execution_count": 0,
   "metadata": {
    "colab": {
     "base_uri": "https://localhost:8080/",
     "height": 50
    },
    "colab_type": "code",
    "id": "8qB9wxFK4_rk",
    "outputId": "dd688e2b-6e4d-4ab9-a5ba-db3c06d8ca25"
   },
   "outputs": [
    {
     "name": "stdout",
     "output_type": "stream",
     "text": [
      "0.3153174660746694\n",
      "-0.035799391961917726\n"
     ]
    }
   ],
   "source": [
    "gbreg = GradientBoostingRegressor(loss='huber',random_state=42) # alpha = 0.9 (default)\n",
    "gbreg.fit(X_train_sc,y_train)\n",
    "print(gbreg.score(X_train_sc,y_train))\n",
    "print(gbreg.score(X_test_sc,y_test))"
   ]
  },
  {
   "cell_type": "code",
   "execution_count": 0,
   "metadata": {
    "colab": {
     "base_uri": "https://localhost:8080/",
     "height": 50
    },
    "colab_type": "code",
    "id": "exwZ3e4M5FK3",
    "outputId": "22d95f42-e7c0-41f2-f57d-d031c3c0237f"
   },
   "outputs": [
    {
     "name": "stdout",
     "output_type": "stream",
     "text": [
      "-0.00033611927533461206\n",
      "1.4785931534477825e-05\n"
     ]
    }
   ],
   "source": [
    "gbreg = GradientBoostingRegressor(loss='lad',random_state=42)\n",
    "gbreg.fit(X_train_sc,y_train)\n",
    "print(gbreg.score(X_train_sc,y_train))\n",
    "print(gbreg.score(X_test_sc,y_test))"
   ]
  },
  {
   "cell_type": "code",
   "execution_count": 0,
   "metadata": {
    "colab": {
     "base_uri": "https://localhost:8080/",
     "height": 50
    },
    "colab_type": "code",
    "id": "Mvnls7FB5kVv",
    "outputId": "41de63bc-4d01-4d75-df64-6dae1ff543b3"
   },
   "outputs": [
    {
     "name": "stdout",
     "output_type": "stream",
     "text": [
      "0.031221679654044876\n",
      "0.0017995140095682371\n"
     ]
    }
   ],
   "source": [
    "gbreg = GradientBoostingRegressor(loss='quantile',random_state=42,alpha=0.4) # alpha = 0.9 (default)\n",
    "gbreg.fit(X_train_sc,y_train)\n",
    "print(gbreg.score(X_train_sc,y_train))\n",
    "print(gbreg.score(X_test_sc,y_test))"
   ]
  },
  {
   "cell_type": "markdown",
   "metadata": {
    "colab_type": "text",
    "id": "IfK1DAd43_eo"
   },
   "source": [
    "## GridSearchCV (cv=3) using loss function 'huber'"
   ]
  },
  {
   "cell_type": "code",
   "execution_count": 0,
   "metadata": {
    "colab": {
     "base_uri": "https://localhost:8080/",
     "height": 115
    },
    "colab_type": "code",
    "id": "lJ_FCfv73_eq",
    "outputId": "ebcf7421-eb94-42bf-e515-7e6658bc42a1"
   },
   "outputs": [
    {
     "data": {
      "text/plain": [
       "{'alpha': 0.7,\n",
       " 'learning_rate': 0.08,\n",
       " 'loss': 'huber',\n",
       " 'max_depth': 3,\n",
       " 'n_estimators': 250,\n",
       " 'random_state': 42}"
      ]
     },
     "execution_count": 51,
     "metadata": {
      "tags": []
     },
     "output_type": "execute_result"
    }
   ],
   "source": [
    "param_grid = {\n",
    "    'n_estimators' : [100,150,200,250,300],\n",
    "    'loss' : ['huber'],\n",
    "    'max_depth' : [2,3,4],\n",
    "    'learning_rate' : [0.07,0.08,0.09,0.1],\n",
    "    'alpha' : [0.1,0.3,0.5,0.7,0.9],\n",
    "    'random_state' : [42]\n",
    "}\n",
    "reg = GridSearchCV(GradientBoostingRegressor(), param_grid, cv=3)\n",
    "reg.fit(X_train_sc, y_train)\n",
    "reg.best_params_"
   ]
  },
  {
   "cell_type": "code",
   "execution_count": 0,
   "metadata": {
    "colab": {
     "base_uri": "https://localhost:8080/",
     "height": 50
    },
    "colab_type": "code",
    "id": "lrmW-ADtQDmj",
    "outputId": "5ec7d1e7-a7b4-42c0-917d-0d85d67b6f8f"
   },
   "outputs": [
    {
     "name": "stdout",
     "output_type": "stream",
     "text": [
      "0.1778783217684795\n",
      "-0.043980841918411784\n"
     ]
    }
   ],
   "source": [
    "gbreg = GradientBoostingRegressor(loss='huber',alpha=0.7,learning_rate=0.08,max_depth=3,n_estimators=250,random_state=42)\n",
    "gbreg.fit(X_train_sc,y_train)\n",
    "print(gbreg.score(X_train_sc,y_train))\n",
    "print(gbreg.score(X_test_sc,y_test))"
   ]
  },
  {
   "cell_type": "markdown",
   "metadata": {
    "colab_type": "text",
    "id": "lGTxc63COhyR"
   },
   "source": [
    "## GridSearchCV (cv=3) using loss function 'ls'"
   ]
  },
  {
   "cell_type": "code",
   "execution_count": 0,
   "metadata": {
    "colab": {
     "base_uri": "https://localhost:8080/",
     "height": 98
    },
    "colab_type": "code",
    "id": "vIXlSqaaK8Yo",
    "outputId": "c1365310-e0e7-45f9-afc6-9f5064881227"
   },
   "outputs": [
    {
     "data": {
      "text/plain": [
       "{'learning_rate': 0.1,\n",
       " 'loss': 'ls',\n",
       " 'max_depth': 4,\n",
       " 'n_estimators': 300,\n",
       " 'random_state': 42}"
      ]
     },
     "execution_count": 52,
     "metadata": {
      "tags": []
     },
     "output_type": "execute_result"
    }
   ],
   "source": [
    "param_grid = {\n",
    "    'n_estimators' : [100,150,200,250,300],\n",
    "    'loss' : ['ls'],\n",
    "    'max_depth' : [2,3,4],\n",
    "    'learning_rate' : [0.05,0.06,0.07,0.08,0.09,0.1],\n",
    "    'random_state' : [42]\n",
    "}\n",
    "reg = GridSearchCV(GradientBoostingRegressor(), param_grid, cv=3)\n",
    "reg.fit(X_train_sc, y_train)\n",
    "reg.best_params_"
   ]
  },
  {
   "cell_type": "code",
   "execution_count": 0,
   "metadata": {
    "colab": {
     "base_uri": "https://localhost:8080/",
     "height": 50
    },
    "colab_type": "code",
    "id": "1Mylx-E0HK5B",
    "outputId": "9cb71b76-25e5-4bbb-b22e-ac7b07ac9f6c"
   },
   "outputs": [
    {
     "name": "stdout",
     "output_type": "stream",
     "text": [
      "0.9999946338370853\n",
      "-0.3869801624462441\n"
     ]
    }
   ],
   "source": [
    "gbreg = GradientBoostingRegressor(loss='ls',learning_rate=0.1,max_depth=4,n_estimators=300,random_state=42)\n",
    "gbreg.fit(X_train_sc,y_train)\n",
    "print(gbreg.score(X_train_sc,y_train))\n",
    "print(gbreg.score(X_test_sc,y_test))"
   ]
  },
  {
   "cell_type": "markdown",
   "metadata": {
    "colab_type": "text",
    "id": "uudw-wKr_IZ_"
   },
   "source": [
    "## GridSearchCV (cv=3) using loss function 'lad'"
   ]
  },
  {
   "cell_type": "code",
   "execution_count": 0,
   "metadata": {
    "colab": {
     "base_uri": "https://localhost:8080/",
     "height": 98
    },
    "colab_type": "code",
    "id": "-hMKq0VE_IaE",
    "outputId": "4e478014-0de3-45e2-8634-68d3b09e390d"
   },
   "outputs": [
    {
     "data": {
      "text/plain": [
       "{'learning_rate': 0.06,\n",
       " 'loss': 'lad',\n",
       " 'max_depth': 4,\n",
       " 'n_estimators': 100,\n",
       " 'random_state': 42}"
      ]
     },
     "execution_count": 36,
     "metadata": {
      "tags": []
     },
     "output_type": "execute_result"
    }
   ],
   "source": [
    "param_grid = {\n",
    "    'n_estimators' : [100,150,200],\n",
    "    'loss' : ['lad'],\n",
    "    'max_depth' : [3,4,5],\n",
    "    'learning_rate' : [0.04,0.05,0.06],\n",
    "    'random_state' : [42]\n",
    "}\n",
    "reg = GridSearchCV(GradientBoostingRegressor(), param_grid, cv=3)\n",
    "reg.fit(X_train_sc, y_train)\n",
    "reg.best_params_"
   ]
  },
  {
   "cell_type": "code",
   "execution_count": 0,
   "metadata": {
    "colab": {
     "base_uri": "https://localhost:8080/",
     "height": 50
    },
    "colab_type": "code",
    "id": "V46eIw2c4IkA",
    "outputId": "6f9bf49e-6fa4-4c93-8ec5-8abcee2c4455"
   },
   "outputs": [
    {
     "name": "stdout",
     "output_type": "stream",
     "text": [
      "0.28808853975306115\n",
      "0.0007865776742761454\n"
     ]
    }
   ],
   "source": [
    "gbreg = GradientBoostingRegressor(loss='lad',learning_rate=0.06,max_depth=4,n_estimators=100,random_state=42)\n",
    "gbreg.fit(X_train_sc,y_train)\n",
    "print(gbreg.score(X_train_sc,y_train))\n",
    "print(gbreg.score(X_test_sc,y_test))"
   ]
  },
  {
   "cell_type": "markdown",
   "metadata": {
    "colab_type": "text",
    "id": "Mh5MXQa6rmqy"
   },
   "source": [
    "# Clustering (Unsupervised Learning)"
   ]
  },
  {
   "cell_type": "markdown",
   "metadata": {
    "colab_type": "text",
    "id": "QPM5dRAjrup2"
   },
   "source": [
    "## Prepare and Scale Data"
   ]
  },
  {
   "cell_type": "code",
   "execution_count": 0,
   "metadata": {
    "colab": {},
    "colab_type": "code",
    "id": "bX1lajh8rzJ6"
   },
   "outputs": [],
   "source": [
    "from sklearn.cluster import DBSCAN\n",
    "from sklearn.metrics import silhouette_score"
   ]
  },
  {
   "cell_type": "code",
   "execution_count": 0,
   "metadata": {
    "colab": {},
    "colab_type": "code",
    "id": "kDXbHV8fs0Y_"
   },
   "outputs": [],
   "source": [
    "df_cluster = pd.read_csv('df_model.csv') # modeling dataset"
   ]
  },
  {
   "cell_type": "code",
   "execution_count": 0,
   "metadata": {
    "colab": {
     "base_uri": "https://localhost:8080/",
     "height": 191
    },
    "colab_type": "code",
    "id": "71NbC5LNYskc",
    "outputId": "68e93e24-c751-42b4-8b87-1b4e1f79b6b6"
   },
   "outputs": [
    {
     "data": {
      "text/html": [
       "<div>\n",
       "<style scoped>\n",
       "    .dataframe tbody tr th:only-of-type {\n",
       "        vertical-align: middle;\n",
       "    }\n",
       "\n",
       "    .dataframe tbody tr th {\n",
       "        vertical-align: top;\n",
       "    }\n",
       "\n",
       "    .dataframe thead th {\n",
       "        text-align: right;\n",
       "    }\n",
       "</style>\n",
       "<table border=\"1\" class=\"dataframe\">\n",
       "  <thead>\n",
       "    <tr style=\"text-align: right;\">\n",
       "      <th></th>\n",
       "      <th>year</th>\n",
       "      <th>company</th>\n",
       "      <th>class</th>\n",
       "      <th>auwgr</th>\n",
       "      <th>lkpp</th>\n",
       "      <th>amlr</th>\n",
       "      <th>amer</th>\n",
       "      <th>der</th>\n",
       "      <th>aoer</th>\n",
       "    </tr>\n",
       "  </thead>\n",
       "  <tbody>\n",
       "    <tr>\n",
       "      <th>0</th>\n",
       "      <td>2005</td>\n",
       "      <td>c166</td>\n",
       "      <td>mahl</td>\n",
       "      <td>0.241854</td>\n",
       "      <td>1.505486</td>\n",
       "      <td>0.865390</td>\n",
       "      <td>0.021265</td>\n",
       "      <td>0.036815</td>\n",
       "      <td>0.000859</td>\n",
       "    </tr>\n",
       "    <tr>\n",
       "      <th>1</th>\n",
       "      <td>2006</td>\n",
       "      <td>c166</td>\n",
       "      <td>mahl</td>\n",
       "      <td>-0.867997</td>\n",
       "      <td>2.534810</td>\n",
       "      <td>1.397724</td>\n",
       "      <td>0.074598</td>\n",
       "      <td>0.371861</td>\n",
       "      <td>0.002904</td>\n",
       "    </tr>\n",
       "    <tr>\n",
       "      <th>2</th>\n",
       "      <td>2007</td>\n",
       "      <td>c166</td>\n",
       "      <td>mahl</td>\n",
       "      <td>10.434234</td>\n",
       "      <td>0.836520</td>\n",
       "      <td>2.218928</td>\n",
       "      <td>0.222687</td>\n",
       "      <td>-3.385768</td>\n",
       "      <td>0.007512</td>\n",
       "    </tr>\n",
       "    <tr>\n",
       "      <th>3</th>\n",
       "      <td>2008</td>\n",
       "      <td>c166</td>\n",
       "      <td>mahl</td>\n",
       "      <td>-0.001043</td>\n",
       "      <td>-0.157507</td>\n",
       "      <td>3.099674</td>\n",
       "      <td>6.047065</td>\n",
       "      <td>-0.119973</td>\n",
       "      <td>0.185180</td>\n",
       "    </tr>\n",
       "    <tr>\n",
       "      <th>4</th>\n",
       "      <td>2009</td>\n",
       "      <td>c166</td>\n",
       "      <td>mahl</td>\n",
       "      <td>-0.598818</td>\n",
       "      <td>1.211453</td>\n",
       "      <td>2.479259</td>\n",
       "      <td>1.246263</td>\n",
       "      <td>0.224976</td>\n",
       "      <td>0.042442</td>\n",
       "    </tr>\n",
       "  </tbody>\n",
       "</table>\n",
       "</div>"
      ],
      "text/plain": [
       "   year company class      auwgr  ...      amlr      amer       der      aoer\n",
       "0  2005    c166  mahl   0.241854  ...  0.865390  0.021265  0.036815  0.000859\n",
       "1  2006    c166  mahl  -0.867997  ...  1.397724  0.074598  0.371861  0.002904\n",
       "2  2007    c166  mahl  10.434234  ...  2.218928  0.222687 -3.385768  0.007512\n",
       "3  2008    c166  mahl  -0.001043  ...  3.099674  6.047065 -0.119973  0.185180\n",
       "4  2009    c166  mahl  -0.598818  ...  2.479259  1.246263  0.224976  0.042442\n",
       "\n",
       "[5 rows x 9 columns]"
      ]
     },
     "execution_count": 138,
     "metadata": {
      "tags": []
     },
     "output_type": "execute_result"
    }
   ],
   "source": [
    "df_cluster.head()"
   ]
  },
  {
   "cell_type": "code",
   "execution_count": 0,
   "metadata": {
    "colab": {},
    "colab_type": "code",
    "id": "0LyxCyyaYyoG"
   },
   "outputs": [],
   "source": [
    "df_cluster.drop(columns=['aoer'],inplace=True)"
   ]
  },
  {
   "cell_type": "code",
   "execution_count": 0,
   "metadata": {
    "colab": {},
    "colab_type": "code",
    "id": "btY2xujR2OBC"
   },
   "outputs": [],
   "source": [
    "# drop_outside_threshold(df_cluster,'auwgr',-2,2)\n",
    "# drop_outside_threshold(df_cluster,'lkpp',-5,13)\n",
    "# drop_outside_threshold(df_cluster,'amlr',-1,2.2)\n",
    "# drop_outside_threshold(df_cluster,'amer',0,5)\n",
    "# drop_outside_threshold(df_cluster,'der',-1,2)\n",
    "# # drop_outside_threshold(df_cluster,'aoer',0,0.2)"
   ]
  },
  {
   "cell_type": "code",
   "execution_count": 0,
   "metadata": {
    "colab": {
     "base_uri": "https://localhost:8080/",
     "height": 105
    },
    "colab_type": "code",
    "id": "bZGU8r0wtdeW",
    "outputId": "6a3ec65e-4410-482d-fc68-cc54aec491a3"
   },
   "outputs": [
    {
     "data": {
      "text/html": [
       "<div>\n",
       "<style scoped>\n",
       "    .dataframe tbody tr th:only-of-type {\n",
       "        vertical-align: middle;\n",
       "    }\n",
       "\n",
       "    .dataframe tbody tr th {\n",
       "        vertical-align: top;\n",
       "    }\n",
       "\n",
       "    .dataframe thead th {\n",
       "        text-align: right;\n",
       "    }\n",
       "</style>\n",
       "<table border=\"1\" class=\"dataframe\">\n",
       "  <thead>\n",
       "    <tr style=\"text-align: right;\">\n",
       "      <th></th>\n",
       "      <th>auwgr</th>\n",
       "      <th>lkpp</th>\n",
       "      <th>amlr</th>\n",
       "      <th>amer</th>\n",
       "      <th>der</th>\n",
       "    </tr>\n",
       "  </thead>\n",
       "  <tbody>\n",
       "    <tr>\n",
       "      <th>0</th>\n",
       "      <td>0.241854</td>\n",
       "      <td>1.505486</td>\n",
       "      <td>0.865390</td>\n",
       "      <td>0.021265</td>\n",
       "      <td>0.036815</td>\n",
       "    </tr>\n",
       "    <tr>\n",
       "      <th>1</th>\n",
       "      <td>-0.867997</td>\n",
       "      <td>2.534810</td>\n",
       "      <td>1.397724</td>\n",
       "      <td>0.074598</td>\n",
       "      <td>0.371861</td>\n",
       "    </tr>\n",
       "  </tbody>\n",
       "</table>\n",
       "</div>"
      ],
      "text/plain": [
       "      auwgr      lkpp      amlr      amer       der\n",
       "0  0.241854  1.505486  0.865390  0.021265  0.036815\n",
       "1 -0.867997  2.534810  1.397724  0.074598  0.371861"
      ]
     },
     "execution_count": 140,
     "metadata": {
      "tags": []
     },
     "output_type": "execute_result"
    }
   ],
   "source": [
    "df_cluster.drop(columns=['year','company','class'],inplace=True)\n",
    "df_cluster.head(2)"
   ]
  },
  {
   "cell_type": "code",
   "execution_count": 0,
   "metadata": {
    "colab": {
     "base_uri": "https://localhost:8080/",
     "height": 33
    },
    "colab_type": "code",
    "id": "Cql0Bod_t1NL",
    "outputId": "bd202168-a01d-4d32-be90-beb57ff7f34e"
   },
   "outputs": [
    {
     "data": {
      "text/plain": [
       "(6790, 5)"
      ]
     },
     "execution_count": 141,
     "metadata": {
      "tags": []
     },
     "output_type": "execute_result"
    }
   ],
   "source": [
    "df_cluster.shape"
   ]
  },
  {
   "cell_type": "code",
   "execution_count": 0,
   "metadata": {
    "colab": {},
    "colab_type": "code",
    "id": "Pk1DT_DFsFAI"
   },
   "outputs": [],
   "source": [
    "ss=StandardScaler()\n",
    "X_scaled = ss.fit_transform(df_cluster)"
   ]
  },
  {
   "cell_type": "markdown",
   "metadata": {
    "colab_type": "text",
    "id": "dhNT33XOYMAr"
   },
   "source": [
    "## DBSCAN"
   ]
  },
  {
   "cell_type": "code",
   "execution_count": 0,
   "metadata": {
    "colab": {},
    "colab_type": "code",
    "id": "GSuZKktcxXrC"
   },
   "outputs": [],
   "source": [
    "# DEFAULT SETTINGS\n",
    "# DBSCAN(algorithm='auto', eps=0.5, leaf_size=30, metric='euclidean',\n",
    "#        metric_params=None, min_samples=5, n_jobs=None, p=None)\n",
    "DBSCAN()"
   ]
  },
  {
   "cell_type": "code",
   "execution_count": 0,
   "metadata": {
    "colab": {
     "base_uri": "https://localhost:8080/",
     "height": 310
    },
    "colab_type": "code",
    "id": "_c3ci9XLiIQ1",
    "outputId": "c7e2cae8-9dde-42d0-b527-3e45f1c795d1"
   },
   "outputs": [
    {
     "name": "stdout",
     "output_type": "stream",
     "text": [
      "{0, 1, 2, 3, 4, 5, 6, 7, 8, 9, 10, 11, 12, 13, -1}\n",
      "0.006489441248184589\n"
     ]
    },
    {
     "data": {
      "text/plain": [
       " 0     6113\n",
       "-1      569\n",
       " 7       12\n",
       " 3       12\n",
       " 1       12\n",
       " 5       11\n",
       " 9       10\n",
       " 8        8\n",
       " 6        7\n",
       " 13       7\n",
       " 11       6\n",
       " 10       6\n",
       " 2        6\n",
       " 4        6\n",
       " 12       5\n",
       "Name: cluster, dtype: int64"
      ]
     },
     "execution_count": 104,
     "metadata": {
      "tags": []
     },
     "output_type": "execute_result"
    }
   ],
   "source": [
    "# below was used without dropping aoer and without dropping rows\n",
    "dbscan = DBSCAN(eps=0.01,min_samples=5)\n",
    "dbscan.fit(X_scaled)\n",
    "print(set(dbscan.labels_))\n",
    "print(silhouette_score(X_scaled,dbscan.labels_))\n",
    "df_cluster['cluster'] = dbscan.labels_\n",
    "df_cluster['cluster'].value_counts()"
   ]
  },
  {
   "cell_type": "code",
   "execution_count": 0,
   "metadata": {
    "colab": {},
    "colab_type": "code",
    "id": "4x8Kc3jaZOSA"
   },
   "outputs": [],
   "source": [
    "# below was used with dropping aoer and with dropping rows\n",
    "dbscan = DBSCAN(eps=0.70,min_samples=3)\n",
    "dbscan.fit(X_scaled)\n",
    "print(set(dbscan.labels_))\n",
    "print(silhouette_score(X_scaled,dbscan.labels_))\n",
    "df_cluster['cluster'] = dbscan.labels_\n",
    "df_cluster['cluster'].value_counts()"
   ]
  },
  {
   "cell_type": "code",
   "execution_count": 0,
   "metadata": {
    "colab": {},
    "colab_type": "code",
    "id": "hoEWHYrMr7Sk"
   },
   "outputs": [],
   "source": [
    "# below was used without dropping aoer but with dropping rows\n",
    "dbscan = DBSCAN(eps=0.398,min_samples=15)\n",
    "dbscan.fit(X_scaled)\n",
    "print(set(dbscan.labels_))\n",
    "print(silhouette_score(X_scaled,dbscan.labels_))\n",
    "df_cluster['cluster'] = dbscan.labels_\n",
    "df_cluster['cluster'].value_counts()"
   ]
  },
  {
   "cell_type": "markdown",
   "metadata": {
    "colab_type": "text",
    "id": "xGwyAestmM14"
   },
   "source": [
    "## GridSearch DBSCAN"
   ]
  },
  {
   "cell_type": "code",
   "execution_count": 0,
   "metadata": {
    "colab": {},
    "colab_type": "code",
    "id": "06HqXn8_jPWB"
   },
   "outputs": [],
   "source": [
    "from collections import Counter\n",
    "\n",
    "def dbscan_grid_search(X_data, lst, clst_count, eps_space = 0.5,\n",
    "                       min_samples_space = 5, min_clust = 0, max_clust = 10):\n",
    "      # Importing counter to count the amount of data in each cluster\n",
    "\n",
    "    # Starting a tally of total iterations\n",
    "    n_iterations = 0\n",
    "\n",
    "    # Looping over each combination of hyperparameters\n",
    "    for eps_val in eps_space:\n",
    "        for samples_val in min_samples_space:\n",
    "\n",
    "            dbscan_grid = DBSCAN(eps = eps_val,\n",
    "                                 min_samples = samples_val)\n",
    "\n",
    "            # fit_transform\n",
    "            clusters = dbscan_grid.fit_predict(X = X_data)\n",
    "\n",
    "            # Counting the amount of data in each cluster\n",
    "            cluster_count = Counter(clusters)\n",
    "\n",
    "            # Saving the number of clusters\n",
    "            n_clusters = sum(abs(pd.np.unique(clusters))) - 1\n",
    "\n",
    "            # Increasing the iteration tally with each run of the loop\n",
    "            n_iterations += 1\n",
    "\n",
    "            # Appending the lst each time n_clusters criteria is reached\n",
    "            if n_clusters >= min_clust and n_clusters <= max_clust:\n",
    "\n",
    "                dbscan_clusters.append([eps_val,\n",
    "                                        samples_val,\n",
    "                                        n_clusters])\n",
    "\n",
    "                clst_count.append(cluster_count)\n",
    "\n",
    "    # Printing grid search summary information\n",
    "    print(f\"\"\"Search Complete. \\nYour list is now of length {len(lst)}. \"\"\")\n",
    "    print(f\"\"\"Hyperparameter combinations checked: {n_iterations}. \\n\"\"\")"
   ]
  },
  {
   "cell_type": "code",
   "execution_count": 0,
   "metadata": {
    "colab": {
     "base_uri": "https://localhost:8080/",
     "height": 82
    },
    "colab_type": "code",
    "id": "gl_1VF0fl9kW",
    "outputId": "8f8b7136-1abf-4d66-e9bc-90fcfbee940d"
   },
   "outputs": [
    {
     "name": "stdout",
     "output_type": "stream",
     "text": [
      "Search Complete. \n",
      "Your list is now of length 1137. \n",
      "Hyperparameter combinations checked: 3992. \n",
      "\n"
     ]
    }
   ],
   "source": [
    "# Setting empty lists in global environment\n",
    "dbscan_clusters = []\n",
    "cluster_count   = []\n",
    "\n",
    "# Inputting function parameters\n",
    "dbscan_grid_search(X_data = X_scaled,\n",
    "                   lst = dbscan_clusters,\n",
    "                   clst_count = cluster_count,\n",
    "                   eps_space = pd.np.arange(0.001, .5, 0.001),\n",
    "                   min_samples_space = pd.np.arange(2, 10, 1),\n",
    "                   min_clust = 3,\n",
    "                   max_clust = 10)"
   ]
  },
  {
   "cell_type": "code",
   "execution_count": 0,
   "metadata": {
    "colab": {
     "base_uri": "https://localhost:8080/",
     "height": 70
    },
    "colab_type": "code",
    "id": "OjuMAim81u3Z",
    "outputId": "501c6ff7-ef0a-4a2a-e7f4-bc13d243fa97"
   },
   "outputs": [
    {
     "name": "stdout",
     "output_type": "stream",
     "text": [
      "[[0.008, 9, 6], [0.009000000000000001, 9, 3], [0.010000000000000002, 7, 3], [0.010000000000000002, 9, 6], [0.011, 9, 3], [0.012, 8, 10], [0.013000000000000001, 8, 10], [0.013000000000000001, 9, 10], [0.014000000000000002, 9, 10], [0.016, 9, 10], [0.017, 6, 10], [0.017, 7, 10], [0.018000000000000002, 7, 10], [0.019000000000000003, 7, 10], [0.019000000000000003, 9, 10], [0.02, 6, 10], [0.02, 8, 10], [0.02, 9, 10], [0.021, 6, 3], [0.021, 7, 3], [0.021, 8, 10], [0.022000000000000002, 6, 6], [0.022000000000000002, 7, 3], [0.022000000000000002, 8, 6], [0.023, 7, 3], [0.023, 8, 3], [0.023, 9, 6], [0.024, 7, 6], [0.024, 8, 3], [0.024, 9, 3], [0.025, 7, 10], [0.025, 9, 3], [0.026000000000000002, 7, 6], [0.026000000000000002, 8, 3], [0.027000000000000003, 7, 6], [0.027000000000000003, 8, 3], [0.028, 6, 10], [0.028, 7, 6], [0.028, 8, 3], [0.028, 9, 3], [0.029, 6, 10], [0.029, 7, 6], [0.029, 8, 3], [0.029, 9, 3], [0.030000000000000002, 6, 10], [0.030000000000000002, 7, 6], [0.030000000000000002, 8, 3], [0.030000000000000002, 9, 3], [0.031, 6, 10], [0.031, 7, 6], [0.031, 8, 6], [0.031, 9, 3], [0.032, 7, 6], [0.032, 8, 6], [0.032, 9, 3], [0.033, 7, 10], [0.033, 8, 3], [0.033, 9, 3], [0.034, 8, 6], [0.035, 6, 10], [0.035, 8, 3], [0.035, 9, 3], [0.036000000000000004, 6, 10], [0.036000000000000004, 8, 3], [0.036000000000000004, 9, 3], [0.037000000000000005, 5, 10], [0.037000000000000005, 6, 6], [0.037000000000000005, 7, 10], [0.037000000000000005, 8, 6], [0.038, 5, 10], [0.038, 6, 6], [0.038, 7, 10], [0.038, 8, 3], [0.038, 9, 3], [0.039, 5, 10], [0.039, 6, 6], [0.039, 7, 10], [0.039, 8, 3], [0.039, 9, 3], [0.04, 6, 6], [0.04, 7, 10], [0.04, 8, 3], [0.04, 9, 3], [0.041, 6, 6], [0.041, 7, 6], [0.041, 8, 6], [0.041, 9, 3], [0.042, 6, 6], [0.042, 7, 3], [0.042, 8, 6], [0.042, 9, 3], [0.043000000000000003, 5, 10], [0.043000000000000003, 6, 3], [0.043000000000000003, 7, 3], [0.043000000000000003, 8, 3], [0.043000000000000003, 9, 3], [0.044000000000000004, 5, 6], [0.044000000000000004, 6, 3], [0.044000000000000004, 7, 3], [0.044000000000000004, 8, 3], [0.044000000000000004, 9, 6], [0.045, 5, 6], [0.045, 6, 3], [0.045, 7, 3], [0.045, 8, 3], [0.045, 9, 6], [0.046, 5, 6], [0.046, 6, 3], [0.046, 7, 3], [0.046, 8, 3], [0.046, 9, 6], [0.047, 5, 6], [0.047, 6, 3], [0.047, 8, 3], [0.047, 9, 6], [0.048, 5, 6], [0.048, 6, 3], [0.048, 8, 3], [0.048, 9, 6], [0.049, 5, 6], [0.049, 6, 3], [0.049, 9, 6], [0.05, 5, 6], [0.05, 6, 3], [0.05, 9, 6], [0.051000000000000004, 5, 6], [0.051000000000000004, 6, 3], [0.051000000000000004, 9, 3], [0.052000000000000005, 5, 6], [0.052000000000000005, 6, 3], [0.053000000000000005, 4, 10], [0.053000000000000005, 5, 10], [0.053000000000000005, 6, 3], [0.054, 4, 10], [0.054, 5, 10], [0.054, 6, 3], [0.054, 7, 3], [0.055, 4, 10], [0.055, 5, 10], [0.055, 6, 3], [0.055, 7, 3], [0.056, 4, 10], [0.056, 6, 3], [0.056, 7, 3], [0.057, 4, 10], [0.057, 6, 3], [0.057, 7, 3], [0.058, 4, 10], [0.058, 5, 10], [0.058, 6, 6], [0.058, 7, 3], [0.059000000000000004, 4, 10], [0.059000000000000004, 5, 10], [0.059000000000000004, 6, 6], [0.059000000000000004, 7, 3], [0.060000000000000005, 4, 10], [0.060000000000000005, 5, 10], [0.060000000000000005, 6, 6], [0.060000000000000005, 7, 3], [0.061, 4, 10], [0.061, 5, 10], [0.061, 6, 6], [0.061, 7, 3], [0.062, 4, 10], [0.062, 5, 10], [0.062, 6, 3], [0.062, 7, 3], [0.062, 8, 3], [0.063, 4, 6], [0.063, 5, 6], [0.063, 7, 3], [0.063, 8, 3], [0.064, 4, 6], [0.064, 5, 6], [0.064, 7, 3], [0.064, 8, 3], [0.065, 4, 6], [0.065, 5, 6], [0.065, 7, 3], [0.065, 8, 3], [0.066, 4, 10], [0.066, 5, 6], [0.066, 7, 3], [0.066, 8, 3], [0.067, 4, 10], [0.067, 5, 6], [0.067, 7, 3], [0.067, 8, 3], [0.068, 4, 10], [0.068, 5, 6], [0.068, 7, 3], [0.068, 8, 3], [0.069, 4, 10], [0.069, 5, 6], [0.069, 8, 3], [0.07, 4, 10], [0.07, 5, 6], [0.07, 8, 3], [0.07100000000000001, 4, 10], [0.07100000000000001, 5, 6], [0.07100000000000001, 6, 3], [0.07100000000000001, 8, 3], [0.07200000000000001, 4, 10], [0.07200000000000001, 5, 6], [0.07200000000000001, 6, 3], [0.07200000000000001, 8, 3], [0.07300000000000001, 4, 10], [0.07300000000000001, 5, 6], [0.07300000000000001, 6, 3], [0.07300000000000001, 8, 3], [0.074, 4, 10], [0.074, 5, 10], [0.074, 6, 3], [0.074, 8, 3], [0.074, 9, 3], [0.075, 4, 10], [0.075, 5, 10], [0.075, 6, 3], [0.075, 8, 3], [0.075, 9, 3], [0.076, 4, 10], [0.076, 5, 10], [0.076, 6, 3], [0.076, 8, 3], [0.076, 9, 3], [0.077, 4, 10], [0.077, 5, 10], [0.077, 6, 3], [0.077, 8, 3], [0.077, 9, 3], [0.078, 4, 10], [0.078, 5, 10], [0.078, 6, 3], [0.078, 9, 3], [0.079, 4, 10], [0.079, 5, 10], [0.079, 6, 3], [0.079, 9, 3], [0.08, 4, 10], [0.08, 5, 10], [0.08, 6, 3], [0.08, 9, 3], [0.081, 4, 6], [0.081, 5, 6], [0.081, 9, 3], [0.082, 4, 6], [0.082, 5, 6], [0.082, 9, 3], [0.083, 4, 6], [0.083, 5, 6], [0.083, 9, 3], [0.084, 4, 6], [0.084, 5, 6], [0.085, 4, 6], [0.085, 5, 6], [0.08600000000000001, 5, 6], [0.08700000000000001, 5, 6], [0.08800000000000001, 5, 6], [0.089, 5, 6], [0.09, 5, 10], [0.091, 4, 10], [0.091, 5, 10], [0.092, 4, 10], [0.092, 5, 10], [0.093, 4, 10], [0.094, 4, 10], [0.095, 4, 10], [0.096, 4, 10], [0.097, 4, 10], [0.098, 4, 10], [0.098, 5, 10], [0.099, 4, 10], [0.099, 5, 10], [0.1, 4, 10], [0.1, 5, 10], [0.101, 4, 10], [0.101, 5, 10], [0.10200000000000001, 4, 10], [0.10200000000000001, 5, 10], [0.10300000000000001, 4, 10], [0.10300000000000001, 5, 10], [0.10400000000000001, 4, 10], [0.10400000000000001, 5, 10], [0.10500000000000001, 4, 10], [0.10500000000000001, 5, 10], [0.106, 4, 10], [0.106, 5, 10], [0.107, 4, 10], [0.107, 5, 10], [0.108, 4, 10], [0.108, 5, 10], [0.109, 4, 10], [0.109, 5, 10], [0.11, 4, 10], [0.11, 5, 10], [0.111, 4, 10], [0.111, 5, 10], [0.112, 4, 10], [0.112, 5, 10], [0.113, 5, 10], [0.114, 5, 10], [0.115, 5, 10], [0.116, 5, 10], [0.117, 4, 10], [0.117, 5, 6], [0.11800000000000001, 4, 10], [0.11800000000000001, 5, 6], [0.11900000000000001, 4, 10], [0.11900000000000001, 5, 6], [0.12000000000000001, 4, 10], [0.12000000000000001, 5, 6], [0.121, 4, 10], [0.121, 5, 6], [0.122, 5, 6], [0.123, 5, 6], [0.124, 5, 6], [0.124, 6, 3], [0.125, 5, 6], [0.125, 6, 3], [0.126, 5, 6], [0.126, 6, 3], [0.127, 5, 6], [0.127, 6, 3], [0.128, 5, 6], [0.128, 6, 3], [0.129, 5, 6], [0.129, 6, 3], [0.13, 5, 6], [0.13, 6, 3], [0.131, 5, 6], [0.131, 6, 3], [0.132, 5, 6], [0.132, 6, 3], [0.133, 5, 6], [0.133, 6, 3], [0.134, 5, 6], [0.134, 6, 3], [0.135, 5, 6], [0.135, 6, 3], [0.136, 5, 6], [0.136, 6, 3], [0.137, 5, 6], [0.137, 6, 3], [0.138, 5, 6], [0.138, 6, 3], [0.139, 5, 6], [0.139, 6, 3], [0.14, 5, 6], [0.14, 6, 3], [0.14100000000000001, 5, 6], [0.14100000000000001, 6, 3], [0.14200000000000002, 5, 6], [0.14200000000000002, 6, 3], [0.14300000000000002, 5, 6], [0.14300000000000002, 6, 6], [0.14400000000000002, 5, 6], [0.14400000000000002, 6, 6], [0.14500000000000002, 5, 6], [0.14500000000000002, 6, 6], [0.146, 5, 6], [0.146, 6, 6], [0.147, 5, 6], [0.147, 6, 6], [0.148, 5, 6], [0.148, 6, 6], [0.149, 5, 6], [0.149, 6, 6], [0.15, 5, 6], [0.15, 6, 6], [0.151, 5, 6], [0.151, 6, 6], [0.152, 5, 6], [0.152, 6, 6], [0.153, 5, 6], [0.153, 6, 6], [0.154, 5, 6], [0.154, 6, 6], [0.155, 5, 6], [0.155, 6, 6], [0.156, 5, 6], [0.156, 6, 6], [0.157, 5, 6], [0.157, 6, 6], [0.158, 5, 6], [0.158, 6, 6], [0.159, 5, 6], [0.159, 6, 6], [0.16, 5, 6], [0.16, 6, 6], [0.161, 5, 6], [0.161, 6, 6], [0.162, 5, 6], [0.162, 6, 6], [0.163, 5, 6], [0.163, 6, 6], [0.164, 5, 6], [0.164, 6, 6], [0.165, 5, 6], [0.165, 6, 6], [0.166, 5, 6], [0.166, 6, 6], [0.167, 5, 6], [0.167, 6, 6], [0.168, 5, 6], [0.168, 6, 6], [0.169, 4, 10], [0.169, 5, 6], [0.169, 6, 6], [0.17, 4, 10], [0.17, 5, 6], [0.17, 6, 6], [0.171, 4, 10], [0.171, 5, 6], [0.171, 6, 6], [0.17200000000000001, 4, 10], [0.17200000000000001, 5, 6], [0.17200000000000001, 6, 6], [0.17300000000000001, 4, 10], [0.17300000000000001, 5, 6], [0.17300000000000001, 6, 6], [0.17300000000000001, 7, 3], [0.17400000000000002, 4, 10], [0.17400000000000002, 5, 6], [0.17400000000000002, 6, 6], [0.17400000000000002, 7, 3], [0.17500000000000002, 4, 10], [0.17500000000000002, 5, 6], [0.17500000000000002, 6, 6], [0.17500000000000002, 7, 3], [0.17600000000000002, 4, 10], [0.17600000000000002, 5, 6], [0.17600000000000002, 6, 6], [0.17600000000000002, 7, 3], [0.177, 4, 10], [0.177, 5, 6], [0.177, 6, 6], [0.177, 7, 3], [0.178, 4, 10], [0.178, 5, 6], [0.178, 6, 6], [0.178, 7, 3], [0.179, 4, 10], [0.179, 5, 6], [0.179, 6, 6], [0.179, 7, 3], [0.18, 4, 10], [0.18, 5, 6], [0.18, 6, 6], [0.18, 7, 3], [0.181, 4, 10], [0.181, 5, 6], [0.181, 6, 6], [0.181, 7, 3], [0.182, 4, 10], [0.182, 5, 6], [0.182, 6, 6], [0.182, 7, 3], [0.183, 4, 10], [0.183, 5, 6], [0.183, 6, 6], [0.183, 7, 3], [0.184, 4, 10], [0.184, 5, 6], [0.184, 6, 6], [0.184, 7, 3], [0.185, 4, 10], [0.185, 5, 6], [0.185, 6, 6], [0.185, 7, 3], [0.186, 4, 10], [0.186, 5, 6], [0.186, 6, 6], [0.186, 7, 3], [0.187, 4, 10], [0.187, 5, 6], [0.187, 6, 6], [0.187, 7, 3], [0.188, 4, 10], [0.188, 5, 6], [0.188, 6, 6], [0.188, 7, 3], [0.189, 4, 10], [0.189, 5, 6], [0.189, 6, 6], [0.189, 7, 3], [0.19, 4, 10], [0.19, 5, 6], [0.19, 6, 6], [0.19, 7, 3], [0.191, 4, 10], [0.191, 5, 6], [0.191, 6, 6], [0.191, 7, 3], [0.192, 4, 10], [0.192, 5, 6], [0.192, 6, 6], [0.192, 7, 3], [0.193, 4, 10], [0.193, 5, 6], [0.193, 6, 6], [0.193, 7, 3], [0.194, 4, 10], [0.194, 5, 6], [0.194, 6, 6], [0.194, 7, 3], [0.195, 4, 10], [0.195, 5, 6], [0.195, 6, 6], [0.195, 7, 3], [0.196, 4, 10], [0.196, 5, 6], [0.196, 6, 6], [0.196, 7, 3], [0.197, 4, 10], [0.197, 5, 6], [0.197, 6, 6], [0.197, 7, 3], [0.198, 4, 10], [0.198, 5, 6], [0.198, 6, 6], [0.198, 7, 3], [0.199, 4, 10], [0.199, 5, 6], [0.199, 6, 6], [0.199, 7, 3], [0.2, 4, 10], [0.2, 5, 6], [0.2, 6, 6], [0.2, 7, 3], [0.201, 4, 10], [0.201, 5, 6], [0.201, 6, 6], [0.201, 7, 3], [0.202, 4, 6], [0.202, 5, 3], [0.202, 6, 6], [0.202, 7, 3], [0.203, 4, 6], [0.203, 5, 3], [0.203, 6, 6], [0.203, 7, 3], [0.20400000000000001, 4, 10], [0.20400000000000001, 5, 3], [0.20400000000000001, 6, 6], [0.20400000000000001, 7, 3], [0.20500000000000002, 4, 10], [0.20500000000000002, 5, 3], [0.20500000000000002, 6, 6], [0.20500000000000002, 7, 6], [0.20500000000000002, 8, 3], [0.20600000000000002, 4, 10], [0.20600000000000002, 5, 3], [0.20600000000000002, 6, 6], [0.20600000000000002, 7, 6], [0.20600000000000002, 8, 3], [0.20700000000000002, 4, 10], [0.20700000000000002, 5, 3], [0.20700000000000002, 6, 6], [0.20700000000000002, 7, 6], [0.20700000000000002, 8, 3], [0.20800000000000002, 4, 10], [0.20800000000000002, 5, 3], [0.20800000000000002, 6, 6], [0.20800000000000002, 7, 6], [0.20800000000000002, 8, 3], [0.20900000000000002, 4, 10], [0.20900000000000002, 5, 3], [0.20900000000000002, 6, 6], [0.20900000000000002, 7, 6], [0.20900000000000002, 8, 3], [0.21, 4, 10], [0.21, 5, 3], [0.21, 6, 6], [0.21, 7, 6], [0.21, 8, 3], [0.211, 4, 10], [0.211, 5, 3], [0.211, 6, 6], [0.211, 7, 6], [0.211, 8, 3], [0.212, 4, 10], [0.212, 5, 3], [0.212, 6, 3], [0.212, 7, 6], [0.212, 8, 3], [0.213, 4, 10], [0.213, 5, 3], [0.213, 6, 3], [0.213, 7, 6], [0.213, 8, 3], [0.214, 4, 6], [0.214, 5, 3], [0.214, 6, 3], [0.214, 7, 6], [0.214, 8, 3], [0.215, 4, 6], [0.215, 5, 3], [0.215, 6, 3], [0.215, 7, 6], [0.215, 8, 3], [0.216, 4, 6], [0.216, 5, 3], [0.216, 6, 3], [0.216, 7, 6], [0.216, 8, 3], [0.217, 4, 6], [0.217, 5, 3], [0.217, 6, 3], [0.217, 7, 6], [0.217, 8, 3], [0.218, 4, 6], [0.218, 5, 3], [0.218, 6, 3], [0.218, 7, 6], [0.218, 8, 3], [0.219, 4, 6], [0.219, 5, 3], [0.219, 6, 3], [0.219, 7, 6], [0.219, 8, 3], [0.22, 4, 6], [0.22, 5, 3], [0.22, 6, 3], [0.22, 7, 6], [0.22, 8, 3], [0.221, 4, 6], [0.221, 5, 3], [0.221, 6, 3], [0.221, 7, 6], [0.221, 8, 3], [0.222, 4, 6], [0.222, 5, 3], [0.222, 6, 3], [0.222, 7, 6], [0.222, 8, 3], [0.223, 4, 6], [0.223, 5, 3], [0.223, 6, 3], [0.223, 7, 6], [0.223, 8, 3], [0.224, 4, 6], [0.224, 5, 3], [0.224, 6, 3], [0.224, 7, 6], [0.224, 8, 3], [0.225, 4, 6], [0.225, 5, 3], [0.225, 6, 3], [0.225, 7, 6], [0.225, 8, 3], [0.226, 4, 6], [0.226, 5, 3], [0.226, 6, 3], [0.226, 7, 6], [0.226, 8, 3], [0.227, 4, 6], [0.227, 5, 3], [0.227, 6, 3], [0.227, 7, 6], [0.227, 8, 3], [0.228, 4, 6], [0.228, 5, 3], [0.228, 6, 3], [0.228, 7, 6], [0.228, 8, 3], [0.229, 3, 10], [0.229, 4, 3], [0.229, 7, 3], [0.229, 8, 3], [0.23, 3, 10], [0.23, 4, 3], [0.23, 7, 3], [0.23, 8, 3], [0.231, 3, 10], [0.231, 4, 3], [0.231, 7, 3], [0.231, 8, 3], [0.232, 3, 10], [0.232, 4, 3], [0.232, 7, 3], [0.232, 8, 6], [0.233, 3, 10], [0.233, 4, 3], [0.233, 7, 3], [0.233, 8, 6], [0.234, 3, 10], [0.234, 4, 3], [0.234, 7, 3], [0.234, 8, 6], [0.23500000000000001, 3, 10], [0.23500000000000001, 4, 3], [0.23500000000000001, 7, 3], [0.23500000000000001, 8, 6], [0.23600000000000002, 3, 10], [0.23600000000000002, 4, 3], [0.23600000000000002, 7, 3], [0.23600000000000002, 8, 6], [0.23700000000000002, 3, 10], [0.23700000000000002, 4, 3], [0.23700000000000002, 7, 3], [0.23700000000000002, 8, 6], [0.23800000000000002, 3, 10], [0.23800000000000002, 4, 3], [0.23800000000000002, 7, 3], [0.23800000000000002, 8, 6], [0.23900000000000002, 3, 10], [0.23900000000000002, 4, 3], [0.23900000000000002, 7, 3], [0.23900000000000002, 8, 6], [0.24000000000000002, 3, 10], [0.24000000000000002, 4, 3], [0.24000000000000002, 7, 3], [0.24000000000000002, 8, 6], [0.241, 3, 10], [0.241, 4, 3], [0.241, 7, 3], [0.241, 8, 6], [0.242, 4, 3], [0.242, 7, 3], [0.242, 8, 6], [0.243, 4, 3], [0.243, 7, 3], [0.243, 8, 6], [0.244, 4, 3], [0.244, 7, 3], [0.244, 8, 6], [0.245, 4, 3], [0.245, 7, 3], [0.245, 8, 6], [0.246, 4, 3], [0.246, 7, 3], [0.246, 8, 6], [0.247, 4, 3], [0.247, 7, 3], [0.247, 8, 6], [0.248, 4, 3], [0.248, 7, 3], [0.248, 8, 6], [0.249, 4, 3], [0.249, 7, 3], [0.249, 8, 6], [0.25, 4, 3], [0.25, 7, 3], [0.25, 8, 6], [0.251, 4, 3], [0.251, 7, 3], [0.251, 8, 6], [0.252, 4, 3], [0.252, 8, 6], [0.253, 4, 3], [0.253, 8, 6], [0.254, 4, 3], [0.254, 8, 6], [0.255, 4, 3], [0.255, 8, 6], [0.256, 4, 3], [0.256, 8, 6], [0.257, 4, 3], [0.257, 8, 6], [0.258, 4, 3], [0.258, 8, 6], [0.259, 4, 3], [0.259, 8, 6], [0.26, 4, 3], [0.26, 8, 6], [0.261, 4, 3], [0.261, 8, 6], [0.262, 4, 3], [0.262, 8, 6], [0.263, 4, 3], [0.263, 8, 6], [0.264, 4, 3], [0.264, 8, 6], [0.265, 4, 3], [0.265, 8, 6], [0.266, 4, 3], [0.266, 8, 3], [0.267, 4, 3], [0.267, 8, 3], [0.268, 4, 3], [0.268, 8, 3], [0.269, 4, 3], [0.269, 8, 3], [0.27, 4, 3], [0.27, 8, 3], [0.271, 4, 3], [0.271, 8, 3], [0.272, 4, 3], [0.272, 5, 3], [0.272, 8, 3], [0.273, 4, 3], [0.273, 5, 3], [0.273, 8, 3], [0.274, 4, 3], [0.274, 5, 3], [0.274, 8, 3], [0.275, 4, 3], [0.275, 5, 3], [0.275, 8, 3], [0.276, 4, 3], [0.276, 5, 3], [0.276, 8, 3], [0.277, 4, 3], [0.277, 5, 3], [0.278, 4, 3], [0.278, 5, 3], [0.279, 4, 3], [0.279, 5, 3], [0.28, 4, 3], [0.28, 5, 3], [0.281, 4, 3], [0.281, 5, 3], [0.28200000000000003, 4, 3], [0.28200000000000003, 5, 3], [0.28300000000000003, 3, 10], [0.28300000000000003, 4, 3], [0.28300000000000003, 5, 3], [0.28400000000000003, 3, 10], [0.28400000000000003, 4, 3], [0.28400000000000003, 5, 3], [0.28500000000000003, 3, 10], [0.28500000000000003, 4, 3], [0.28500000000000003, 5, 3], [0.28600000000000003, 3, 10], [0.28600000000000003, 4, 3], [0.28600000000000003, 5, 3], [0.28700000000000003, 3, 10], [0.28700000000000003, 4, 3], [0.28700000000000003, 5, 3], [0.28800000000000003, 3, 10], [0.28800000000000003, 4, 3], [0.28800000000000003, 5, 3], [0.28900000000000003, 3, 10], [0.28900000000000003, 4, 3], [0.28900000000000003, 5, 3], [0.29, 3, 10], [0.29, 4, 3], [0.29, 5, 3], [0.291, 3, 10], [0.291, 4, 3], [0.291, 5, 3], [0.292, 3, 10], [0.292, 4, 3], [0.292, 5, 3], [0.293, 3, 10], [0.293, 4, 3], [0.293, 5, 3], [0.294, 3, 10], [0.294, 4, 3], [0.294, 5, 3], [0.295, 3, 10], [0.295, 4, 3], [0.295, 5, 3], [0.296, 3, 10], [0.296, 4, 3], [0.296, 5, 3], [0.297, 3, 10], [0.297, 4, 3], [0.297, 5, 3], [0.298, 3, 10], [0.298, 4, 3], [0.298, 5, 3], [0.299, 3, 10], [0.299, 4, 3], [0.299, 5, 3], [0.3, 3, 10], [0.3, 4, 3], [0.3, 5, 3], [0.301, 3, 10], [0.301, 4, 3], [0.301, 5, 3], [0.302, 3, 10], [0.302, 4, 3], [0.302, 5, 3], [0.303, 3, 10], [0.303, 4, 3], [0.303, 5, 3], [0.304, 3, 10], [0.304, 4, 3], [0.304, 5, 3], [0.305, 3, 10], [0.305, 4, 3], [0.305, 5, 3], [0.306, 3, 10], [0.306, 4, 3], [0.306, 5, 3], [0.307, 3, 10], [0.307, 4, 3], [0.307, 5, 3], [0.308, 3, 10], [0.308, 4, 3], [0.308, 5, 3], [0.309, 3, 10], [0.309, 4, 3], [0.309, 5, 3], [0.31, 3, 10], [0.31, 4, 3], [0.31, 5, 3], [0.311, 3, 10], [0.311, 4, 3], [0.311, 5, 3], [0.312, 3, 10], [0.312, 4, 3], [0.312, 5, 3], [0.313, 3, 10], [0.313, 4, 3], [0.313, 5, 3], [0.314, 3, 10], [0.314, 4, 3], [0.314, 5, 3], [0.315, 3, 10], [0.315, 4, 3], [0.315, 5, 3], [0.316, 3, 10], [0.316, 4, 3], [0.316, 5, 3], [0.317, 3, 10], [0.317, 4, 3], [0.317, 5, 3], [0.318, 3, 10], [0.318, 4, 3], [0.318, 5, 3], [0.319, 3, 10], [0.319, 4, 3], [0.319, 5, 3], [0.32, 3, 10], [0.32, 4, 3], [0.32, 5, 3], [0.321, 3, 10], [0.321, 4, 3], [0.321, 5, 3], [0.322, 3, 10], [0.322, 4, 3], [0.322, 5, 3], [0.323, 3, 10], [0.323, 4, 3], [0.323, 5, 3], [0.324, 3, 10], [0.324, 4, 3], [0.324, 5, 3], [0.325, 3, 10], [0.325, 4, 3], [0.325, 5, 3], [0.326, 4, 3], [0.326, 5, 3], [0.327, 4, 3], [0.327, 5, 3], [0.328, 4, 3], [0.328, 5, 3], [0.329, 4, 3], [0.329, 5, 3], [0.33, 4, 3], [0.33, 5, 3], [0.331, 3, 10], [0.332, 3, 10], [0.333, 3, 10], [0.334, 3, 10], [0.335, 3, 10], [0.336, 3, 10], [0.337, 3, 10], [0.338, 3, 10], [0.338, 6, 3], [0.339, 3, 10], [0.339, 6, 3], [0.34, 3, 10], [0.34, 6, 3], [0.341, 3, 10], [0.341, 6, 3], [0.342, 3, 10], [0.342, 6, 3], [0.343, 3, 10], [0.343, 6, 3], [0.34400000000000003, 3, 10], [0.34400000000000003, 6, 3], [0.34500000000000003, 3, 10], [0.34600000000000003, 3, 10], [0.34700000000000003, 3, 10], [0.34800000000000003, 3, 10], [0.34900000000000003, 3, 10], [0.35000000000000003, 3, 10], [0.35100000000000003, 3, 10], [0.35200000000000004, 3, 10], [0.353, 3, 10], [0.354, 3, 10], [0.355, 3, 10], [0.356, 3, 10], [0.357, 3, 10], [0.358, 3, 10], [0.359, 3, 10], [0.36, 3, 10], [0.361, 3, 10], [0.362, 3, 10], [0.363, 3, 10], [0.364, 3, 10], [0.365, 3, 6], [0.366, 3, 6], [0.367, 3, 6], [0.368, 3, 6], [0.369, 3, 6], [0.37, 3, 6], [0.371, 3, 6], [0.372, 3, 6], [0.373, 3, 6], [0.374, 3, 6], [0.375, 3, 6], [0.376, 3, 6], [0.377, 3, 6], [0.378, 3, 10], [0.379, 3, 10], [0.38, 3, 10], [0.381, 3, 10], [0.382, 3, 10], [0.383, 3, 10], [0.384, 3, 10], [0.385, 3, 10], [0.386, 3, 10], [0.387, 3, 10], [0.388, 3, 10], [0.389, 3, 10], [0.39, 3, 6], [0.391, 3, 6], [0.392, 3, 6], [0.393, 3, 6], [0.394, 3, 6], [0.395, 3, 6], [0.396, 3, 6], [0.397, 3, 6], [0.398, 3, 6], [0.399, 3, 6], [0.4, 3, 6], [0.401, 3, 6], [0.402, 3, 6], [0.403, 3, 6], [0.404, 3, 6], [0.405, 3, 6], [0.406, 3, 6], [0.40700000000000003, 3, 6], [0.40800000000000003, 3, 6], [0.40900000000000003, 3, 6], [0.41000000000000003, 3, 6], [0.41100000000000003, 3, 6], [0.41200000000000003, 3, 6], [0.41300000000000003, 3, 6], [0.41400000000000003, 3, 6], [0.41500000000000004, 3, 6], [0.41600000000000004, 3, 6], [0.41700000000000004, 3, 6], [0.418, 3, 6], [0.419, 3, 6], [0.42, 3, 6], [0.421, 3, 6], [0.422, 3, 6], [0.423, 3, 6], [0.424, 3, 6], [0.425, 3, 6], [0.426, 3, 6], [0.427, 3, 6], [0.428, 3, 6], [0.429, 3, 6], [0.43, 3, 6], [0.431, 3, 6], [0.432, 3, 6], [0.433, 3, 6], [0.434, 3, 6], [0.435, 3, 6], [0.436, 3, 6], [0.437, 3, 6], [0.438, 3, 6], [0.439, 3, 6], [0.44, 3, 6], [0.441, 3, 6], [0.442, 3, 6], [0.443, 3, 6], [0.444, 3, 6], [0.445, 3, 6], [0.446, 3, 6], [0.447, 3, 6], [0.448, 3, 6], [0.449, 3, 6], [0.45, 3, 6], [0.451, 3, 6], [0.452, 3, 6], [0.453, 3, 6], [0.454, 3, 6], [0.455, 3, 6], [0.456, 3, 6], [0.457, 3, 6], [0.458, 3, 6], [0.459, 3, 6], [0.46, 3, 6], [0.461, 3, 6], [0.462, 3, 6], [0.463, 3, 6], [0.464, 3, 6], [0.465, 3, 6], [0.466, 3, 6], [0.467, 3, 6], [0.468, 3, 6], [0.46900000000000003, 3, 6], [0.47000000000000003, 3, 6], [0.47100000000000003, 3, 6], [0.47200000000000003, 3, 6], [0.47300000000000003, 3, 6], [0.47400000000000003, 3, 6], [0.47500000000000003, 3, 6], [0.47600000000000003, 3, 6], [0.47700000000000004, 3, 6], [0.47800000000000004, 3, 10], [0.47900000000000004, 3, 10], [0.48000000000000004, 3, 10], [0.481, 3, 10], [0.482, 3, 10], [0.483, 3, 10], [0.484, 3, 10], [0.485, 3, 10], [0.486, 3, 10], [0.487, 3, 10], [0.488, 3, 10], [0.489, 3, 10], [0.49, 3, 10], [0.491, 3, 10], [0.492, 3, 10], [0.492, 4, 3], [0.493, 3, 10], [0.493, 4, 3], [0.494, 3, 10], [0.494, 4, 3], [0.495, 3, 10], [0.495, 4, 3], [0.496, 3, 10], [0.496, 4, 3], [0.497, 3, 10], [0.497, 4, 3], [0.498, 3, 10], [0.498, 4, 3], [0.499, 3, 10], [0.499, 4, 3]]\n",
      "[Counter({0: 5928, -1: 812, 2: 24, 1: 16, 3: 10}), Counter({0: 5963, -1: 788, 1: 26, 2: 13}), Counter({0: 6085, -1: 690, 1: 8, 2: 7}), Counter({0: 6013, -1: 721, 1: 28, 2: 20, 3: 8}), Counter({0: 6072, -1: 688, 1: 20, 2: 10}), Counter({0: 6148, -1: 607, 1: 11, 3: 9, 2: 8, 4: 7}), Counter({0: 6170, -1: 577, 4: 13, 2: 12, 1: 11, 3: 7}), Counter({0: 6157, -1: 599, 3: 10, 2: 9, 1: 9, 4: 6}), Counter({0: 6202, -1: 540, 2: 14, 4: 13, 3: 12, 1: 9}), Counter({0: 6245, -1: 472, 2: 29, 1: 24, 3: 11, 4: 9}), Counter({0: 6372, -1: 379, 4: 10, 1: 10, 3: 10, 2: 9}), Counter({0: 6356, -1: 395, 1: 12, 4: 10, 2: 9, 3: 8}), Counter({0: 6369, -1: 381, 1: 12, 4: 10, 3: 9, 2: 9}), Counter({0: 6376, -1: 364, 1: 22, 3: 11, 2: 10, 4: 7}), Counter({0: 6334, -1: 390, 1: 35, 2: 12, 4: 10, 3: 9}), Counter({0: 6416, -1: 334, 3: 12, 2: 11, 1: 10, 4: 7}), Counter({0: 6382, -1: 364, 1: 16, 4: 10, 2: 10, 3: 8}), Counter({0: 6339, -1: 385, 1: 34, 2: 14, 4: 10, 3: 8}), Counter({0: 6447, -1: 326, 1: 10, 2: 7}), Counter({0: 6446, -1: 327, 1: 10, 2: 7}), Counter({0: 6391, -1: 342, 1: 24, 4: 13, 3: 10, 2: 10}), Counter({0: 6455, -1: 312, 1: 10, 2: 7, 3: 6}), Counter({0: 6449, -1: 324, 1: 10, 2: 7}), Counter({0: 6407, -1: 336, 1: 24, 2: 13, 3: 10}), Counter({0: 6455, -1: 318, 1: 10, 2: 7}), Counter({0: 6440, -1: 329, 1: 11, 2: 10}), Counter({0: 6413, -1: 330, 1: 24, 2: 13, 3: 10}), Counter({0: 6462, -1: 302, 1: 10, 2: 9, 3: 7}), Counter({0: 6446, -1: 323, 1: 11, 2: 10}), Counter({0: 6444, -1: 324, 1: 12, 2: 10}), Counter({0: 6467, -1: 292, 1: 10, 2: 9, 3: 7, 4: 5}), Counter({0: 6450, -1: 319, 1: 11, 2: 10}), Counter({0: 6479, -1: 287, 1: 10, 2: 7, 3: 7}), Counter({0: 6465, -1: 308, 1: 10, 2: 7}), Counter({0: 6488, -1: 278, 1: 10, 3: 7, 2: 7}), Counter({0: 6468, -1: 305, 1: 10, 2: 7}), Counter({0: 6498, -1: 255, 3: 13, 2: 10, 4: 8, 1: 6}), Counter({0: 6497, -1: 269, 1: 10, 3: 7, 2: 7}), Counter({0: 6482, -1: 290, 1: 10, 2: 8}), Counter({0: 6470, -1: 303, 1: 10, 2: 7}), Counter({0: 6498, -1: 255, 3: 13, 2: 10, 4: 8, 1: 6}), Counter({0: 6498, -1: 266, 1: 10, 2: 9, 3: 7}), Counter({0: 6486, -1: 285, 1: 10, 2: 9}), Counter({0: 6482, -1: 289, 1: 10, 2: 9}), Counter({0: 6512, -1: 243, 4: 13, 1: 8, 3: 8, 2: 6}), Counter({0: 6501, -1: 263, 1: 10, 2: 9, 3: 7}), Counter({0: 6489, -1: 282, 1: 11, 2: 8}), Counter({0: 6486, -1: 285, 1: 11, 2: 8}), Counter({0: 6517, -1: 238, 4: 13, 1: 8, 3: 8, 2: 6}), Counter({0: 6513, -1: 254, 2: 9, 1: 7, 3: 7}), Counter({0: 6489, -1: 274, 1: 11, 3: 8, 2: 8}), Counter({0: 6486, -1: 285, 1: 11, 2: 8}), Counter({0: 6514, -1: 253, 2: 9, 1: 7, 3: 7}), Counter({0: 6490, -1: 273, 1: 11, 3: 8, 2: 8}), Counter({0: 6489, -1: 282, 1: 11, 2: 8}), Counter({0: 6516, -1: 240, 4: 13, 1: 7, 2: 7, 3: 7}), Counter({0: 6492, -1: 267, 1: 19, 2: 12}), Counter({0: 6491, -1: 280, 1: 11, 2: 8}), Counter({0: 6496, -1: 255, 1: 19, 3: 12, 2: 8}), Counter({0: 6537, -1: 214, 2: 13, 4: 10, 1: 8, 3: 8}), Counter({0: 6520, -1: 249, 2: 13, 1: 8}), Counter({0: 6496, -1: 266, 1: 19, 2: 9}), Counter({0: 6537, -1: 214, 2: 13, 4: 10, 1: 8, 3: 8}), Counter({0: 6521, -1: 248, 2: 13, 1: 8}), Counter({0: 6499, -1: 263, 1: 19, 2: 9}), Counter({0: 6540, -1: 202, 2: 23, 1: 11, 3: 9, 4: 5}), Counter({0: 6539, -1: 211, 2: 23, 3: 9, 1: 8}), Counter({0: 6527, -1: 217, 4: 23, 3: 9, 1: 7, 2: 7}), Counter({0: 6525, -1: 236, 3: 13, 1: 8, 2: 8}), Counter({0: 6541, -1: 199, 2: 25, 1: 11, 3: 9, 4: 5}), Counter({0: 6540, -1: 210, 2: 23, 3: 9, 1: 8}), Counter({0: 6529, -1: 215, 4: 23, 2: 9, 1: 7, 3: 7}), Counter({0: 6527, -1: 232, 2: 22, 1: 9}), Counter({0: 6522, -1: 248, 2: 11, 1: 9}), Counter({0: 6542, -1: 198, 2: 25, 1: 11, 3: 9, 4: 5}), Counter({0: 6541, -1: 206, 2: 23, 1: 11, 3: 9}), Counter({0: 6531, -1: 213, 3: 23, 2: 9, 1: 7, 4: 7}), Counter({0: 6528, -1: 231, 2: 22, 1: 9}), Counter({0: 6522, -1: 243, 2: 16, 1: 9}), Counter({0: 6544, -1: 203, 2: 23, 1: 11, 3: 9}), Counter({0: 6534, -1: 210, 3: 23, 2: 9, 1: 7, 4: 7}), Counter({0: 6531, -1: 228, 2: 22, 1: 9}), Counter({0: 6531, -1: 234, 2: 16, 1: 9}), Counter({0: 6544, -1: 197, 1: 34, 2: 9, 3: 6}), Counter({0: 6535, -1: 208, 1: 31, 2: 9, 3: 7}), Counter({0: 6532, -1: 219, 3: 22, 2: 9, 1: 8}), Counter({0: 6531, -1: 232, 2: 18, 1: 9}), Counter({0: 6548, -1: 192, 1: 35, 2: 9, 3: 6}), Counter({0: 6548, -1: 204, 1: 31, 2: 7}), Counter({0: 6538, -1: 213, 3: 20, 1: 10, 2: 9}), Counter({0: 6535, -1: 228, 2: 18, 1: 9}), Counter({0: 6588, -1: 177, 1: 10, 2: 6, 3: 5, 4: 4}), Counter({0: 6585, -1: 189, 1: 10, 2: 6}), Counter({0: 6551, -1: 196, 1: 34, 2: 9}), Counter({0: 6550, -1: 210, 2: 20, 1: 10}), Counter({0: 6540, -1: 223, 2: 18, 1: 9}), Counter({0: 6594, -1: 175, 1: 10, 2: 6, 3: 5}), Counter({0: 6587, -1: 187, 1: 10, 2: 6}), Counter({0: 6553, -1: 194, 1: 34, 2: 9}), Counter({0: 6552, -1: 206, 2: 20, 1: 12}), Counter({0: 6542, -1: 207, 2: 22, 1: 10, 3: 9}), Counter({0: 6596, -1: 173, 1: 10, 2: 6, 3: 5}), Counter({0: 6590, -1: 184, 1: 10, 2: 6}), Counter({0: 6555, -1: 192, 1: 34, 2: 9}), Counter({0: 6554, -1: 204, 2: 20, 1: 12}), Counter({0: 6544, -1: 207, 2: 22, 1: 10, 3: 7}), Counter({0: 6596, -1: 172, 1: 10, 2: 7, 3: 5}), Counter({0: 6592, -1: 181, 1: 10, 2: 7}), Counter({0: 6556, -1: 192, 1: 33, 2: 9}), Counter({0: 6555, -1: 204, 2: 20, 1: 11}), Counter({0: 6548, -1: 204, 2: 22, 1: 9, 3: 7}), Counter({0: 6596, -1: 172, 1: 10, 2: 7, 3: 5}), Counter({0: 6593, -1: 180, 1: 10, 2: 7}), Counter({0: 6557, -1: 202, 2: 20, 1: 11}), Counter({0: 6549, -1: 203, 3: 22, 1: 9, 2: 7}), Counter({0: 6598, -1: 170, 1: 10, 2: 7, 3: 5}), Counter({0: 6593, -1: 180, 1: 10, 2: 7}), Counter({0: 6558, -1: 199, 2: 22, 1: 11}), Counter({0: 6551, -1: 201, 3: 22, 1: 9, 2: 7}), Counter({0: 6598, -1: 170, 1: 10, 2: 7, 3: 5}), Counter({0: 6594, -1: 179, 1: 10, 2: 7}), Counter({0: 6551, -1: 201, 3: 19, 1: 12, 2: 7}), Counter({0: 6599, -1: 169, 1: 10, 2: 7, 3: 5}), Counter({0: 6597, -1: 176, 1: 10, 2: 7}), Counter({0: 6552, -1: 198, 3: 22, 1: 12, 2: 6}), Counter({0: 6600, -1: 168, 1: 10, 2: 7, 3: 5}), Counter({0: 6598, -1: 175, 1: 10, 2: 7}), Counter({0: 6558, -1: 198, 2: 22, 1: 12}), Counter({0: 6600, -1: 168, 1: 10, 2: 7, 3: 5}), Counter({0: 6599, -1: 174, 1: 10, 2: 7}), Counter({0: 6604, -1: 151, 2: 13, 3: 10, 1: 7, 4: 5}), Counter({0: 6602, -1: 161, 1: 10, 2: 7, 3: 5, 4: 5}), Counter({0: 6601, -1: 172, 1: 10, 2: 7}), Counter({0: 6605, -1: 150, 2: 13, 3: 10, 1: 7, 4: 5}), Counter({0: 6602, -1: 160, 1: 10, 2: 8, 3: 5, 4: 5}), Counter({0: 6602, -1: 170, 1: 10, 2: 8}), Counter({0: 6598, -1: 175, 1: 10, 2: 7}), Counter({0: 6605, -1: 150, 2: 13, 3: 10, 1: 7, 4: 5}), Counter({0: 6602, -1: 160, 1: 10, 2: 8, 3: 5, 4: 5}), Counter({0: 6602, -1: 170, 1: 10, 2: 8}), Counter({0: 6598, -1: 175, 1: 10, 2: 7}), Counter({0: 6605, -1: 150, 2: 13, 3: 10, 1: 7, 4: 5}), Counter({0: 6602, -1: 170, 1: 10, 2: 8}), Counter({0: 6598, -1: 175, 1: 10, 2: 7}), Counter({0: 6609, -1: 146, 2: 13, 3: 10, 1: 7, 4: 5}), Counter({0: 6604, -1: 168, 1: 10, 2: 8}), Counter({0: 6600, -1: 173, 1: 10, 2: 7}), Counter({0: 6610, -1: 145, 2: 13, 3: 10, 1: 7, 4: 5}), Counter({0: 6605, -1: 152, 2: 13, 1: 10, 4: 5, 3: 5}), Counter({0: 6604, -1: 163, 1: 10, 2: 8, 3: 5}), Counter({0: 6600, -1: 173, 1: 10, 2: 7}), Counter({0: 6611, -1: 144, 2: 13, 3: 10, 1: 7, 4: 5}), Counter({0: 6607, -1: 150, 2: 13, 1: 10, 4: 5, 3: 5}), Counter({0: 6604, -1: 163, 1: 10, 2: 8, 3: 5}), Counter({0: 6600, -1: 173, 1: 10, 2: 7}), Counter({0: 6611, -1: 144, 2: 13, 3: 10, 1: 7, 4: 5}), Counter({0: 6607, -1: 150, 2: 13, 1: 10, 4: 5, 3: 5}), Counter({0: 6604, -1: 163, 1: 10, 2: 8, 3: 5}), Counter({0: 6600, -1: 173, 1: 10, 2: 7}), Counter({0: 6611, -1: 144, 2: 13, 3: 10, 1: 7, 4: 5}), Counter({0: 6607, -1: 150, 2: 13, 1: 10, 4: 5, 3: 5}), Counter({0: 6604, -1: 163, 1: 10, 2: 8, 3: 5}), Counter({0: 6602, -1: 171, 1: 10, 2: 7}), Counter({0: 6611, -1: 144, 2: 13, 3: 10, 1: 7, 4: 5}), Counter({0: 6607, -1: 150, 2: 13, 1: 10, 4: 5, 3: 5}), Counter({0: 6604, -1: 163, 2: 13, 1: 10}), Counter({0: 6602, -1: 169, 1: 10, 2: 9}), Counter({0: 6602, -1: 170, 1: 10, 2: 8}), Counter({0: 6611, -1: 144, 2: 23, 1: 7, 3: 5}), Counter({0: 6607, -1: 150, 1: 23, 3: 5, 2: 5}), Counter({0: 6602, -1: 169, 1: 11, 2: 8}), Counter({0: 6602, -1: 170, 1: 10, 2: 8}), Counter({0: 6611, -1: 144, 2: 23, 1: 7, 3: 5}), Counter({0: 6607, -1: 150, 1: 23, 3: 5, 2: 5}), Counter({0: 6603, -1: 168, 1: 11, 2: 8}), Counter({0: 6602, -1: 170, 1: 10, 2: 8}), Counter({0: 6612, -1: 143, 2: 23, 1: 7, 3: 5}), Counter({0: 6608, -1: 149, 1: 23, 3: 5, 2: 5}), Counter({0: 6604, -1: 167, 1: 11, 2: 8}), Counter({0: 6603, -1: 169, 1: 10, 2: 8}), Counter({0: 6613, -1: 138, 2: 23, 1: 7, 3: 5, 4: 4}), Counter({0: 6610, -1: 147, 1: 23, 3: 5, 2: 5}), Counter({0: 6605, -1: 166, 1: 11, 2: 8}), Counter({0: 6604, -1: 168, 1: 10, 2: 8}), Counter({0: 6613, -1: 138, 2: 23, 1: 7, 3: 5, 4: 4}), Counter({0: 6610, -1: 147, 1: 23, 3: 5, 2: 5}), Counter({0: 6605, -1: 166, 1: 11, 2: 8}), Counter({0: 6604, -1: 168, 1: 10, 2: 8}), Counter({0: 6613, -1: 138, 2: 23, 1: 7, 3: 5, 4: 4}), Counter({0: 6610, -1: 147, 1: 23, 3: 5, 2: 5}), Counter({0: 6605, -1: 166, 1: 11, 2: 8}), Counter({0: 6605, -1: 167, 1: 10, 2: 8}), Counter({0: 6615, -1: 136, 2: 23, 1: 7, 3: 5, 4: 4}), Counter({0: 6612, -1: 145, 1: 23, 3: 5, 2: 5}), Counter({0: 6607, -1: 164, 1: 10, 2: 9}), Counter({0: 6615, -1: 136, 2: 23, 1: 7, 3: 5, 4: 4}), Counter({0: 6613, -1: 144, 1: 23, 3: 5, 2: 5}), Counter({0: 6608, -1: 163, 1: 10, 2: 9}), Counter({0: 6615, -1: 136, 2: 23, 1: 7, 3: 5, 4: 4}), Counter({0: 6613, -1: 143, 1: 23, 3: 6, 2: 5}), Counter({0: 6610, -1: 151, 1: 23, 2: 6}), Counter({0: 6608, -1: 159, 2: 13, 1: 10}), Counter({0: 6615, -1: 136, 2: 23, 1: 7, 3: 5, 4: 4}), Counter({0: 6613, -1: 142, 1: 23, 2: 7, 3: 5}), Counter({0: 6611, -1: 150, 1: 23, 2: 6}), Counter({0: 6608, -1: 159, 2: 13, 1: 10}), Counter({0: 6615, -1: 136, 2: 23, 1: 7, 3: 5, 4: 4}), Counter({0: 6614, -1: 141, 1: 23, 2: 7, 3: 5}), Counter({0: 6613, -1: 148, 1: 23, 2: 6}), Counter({0: 6608, -1: 159, 2: 13, 1: 10}), Counter({0: 6615, -1: 135, 2: 23, 1: 7, 3: 5, 4: 5}), Counter({0: 6614, -1: 136, 1: 23, 2: 7, 3: 5, 4: 5}), Counter({0: 6613, -1: 148, 1: 23, 2: 6}), Counter({0: 6608, -1: 159, 2: 13, 1: 10}), Counter({0: 6608, -1: 163, 1: 10, 2: 9}), Counter({0: 6615, -1: 135, 2: 23, 1: 7, 3: 5, 4: 5}), Counter({0: 6615, -1: 135, 1: 23, 2: 7, 3: 5, 4: 5}), Counter({0: 6613, -1: 148, 1: 23, 2: 6}), Counter({0: 6609, -1: 158, 2: 13, 1: 10}), Counter({0: 6608, -1: 163, 1: 10, 2: 9}), Counter({0: 6615, -1: 135, 2: 23, 1: 7, 3: 5, 4: 5}), Counter({0: 6615, -1: 135, 1: 23, 2: 7, 3: 5, 4: 5}), Counter({0: 6613, -1: 148, 1: 23, 2: 6}), Counter({0: 6609, -1: 158, 2: 13, 1: 10}), Counter({0: 6609, -1: 162, 1: 10, 2: 9}), Counter({0: 6616, -1: 134, 2: 23, 1: 7, 3: 5, 4: 5}), Counter({0: 6616, -1: 134, 1: 23, 2: 7, 3: 5, 4: 5}), Counter({0: 6614, -1: 147, 1: 23, 2: 6}), Counter({0: 6610, -1: 157, 2: 13, 1: 10}), Counter({0: 6610, -1: 161, 1: 10, 2: 9}), Counter({0: 6616, -1: 134, 2: 23, 1: 7, 3: 5, 4: 5}), Counter({0: 6616, -1: 134, 1: 23, 2: 7, 3: 5, 4: 5}), Counter({0: 6615, -1: 146, 1: 23, 2: 6}), Counter({0: 6610, -1: 161, 1: 11, 2: 8}), Counter({0: 6616, -1: 134, 2: 23, 1: 7, 3: 5, 4: 5}), Counter({0: 6616, -1: 134, 1: 23, 2: 7, 3: 5, 4: 5}), Counter({0: 6615, -1: 146, 1: 23, 2: 6}), Counter({0: 6610, -1: 161, 1: 11, 2: 8}), Counter({0: 6616, -1: 133, 2: 23, 1: 7, 4: 6, 3: 5}), Counter({0: 6616, -1: 134, 1: 23, 2: 7, 3: 5, 4: 5}), Counter({0: 6615, -1: 146, 1: 23, 2: 6}), Counter({0: 6610, -1: 157, 2: 12, 1: 11}), Counter({0: 6639, -1: 133, 1: 7, 3: 6, 2: 5}), Counter({0: 6639, -1: 134, 1: 7, 2: 5, 3: 5}), Counter({0: 6611, -1: 157, 2: 12, 1: 10}), Counter({0: 6639, -1: 133, 1: 7, 3: 6, 2: 5}), Counter({0: 6639, -1: 134, 2: 7, 1: 5, 3: 5}), Counter({0: 6611, -1: 157, 2: 12, 1: 10}), Counter({0: 6639, -1: 133, 1: 7, 3: 6, 2: 5}), Counter({0: 6639, -1: 134, 2: 7, 1: 5, 3: 5}), Counter({0: 6612, -1: 156, 2: 12, 1: 10}), Counter({0: 6639, -1: 133, 1: 7, 3: 6, 2: 5}), Counter({0: 6639, -1: 134, 2: 7, 1: 5, 3: 5}), Counter({0: 6639, -1: 133, 1: 7, 3: 6, 2: 5}), Counter({0: 6639, -1: 134, 2: 7, 1: 5, 3: 5}), Counter({0: 6640, -1: 133, 2: 7, 1: 5, 3: 5}), Counter({0: 6640, -1: 133, 2: 7, 1: 5, 3: 5}), Counter({0: 6640, -1: 133, 2: 7, 1: 5, 3: 5}), Counter({0: 6640, -1: 133, 2: 7, 1: 5, 3: 5}), Counter({0: 6642, -1: 126, 2: 7, 3: 5, 1: 5, 4: 5}), Counter({0: 6649, -1: 120, 1: 6, 3: 6, 2: 5, 4: 4}), Counter({0: 6642, -1: 126, 1: 7, 3: 5, 2: 5, 4: 5}), Counter({0: 6649, -1: 118, 1: 6, 4: 6, 3: 6, 2: 5}), Counter({0: 6642, -1: 126, 1: 7, 3: 5, 2: 5, 4: 5}), Counter({0: 6650, -1: 117, 1: 6, 4: 6, 3: 6, 2: 5}), Counter({0: 6650, -1: 117, 1: 6, 4: 6, 3: 6, 2: 5}), Counter({0: 6650, -1: 117, 1: 6, 4: 6, 3: 6, 2: 5}), Counter({0: 6650, -1: 117, 1: 6, 4: 6, 3: 6, 2: 5}), Counter({0: 6650, -1: 117, 1: 6, 4: 6, 3: 6, 2: 5}), Counter({0: 6650, -1: 117, 1: 6, 4: 6, 3: 6, 2: 5}), Counter({0: 6650, -1: 119, 2: 6, 3: 5, 1: 5, 4: 5}), Counter({0: 6650, -1: 117, 1: 6, 4: 6, 3: 6, 2: 5}), Counter({0: 6650, -1: 119, 2: 6, 3: 5, 1: 5, 4: 5}), Counter({0: 6650, -1: 117, 1: 6, 4: 6, 3: 6, 2: 5}), Counter({0: 6650, -1: 119, 2: 6, 3: 5, 1: 5, 4: 5}), Counter({0: 6650, -1: 117, 1: 6, 4: 6, 3: 6, 2: 5}), Counter({0: 6650, -1: 119, 2: 6, 3: 5, 1: 5, 4: 5}), Counter({0: 6650, -1: 117, 1: 6, 4: 6, 3: 6, 2: 5}), Counter({0: 6650, -1: 119, 2: 6, 3: 5, 1: 5, 4: 5}), Counter({0: 6650, -1: 117, 1: 6, 4: 6, 3: 6, 2: 5}), Counter({0: 6650, -1: 119, 2: 6, 3: 5, 1: 5, 4: 5}), Counter({0: 6650, -1: 117, 1: 6, 4: 6, 3: 6, 2: 5}), Counter({0: 6650, -1: 119, 2: 6, 3: 5, 1: 5, 4: 5}), Counter({0: 6650, -1: 117, 1: 6, 2: 6, 4: 6, 3: 5}), Counter({0: 6650, -1: 119, 2: 6, 3: 5, 1: 5, 4: 5}), Counter({0: 6650, -1: 117, 1: 6, 2: 6, 4: 6, 3: 5}), Counter({0: 6650, -1: 118, 2: 6, 4: 6, 3: 5, 1: 5}), Counter({0: 6650, -1: 117, 1: 6, 2: 6, 4: 6, 3: 5}), Counter({0: 6650, -1: 118, 2: 6, 4: 6, 3: 5, 1: 5}), Counter({0: 6650, -1: 117, 1: 6, 2: 6, 4: 6, 3: 5}), Counter({0: 6650, -1: 118, 2: 6, 4: 6, 3: 5, 1: 5}), Counter({0: 6650, -1: 117, 1: 6, 2: 6, 4: 6, 3: 5}), Counter({0: 6650, -1: 118, 2: 6, 4: 6, 3: 5, 1: 5}), Counter({0: 6650, -1: 116, 1: 7, 2: 6, 4: 6, 3: 5}), Counter({0: 6650, -1: 117, 4: 6, 3: 6, 2: 6, 1: 5}), Counter({0: 6651, -1: 115, 1: 7, 2: 6, 4: 6, 3: 5}), Counter({0: 6650, -1: 117, 4: 6, 1: 6, 3: 6, 2: 5}), Counter({0: 6652, -1: 114, 1: 7, 2: 6, 4: 6, 3: 5}), Counter({0: 6650, -1: 117, 4: 6, 1: 6, 3: 6, 2: 5}), Counter({0: 6650, -1: 117, 4: 6, 1: 6, 3: 6, 2: 5}), Counter({0: 6651, -1: 116, 1: 6, 2: 6, 4: 6, 3: 5}), Counter({0: 6651, -1: 116, 1: 6, 2: 6, 4: 6, 3: 5}), Counter({0: 6651, -1: 116, 1: 6, 2: 6, 4: 6, 3: 5}), Counter({0: 6658, -1: 110, 1: 7, 3: 6, 2: 5, 4: 4}), Counter({0: 6657, -1: 116, 1: 6, 3: 6, 2: 5}), Counter({0: 6658, -1: 110, 1: 7, 3: 6, 2: 5, 4: 4}), Counter({0: 6657, -1: 116, 1: 6, 3: 6, 2: 5}), Counter({0: 6658, -1: 110, 1: 7, 3: 6, 2: 5, 4: 4}), Counter({0: 6657, -1: 116, 1: 6, 3: 6, 2: 5}), Counter({0: 6658, -1: 110, 1: 7, 3: 6, 2: 5, 4: 4}), Counter({0: 6657, -1: 116, 1: 6, 3: 6, 2: 5}), Counter({0: 6658, -1: 110, 1: 7, 3: 6, 2: 5, 4: 4}), Counter({0: 6657, -1: 116, 1: 6, 3: 6, 2: 5}), Counter({0: 6657, -1: 116, 1: 6, 3: 6, 2: 5}), Counter({0: 6657, -1: 116, 1: 6, 3: 6, 2: 5}), Counter({0: 6657, -1: 115, 1: 6, 2: 6, 3: 6}), Counter({0: 6657, -1: 121, 1: 6, 2: 6}), Counter({0: 6657, -1: 115, 1: 6, 2: 6, 3: 6}), Counter({0: 6657, -1: 121, 1: 6, 2: 6}), Counter({0: 6659, -1: 113, 1: 6, 2: 6, 3: 6}), Counter({0: 6658, -1: 120, 1: 6, 2: 6}), Counter({0: 6659, -1: 113, 1: 6, 2: 6, 3: 6}), Counter({0: 6659, -1: 119, 1: 6, 2: 6}), Counter({0: 6659, -1: 113, 1: 6, 2: 6, 3: 6}), Counter({0: 6659, -1: 119, 1: 6, 2: 6}), Counter({0: 6660, -1: 112, 1: 6, 2: 6, 3: 6}), Counter({0: 6660, -1: 118, 1: 6, 2: 6}), Counter({0: 6660, -1: 112, 1: 6, 2: 6, 3: 6}), Counter({0: 6660, -1: 118, 1: 6, 2: 6}), Counter({0: 6660, -1: 112, 1: 6, 2: 6, 3: 6}), Counter({0: 6660, -1: 118, 1: 6, 2: 6}), Counter({0: 6660, -1: 112, 1: 6, 2: 6, 3: 6}), Counter({0: 6660, -1: 118, 1: 6, 2: 6}), Counter({0: 6660, -1: 112, 1: 6, 2: 6, 3: 6}), Counter({0: 6660, -1: 118, 1: 6, 2: 6}), Counter({0: 6661, -1: 111, 1: 6, 2: 6, 3: 6}), Counter({0: 6661, -1: 117, 1: 6, 2: 6}), Counter({0: 6661, -1: 111, 1: 6, 2: 6, 3: 6}), Counter({0: 6661, -1: 117, 1: 6, 2: 6}), Counter({0: 6661, -1: 111, 1: 6, 2: 6, 3: 6}), Counter({0: 6661, -1: 117, 1: 6, 2: 6}), Counter({0: 6661, -1: 111, 1: 6, 2: 6, 3: 6}), Counter({0: 6661, -1: 117, 1: 6, 2: 6}), Counter({0: 6661, -1: 110, 3: 7, 1: 6, 2: 6}), Counter({0: 6661, -1: 117, 1: 6, 2: 6}), Counter({0: 6661, -1: 110, 3: 7, 1: 6, 2: 6}), Counter({0: 6661, -1: 117, 1: 6, 2: 6}), Counter({0: 6661, -1: 110, 3: 7, 1: 6, 2: 6}), Counter({0: 6661, -1: 116, 2: 7, 1: 6}), Counter({0: 6661, -1: 110, 3: 7, 1: 6, 2: 6}), Counter({0: 6661, -1: 116, 2: 7, 1: 6}), Counter({0: 6662, -1: 109, 3: 7, 1: 6, 2: 6}), Counter({0: 6661, -1: 116, 2: 7, 1: 6}), Counter({0: 6662, -1: 109, 3: 7, 1: 6, 2: 6}), Counter({0: 6661, -1: 110, 3: 7, 2: 6, 1: 6}), Counter({0: 6662, -1: 109, 3: 7, 1: 6, 2: 6}), Counter({0: 6661, -1: 110, 3: 7, 2: 6, 1: 6}), Counter({0: 6662, -1: 109, 3: 7, 1: 6, 2: 6}), Counter({0: 6661, -1: 110, 3: 7, 2: 6, 1: 6}), Counter({0: 6663, -1: 108, 3: 7, 1: 6, 2: 6}), Counter({0: 6662, -1: 109, 3: 7, 2: 6, 1: 6}), Counter({0: 6663, -1: 108, 3: 7, 1: 6, 2: 6}), Counter({0: 6662, -1: 109, 3: 7, 1: 6, 2: 6}), Counter({0: 6666, -1: 105, 3: 7, 1: 6, 2: 6}), Counter({0: 6662, -1: 109, 3: 7, 1: 6, 2: 6}), Counter({0: 6666, -1: 104, 1: 7, 3: 7, 2: 6}), Counter({0: 6662, -1: 109, 3: 7, 1: 6, 2: 6}), Counter({0: 6666, -1: 104, 1: 7, 3: 7, 2: 6}), Counter({0: 6662, -1: 109, 3: 7, 1: 6, 2: 6}), Counter({0: 6666, -1: 104, 1: 7, 3: 7, 2: 6}), Counter({0: 6662, -1: 109, 3: 7, 1: 6, 2: 6}), Counter({0: 6666, -1: 104, 1: 7, 3: 7, 2: 6}), Counter({0: 6662, -1: 109, 3: 7, 1: 6, 2: 6}), Counter({0: 6666, -1: 104, 1: 7, 3: 7, 2: 6}), Counter({0: 6662, -1: 109, 3: 7, 1: 6, 2: 6}), Counter({0: 6666, -1: 104, 1: 7, 3: 7, 2: 6}), Counter({0: 6662, -1: 109, 3: 7, 1: 6, 2: 6}), Counter({0: 6666, -1: 104, 1: 7, 3: 7, 2: 6}), Counter({0: 6662, -1: 109, 3: 7, 1: 6, 2: 6}), Counter({0: 6666, -1: 104, 1: 7, 3: 7, 2: 6}), Counter({0: 6662, -1: 109, 3: 7, 1: 6, 2: 6}), Counter({0: 6666, -1: 104, 1: 7, 3: 7, 2: 6}), Counter({0: 6662, -1: 109, 3: 7, 1: 6, 2: 6}), Counter({0: 6666, -1: 104, 1: 7, 3: 7, 2: 6}), Counter({0: 6663, -1: 108, 3: 7, 1: 6, 2: 6}), Counter({0: 6666, -1: 104, 1: 7, 3: 7, 2: 6}), Counter({0: 6663, -1: 108, 3: 7, 1: 6, 2: 6}), Counter({0: 6666, -1: 104, 1: 7, 3: 7, 2: 6}), Counter({0: 6663, -1: 108, 3: 7, 1: 6, 2: 6}), Counter({0: 6666, -1: 104, 1: 7, 3: 7, 2: 6}), Counter({0: 6663, -1: 108, 3: 7, 1: 6, 2: 6}), Counter({0: 6666, -1: 104, 1: 7, 3: 7, 2: 6}), Counter({0: 6663, -1: 108, 3: 7, 1: 6, 2: 6}), Counter({0: 6666, -1: 104, 1: 7, 3: 7, 2: 6}), Counter({0: 6663, -1: 108, 3: 7, 1: 6, 2: 6}), Counter({0: 6666, -1: 104, 1: 7, 3: 7, 2: 6}), Counter({0: 6663, -1: 108, 3: 7, 1: 6, 2: 6}), Counter({0: 6666, -1: 104, 1: 7, 3: 7, 2: 6}), Counter({0: 6663, -1: 108, 3: 7, 1: 6, 2: 6}), Counter({0: 6666, -1: 104, 1: 7, 3: 7, 2: 6}), Counter({0: 6663, -1: 108, 3: 7, 1: 6, 2: 6}), Counter({0: 6666, -1: 104, 1: 7, 3: 7, 2: 6}), Counter({0: 6664, -1: 107, 3: 7, 1: 6, 2: 6}), Counter({0: 6667, -1: 103, 1: 7, 3: 7, 2: 6}), Counter({0: 6665, -1: 106, 3: 7, 1: 6, 2: 6}), Counter({0: 6670, -1: 90, 1: 11, 3: 8, 4: 6, 2: 5}), Counter({0: 6667, -1: 103, 1: 7, 3: 7, 2: 6}), Counter({0: 6665, -1: 105, 1: 7, 3: 7, 2: 6}), Counter({0: 6670, -1: 90, 1: 11, 3: 8, 4: 6, 2: 5}), Counter({0: 6667, -1: 103, 1: 7, 3: 7, 2: 6}), Counter({0: 6665, -1: 105, 1: 7, 3: 7, 2: 6}), Counter({0: 6673, -1: 87, 1: 11, 3: 8, 4: 6, 2: 5}), Counter({0: 6668, -1: 102, 1: 7, 3: 7, 2: 6}), Counter({0: 6666, -1: 104, 1: 7, 3: 7, 2: 6}), Counter({0: 6673, -1: 87, 1: 11, 3: 8, 4: 6, 2: 5}), Counter({0: 6668, -1: 102, 1: 7, 3: 7, 2: 6}), Counter({0: 6666, -1: 104, 1: 7, 3: 7, 2: 6}), Counter({0: 6673, -1: 87, 1: 11, 3: 8, 4: 6, 2: 5}), Counter({0: 6668, -1: 100, 1: 8, 3: 8, 2: 6}), Counter({0: 6667, -1: 102, 3: 8, 1: 7, 2: 6}), Counter({0: 6667, -1: 109, 1: 7, 2: 7}), Counter({0: 6673, -1: 87, 1: 11, 3: 8, 4: 6, 2: 5}), Counter({0: 6668, -1: 100, 1: 8, 3: 8, 2: 6}), Counter({0: 6667, -1: 102, 3: 8, 1: 7, 2: 6}), Counter({0: 6667, -1: 109, 1: 7, 2: 7}), Counter({0: 6673, -1: 87, 1: 11, 3: 8, 4: 6, 2: 5}), Counter({0: 6668, -1: 97, 1: 11, 3: 8, 2: 6}), Counter({0: 6668, -1: 101, 3: 8, 1: 7, 2: 6}), Counter({0: 6667, -1: 109, 1: 7, 2: 7}), Counter({0: 6673, -1: 87, 1: 11, 3: 8, 4: 6, 2: 5}), Counter({0: 6668, -1: 97, 1: 11, 3: 8, 2: 6}), Counter({0: 6668, -1: 101, 3: 8, 1: 7, 2: 6}), Counter({0: 6667, -1: 109, 1: 7, 2: 7}), Counter({0: 6673, -1: 87, 1: 11, 3: 8, 4: 6, 2: 5}), Counter({0: 6668, -1: 97, 1: 11, 3: 8, 2: 6}), Counter({0: 6668, -1: 101, 3: 8, 1: 7, 2: 6}), Counter({0: 6667, -1: 109, 1: 7, 2: 7}), Counter({0: 6673, -1: 87, 1: 11, 3: 8, 4: 6, 2: 5}), Counter({0: 6668, -1: 97, 1: 11, 3: 8, 2: 6}), Counter({0: 6668, -1: 101, 3: 8, 1: 7, 2: 6}), Counter({0: 6667, -1: 109, 1: 7, 2: 7}), Counter({0: 6673, -1: 87, 1: 11, 3: 8, 4: 6, 2: 5}), Counter({0: 6668, -1: 97, 1: 11, 3: 8, 2: 6}), Counter({0: 6668, -1: 101, 3: 8, 1: 7, 2: 6}), Counter({0: 6667, -1: 109, 1: 7, 2: 7}), Counter({0: 6673, -1: 87, 1: 11, 3: 8, 4: 6, 2: 5}), Counter({0: 6668, -1: 97, 1: 11, 3: 8, 2: 6}), Counter({0: 6668, -1: 101, 3: 8, 1: 7, 2: 6}), Counter({0: 6667, -1: 109, 1: 7, 2: 7}), Counter({0: 6673, -1: 87, 1: 11, 3: 8, 4: 6, 2: 5}), Counter({0: 6668, -1: 97, 1: 11, 3: 8, 2: 6}), Counter({0: 6668, -1: 101, 3: 8, 1: 7, 2: 6}), Counter({0: 6667, -1: 109, 1: 7, 2: 7}), Counter({0: 6673, -1: 87, 1: 11, 3: 8, 4: 6, 2: 5}), Counter({0: 6668, -1: 97, 1: 11, 3: 8, 2: 6}), Counter({0: 6668, -1: 101, 3: 8, 1: 7, 2: 6}), Counter({0: 6667, -1: 109, 1: 7, 2: 7}), Counter({0: 6673, -1: 87, 1: 11, 3: 8, 4: 6, 2: 5}), Counter({0: 6668, -1: 97, 1: 11, 3: 8, 2: 6}), Counter({0: 6668, -1: 101, 3: 8, 1: 7, 2: 6}), Counter({0: 6667, -1: 109, 1: 7, 2: 7}), Counter({0: 6673, -1: 87, 1: 11, 3: 8, 4: 6, 2: 5}), Counter({0: 6670, -1: 95, 1: 11, 3: 8, 2: 6}), Counter({0: 6668, -1: 101, 3: 8, 1: 7, 2: 6}), Counter({0: 6667, -1: 109, 1: 7, 2: 7}), Counter({0: 6673, -1: 87, 1: 11, 3: 8, 4: 6, 2: 5}), Counter({0: 6670, -1: 95, 1: 11, 3: 8, 2: 6}), Counter({0: 6668, -1: 101, 3: 8, 1: 7, 2: 6}), Counter({0: 6667, -1: 109, 1: 7, 2: 7}), Counter({0: 6673, -1: 87, 1: 11, 3: 8, 4: 6, 2: 5}), Counter({0: 6670, -1: 95, 1: 11, 3: 8, 2: 6}), Counter({0: 6668, -1: 101, 3: 8, 1: 7, 2: 6}), Counter({0: 6667, -1: 109, 1: 7, 2: 7}), Counter({0: 6673, -1: 87, 1: 11, 3: 8, 4: 6, 2: 5}), Counter({0: 6670, -1: 95, 1: 11, 3: 8, 2: 6}), Counter({0: 6668, -1: 101, 3: 8, 1: 7, 2: 6}), Counter({0: 6667, -1: 109, 1: 7, 2: 7}), Counter({0: 6673, -1: 87, 1: 11, 3: 8, 4: 6, 2: 5}), Counter({0: 6670, -1: 95, 1: 11, 3: 8, 2: 6}), Counter({0: 6670, -1: 99, 3: 8, 1: 7, 2: 6}), Counter({0: 6667, -1: 109, 1: 7, 2: 7}), Counter({0: 6673, -1: 87, 1: 11, 3: 8, 4: 6, 2: 5}), Counter({0: 6670, -1: 95, 1: 11, 3: 8, 2: 6}), Counter({0: 6670, -1: 99, 3: 8, 1: 7, 2: 6}), Counter({0: 6667, -1: 108, 2: 8, 1: 7}), Counter({0: 6673, -1: 87, 1: 11, 3: 8, 4: 6, 2: 5}), Counter({0: 6670, -1: 95, 1: 11, 3: 8, 2: 6}), Counter({0: 6670, -1: 99, 3: 8, 1: 7, 2: 6}), Counter({0: 6667, -1: 108, 2: 8, 1: 7}), Counter({0: 6673, -1: 87, 1: 11, 3: 8, 4: 6, 2: 5}), Counter({0: 6670, -1: 95, 1: 11, 3: 8, 2: 6}), Counter({0: 6670, -1: 99, 3: 8, 1: 7, 2: 6}), Counter({0: 6667, -1: 108, 2: 8, 1: 7}), Counter({0: 6673, -1: 87, 1: 11, 3: 8, 4: 6, 2: 5}), Counter({0: 6670, -1: 95, 1: 11, 3: 8, 2: 6}), Counter({0: 6670, -1: 99, 3: 8, 1: 7, 2: 6}), Counter({0: 6667, -1: 108, 2: 8, 1: 7}), Counter({0: 6673, -1: 87, 1: 11, 3: 8, 4: 6, 2: 5}), Counter({0: 6670, -1: 95, 1: 11, 3: 8, 2: 6}), Counter({0: 6670, -1: 99, 3: 8, 1: 7, 2: 6}), Counter({0: 6667, -1: 108, 2: 8, 1: 7}), Counter({0: 6673, -1: 87, 1: 11, 3: 8, 4: 6, 2: 5}), Counter({0: 6670, -1: 95, 1: 11, 3: 8, 2: 6}), Counter({0: 6670, -1: 99, 3: 8, 1: 7, 2: 6}), Counter({0: 6667, -1: 108, 2: 8, 1: 7}), Counter({0: 6673, -1: 87, 1: 11, 3: 8, 4: 6, 2: 5}), Counter({0: 6671, -1: 94, 1: 11, 3: 8, 2: 6}), Counter({0: 6670, -1: 99, 3: 8, 1: 7, 2: 6}), Counter({0: 6667, -1: 108, 2: 8, 1: 7}), Counter({0: 6673, -1: 87, 1: 11, 3: 8, 4: 6, 2: 5}), Counter({0: 6671, -1: 94, 1: 11, 3: 8, 2: 6}), Counter({0: 6670, -1: 99, 3: 8, 1: 7, 2: 6}), Counter({0: 6667, -1: 108, 2: 8, 1: 7}), Counter({0: 6674, -1: 86, 1: 11, 3: 8, 4: 6, 2: 5}), Counter({0: 6672, -1: 93, 1: 11, 3: 8, 2: 6}), Counter({0: 6671, -1: 98, 3: 8, 1: 7, 2: 6}), Counter({0: 6668, -1: 107, 2: 8, 1: 7}), Counter({0: 6674, -1: 86, 1: 11, 3: 8, 4: 6, 2: 5}), Counter({0: 6672, -1: 93, 1: 11, 3: 8, 2: 6}), Counter({0: 6672, -1: 97, 3: 8, 1: 7, 2: 6}), Counter({0: 6671, -1: 104, 2: 8, 1: 7}), Counter({0: 6674, -1: 86, 1: 11, 3: 8, 4: 6, 2: 5}), Counter({0: 6672, -1: 93, 1: 11, 3: 8, 2: 6}), Counter({0: 6672, -1: 97, 3: 8, 1: 7, 2: 6}), Counter({0: 6671, -1: 104, 2: 8, 1: 7}), Counter({0: 6674, -1: 86, 1: 11, 3: 8, 4: 6, 2: 5}), Counter({0: 6672, -1: 93, 1: 11, 3: 8, 2: 6}), Counter({0: 6672, -1: 97, 3: 8, 1: 7, 2: 6}), Counter({0: 6672, -1: 103, 2: 8, 1: 7}), Counter({0: 6674, -1: 86, 1: 11, 3: 8, 4: 6, 2: 5}), Counter({0: 6672, -1: 93, 1: 11, 3: 8, 2: 6}), Counter({0: 6672, -1: 97, 3: 8, 1: 7, 2: 6}), Counter({0: 6672, -1: 103, 2: 8, 1: 7}), Counter({0: 6674, -1: 86, 3: 14, 1: 11, 2: 5}), Counter({0: 6672, -1: 93, 2: 14, 1: 11}), Counter({0: 6672, -1: 97, 1: 7, 2: 7, 3: 7}), Counter({0: 6672, -1: 103, 2: 8, 1: 7}), Counter({0: 6674, -1: 86, 3: 14, 1: 11, 2: 5}), Counter({0: 6672, -1: 93, 2: 14, 1: 11}), Counter({0: 6672, -1: 97, 1: 7, 2: 7, 3: 7}), Counter({0: 6672, -1: 103, 2: 8, 1: 7}), Counter({0: 6674, -1: 82, 3: 14, 1: 11, 2: 5, 4: 4}), Counter({0: 6672, -1: 93, 2: 14, 1: 11}), Counter({0: 6672, -1: 97, 1: 7, 2: 7, 3: 7}), Counter({0: 6672, -1: 103, 2: 8, 1: 7}), Counter({0: 6674, -1: 82, 3: 14, 1: 11, 2: 5, 4: 4}), Counter({0: 6672, -1: 93, 2: 14, 1: 11}), Counter({0: 6672, -1: 97, 2: 8, 1: 7, 3: 6}), Counter({0: 6672, -1: 97, 2: 8, 1: 7, 3: 6}), Counter({0: 6668, -1: 108, 1: 8, 2: 6}), Counter({0: 6674, -1: 82, 3: 14, 1: 11, 2: 5, 4: 4}), Counter({0: 6672, -1: 93, 2: 14, 1: 11}), Counter({0: 6672, -1: 97, 2: 8, 1: 7, 3: 6}), Counter({0: 6672, -1: 97, 2: 8, 1: 7, 3: 6}), Counter({0: 6668, -1: 108, 1: 8, 2: 6}), Counter({0: 6674, -1: 82, 3: 14, 1: 11, 2: 5, 4: 4}), Counter({0: 6672, -1: 93, 2: 14, 1: 11}), Counter({0: 6672, -1: 97, 2: 8, 1: 7, 3: 6}), Counter({0: 6672, -1: 97, 2: 8, 1: 7, 3: 6}), Counter({0: 6668, -1: 108, 1: 8, 2: 6}), Counter({0: 6674, -1: 82, 3: 14, 1: 11, 2: 5, 4: 4}), Counter({0: 6672, -1: 93, 2: 14, 1: 11}), Counter({0: 6672, -1: 97, 2: 8, 1: 7, 3: 6}), Counter({0: 6672, -1: 97, 2: 8, 1: 7, 3: 6}), Counter({0: 6668, -1: 108, 1: 8, 2: 6}), Counter({0: 6674, -1: 82, 3: 14, 1: 11, 2: 5, 4: 4}), Counter({0: 6672, -1: 93, 2: 14, 1: 11}), Counter({0: 6672, -1: 97, 2: 8, 1: 7, 3: 6}), Counter({0: 6672, -1: 97, 2: 8, 1: 7, 3: 6}), Counter({0: 6668, -1: 108, 1: 8, 2: 6}), Counter({0: 6674, -1: 82, 3: 14, 1: 11, 2: 5, 4: 4}), Counter({0: 6672, -1: 93, 2: 14, 1: 11}), Counter({0: 6672, -1: 97, 2: 8, 1: 7, 3: 6}), Counter({0: 6672, -1: 97, 2: 8, 1: 7, 3: 6}), Counter({0: 6668, -1: 108, 1: 8, 2: 6}), Counter({0: 6675, -1: 81, 3: 14, 1: 11, 2: 5, 4: 4}), Counter({0: 6673, -1: 92, 2: 14, 1: 11}), Counter({0: 6672, -1: 97, 2: 8, 1: 7, 3: 6}), Counter({0: 6672, -1: 97, 2: 8, 1: 7, 3: 6}), Counter({0: 6668, -1: 108, 1: 8, 2: 6}), Counter({0: 6675, -1: 81, 3: 14, 1: 11, 2: 5, 4: 4}), Counter({0: 6673, -1: 92, 2: 14, 1: 11}), Counter({0: 6672, -1: 97, 2: 14, 1: 7}), Counter({0: 6672, -1: 97, 2: 8, 1: 7, 3: 6}), Counter({0: 6668, -1: 108, 1: 8, 2: 6}), Counter({0: 6676, -1: 80, 3: 14, 1: 11, 2: 5, 4: 4}), Counter({0: 6674, -1: 91, 2: 14, 1: 11}), Counter({0: 6673, -1: 96, 2: 14, 1: 7}), Counter({0: 6673, -1: 96, 2: 8, 1: 7, 3: 6}), Counter({0: 6669, -1: 107, 1: 8, 2: 6}), Counter({0: 6687, -1: 80, 2: 14, 1: 5, 3: 4}), Counter({0: 6685, -1: 86, 1: 14, 2: 5}), Counter({0: 6674, -1: 95, 2: 14, 1: 7}), Counter({0: 6674, -1: 95, 2: 8, 1: 7, 3: 6}), Counter({0: 6670, -1: 106, 1: 8, 2: 6}), Counter({0: 6687, -1: 80, 2: 14, 1: 5, 3: 4}), Counter({0: 6687, -1: 84, 1: 14, 2: 5}), Counter({0: 6677, -1: 92, 2: 14, 1: 7}), Counter({0: 6674, -1: 95, 2: 8, 1: 7, 3: 6}), Counter({0: 6673, -1: 103, 1: 8, 2: 6}), Counter({0: 6687, -1: 80, 2: 14, 1: 5, 3: 4}), Counter({0: 6687, -1: 84, 1: 14, 2: 5}), Counter({0: 6677, -1: 92, 2: 14, 1: 7}), Counter({0: 6674, -1: 95, 2: 8, 1: 7, 3: 6}), Counter({0: 6673, -1: 103, 1: 8, 2: 6}), Counter({0: 6687, -1: 80, 2: 14, 1: 5, 3: 4}), Counter({0: 6687, -1: 84, 1: 14, 2: 5}), Counter({0: 6677, -1: 92, 2: 14, 1: 7}), Counter({0: 6674, -1: 95, 2: 8, 1: 7, 3: 6}), Counter({0: 6673, -1: 103, 1: 8, 2: 6}), Counter({0: 6687, -1: 80, 2: 14, 1: 5, 3: 4}), Counter({0: 6687, -1: 84, 1: 14, 2: 5}), Counter({0: 6677, -1: 92, 2: 14, 1: 7}), Counter({0: 6674, -1: 95, 2: 8, 1: 7, 3: 6}), Counter({0: 6673, -1: 103, 1: 8, 2: 6}), Counter({0: 6687, -1: 80, 2: 14, 1: 5, 3: 4}), Counter({0: 6687, -1: 84, 1: 14, 2: 5}), Counter({0: 6677, -1: 92, 2: 14, 1: 7}), Counter({0: 6674, -1: 95, 2: 8, 1: 7, 3: 6}), Counter({0: 6673, -1: 103, 1: 8, 2: 6}), Counter({0: 6687, -1: 80, 2: 14, 1: 5, 3: 4}), Counter({0: 6687, -1: 84, 1: 14, 2: 5}), Counter({0: 6678, -1: 91, 2: 14, 1: 7}), Counter({0: 6675, -1: 94, 2: 8, 1: 7, 3: 6}), Counter({0: 6674, -1: 102, 1: 8, 2: 6}), Counter({0: 6687, -1: 80, 2: 14, 1: 5, 3: 4}), Counter({0: 6687, -1: 84, 1: 14, 2: 5}), Counter({0: 6678, -1: 91, 2: 14, 1: 7}), Counter({0: 6675, -1: 94, 2: 8, 1: 7, 3: 6}), Counter({0: 6674, -1: 102, 1: 8, 2: 6}), Counter({0: 6687, -1: 80, 2: 14, 1: 5, 3: 4}), Counter({0: 6687, -1: 84, 1: 14, 2: 5}), Counter({0: 6678, -1: 91, 2: 14, 1: 7}), Counter({0: 6675, -1: 94, 2: 8, 1: 7, 3: 6}), Counter({0: 6674, -1: 102, 1: 8, 2: 6}), Counter({0: 6687, -1: 80, 2: 14, 1: 5, 3: 4}), Counter({0: 6687, -1: 84, 1: 14, 2: 5}), Counter({0: 6679, -1: 90, 2: 14, 1: 7}), Counter({0: 6675, -1: 94, 2: 8, 1: 7, 3: 6}), Counter({0: 6674, -1: 102, 1: 8, 2: 6}), Counter({0: 6687, -1: 80, 2: 14, 1: 5, 3: 4}), Counter({0: 6687, -1: 84, 1: 14, 2: 5}), Counter({0: 6679, -1: 90, 2: 14, 1: 7}), Counter({0: 6675, -1: 94, 2: 8, 1: 7, 3: 6}), Counter({0: 6674, -1: 102, 1: 8, 2: 6}), Counter({0: 6687, -1: 80, 2: 14, 1: 5, 3: 4}), Counter({0: 6687, -1: 84, 1: 14, 2: 5}), Counter({0: 6680, -1: 89, 2: 14, 1: 7}), Counter({0: 6675, -1: 94, 2: 8, 1: 7, 3: 6}), Counter({0: 6675, -1: 101, 1: 8, 2: 6}), Counter({0: 6687, -1: 80, 2: 14, 1: 5, 3: 4}), Counter({0: 6687, -1: 84, 1: 14, 2: 5}), Counter({0: 6680, -1: 89, 2: 14, 1: 7}), Counter({0: 6675, -1: 94, 2: 8, 1: 7, 3: 6}), Counter({0: 6675, -1: 101, 1: 8, 2: 6}), Counter({0: 6687, -1: 80, 2: 14, 1: 5, 3: 4}), Counter({0: 6687, -1: 84, 1: 14, 2: 5}), Counter({0: 6680, -1: 89, 2: 14, 1: 7}), Counter({0: 6675, -1: 94, 2: 8, 1: 7, 3: 6}), Counter({0: 6675, -1: 101, 1: 8, 2: 6}), Counter({0: 6690, -1: 77, 2: 14, 1: 5, 3: 4}), Counter({0: 6687, -1: 84, 1: 14, 2: 5}), Counter({0: 6680, -1: 89, 2: 14, 1: 7}), Counter({0: 6675, -1: 94, 2: 8, 1: 7, 3: 6}), Counter({0: 6675, -1: 101, 1: 8, 2: 6}), Counter({0: 6704, -1: 70, 1: 5, 3: 5, 2: 3, 4: 3}), Counter({0: 6704, -1: 77, 1: 5, 2: 4}), Counter({0: 6675, -1: 94, 1: 15, 2: 6}), Counter({0: 6675, -1: 101, 1: 8, 2: 6}), Counter({0: 6704, -1: 68, 1: 7, 3: 5, 2: 3, 4: 3}), Counter({0: 6704, -1: 76, 1: 6, 2: 4}), Counter({0: 6675, -1: 94, 1: 15, 2: 6}), Counter({0: 6675, -1: 101, 1: 8, 2: 6}), Counter({0: 6704, -1: 68, 1: 7, 3: 5, 2: 3, 4: 3}), Counter({0: 6704, -1: 76, 1: 6, 2: 4}), Counter({0: 6675, -1: 94, 1: 15, 2: 6}), Counter({0: 6675, -1: 101, 1: 8, 2: 6}), Counter({0: 6704, -1: 68, 1: 7, 3: 5, 2: 3, 4: 3}), Counter({0: 6704, -1: 76, 1: 6, 2: 4}), Counter({0: 6675, -1: 93, 1: 16, 2: 6}), Counter({0: 6675, -1: 93, 1: 8, 2: 8, 3: 6}), Counter({0: 6704, -1: 68, 1: 7, 3: 5, 2: 3, 4: 3}), Counter({0: 6704, -1: 76, 1: 6, 2: 4}), Counter({0: 6678, -1: 91, 1: 15, 2: 6}), Counter({0: 6675, -1: 93, 1: 8, 2: 8, 3: 6}), Counter({0: 6704, -1: 68, 1: 7, 3: 5, 2: 3, 4: 3}), Counter({0: 6704, -1: 76, 1: 6, 2: 4}), Counter({0: 6678, -1: 91, 1: 15, 2: 6}), Counter({0: 6675, -1: 93, 1: 8, 2: 8, 3: 6}), Counter({0: 6704, -1: 68, 1: 7, 3: 5, 2: 3, 4: 3}), Counter({0: 6704, -1: 76, 1: 6, 2: 4}), Counter({0: 6678, -1: 91, 1: 15, 2: 6}), Counter({0: 6675, -1: 93, 1: 8, 2: 8, 3: 6}), Counter({0: 6704, -1: 68, 1: 7, 3: 5, 2: 3, 4: 3}), Counter({0: 6704, -1: 76, 1: 6, 2: 4}), Counter({0: 6678, -1: 91, 1: 15, 2: 6}), Counter({0: 6675, -1: 93, 1: 8, 2: 8, 3: 6}), Counter({0: 6704, -1: 68, 1: 7, 3: 5, 2: 3, 4: 3}), Counter({0: 6704, -1: 76, 1: 6, 2: 4}), Counter({0: 6678, -1: 91, 1: 15, 2: 6}), Counter({0: 6675, -1: 93, 1: 8, 2: 8, 3: 6}), Counter({0: 6704, -1: 68, 1: 7, 3: 5, 2: 3, 4: 3}), Counter({0: 6704, -1: 76, 1: 6, 2: 4}), Counter({0: 6679, -1: 90, 1: 15, 2: 6}), Counter({0: 6675, -1: 93, 1: 8, 2: 8, 3: 6}), Counter({0: 6704, -1: 68, 1: 7, 3: 5, 2: 3, 4: 3}), Counter({0: 6704, -1: 76, 1: 6, 2: 4}), Counter({0: 6679, -1: 90, 1: 15, 2: 6}), Counter({0: 6675, -1: 93, 1: 8, 2: 8, 3: 6}), Counter({0: 6704, -1: 68, 1: 7, 3: 5, 2: 3, 4: 3}), Counter({0: 6704, -1: 76, 1: 6, 2: 4}), Counter({0: 6679, -1: 90, 1: 15, 2: 6}), Counter({0: 6675, -1: 93, 1: 8, 2: 8, 3: 6}), Counter({0: 6705, -1: 66, 1: 7, 3: 6, 2: 3, 4: 3}), Counter({0: 6705, -1: 75, 1: 6, 2: 4}), Counter({0: 6680, -1: 89, 1: 15, 2: 6}), Counter({0: 6676, -1: 92, 1: 8, 2: 8, 3: 6}), Counter({0: 6705, -1: 75, 1: 6, 2: 4}), Counter({0: 6680, -1: 89, 1: 15, 2: 6}), Counter({0: 6676, -1: 92, 1: 8, 2: 8, 3: 6}), Counter({0: 6705, -1: 75, 1: 6, 2: 4}), Counter({0: 6680, -1: 89, 1: 15, 2: 6}), Counter({0: 6676, -1: 92, 1: 8, 2: 8, 3: 6}), Counter({0: 6705, -1: 75, 1: 6, 2: 4}), Counter({0: 6680, -1: 89, 1: 15, 2: 6}), Counter({0: 6676, -1: 92, 1: 8, 2: 8, 3: 6}), Counter({0: 6705, -1: 75, 1: 6, 2: 4}), Counter({0: 6680, -1: 89, 1: 15, 2: 6}), Counter({0: 6679, -1: 90, 2: 8, 1: 7, 3: 6}), Counter({0: 6705, -1: 75, 1: 6, 2: 4}), Counter({0: 6680, -1: 89, 1: 15, 2: 6}), Counter({0: 6679, -1: 90, 2: 8, 1: 7, 3: 6}), Counter({0: 6705, -1: 75, 1: 6, 2: 4}), Counter({0: 6680, -1: 89, 1: 15, 2: 6}), Counter({0: 6679, -1: 90, 2: 8, 1: 7, 3: 6}), Counter({0: 6705, -1: 75, 1: 6, 2: 4}), Counter({0: 6680, -1: 89, 1: 15, 2: 6}), Counter({0: 6679, -1: 90, 2: 8, 1: 7, 3: 6}), Counter({0: 6705, -1: 75, 1: 6, 2: 4}), Counter({0: 6680, -1: 89, 1: 15, 2: 6}), Counter({0: 6679, -1: 90, 2: 8, 1: 7, 3: 6}), Counter({0: 6705, -1: 75, 1: 6, 2: 4}), Counter({0: 6680, -1: 89, 1: 15, 2: 6}), Counter({0: 6679, -1: 90, 2: 8, 1: 7, 3: 6}), Counter({0: 6705, -1: 75, 1: 6, 2: 4}), Counter({0: 6680, -1: 89, 1: 15, 2: 6}), Counter({0: 6679, -1: 90, 2: 8, 1: 7, 3: 6}), Counter({0: 6705, -1: 75, 1: 6, 2: 4}), Counter({0: 6679, -1: 90, 2: 8, 1: 7, 3: 6}), Counter({0: 6705, -1: 75, 1: 6, 2: 4}), Counter({0: 6679, -1: 90, 2: 8, 1: 7, 3: 6}), Counter({0: 6705, -1: 74, 1: 6, 2: 5}), Counter({0: 6679, -1: 90, 2: 8, 1: 7, 3: 6}), Counter({0: 6705, -1: 74, 1: 6, 2: 5}), Counter({0: 6679, -1: 90, 2: 8, 1: 7, 3: 6}), Counter({0: 6705, -1: 74, 1: 6, 2: 5}), Counter({0: 6679, -1: 90, 2: 8, 1: 7, 3: 6}), Counter({0: 6705, -1: 74, 1: 6, 2: 5}), Counter({0: 6679, -1: 90, 2: 8, 1: 7, 3: 6}), Counter({0: 6705, -1: 74, 1: 6, 2: 5}), Counter({0: 6679, -1: 90, 2: 8, 1: 7, 3: 6}), Counter({0: 6705, -1: 74, 1: 6, 2: 5}), Counter({0: 6679, -1: 90, 2: 8, 1: 7, 3: 6}), Counter({0: 6705, -1: 74, 1: 6, 2: 5}), Counter({0: 6679, -1: 90, 2: 8, 1: 7, 3: 6}), Counter({0: 6705, -1: 74, 1: 6, 2: 5}), Counter({0: 6679, -1: 90, 2: 8, 1: 7, 3: 6}), Counter({0: 6705, -1: 74, 1: 6, 2: 5}), Counter({0: 6679, -1: 90, 2: 8, 1: 7, 3: 6}), Counter({0: 6705, -1: 74, 1: 6, 2: 5}), Counter({0: 6679, -1: 90, 2: 8, 1: 7, 3: 6}), Counter({0: 6705, -1: 74, 1: 6, 2: 5}), Counter({0: 6679, -1: 90, 2: 8, 1: 7, 3: 6}), Counter({0: 6705, -1: 74, 1: 6, 2: 5}), Counter({0: 6679, -1: 90, 2: 8, 1: 7, 3: 6}), Counter({0: 6705, -1: 74, 1: 6, 2: 5}), Counter({0: 6686, -1: 90, 1: 8, 2: 6}), Counter({0: 6705, -1: 74, 1: 6, 2: 5}), Counter({0: 6686, -1: 90, 1: 8, 2: 6}), Counter({0: 6705, -1: 74, 1: 6, 2: 5}), Counter({0: 6686, -1: 90, 1: 8, 2: 6}), Counter({0: 6705, -1: 74, 1: 6, 2: 5}), Counter({0: 6686, -1: 90, 1: 8, 2: 6}), Counter({0: 6705, -1: 74, 1: 6, 2: 5}), Counter({0: 6686, -1: 90, 1: 8, 2: 6}), Counter({0: 6705, -1: 74, 1: 6, 2: 5}), Counter({0: 6686, -1: 90, 1: 8, 2: 6}), Counter({0: 6705, -1: 74, 1: 6, 2: 5}), Counter({0: 6704, -1: 75, 1: 6, 2: 5}), Counter({0: 6686, -1: 90, 1: 8, 2: 6}), Counter({0: 6705, -1: 74, 1: 6, 2: 5}), Counter({0: 6704, -1: 75, 1: 6, 2: 5}), Counter({0: 6686, -1: 90, 1: 8, 2: 6}), Counter({0: 6705, -1: 74, 1: 6, 2: 5}), Counter({0: 6704, -1: 75, 1: 6, 2: 5}), Counter({0: 6686, -1: 90, 1: 8, 2: 6}), Counter({0: 6705, -1: 74, 1: 6, 2: 5}), Counter({0: 6704, -1: 75, 1: 6, 2: 5}), Counter({0: 6686, -1: 90, 1: 8, 2: 6}), Counter({0: 6705, -1: 74, 1: 6, 2: 5}), Counter({0: 6704, -1: 75, 1: 6, 2: 5}), Counter({0: 6686, -1: 90, 1: 8, 2: 6}), Counter({0: 6705, -1: 74, 1: 6, 2: 5}), Counter({0: 6704, -1: 75, 1: 6, 2: 5}), Counter({0: 6705, -1: 74, 1: 6, 2: 5}), Counter({0: 6704, -1: 75, 1: 6, 2: 5}), Counter({0: 6705, -1: 74, 1: 6, 2: 5}), Counter({0: 6704, -1: 75, 1: 6, 2: 5}), Counter({0: 6705, -1: 74, 1: 6, 2: 5}), Counter({0: 6704, -1: 75, 1: 6, 2: 5}), Counter({0: 6705, -1: 74, 1: 6, 2: 5}), Counter({0: 6704, -1: 75, 1: 6, 2: 5}), Counter({0: 6705, -1: 74, 1: 6, 2: 5}), Counter({0: 6704, -1: 75, 1: 6, 2: 5}), Counter({0: 6713, -1: 61, 2: 6, 1: 4, 3: 3, 4: 3}), Counter({0: 6706, -1: 73, 1: 6, 2: 5}), Counter({0: 6705, -1: 74, 1: 6, 2: 5}), Counter({0: 6713, -1: 61, 2: 6, 1: 4, 3: 3, 4: 3}), Counter({0: 6706, -1: 73, 1: 6, 2: 5}), Counter({0: 6705, -1: 74, 1: 6, 2: 5}), Counter({0: 6713, -1: 61, 2: 6, 1: 4, 3: 3, 4: 3}), Counter({0: 6706, -1: 73, 1: 6, 2: 5}), Counter({0: 6705, -1: 74, 1: 6, 2: 5}), Counter({0: 6713, -1: 61, 2: 6, 1: 4, 3: 3, 4: 3}), Counter({0: 6706, -1: 73, 1: 6, 2: 5}), Counter({0: 6705, -1: 74, 1: 6, 2: 5}), Counter({0: 6713, -1: 61, 2: 6, 1: 4, 3: 3, 4: 3}), Counter({0: 6706, -1: 73, 1: 6, 2: 5}), Counter({0: 6705, -1: 74, 1: 6, 2: 5}), Counter({0: 6713, -1: 61, 2: 6, 1: 4, 3: 3, 4: 3}), Counter({0: 6706, -1: 73, 1: 6, 2: 5}), Counter({0: 6705, -1: 74, 1: 6, 2: 5}), Counter({0: 6713, -1: 61, 2: 6, 1: 4, 3: 3, 4: 3}), Counter({0: 6706, -1: 73, 1: 6, 2: 5}), Counter({0: 6705, -1: 74, 1: 6, 2: 5}), Counter({0: 6713, -1: 61, 2: 6, 1: 4, 3: 3, 4: 3}), Counter({0: 6706, -1: 73, 1: 6, 2: 5}), Counter({0: 6705, -1: 74, 1: 6, 2: 5}), Counter({0: 6713, -1: 61, 2: 6, 1: 4, 3: 3, 4: 3}), Counter({0: 6706, -1: 73, 1: 6, 2: 5}), Counter({0: 6705, -1: 74, 1: 6, 2: 5}), Counter({0: 6713, -1: 61, 2: 6, 1: 4, 3: 3, 4: 3}), Counter({0: 6706, -1: 73, 1: 6, 2: 5}), Counter({0: 6705, -1: 74, 1: 6, 2: 5}), Counter({0: 6713, -1: 61, 2: 6, 1: 4, 3: 3, 4: 3}), Counter({0: 6706, -1: 73, 1: 6, 2: 5}), Counter({0: 6705, -1: 74, 1: 6, 2: 5}), Counter({0: 6713, -1: 61, 2: 6, 1: 4, 3: 3, 4: 3}), Counter({0: 6707, -1: 72, 1: 6, 2: 5}), Counter({0: 6705, -1: 74, 1: 6, 2: 5}), Counter({0: 6713, -1: 61, 2: 6, 1: 4, 3: 3, 4: 3}), Counter({0: 6707, -1: 72, 1: 6, 2: 5}), Counter({0: 6705, -1: 74, 1: 6, 2: 5}), Counter({0: 6713, -1: 61, 2: 6, 1: 4, 3: 3, 4: 3}), Counter({0: 6707, -1: 72, 1: 6, 2: 5}), Counter({0: 6705, -1: 74, 1: 6, 2: 5}), Counter({0: 6713, -1: 61, 2: 6, 1: 4, 3: 3, 4: 3}), Counter({0: 6707, -1: 72, 1: 6, 2: 5}), Counter({0: 6705, -1: 74, 1: 6, 2: 5}), Counter({0: 6713, -1: 61, 2: 6, 1: 4, 3: 3, 4: 3}), Counter({0: 6707, -1: 72, 1: 6, 2: 5}), Counter({0: 6705, -1: 74, 1: 6, 2: 5}), Counter({0: 6713, -1: 61, 2: 6, 1: 4, 3: 3, 4: 3}), Counter({0: 6707, -1: 72, 1: 6, 2: 5}), Counter({0: 6705, -1: 74, 1: 6, 2: 5}), Counter({0: 6713, -1: 61, 2: 6, 1: 4, 3: 3, 4: 3}), Counter({0: 6707, -1: 72, 1: 6, 2: 5}), Counter({0: 6705, -1: 74, 1: 6, 2: 5}), Counter({0: 6713, -1: 61, 2: 6, 1: 4, 3: 3, 4: 3}), Counter({0: 6707, -1: 72, 1: 6, 2: 5}), Counter({0: 6705, -1: 74, 1: 6, 2: 5}), Counter({0: 6713, -1: 61, 2: 6, 1: 4, 3: 3, 4: 3}), Counter({0: 6707, -1: 71, 1: 6, 2: 6}), Counter({0: 6705, -1: 74, 1: 6, 2: 5}), Counter({0: 6713, -1: 61, 2: 6, 1: 4, 3: 3, 4: 3}), Counter({0: 6707, -1: 71, 1: 6, 2: 6}), Counter({0: 6705, -1: 74, 1: 6, 2: 5}), Counter({0: 6713, -1: 61, 2: 6, 1: 4, 3: 3, 4: 3}), Counter({0: 6707, -1: 71, 1: 6, 2: 6}), Counter({0: 6705, -1: 74, 1: 6, 2: 5}), Counter({0: 6713, -1: 61, 2: 6, 1: 4, 3: 3, 4: 3}), Counter({0: 6707, -1: 71, 1: 6, 2: 6}), Counter({0: 6705, -1: 74, 1: 6, 2: 5}), Counter({0: 6713, -1: 61, 2: 6, 1: 4, 3: 3, 4: 3}), Counter({0: 6707, -1: 71, 1: 6, 2: 6}), Counter({0: 6707, -1: 72, 1: 6, 2: 5}), Counter({0: 6713, -1: 61, 2: 6, 1: 4, 3: 3, 4: 3}), Counter({0: 6707, -1: 71, 1: 6, 2: 6}), Counter({0: 6707, -1: 72, 1: 6, 2: 5}), Counter({0: 6713, -1: 61, 2: 6, 1: 4, 3: 3, 4: 3}), Counter({0: 6707, -1: 71, 1: 6, 2: 6}), Counter({0: 6707, -1: 72, 1: 6, 2: 5}), Counter({0: 6713, -1: 61, 2: 6, 1: 4, 3: 3, 4: 3}), Counter({0: 6708, -1: 71, 2: 6, 1: 5}), Counter({0: 6707, -1: 72, 1: 6, 2: 5}), Counter({0: 6713, -1: 61, 2: 6, 1: 4, 3: 3, 4: 3}), Counter({0: 6708, -1: 71, 2: 6, 1: 5}), Counter({0: 6707, -1: 72, 1: 6, 2: 5}), Counter({0: 6713, -1: 61, 2: 6, 1: 4, 3: 3, 4: 3}), Counter({0: 6708, -1: 71, 2: 6, 1: 5}), Counter({0: 6707, -1: 72, 1: 6, 2: 5}), Counter({0: 6713, -1: 61, 2: 6, 1: 4, 3: 3, 4: 3}), Counter({0: 6708, -1: 71, 2: 6, 1: 5}), Counter({0: 6707, -1: 72, 1: 6, 2: 5}), Counter({0: 6713, -1: 61, 2: 6, 1: 4, 3: 3, 4: 3}), Counter({0: 6708, -1: 71, 2: 6, 1: 5}), Counter({0: 6707, -1: 72, 1: 6, 2: 5}), Counter({0: 6713, -1: 61, 2: 6, 1: 4, 3: 3, 4: 3}), Counter({0: 6708, -1: 71, 2: 6, 1: 5}), Counter({0: 6707, -1: 72, 1: 6, 2: 5}), Counter({0: 6713, -1: 61, 2: 6, 1: 4, 3: 3, 4: 3}), Counter({0: 6708, -1: 71, 2: 6, 1: 5}), Counter({0: 6707, -1: 72, 1: 6, 2: 5}), Counter({0: 6713, -1: 61, 2: 6, 1: 4, 3: 3, 4: 3}), Counter({0: 6708, -1: 71, 2: 6, 1: 5}), Counter({0: 6707, -1: 72, 1: 6, 2: 5}), Counter({0: 6713, -1: 61, 2: 6, 1: 4, 3: 3, 4: 3}), Counter({0: 6708, -1: 71, 2: 6, 1: 5}), Counter({0: 6707, -1: 72, 1: 6, 2: 5}), Counter({0: 6713, -1: 61, 2: 6, 1: 4, 3: 3, 4: 3}), Counter({0: 6708, -1: 71, 2: 6, 1: 5}), Counter({0: 6707, -1: 72, 1: 6, 2: 5}), Counter({0: 6713, -1: 61, 2: 6, 1: 4, 3: 3, 4: 3}), Counter({0: 6708, -1: 71, 2: 6, 1: 5}), Counter({0: 6707, -1: 72, 1: 6, 2: 5}), Counter({0: 6713, -1: 61, 2: 6, 1: 4, 3: 3, 4: 3}), Counter({0: 6708, -1: 71, 2: 6, 1: 5}), Counter({0: 6707, -1: 72, 1: 6, 2: 5}), Counter({0: 6713, -1: 61, 2: 6, 1: 4, 3: 3, 4: 3}), Counter({0: 6708, -1: 71, 2: 6, 1: 5}), Counter({0: 6707, -1: 72, 1: 6, 2: 5}), Counter({0: 6713, -1: 61, 2: 6, 1: 4, 3: 3, 4: 3}), Counter({0: 6708, -1: 71, 2: 6, 1: 5}), Counter({0: 6707, -1: 72, 1: 6, 2: 5}), Counter({0: 6713, -1: 61, 2: 6, 1: 4, 3: 3, 4: 3}), Counter({0: 6708, -1: 71, 2: 6, 1: 5}), Counter({0: 6707, -1: 72, 1: 6, 2: 5}), Counter({0: 6713, -1: 61, 2: 6, 1: 4, 3: 3, 4: 3}), Counter({0: 6708, -1: 71, 2: 6, 1: 5}), Counter({0: 6707, -1: 72, 1: 6, 2: 5}), Counter({0: 6713, -1: 61, 2: 6, 1: 4, 3: 3, 4: 3}), Counter({0: 6708, -1: 71, 2: 6, 1: 5}), Counter({0: 6707, -1: 72, 1: 6, 2: 5}), Counter({0: 6708, -1: 71, 2: 6, 1: 5}), Counter({0: 6707, -1: 72, 1: 6, 2: 5}), Counter({0: 6708, -1: 71, 2: 6, 1: 5}), Counter({0: 6707, -1: 72, 1: 6, 2: 5}), Counter({0: 6708, -1: 71, 2: 6, 1: 5}), Counter({0: 6707, -1: 72, 1: 6, 2: 5}), Counter({0: 6708, -1: 71, 2: 6, 1: 5}), Counter({0: 6707, -1: 72, 1: 6, 2: 5}), Counter({0: 6708, -1: 71, 2: 6, 1: 5}), Counter({0: 6707, -1: 72, 1: 6, 2: 5}), Counter({0: 6719, -1: 58, 1: 4, 2: 3, 3: 3, 4: 3}), Counter({0: 6719, -1: 58, 1: 4, 2: 3, 3: 3, 4: 3}), Counter({0: 6719, -1: 58, 1: 4, 2: 3, 3: 3, 4: 3}), Counter({0: 6719, -1: 58, 1: 4, 2: 3, 3: 3, 4: 3}), Counter({0: 6719, -1: 58, 1: 4, 2: 3, 3: 3, 4: 3}), Counter({0: 6719, -1: 58, 1: 4, 2: 3, 3: 3, 4: 3}), Counter({0: 6719, -1: 58, 1: 4, 2: 3, 3: 3, 4: 3}), Counter({0: 6719, -1: 58, 1: 4, 2: 3, 3: 3, 4: 3}), Counter({0: 6706, -1: 73, 2: 6, 1: 5}), Counter({0: 6719, -1: 58, 1: 4, 2: 3, 3: 3, 4: 3}), Counter({0: 6706, -1: 73, 2: 6, 1: 5}), Counter({0: 6719, -1: 58, 1: 4, 2: 3, 3: 3, 4: 3}), Counter({0: 6706, -1: 73, 2: 6, 1: 5}), Counter({0: 6719, -1: 58, 1: 4, 2: 3, 3: 3, 4: 3}), Counter({0: 6706, -1: 73, 2: 6, 1: 5}), Counter({0: 6719, -1: 58, 1: 4, 2: 3, 3: 3, 4: 3}), Counter({0: 6706, -1: 73, 2: 6, 1: 5}), Counter({0: 6719, -1: 58, 1: 4, 2: 3, 3: 3, 4: 3}), Counter({0: 6706, -1: 73, 2: 6, 1: 5}), Counter({0: 6719, -1: 56, 1: 6, 2: 3, 3: 3, 4: 3}), Counter({0: 6706, -1: 73, 2: 6, 1: 5}), Counter({0: 6719, -1: 56, 1: 6, 2: 3, 3: 3, 4: 3}), Counter({0: 6719, -1: 56, 1: 6, 2: 3, 3: 3, 4: 3}), Counter({0: 6719, -1: 56, 1: 6, 2: 3, 3: 3, 4: 3}), Counter({0: 6719, -1: 56, 1: 6, 2: 3, 3: 3, 4: 3}), Counter({0: 6719, -1: 56, 1: 6, 2: 3, 3: 3, 4: 3}), Counter({0: 6719, -1: 56, 1: 6, 2: 3, 3: 3, 4: 3}), Counter({0: 6719, -1: 56, 1: 6, 2: 3, 3: 3, 4: 3}), Counter({0: 6719, -1: 56, 1: 6, 2: 3, 3: 3, 4: 3}), Counter({0: 6719, -1: 56, 1: 6, 2: 3, 3: 3, 4: 3}), Counter({0: 6719, -1: 56, 1: 6, 2: 3, 3: 3, 4: 3}), Counter({0: 6719, -1: 56, 1: 6, 2: 3, 3: 3, 4: 3}), Counter({0: 6719, -1: 56, 1: 6, 2: 3, 3: 3, 4: 3}), Counter({0: 6720, -1: 55, 1: 6, 2: 3, 3: 3, 4: 3}), Counter({0: 6720, -1: 55, 1: 6, 2: 3, 3: 3, 4: 3}), Counter({0: 6720, -1: 55, 1: 6, 2: 3, 3: 3, 4: 3}), Counter({0: 6720, -1: 55, 1: 6, 2: 3, 3: 3, 4: 3}), Counter({0: 6720, -1: 55, 1: 6, 2: 3, 3: 3, 4: 3}), Counter({0: 6720, -1: 55, 1: 6, 2: 3, 3: 3, 4: 3}), Counter({0: 6720, -1: 55, 1: 6, 2: 3, 3: 3, 4: 3}), Counter({0: 6720, -1: 55, 1: 6, 2: 3, 3: 3, 4: 3}), Counter({0: 6727, -1: 54, 1: 3, 2: 3, 3: 3}), Counter({0: 6727, -1: 54, 1: 3, 2: 3, 3: 3}), Counter({0: 6727, -1: 54, 1: 3, 2: 3, 3: 3}), Counter({0: 6727, -1: 54, 1: 3, 2: 3, 3: 3}), Counter({0: 6727, -1: 54, 1: 3, 2: 3, 3: 3}), Counter({0: 6727, -1: 54, 1: 3, 2: 3, 3: 3}), Counter({0: 6727, -1: 54, 1: 3, 2: 3, 3: 3}), Counter({0: 6727, -1: 54, 1: 3, 2: 3, 3: 3}), Counter({0: 6727, -1: 54, 1: 3, 2: 3, 3: 3}), Counter({0: 6727, -1: 54, 1: 3, 2: 3, 3: 3}), Counter({0: 6727, -1: 54, 1: 3, 2: 3, 3: 3}), Counter({0: 6727, -1: 54, 1: 3, 2: 3, 3: 3}), Counter({0: 6727, -1: 54, 1: 3, 2: 3, 3: 3}), Counter({0: 6727, -1: 50, 2: 4, 1: 3, 3: 3, 4: 3}), Counter({0: 6727, -1: 50, 2: 4, 1: 3, 3: 3, 4: 3}), Counter({0: 6727, -1: 50, 2: 4, 1: 3, 3: 3, 4: 3}), Counter({0: 6727, -1: 50, 2: 4, 1: 3, 3: 3, 4: 3}), Counter({0: 6727, -1: 50, 2: 4, 1: 3, 3: 3, 4: 3}), Counter({0: 6727, -1: 50, 2: 4, 1: 3, 3: 3, 4: 3}), Counter({0: 6727, -1: 50, 2: 4, 1: 3, 3: 3, 4: 3}), Counter({0: 6727, -1: 50, 2: 4, 1: 3, 3: 3, 4: 3}), Counter({0: 6727, -1: 50, 2: 4, 1: 3, 3: 3, 4: 3}), Counter({0: 6727, -1: 50, 2: 4, 1: 3, 3: 3, 4: 3}), Counter({0: 6727, -1: 50, 2: 4, 1: 3, 3: 3, 4: 3}), Counter({0: 6727, -1: 50, 2: 4, 1: 3, 3: 3, 4: 3}), Counter({0: 6727, -1: 50, 2: 7, 1: 3, 3: 3}), Counter({0: 6727, -1: 50, 2: 7, 1: 3, 3: 3}), Counter({0: 6727, -1: 50, 2: 7, 1: 3, 3: 3}), Counter({0: 6727, -1: 50, 2: 7, 1: 3, 3: 3}), Counter({0: 6727, -1: 50, 2: 7, 1: 3, 3: 3}), Counter({0: 6727, -1: 50, 2: 7, 1: 3, 3: 3}), Counter({0: 6727, -1: 50, 2: 7, 1: 3, 3: 3}), Counter({0: 6727, -1: 50, 2: 7, 1: 3, 3: 3}), Counter({0: 6727, -1: 50, 2: 7, 1: 3, 3: 3}), Counter({0: 6727, -1: 50, 2: 7, 1: 3, 3: 3}), Counter({0: 6727, -1: 50, 2: 7, 1: 3, 3: 3}), Counter({0: 6727, -1: 50, 2: 7, 1: 3, 3: 3}), Counter({0: 6727, -1: 50, 2: 7, 1: 3, 3: 3}), Counter({0: 6727, -1: 50, 2: 7, 1: 3, 3: 3}), Counter({0: 6727, -1: 50, 2: 7, 1: 3, 3: 3}), Counter({0: 6727, -1: 50, 2: 7, 1: 3, 3: 3}), Counter({0: 6727, -1: 50, 2: 7, 1: 3, 3: 3}), Counter({0: 6727, -1: 50, 2: 7, 1: 3, 3: 3}), Counter({0: 6727, -1: 50, 2: 7, 1: 3, 3: 3}), Counter({0: 6727, -1: 50, 2: 7, 1: 3, 3: 3}), Counter({0: 6727, -1: 50, 2: 7, 1: 3, 3: 3}), Counter({0: 6727, -1: 50, 2: 7, 1: 3, 3: 3}), Counter({0: 6727, -1: 50, 2: 7, 1: 3, 3: 3}), Counter({0: 6727, -1: 50, 2: 7, 1: 3, 3: 3}), Counter({0: 6727, -1: 50, 2: 7, 1: 3, 3: 3}), Counter({0: 6727, -1: 50, 2: 7, 1: 3, 3: 3}), Counter({0: 6727, -1: 50, 2: 7, 1: 3, 3: 3}), Counter({0: 6727, -1: 50, 2: 7, 1: 3, 3: 3}), Counter({0: 6727, -1: 50, 2: 7, 1: 3, 3: 3}), Counter({0: 6727, -1: 50, 2: 7, 1: 3, 3: 3}), Counter({0: 6727, -1: 50, 2: 7, 1: 3, 3: 3}), Counter({0: 6727, -1: 50, 2: 7, 1: 3, 3: 3}), Counter({0: 6727, -1: 50, 2: 7, 1: 3, 3: 3}), Counter({0: 6727, -1: 50, 2: 7, 1: 3, 3: 3}), Counter({0: 6727, -1: 50, 2: 7, 1: 3, 3: 3}), Counter({0: 6727, -1: 50, 2: 7, 1: 3, 3: 3}), Counter({0: 6727, -1: 50, 2: 7, 1: 3, 3: 3}), Counter({0: 6727, -1: 50, 2: 7, 1: 3, 3: 3}), Counter({0: 6727, -1: 50, 2: 7, 1: 3, 3: 3}), Counter({0: 6727, -1: 50, 2: 7, 1: 3, 3: 3}), Counter({0: 6727, -1: 50, 2: 7, 1: 3, 3: 3}), Counter({0: 6727, -1: 50, 2: 7, 1: 3, 3: 3}), Counter({0: 6727, -1: 50, 2: 7, 1: 3, 3: 3}), Counter({0: 6727, -1: 50, 2: 7, 1: 3, 3: 3}), Counter({0: 6727, -1: 50, 2: 7, 1: 3, 3: 3}), Counter({0: 6727, -1: 50, 2: 7, 1: 3, 3: 3}), Counter({0: 6727, -1: 50, 2: 7, 1: 3, 3: 3}), Counter({0: 6727, -1: 50, 2: 7, 1: 3, 3: 3}), Counter({0: 6727, -1: 50, 2: 7, 1: 3, 3: 3}), Counter({0: 6727, -1: 50, 2: 7, 1: 3, 3: 3}), Counter({0: 6727, -1: 50, 2: 7, 1: 3, 3: 3}), Counter({0: 6727, -1: 50, 2: 7, 1: 3, 3: 3}), Counter({0: 6727, -1: 50, 2: 7, 1: 3, 3: 3}), Counter({0: 6727, -1: 50, 2: 7, 1: 3, 3: 3}), Counter({0: 6727, -1: 50, 2: 7, 1: 3, 3: 3}), Counter({0: 6727, -1: 50, 2: 7, 1: 3, 3: 3}), Counter({0: 6727, -1: 50, 2: 7, 1: 3, 3: 3}), Counter({0: 6727, -1: 50, 2: 7, 1: 3, 3: 3}), Counter({0: 6727, -1: 50, 2: 7, 1: 3, 3: 3}), Counter({0: 6727, -1: 50, 2: 7, 1: 3, 3: 3}), Counter({0: 6727, -1: 50, 2: 7, 1: 3, 3: 3}), Counter({0: 6728, -1: 49, 2: 7, 1: 3, 3: 3}), Counter({0: 6728, -1: 49, 2: 7, 1: 3, 3: 3}), Counter({0: 6728, -1: 49, 2: 7, 1: 3, 3: 3}), Counter({0: 6728, -1: 49, 2: 7, 1: 3, 3: 3}), Counter({0: 6728, -1: 49, 2: 7, 1: 3, 3: 3}), Counter({0: 6728, -1: 49, 2: 7, 1: 3, 3: 3}), Counter({0: 6728, -1: 49, 2: 7, 1: 3, 3: 3}), Counter({0: 6728, -1: 49, 2: 7, 1: 3, 3: 3}), Counter({0: 6728, -1: 49, 2: 7, 1: 3, 3: 3}), Counter({0: 6728, -1: 49, 2: 7, 1: 3, 3: 3}), Counter({0: 6728, -1: 49, 2: 7, 1: 3, 3: 3}), Counter({0: 6728, -1: 49, 2: 7, 1: 3, 3: 3}), Counter({0: 6728, -1: 49, 2: 7, 1: 3, 3: 3}), Counter({0: 6728, -1: 49, 2: 7, 1: 3, 3: 3}), Counter({0: 6728, -1: 49, 2: 7, 1: 3, 3: 3}), Counter({0: 6728, -1: 49, 2: 7, 1: 3, 3: 3}), Counter({0: 6728, -1: 49, 2: 7, 1: 3, 3: 3}), Counter({0: 6728, -1: 49, 2: 7, 1: 3, 3: 3}), Counter({0: 6728, -1: 49, 2: 7, 1: 3, 3: 3}), Counter({0: 6728, -1: 49, 2: 7, 1: 3, 3: 3}), Counter({0: 6728, -1: 49, 2: 7, 1: 3, 3: 3}), Counter({0: 6728, -1: 49, 2: 7, 1: 3, 3: 3}), Counter({0: 6728, -1: 49, 2: 7, 1: 3, 3: 3}), Counter({0: 6728, -1: 49, 2: 7, 1: 3, 3: 3}), Counter({0: 6728, -1: 49, 2: 7, 1: 3, 3: 3}), Counter({0: 6728, -1: 49, 2: 7, 1: 3, 3: 3}), Counter({0: 6728, -1: 49, 2: 7, 1: 3, 3: 3}), Counter({0: 6728, -1: 46, 3: 7, 2: 3, 1: 3, 4: 3}), Counter({0: 6728, -1: 46, 3: 7, 2: 3, 1: 3, 4: 3}), Counter({0: 6728, -1: 46, 3: 7, 2: 3, 1: 3, 4: 3}), Counter({0: 6728, -1: 46, 3: 7, 2: 3, 1: 3, 4: 3}), Counter({0: 6728, -1: 46, 3: 7, 2: 3, 1: 3, 4: 3}), Counter({0: 6728, -1: 46, 3: 7, 2: 3, 1: 3, 4: 3}), Counter({0: 6728, -1: 46, 3: 7, 2: 3, 1: 3, 4: 3}), Counter({0: 6728, -1: 46, 3: 7, 2: 3, 1: 3, 4: 3}), Counter({0: 6728, -1: 46, 3: 7, 2: 3, 1: 3, 4: 3}), Counter({0: 6728, -1: 46, 3: 7, 2: 3, 1: 3, 4: 3}), Counter({0: 6728, -1: 46, 3: 7, 2: 3, 1: 3, 4: 3}), Counter({0: 6728, -1: 46, 3: 7, 2: 3, 1: 3, 4: 3}), Counter({0: 6728, -1: 46, 3: 7, 2: 3, 1: 3, 4: 3}), Counter({0: 6728, -1: 46, 3: 7, 2: 3, 1: 3, 4: 3}), Counter({0: 6728, -1: 46, 3: 7, 2: 3, 1: 3, 4: 3}), Counter({0: 6722, -1: 58, 1: 6, 2: 4}), Counter({0: 6728, -1: 46, 3: 7, 2: 3, 1: 3, 4: 3}), Counter({0: 6722, -1: 58, 1: 6, 2: 4}), Counter({0: 6728, -1: 46, 3: 7, 2: 3, 1: 3, 4: 3}), Counter({0: 6722, -1: 58, 1: 6, 2: 4}), Counter({0: 6728, -1: 46, 3: 7, 2: 3, 1: 3, 4: 3}), Counter({0: 6722, -1: 58, 1: 6, 2: 4}), Counter({0: 6728, -1: 46, 3: 7, 2: 3, 1: 3, 4: 3}), Counter({0: 6722, -1: 58, 1: 6, 2: 4}), Counter({0: 6728, -1: 46, 3: 7, 2: 3, 1: 3, 4: 3}), Counter({0: 6722, -1: 58, 1: 6, 2: 4}), Counter({0: 6728, -1: 46, 3: 7, 2: 3, 1: 3, 4: 3}), Counter({0: 6722, -1: 58, 1: 6, 2: 4}), Counter({0: 6728, -1: 46, 3: 7, 2: 3, 1: 3, 4: 3}), Counter({0: 6722, -1: 58, 1: 6, 2: 4})]\n"
     ]
    }
   ],
   "source": [
    "print(dbscan_clusters)\n",
    "print(cluster_count)"
   ]
  },
  {
   "cell_type": "code",
   "execution_count": 0,
   "metadata": {
    "colab": {
     "base_uri": "https://localhost:8080/",
     "height": 33
    },
    "colab_type": "code",
    "id": "RKVc621dUJ2P",
    "outputId": "0bf604b5-cf8b-47ca-c624-2e16a9e04cfa"
   },
   "outputs": [
    {
     "name": "stdout",
     "output_type": "stream",
     "text": [
      "smallest size of cluster 0 is 5928\n"
     ]
    }
   ],
   "source": [
    "cluster0_size_min = 100000 # initialize with a large number\n",
    "for i in range(0,len(cluster_count)):\n",
    "  if cluster_count[i][0] < cluster0_size_min:\n",
    "    cluster0_size_min = cluster_count[i][0]\n",
    "print('smallest size of cluster 0 is', cluster0_size_min)"
   ]
  },
  {
   "cell_type": "code",
   "execution_count": 0,
   "metadata": {
    "colab": {
     "base_uri": "https://localhost:8080/",
     "height": 33
    },
    "colab_type": "code",
    "id": "TOqDhAFnVpJ3",
    "outputId": "2c40abac-c3bd-4a68-db65-5bba345747c1"
   },
   "outputs": [
    {
     "name": "stdout",
     "output_type": "stream",
     "text": [
      "largest size of cluster 1 is 35\n"
     ]
    }
   ],
   "source": [
    "cluster1_size_max = 0\n",
    "for i in range(0,len(cluster_count)):\n",
    "  if cluster_count[i][1] > cluster1_size_max:\n",
    "    cluster1_size_max = cluster_count[i][1]\n",
    "print('largest size of cluster 1 is', cluster1_size_max)"
   ]
  },
  {
   "cell_type": "code",
   "execution_count": 0,
   "metadata": {
    "colab": {
     "base_uri": "https://localhost:8080/",
     "height": 33
    },
    "colab_type": "code",
    "id": "cvLh5rAWWFn9",
    "outputId": "01a9240d-7219-42d3-8407-a7f88352bf38"
   },
   "outputs": [
    {
     "name": "stdout",
     "output_type": "stream",
     "text": [
      "largest size of cluster 2 is 29\n"
     ]
    }
   ],
   "source": [
    "cluster2_size_max = 0\n",
    "for i in range(0,len(cluster_count)):\n",
    "  if cluster_count[i][2] > cluster2_size_max:\n",
    "    cluster2_size_max = cluster_count[i][2]\n",
    "print('largest size of cluster 2 is', cluster2_size_max)"
   ]
  },
  {
   "cell_type": "code",
   "execution_count": 0,
   "metadata": {
    "colab": {
     "base_uri": "https://localhost:8080/",
     "height": 33
    },
    "colab_type": "code",
    "id": "tjeTYj48WPXc",
    "outputId": "fe85a285-aab0-472f-934c-5e6594edf108"
   },
   "outputs": [
    {
     "name": "stdout",
     "output_type": "stream",
     "text": [
      "largest size of cluster -1 is 812\n"
     ]
    }
   ],
   "source": [
    "cluster_minus1_size_max = 0\n",
    "for i in range(0,len(cluster_count)):\n",
    "  if cluster_count[i][-1] > cluster_minus1_size_max:\n",
    "    cluster_minus1_size_max = cluster_count[i][-1]\n",
    "print('largest size of cluster -1 is', cluster_minus1_size_max)"
   ]
  },
  {
   "cell_type": "markdown",
   "metadata": {
    "colab_type": "text",
    "id": "FCmrgjgkWxsl"
   },
   "source": [
    "## K-MEANS"
   ]
  },
  {
   "cell_type": "code",
   "execution_count": 0,
   "metadata": {
    "colab": {
     "base_uri": "https://localhost:8080/",
     "height": 33
    },
    "colab_type": "code",
    "id": "mEAS-F2jYio8",
    "outputId": "f9b437a0-7d1d-42e0-f58a-4a5fd2e67ae6"
   },
   "outputs": [
    {
     "data": {
      "text/plain": [
       "6790"
      ]
     },
     "execution_count": 146,
     "metadata": {
      "tags": []
     },
     "output_type": "execute_result"
    }
   ],
   "source": [
    "len(X_scaled)"
   ]
  },
  {
   "cell_type": "code",
   "execution_count": 0,
   "metadata": {
    "colab": {},
    "colab_type": "code",
    "id": "YzRheCkx2Zbz"
   },
   "outputs": [],
   "source": [
    "from sklearn.cluster import KMeans"
   ]
  },
  {
   "cell_type": "code",
   "execution_count": 0,
   "metadata": {
    "colab": {
     "base_uri": "https://localhost:8080/",
     "height": 33
    },
    "colab_type": "code",
    "id": "u_r7TfIrXvHw",
    "outputId": "b271127d-40f6-4036-978e-ccc1bcd16e19"
   },
   "outputs": [
    {
     "name": "stdout",
     "output_type": "stream",
     "text": [
      "no. of iterations: 3\n"
     ]
    }
   ],
   "source": [
    "km=KMeans(n_clusters=5, random_state=42,tol=0.0001)\n",
    "km.fit(X_scaled)\n",
    "print('no. of iterations:', km.n_iter_)"
   ]
  },
  {
   "cell_type": "code",
   "execution_count": 0,
   "metadata": {
    "colab": {
     "base_uri": "https://localhost:8080/",
     "height": 33
    },
    "colab_type": "code",
    "id": "Fc5cmfeXY1LJ",
    "outputId": "186c60ee-582e-407b-a788-189123b43643"
   },
   "outputs": [
    {
     "data": {
      "text/plain": [
       "11597.045269213015"
      ]
     },
     "execution_count": 212,
     "metadata": {
      "tags": []
     },
     "output_type": "execute_result"
    }
   ],
   "source": [
    "km.inertia_"
   ]
  },
  {
   "cell_type": "code",
   "execution_count": 0,
   "metadata": {
    "colab": {
     "base_uri": "https://localhost:8080/",
     "height": 191
    },
    "colab_type": "code",
    "id": "8aMB4I7NZAy3",
    "outputId": "156d52bd-f2ba-418b-9db1-fa1fcb2bf247"
   },
   "outputs": [
    {
     "data": {
      "text/html": [
       "<div>\n",
       "<style scoped>\n",
       "    .dataframe tbody tr th:only-of-type {\n",
       "        vertical-align: middle;\n",
       "    }\n",
       "\n",
       "    .dataframe tbody tr th {\n",
       "        vertical-align: top;\n",
       "    }\n",
       "\n",
       "    .dataframe thead th {\n",
       "        text-align: right;\n",
       "    }\n",
       "</style>\n",
       "<table border=\"1\" class=\"dataframe\">\n",
       "  <thead>\n",
       "    <tr style=\"text-align: right;\">\n",
       "      <th></th>\n",
       "      <th>auwgr</th>\n",
       "      <th>lkpp</th>\n",
       "      <th>amlr</th>\n",
       "      <th>amer</th>\n",
       "      <th>der</th>\n",
       "      <th>cluster</th>\n",
       "    </tr>\n",
       "  </thead>\n",
       "  <tbody>\n",
       "    <tr>\n",
       "      <th>0</th>\n",
       "      <td>0.241854</td>\n",
       "      <td>1.505486</td>\n",
       "      <td>0.865390</td>\n",
       "      <td>0.021265</td>\n",
       "      <td>0.036815</td>\n",
       "      <td>0</td>\n",
       "    </tr>\n",
       "    <tr>\n",
       "      <th>1</th>\n",
       "      <td>-0.867997</td>\n",
       "      <td>2.534810</td>\n",
       "      <td>1.397724</td>\n",
       "      <td>0.074598</td>\n",
       "      <td>0.371861</td>\n",
       "      <td>0</td>\n",
       "    </tr>\n",
       "    <tr>\n",
       "      <th>2</th>\n",
       "      <td>10.434234</td>\n",
       "      <td>0.836520</td>\n",
       "      <td>2.218928</td>\n",
       "      <td>0.222687</td>\n",
       "      <td>-3.385768</td>\n",
       "      <td>0</td>\n",
       "    </tr>\n",
       "    <tr>\n",
       "      <th>3</th>\n",
       "      <td>-0.001043</td>\n",
       "      <td>-0.157507</td>\n",
       "      <td>3.099674</td>\n",
       "      <td>6.047065</td>\n",
       "      <td>-0.119973</td>\n",
       "      <td>0</td>\n",
       "    </tr>\n",
       "    <tr>\n",
       "      <th>4</th>\n",
       "      <td>-0.598818</td>\n",
       "      <td>1.211453</td>\n",
       "      <td>2.479259</td>\n",
       "      <td>1.246263</td>\n",
       "      <td>0.224976</td>\n",
       "      <td>0</td>\n",
       "    </tr>\n",
       "  </tbody>\n",
       "</table>\n",
       "</div>"
      ],
      "text/plain": [
       "       auwgr      lkpp      amlr      amer       der  cluster\n",
       "0   0.241854  1.505486  0.865390  0.021265  0.036815        0\n",
       "1  -0.867997  2.534810  1.397724  0.074598  0.371861        0\n",
       "2  10.434234  0.836520  2.218928  0.222687 -3.385768        0\n",
       "3  -0.001043 -0.157507  3.099674  6.047065 -0.119973        0\n",
       "4  -0.598818  1.211453  2.479259  1.246263  0.224976        0"
      ]
     },
     "execution_count": 153,
     "metadata": {
      "tags": []
     },
     "output_type": "execute_result"
    }
   ],
   "source": [
    "df_cluster['cluster'] = km.labels_\n",
    "df_cluster.head()"
   ]
  },
  {
   "cell_type": "code",
   "execution_count": 0,
   "metadata": {
    "colab": {
     "base_uri": "https://localhost:8080/",
     "height": 115
    },
    "colab_type": "code",
    "id": "h-Cg0aUpZIaW",
    "outputId": "2502031e-844f-48db-f55c-509880cb8311"
   },
   "outputs": [
    {
     "data": {
      "text/plain": [
       "0    6786\n",
       "3       1\n",
       "2       1\n",
       "1       1\n",
       "4       1\n",
       "Name: cluster, dtype: int64"
      ]
     },
     "execution_count": 154,
     "metadata": {
      "tags": []
     },
     "output_type": "execute_result"
    }
   ],
   "source": [
    "df_cluster['cluster'].value_counts()"
   ]
  },
  {
   "cell_type": "code",
   "execution_count": 0,
   "metadata": {
    "colab": {},
    "colab_type": "code",
    "id": "uuaRl4Camick"
   },
   "outputs": [],
   "source": [
    "KMeans()"
   ]
  },
  {
   "cell_type": "code",
   "execution_count": 0,
   "metadata": {
    "colab": {
     "base_uri": "https://localhost:8080/",
     "height": 191
    },
    "colab_type": "code",
    "id": "aO-D7PhVabsI",
    "outputId": "642943c6-badc-4a7a-de14-e94d7659a3ae"
   },
   "outputs": [
    {
     "data": {
      "text/html": [
       "<div>\n",
       "<style scoped>\n",
       "    .dataframe tbody tr th:only-of-type {\n",
       "        vertical-align: middle;\n",
       "    }\n",
       "\n",
       "    .dataframe tbody tr th {\n",
       "        vertical-align: top;\n",
       "    }\n",
       "\n",
       "    .dataframe thead th {\n",
       "        text-align: right;\n",
       "    }\n",
       "</style>\n",
       "<table border=\"1\" class=\"dataframe\">\n",
       "  <thead>\n",
       "    <tr style=\"text-align: right;\">\n",
       "      <th></th>\n",
       "      <th>k</th>\n",
       "      <th>inertia</th>\n",
       "      <th>silhouette</th>\n",
       "    </tr>\n",
       "  </thead>\n",
       "  <tbody>\n",
       "    <tr>\n",
       "      <th>36</th>\n",
       "      <td>46</td>\n",
       "      <td>24.210535</td>\n",
       "      <td>0.545255</td>\n",
       "    </tr>\n",
       "    <tr>\n",
       "      <th>37</th>\n",
       "      <td>47</td>\n",
       "      <td>22.564045</td>\n",
       "      <td>0.545046</td>\n",
       "    </tr>\n",
       "    <tr>\n",
       "      <th>38</th>\n",
       "      <td>48</td>\n",
       "      <td>21.052314</td>\n",
       "      <td>0.547521</td>\n",
       "    </tr>\n",
       "    <tr>\n",
       "      <th>39</th>\n",
       "      <td>49</td>\n",
       "      <td>19.721099</td>\n",
       "      <td>0.474172</td>\n",
       "    </tr>\n",
       "    <tr>\n",
       "      <th>40</th>\n",
       "      <td>50</td>\n",
       "      <td>18.363686</td>\n",
       "      <td>0.534119</td>\n",
       "    </tr>\n",
       "  </tbody>\n",
       "</table>\n",
       "</div>"
      ],
      "text/plain": [
       "     k    inertia  silhouette\n",
       "36  46  24.210535    0.545255\n",
       "37  47  22.564045    0.545046\n",
       "38  48  21.052314    0.547521\n",
       "39  49  19.721099    0.474172\n",
       "40  50  18.363686    0.534119"
      ]
     },
     "execution_count": 262,
     "metadata": {
      "tags": []
     },
     "output_type": "execute_result"
    }
   ],
   "source": [
    "min_clusters=10\n",
    "max_clusters=50\n",
    "scores = []\n",
    "for k in range(min_clusters, max_clusters+1):\n",
    "    cl = KMeans(n_clusters=k, random_state=42,tol=0.000000000000000001)\n",
    "    cl.fit(X_scaled)\n",
    "    inertia = cl.inertia_\n",
    "    sil = silhouette_score(X_scaled, cl.labels_)\n",
    "    scores.append([k, inertia, sil])\n",
    "    \n",
    "score_df = pd.DataFrame(scores)\n",
    "score_df.columns = ['k', 'inertia', 'silhouette']\n",
    "score_df.tail()"
   ]
  },
  {
   "cell_type": "code",
   "execution_count": 0,
   "metadata": {
    "colab": {
     "base_uri": "https://localhost:8080/",
     "height": 463
    },
    "colab_type": "code",
    "id": "2TNtO8gkcrot",
    "outputId": "f13cb083-e977-4ab4-8ef4-0a5ea08d74e6"
   },
   "outputs": [
    {
     "data": {
      "text/plain": [
       "Text(0.5, 1.0, 'Silhouette Score over k')"
      ]
     },
     "execution_count": 263,
     "metadata": {
      "tags": []
     },
     "output_type": "execute_result"
    },
    {
     "data": {
      "image/png": "[encoded data removed]",
      "text/plain": [
       "<Figure size 1008x504 with 2 Axes>"
      ]
     },
     "metadata": {
      "tags": []
     },
     "output_type": "display_data"
    }
   ],
   "source": [
    "fig, axes = plt.subplots(1, 2, figsize=(14, 7))\n",
    "axes[0].plot(score_df.k, score_df.inertia)\n",
    "axes[0].set_title('Inertia over k')\n",
    "axes[0].set_ylim(10,2000)\n",
    "axes[1].plot(score_df.k, score_df.silhouette);\n",
    "axes[1].set_title('Silhouette Score over k')"
   ]
  },
  {
   "cell_type": "code",
   "execution_count": 0,
   "metadata": {
    "colab": {
     "base_uri": "https://localhost:8080/",
     "height": 66
    },
    "colab_type": "code",
    "id": "t6t4EZNxiYlL",
    "outputId": "8b2a404f-eb8f-4997-a9c5-a95f66884f56"
   },
   "outputs": [
    {
     "name": "stdout",
     "output_type": "stream",
     "text": [
      "num iterations: 42\n",
      "inertia: 18.36368606289952\n",
      "silhouette score: 0.5341188641515977\n"
     ]
    }
   ],
   "source": [
    "# based on above plots, select k\n",
    "km=KMeans(n_clusters=50, random_state=42,tol=0.000000000000000001)\n",
    "num_iterations = km.fit(X_scaled)\n",
    "print('num iterations:',km.n_iter_)\n",
    "print('inertia:',km.inertia_)\n",
    "print('silhouette score:',silhouette_score(X_scaled, km.labels_))\n",
    "df_cluster['cluster'] = km.labels_"
   ]
  },
  {
   "cell_type": "code",
   "execution_count": 0,
   "metadata": {
    "colab": {
     "base_uri": "https://localhost:8080/",
     "height": 277
    },
    "colab_type": "code",
    "id": "y2qZmbOwhole",
    "outputId": "3bca1e19-f96a-4e53-aeeb-ea71c1018109"
   },
   "outputs": [
    {
     "data": {
      "text/plain": [
       "0     3861\n",
       "30    1015\n",
       "40    1007\n",
       "32     267\n",
       "49     254\n",
       "48      84\n",
       "22      84\n",
       "35      42\n",
       "25      34\n",
       "31      27\n",
       "37      13\n",
       "45      12\n",
       "17       9\n",
       "38       7\n",
       "34       7\n",
       "Name: cluster, dtype: int64"
      ]
     },
     "execution_count": 265,
     "metadata": {
      "tags": []
     },
     "output_type": "execute_result"
    }
   ],
   "source": [
    "df_cluster['cluster'].value_counts().head(15) # first 15 rows"
   ]
  },
  {
   "cell_type": "code",
   "execution_count": 0,
   "metadata": {
    "colab": {
     "base_uri": "https://localhost:8080/",
     "height": 76
    },
    "colab_type": "code",
    "id": "_xIfk5a_k8nw",
    "outputId": "e6c7f0af-760b-4829-bb31-3fe562c7f452"
   },
   "outputs": [
    {
     "data": {
      "text/html": [
       "<div>\n",
       "<style scoped>\n",
       "    .dataframe tbody tr th:only-of-type {\n",
       "        vertical-align: middle;\n",
       "    }\n",
       "\n",
       "    .dataframe tbody tr th {\n",
       "        vertical-align: top;\n",
       "    }\n",
       "\n",
       "    .dataframe thead th {\n",
       "        text-align: right;\n",
       "    }\n",
       "</style>\n",
       "<table border=\"1\" class=\"dataframe\">\n",
       "  <thead>\n",
       "    <tr style=\"text-align: right;\">\n",
       "      <th></th>\n",
       "      <th>auwgr</th>\n",
       "      <th>lkpp</th>\n",
       "      <th>amlr</th>\n",
       "      <th>amer</th>\n",
       "      <th>der</th>\n",
       "      <th>cluster</th>\n",
       "    </tr>\n",
       "  </thead>\n",
       "  <tbody>\n",
       "    <tr>\n",
       "      <th>0</th>\n",
       "      <td>0.241854</td>\n",
       "      <td>1.505486</td>\n",
       "      <td>0.86539</td>\n",
       "      <td>0.021265</td>\n",
       "      <td>0.036815</td>\n",
       "      <td>0</td>\n",
       "    </tr>\n",
       "  </tbody>\n",
       "</table>\n",
       "</div>"
      ],
      "text/plain": [
       "      auwgr      lkpp     amlr      amer       der  cluster\n",
       "0  0.241854  1.505486  0.86539  0.021265  0.036815        0"
      ]
     },
     "execution_count": 266,
     "metadata": {
      "tags": []
     },
     "output_type": "execute_result"
    }
   ],
   "source": [
    "df_cluster.head(1)"
   ]
  },
  {
   "cell_type": "code",
   "execution_count": 0,
   "metadata": {
    "colab": {
     "base_uri": "https://localhost:8080/",
     "height": 391
    },
    "colab_type": "code",
    "id": "ngW8SDEhHT0P",
    "outputId": "d1e83ce5-2a21-456c-c5c2-a59311be2b6a"
   },
   "outputs": [
    {
     "data": {
      "text/html": [
       "<div>\n",
       "<style scoped>\n",
       "    .dataframe tbody tr th:only-of-type {\n",
       "        vertical-align: middle;\n",
       "    }\n",
       "\n",
       "    .dataframe tbody tr th {\n",
       "        vertical-align: top;\n",
       "    }\n",
       "\n",
       "    .dataframe thead th {\n",
       "        text-align: right;\n",
       "    }\n",
       "</style>\n",
       "<table border=\"1\" class=\"dataframe\">\n",
       "  <thead>\n",
       "    <tr style=\"text-align: right;\">\n",
       "      <th></th>\n",
       "      <th>auwgr</th>\n",
       "      <th>lkpp</th>\n",
       "      <th>amlr</th>\n",
       "      <th>amer</th>\n",
       "      <th>der</th>\n",
       "      <th>cluster</th>\n",
       "    </tr>\n",
       "  </thead>\n",
       "  <tbody>\n",
       "    <tr>\n",
       "      <th>0</th>\n",
       "      <td>0.241854</td>\n",
       "      <td>1.505486</td>\n",
       "      <td>0.865390</td>\n",
       "      <td>0.021265</td>\n",
       "      <td>0.036815</td>\n",
       "      <td>0</td>\n",
       "    </tr>\n",
       "    <tr>\n",
       "      <th>4000</th>\n",
       "      <td>0.708619</td>\n",
       "      <td>0.562287</td>\n",
       "      <td>3.430008</td>\n",
       "      <td>0.299542</td>\n",
       "      <td>0.158162</td>\n",
       "      <td>0</td>\n",
       "    </tr>\n",
       "    <tr>\n",
       "      <th>3994</th>\n",
       "      <td>0.346123</td>\n",
       "      <td>1.768853</td>\n",
       "      <td>7.103584</td>\n",
       "      <td>0.218639</td>\n",
       "      <td>0.169139</td>\n",
       "      <td>0</td>\n",
       "    </tr>\n",
       "    <tr>\n",
       "      <th>3993</th>\n",
       "      <td>0.021842</td>\n",
       "      <td>2.456157</td>\n",
       "      <td>5.992730</td>\n",
       "      <td>0.181517</td>\n",
       "      <td>0.165966</td>\n",
       "      <td>0</td>\n",
       "    </tr>\n",
       "    <tr>\n",
       "      <th>3992</th>\n",
       "      <td>-0.029687</td>\n",
       "      <td>1.462711</td>\n",
       "      <td>1.306696</td>\n",
       "      <td>0.162552</td>\n",
       "      <td>0.151766</td>\n",
       "      <td>0</td>\n",
       "    </tr>\n",
       "    <tr>\n",
       "      <th>...</th>\n",
       "      <td>...</td>\n",
       "      <td>...</td>\n",
       "      <td>...</td>\n",
       "      <td>...</td>\n",
       "      <td>...</td>\n",
       "      <td>...</td>\n",
       "    </tr>\n",
       "    <tr>\n",
       "      <th>1820</th>\n",
       "      <td>0.458492</td>\n",
       "      <td>17.731961</td>\n",
       "      <td>1.349623</td>\n",
       "      <td>0.426928</td>\n",
       "      <td>-0.037482</td>\n",
       "      <td>49</td>\n",
       "    </tr>\n",
       "    <tr>\n",
       "      <th>332</th>\n",
       "      <td>0.303972</td>\n",
       "      <td>11.835881</td>\n",
       "      <td>0.410344</td>\n",
       "      <td>0.442105</td>\n",
       "      <td>-0.270490</td>\n",
       "      <td>49</td>\n",
       "    </tr>\n",
       "    <tr>\n",
       "      <th>744</th>\n",
       "      <td>0.187360</td>\n",
       "      <td>11.027251</td>\n",
       "      <td>0.896518</td>\n",
       "      <td>0.303636</td>\n",
       "      <td>0.100140</td>\n",
       "      <td>49</td>\n",
       "    </tr>\n",
       "    <tr>\n",
       "      <th>6287</th>\n",
       "      <td>-1.091383</td>\n",
       "      <td>12.899899</td>\n",
       "      <td>1.086688</td>\n",
       "      <td>4.094336</td>\n",
       "      <td>-2.338917</td>\n",
       "      <td>49</td>\n",
       "    </tr>\n",
       "    <tr>\n",
       "      <th>687</th>\n",
       "      <td>0.329190</td>\n",
       "      <td>10.548943</td>\n",
       "      <td>0.475660</td>\n",
       "      <td>0.341603</td>\n",
       "      <td>0.075250</td>\n",
       "      <td>49</td>\n",
       "    </tr>\n",
       "  </tbody>\n",
       "</table>\n",
       "<p>6790 rows × 6 columns</p>\n",
       "</div>"
      ],
      "text/plain": [
       "         auwgr       lkpp      amlr      amer       der  cluster\n",
       "0     0.241854   1.505486  0.865390  0.021265  0.036815        0\n",
       "4000  0.708619   0.562287  3.430008  0.299542  0.158162        0\n",
       "3994  0.346123   1.768853  7.103584  0.218639  0.169139        0\n",
       "3993  0.021842   2.456157  5.992730  0.181517  0.165966        0\n",
       "3992 -0.029687   1.462711  1.306696  0.162552  0.151766        0\n",
       "...        ...        ...       ...       ...       ...      ...\n",
       "1820  0.458492  17.731961  1.349623  0.426928 -0.037482       49\n",
       "332   0.303972  11.835881  0.410344  0.442105 -0.270490       49\n",
       "744   0.187360  11.027251  0.896518  0.303636  0.100140       49\n",
       "6287 -1.091383  12.899899  1.086688  4.094336 -2.338917       49\n",
       "687   0.329190  10.548943  0.475660  0.341603  0.075250       49\n",
       "\n",
       "[6790 rows x 6 columns]"
      ]
     },
     "execution_count": 285,
     "metadata": {
      "tags": []
     },
     "output_type": "execute_result"
    }
   ],
   "source": [
    "df_cluster.sort_values(by='cluster')"
   ]
  },
  {
   "cell_type": "code",
   "execution_count": 0,
   "metadata": {
    "colab": {},
    "colab_type": "code",
    "id": "ZsdenOuvHmwY"
   },
   "outputs": [],
   "source": [
    "df_cluster.to_csv('df_cluster_kmeans.csv')"
   ]
  },
  {
   "cell_type": "markdown",
   "metadata": {
    "colab_type": "text",
    "id": "xDJDZfWXl0aO"
   },
   "source": [
    "## HIERARCHICAL"
   ]
  },
  {
   "cell_type": "code",
   "execution_count": 0,
   "metadata": {
    "colab": {},
    "colab_type": "code",
    "id": "0_xdptD8mMoG"
   },
   "outputs": [],
   "source": [
    "from scipy.cluster.hierarchy import dendrogram, linkage, cophenet, fcluster\n",
    "from scipy.spatial.distance import pdist"
   ]
  },
  {
   "cell_type": "code",
   "execution_count": 0,
   "metadata": {
    "colab": {
     "base_uri": "https://localhost:8080/",
     "height": 33
    },
    "colab_type": "code",
    "id": "z69nRklz3TMH",
    "outputId": "93b073ad-5fa1-47d6-808d-a3d02573ca65"
   },
   "outputs": [
    {
     "data": {
      "text/plain": [
       "(6790, 5)"
      ]
     },
     "execution_count": 272,
     "metadata": {
      "tags": []
     },
     "output_type": "execute_result"
    }
   ],
   "source": [
    "X_scaled.shape"
   ]
  },
  {
   "cell_type": "code",
   "execution_count": 0,
   "metadata": {
    "colab": {},
    "colab_type": "code",
    "id": "PlIYWMkA2Lye"
   },
   "outputs": [],
   "source": [
    "Z = linkage(X_scaled, 'single')"
   ]
  },
  {
   "cell_type": "code",
   "execution_count": 0,
   "metadata": {
    "colab": {
     "base_uri": "https://localhost:8080/",
     "height": 33
    },
    "colab_type": "code",
    "id": "bmDVW3zR3Jgg",
    "outputId": "659ac460-a631-4f9b-f834-ac0c212e8975"
   },
   "outputs": [
    {
     "data": {
      "text/plain": [
       "(6789, 4)"
      ]
     },
     "execution_count": 271,
     "metadata": {
      "tags": []
     },
     "output_type": "execute_result"
    }
   ],
   "source": [
    "Z.shape"
   ]
  },
  {
   "cell_type": "code",
   "execution_count": 0,
   "metadata": {
    "colab": {
     "base_uri": "https://localhost:8080/",
     "height": 191
    },
    "colab_type": "code",
    "id": "66UycLzu3gXO",
    "outputId": "b23f8ac0-df8d-44fb-d754-4301bb44a9f4"
   },
   "outputs": [
    {
     "data": {
      "text/html": [
       "<div>\n",
       "<style scoped>\n",
       "    .dataframe tbody tr th:only-of-type {\n",
       "        vertical-align: middle;\n",
       "    }\n",
       "\n",
       "    .dataframe tbody tr th {\n",
       "        vertical-align: top;\n",
       "    }\n",
       "\n",
       "    .dataframe thead th {\n",
       "        text-align: right;\n",
       "    }\n",
       "</style>\n",
       "<table border=\"1\" class=\"dataframe\">\n",
       "  <thead>\n",
       "    <tr style=\"text-align: right;\">\n",
       "      <th></th>\n",
       "      <th>cluster_index_left</th>\n",
       "      <th>cluster_index_right</th>\n",
       "      <th>distance</th>\n",
       "      <th>support</th>\n",
       "    </tr>\n",
       "  </thead>\n",
       "  <tbody>\n",
       "    <tr>\n",
       "      <th>0</th>\n",
       "      <td>6605.0</td>\n",
       "      <td>6607.0</td>\n",
       "      <td>0.000021</td>\n",
       "      <td>2.0</td>\n",
       "    </tr>\n",
       "    <tr>\n",
       "      <th>1</th>\n",
       "      <td>1061.0</td>\n",
       "      <td>1063.0</td>\n",
       "      <td>0.000023</td>\n",
       "      <td>2.0</td>\n",
       "    </tr>\n",
       "    <tr>\n",
       "      <th>2</th>\n",
       "      <td>6303.0</td>\n",
       "      <td>6304.0</td>\n",
       "      <td>0.000034</td>\n",
       "      <td>2.0</td>\n",
       "    </tr>\n",
       "    <tr>\n",
       "      <th>3</th>\n",
       "      <td>2221.0</td>\n",
       "      <td>2225.0</td>\n",
       "      <td>0.000034</td>\n",
       "      <td>2.0</td>\n",
       "    </tr>\n",
       "    <tr>\n",
       "      <th>4</th>\n",
       "      <td>1268.0</td>\n",
       "      <td>3708.0</td>\n",
       "      <td>0.000035</td>\n",
       "      <td>2.0</td>\n",
       "    </tr>\n",
       "  </tbody>\n",
       "</table>\n",
       "</div>"
      ],
      "text/plain": [
       "   cluster_index_left  cluster_index_right  distance  support\n",
       "0              6605.0               6607.0  0.000021      2.0\n",
       "1              1061.0               1063.0  0.000023      2.0\n",
       "2              6303.0               6304.0  0.000034      2.0\n",
       "3              2221.0               2225.0  0.000034      2.0\n",
       "4              1268.0               3708.0  0.000035      2.0"
      ]
     },
     "execution_count": 276,
     "metadata": {
      "tags": []
     },
     "output_type": "execute_result"
    }
   ],
   "source": [
    "# Put Z in to DataFrame for easy display\n",
    "link = pd.DataFrame(Z, columns=['cluster_index_left', 'cluster_index_right', 'distance', 'support'])\n",
    "link.head()"
   ]
  },
  {
   "cell_type": "code",
   "execution_count": 0,
   "metadata": {
    "colab": {
     "base_uri": "https://localhost:8080/",
     "height": 33
    },
    "colab_type": "code",
    "id": "SiU6_9Bk3oEL",
    "outputId": "cae6230d-bbb7-4ebf-ef3f-43b01ae94cbc"
   },
   "outputs": [
    {
     "data": {
      "text/plain": [
       "0.9403956440031981"
      ]
     },
     "execution_count": 274,
     "metadata": {
      "tags": []
     },
     "output_type": "execute_result"
    }
   ],
   "source": [
    "# Show cophenetic coefficient\n",
    "c, coph_dists = cophenet(Z, pdist(X_scaled))\n",
    "c"
   ]
  },
  {
   "cell_type": "code",
   "execution_count": 0,
   "metadata": {
    "colab": {},
    "colab_type": "code",
    "id": "bQ8o9WM_8WjI"
   },
   "outputs": [],
   "source": [
    "import sys\n",
    "sys.setrecursionlimit(10000)"
   ]
  },
  {
   "cell_type": "code",
   "execution_count": 0,
   "metadata": {
    "colab": {
     "base_uri": "https://localhost:8080/",
     "height": 496
    },
    "colab_type": "code",
    "id": "nM8AP6qI3vQv",
    "outputId": "32a79da5-1ca1-4422-bcbb-eb8fe71d5364"
   },
   "outputs": [
    {
     "data": {
      "image/png": "[encoded data removed]",
      "text/plain": [
       "<Figure size 1224x576 with 1 Axes>"
      ]
     },
     "metadata": {
      "tags": []
     },
     "output_type": "display_data"
    }
   ],
   "source": [
    "plt.figure(figsize=(17,8))\n",
    "dendrogram(Z, leaf_rotation=90., leaf_font_size=8.);"
   ]
  }
 ],
 "metadata": {
  "colab": {
   "collapsed_sections": [],
   "name": "capstone_notebook2.ipynb",
   "provenance": [],
   "toc_visible": true
  },
  "kernelspec": {
   "display_name": "Python 3",
   "language": "python",
   "name": "python3"
  },
  "language_info": {
   "codemirror_mode": {
    "name": "ipython",
    "version": 3
   },
   "file_extension": ".py",
   "mimetype": "text/x-python",
   "name": "python",
   "nbconvert_exporter": "python",
   "pygments_lexer": "ipython3",
   "version": "3.7.3"
  },
  "toc": {
   "base_numbering": 1,
   "nav_menu": {},
   "number_sections": true,
   "sideBar": true,
   "skip_h1_title": false,
   "title_cell": "Table of Contents",
   "title_sidebar": "Contents",
   "toc_cell": false,
   "toc_position": {},
   "toc_section_display": true,
   "toc_window_display": true
  },
  "varInspector": {
   "cols": {
    "lenName": 16,
    "lenType": 16,
    "lenVar": 40
   },
   "kernels_config": {
    "python": {
     "delete_cmd_postfix": "",
     "delete_cmd_prefix": "del ",
     "library": "var_list.py",
     "varRefreshCmd": "print(var_dic_list())"
    },
    "r": {
     "delete_cmd_postfix": ") ",
     "delete_cmd_prefix": "rm(",
     "library": "var_list.r",
     "varRefreshCmd": "cat(var_dic_list()) "
    }
   },
   "types_to_exclude": [
    "module",
    "function",
    "builtin_function_or_method",
    "instance",
    "_Feature"
   ],
   "window_display": false
  }
 },
 "nbformat": 4,
 "nbformat_minor": 1
}
