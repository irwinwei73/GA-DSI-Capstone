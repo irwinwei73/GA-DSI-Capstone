{
 "cells": [
  {
   "cell_type": "markdown",
   "metadata": {},
   "source": [
    "# Import Packages"
   ]
  },
  {
   "cell_type": "code",
   "execution_count": 525,
   "metadata": {
    "ExecuteTime": {
     "end_time": "2019-12-03T06:22:10.855698Z",
     "start_time": "2019-12-03T06:22:10.736772Z"
    }
   },
   "outputs": [],
   "source": [
    "import pandas as pd\n",
    "import seaborn as sns\n",
    "import matplotlib.pyplot as plt\n",
    "import math\n",
    "import numpy as np\n",
    "%matplotlib inline\n",
    "%config IPCompleter.greedy=True\n",
    "\n",
    "df = pd.read_csv('../data/df_model_trimmed.csv')\n",
    "\n",
    "sns.set(style='darkgrid')\n",
    "\n",
    "from sklearn.model_selection import train_test_split, GridSearchCV\n",
    "from sklearn.linear_model import LogisticRegression\n",
    "\n",
    "from sklearn.metrics import roc_auc_score, confusion_matrix, f1_score\n",
    "from sklearn.neighbors import KNeighborsClassifier\n",
    "from sklearn.tree import DecisionTreeClassifier\n",
    "from sklearn.svm import SVC\n",
    "from sklearn.ensemble import RandomForestClassifier, ExtraTreesClassifier, AdaBoostClassifier, GradientBoostingClassifier\n",
    "import itertools\n",
    "from collections import Counter\n",
    "pd.options.display.max_columns = 999"
   ]
  },
  {
   "cell_type": "code",
   "execution_count": 482,
   "metadata": {
    "ExecuteTime": {
     "end_time": "2019-12-03T06:18:37.058681Z",
     "start_time": "2019-12-03T06:18:37.001718Z"
    }
   },
   "outputs": [
    {
     "data": {
      "text/html": [
       "<div>\n",
       "<style scoped>\n",
       "    .dataframe tbody tr th:only-of-type {\n",
       "        vertical-align: middle;\n",
       "    }\n",
       "\n",
       "    .dataframe tbody tr th {\n",
       "        vertical-align: top;\n",
       "    }\n",
       "\n",
       "    .dataframe thead th {\n",
       "        text-align: right;\n",
       "    }\n",
       "</style>\n",
       "<table border=\"1\" class=\"dataframe\">\n",
       "  <thead>\n",
       "    <tr style=\"text-align: right;\">\n",
       "      <th></th>\n",
       "      <th>year</th>\n",
       "      <th>company</th>\n",
       "      <th>auwgr</th>\n",
       "      <th>lkpp</th>\n",
       "      <th>hlr_lag1</th>\n",
       "      <th>hlr_lag2</th>\n",
       "      <th>hlr_lag3</th>\n",
       "      <th>hlr_lag4</th>\n",
       "      <th>hlr_lag5</th>\n",
       "      <th>mer</th>\n",
       "      <th>der</th>\n",
       "      <th>oer</th>\n",
       "      <th>prem_write_net_lag1</th>\n",
       "      <th>claim_set_net_lag1</th>\n",
       "      <th>exp_management_lag1</th>\n",
       "      <th>exp_comm_incur_net_lag1</th>\n",
       "      <th>exp_other_lag1</th>\n",
       "      <th>prem_liab_diff_lag1</th>\n",
       "      <th>claim_liab_diff_lag1</th>\n",
       "      <th>uw_gain_lag1</th>\n",
       "      <th>class_bonds</th>\n",
       "      <th>class_cnstr_engr</th>\n",
       "      <th>class_cpr</th>\n",
       "      <th>class_fire</th>\n",
       "      <th>class_health</th>\n",
       "      <th>class_mac</th>\n",
       "      <th>class_mahl</th>\n",
       "      <th>class_motor</th>\n",
       "      <th>class_others</th>\n",
       "      <th>class_pa</th>\n",
       "      <th>class_prof_indm</th>\n",
       "      <th>class_pub_lia</th>\n",
       "      <th>class_wic</th>\n",
       "    </tr>\n",
       "  </thead>\n",
       "  <tbody>\n",
       "    <tr>\n",
       "      <th>0</th>\n",
       "      <td>2005</td>\n",
       "      <td>c166</td>\n",
       "      <td>1.403847</td>\n",
       "      <td>9.746642</td>\n",
       "      <td>-0.653108</td>\n",
       "      <td>-0.67628</td>\n",
       "      <td>-0.702346</td>\n",
       "      <td>-0.71422</td>\n",
       "      <td>-0.734678</td>\n",
       "      <td>-0.295015</td>\n",
       "      <td>0.527893</td>\n",
       "      <td>-0.007879</td>\n",
       "      <td>2.444520e+06</td>\n",
       "      <td>-253062.0</td>\n",
       "      <td>-686827.538462</td>\n",
       "      <td>1.228995e+06</td>\n",
       "      <td>-18342.384615</td>\n",
       "      <td>-14542.307692</td>\n",
       "      <td>16797.923077</td>\n",
       "      <td>2.717538e+06</td>\n",
       "      <td>0</td>\n",
       "      <td>0</td>\n",
       "      <td>0</td>\n",
       "      <td>0</td>\n",
       "      <td>0</td>\n",
       "      <td>0</td>\n",
       "      <td>0</td>\n",
       "      <td>0</td>\n",
       "      <td>0</td>\n",
       "      <td>1</td>\n",
       "      <td>0</td>\n",
       "      <td>0</td>\n",
       "      <td>0</td>\n",
       "    </tr>\n",
       "    <tr>\n",
       "      <th>1</th>\n",
       "      <td>2006</td>\n",
       "      <td>c166</td>\n",
       "      <td>1.897721</td>\n",
       "      <td>4.531747</td>\n",
       "      <td>-0.950801</td>\n",
       "      <td>-0.67628</td>\n",
       "      <td>-0.702346</td>\n",
       "      <td>-0.71422</td>\n",
       "      <td>-0.734678</td>\n",
       "      <td>-0.334269</td>\n",
       "      <td>1.003505</td>\n",
       "      <td>-0.013498</td>\n",
       "      <td>1.663251e+06</td>\n",
       "      <td>-554426.0</td>\n",
       "      <td>-529499.000000</td>\n",
       "      <td>1.589601e+06</td>\n",
       "      <td>-21381.000000</td>\n",
       "      <td>156169.000000</td>\n",
       "      <td>31235.000000</td>\n",
       "      <td>2.334950e+06</td>\n",
       "      <td>0</td>\n",
       "      <td>0</td>\n",
       "      <td>0</td>\n",
       "      <td>0</td>\n",
       "      <td>0</td>\n",
       "      <td>0</td>\n",
       "      <td>0</td>\n",
       "      <td>0</td>\n",
       "      <td>0</td>\n",
       "      <td>1</td>\n",
       "      <td>0</td>\n",
       "      <td>0</td>\n",
       "      <td>0</td>\n",
       "    </tr>\n",
       "  </tbody>\n",
       "</table>\n",
       "</div>"
      ],
      "text/plain": [
       "   year company     auwgr      lkpp  hlr_lag1  hlr_lag2  hlr_lag3  hlr_lag4  \\\n",
       "0  2005    c166  1.403847  9.746642 -0.653108  -0.67628 -0.702346  -0.71422   \n",
       "1  2006    c166  1.897721  4.531747 -0.950801  -0.67628 -0.702346  -0.71422   \n",
       "\n",
       "   hlr_lag5       mer       der       oer  prem_write_net_lag1  \\\n",
       "0 -0.734678 -0.295015  0.527893 -0.007879         2.444520e+06   \n",
       "1 -0.734678 -0.334269  1.003505 -0.013498         1.663251e+06   \n",
       "\n",
       "   claim_set_net_lag1  exp_management_lag1  exp_comm_incur_net_lag1  \\\n",
       "0           -253062.0       -686827.538462             1.228995e+06   \n",
       "1           -554426.0       -529499.000000             1.589601e+06   \n",
       "\n",
       "   exp_other_lag1  prem_liab_diff_lag1  claim_liab_diff_lag1  uw_gain_lag1  \\\n",
       "0   -18342.384615        -14542.307692          16797.923077  2.717538e+06   \n",
       "1   -21381.000000        156169.000000          31235.000000  2.334950e+06   \n",
       "\n",
       "   class_bonds  class_cnstr_engr  class_cpr  class_fire  class_health  \\\n",
       "0            0                 0          0           0             0   \n",
       "1            0                 0          0           0             0   \n",
       "\n",
       "   class_mac  class_mahl  class_motor  class_others  class_pa  \\\n",
       "0          0           0            0             0         1   \n",
       "1          0           0            0             0         1   \n",
       "\n",
       "   class_prof_indm  class_pub_lia  class_wic  \n",
       "0                0              0          0  \n",
       "1                0              0          0  "
      ]
     },
     "execution_count": 482,
     "metadata": {},
     "output_type": "execute_result"
    }
   ],
   "source": [
    "df.head(2)"
   ]
  },
  {
   "cell_type": "code",
   "execution_count": 483,
   "metadata": {
    "ExecuteTime": {
     "end_time": "2019-12-03T06:18:40.795439Z",
     "start_time": "2019-12-03T06:18:40.788444Z"
    }
   },
   "outputs": [
    {
     "data": {
      "text/plain": [
       "(4347, 33)"
      ]
     },
     "execution_count": 483,
     "metadata": {},
     "output_type": "execute_result"
    }
   ],
   "source": [
    "df.shape"
   ]
  },
  {
   "cell_type": "markdown",
   "metadata": {},
   "source": [
    "# Prepare Features and Target"
   ]
  },
  {
   "cell_type": "markdown",
   "metadata": {},
   "source": [
    "## Impute classification\n",
    "Negative class '0': uw_gain < 0\n",
    "Positive class '1': uw_gain >= 0"
   ]
  },
  {
   "cell_type": "code",
   "execution_count": 526,
   "metadata": {
    "ExecuteTime": {
     "end_time": "2019-12-03T06:22:16.114705Z",
     "start_time": "2019-12-03T06:22:16.103712Z"
    }
   },
   "outputs": [],
   "source": [
    "df['classification'] = [0 if i<0 else 1 for i in df['auwgr']]"
   ]
  },
  {
   "cell_type": "code",
   "execution_count": 527,
   "metadata": {
    "ExecuteTime": {
     "end_time": "2019-12-03T06:22:18.381670Z",
     "start_time": "2019-12-03T06:22:18.355690Z"
    }
   },
   "outputs": [
    {
     "name": "stdout",
     "output_type": "stream",
     "text": [
      "1388\n",
      "2959\n"
     ]
    }
   ],
   "source": [
    "print(df[(df['auwgr']<0) & (df['classification']==0)].count().values[0])\n",
    "print(df[(df['auwgr']>=0) & (df['classification']==1)].count().values[0])"
   ]
  },
  {
   "cell_type": "markdown",
   "metadata": {},
   "source": [
    "## Extract Features"
   ]
  },
  {
   "cell_type": "code",
   "execution_count": 528,
   "metadata": {
    "ExecuteTime": {
     "end_time": "2019-12-03T06:22:21.268270Z",
     "start_time": "2019-12-03T06:22:21.260272Z"
    }
   },
   "outputs": [
    {
     "name": "stdout",
     "output_type": "stream",
     "text": [
      "(4347, 34)\n",
      "['lkpp', 'hlr_lag1', 'hlr_lag2', 'hlr_lag3', 'hlr_lag4', 'hlr_lag5', 'mer', 'der', 'oer', 'prem_write_net_lag1', 'claim_set_net_lag1', 'exp_management_lag1', 'exp_comm_incur_net_lag1', 'exp_other_lag1', 'prem_liab_diff_lag1', 'claim_liab_diff_lag1', 'uw_gain_lag1', 'class_bonds', 'class_cnstr_engr', 'class_cpr', 'class_fire', 'class_health', 'class_mac', 'class_mahl', 'class_motor', 'class_others', 'class_pa', 'class_prof_indm', 'class_pub_lia', 'class_wic', 'classification']\n"
     ]
    }
   ],
   "source": [
    "print(df.shape)\n",
    "features = [col for col in df._get_numeric_data().columns if (col != 'auwgr') and (col != 'year')]\n",
    "print(features)"
   ]
  },
  {
   "cell_type": "markdown",
   "metadata": {},
   "source": [
    "**NOTE:**<br>\n",
    "In a previous iteration of feature engineering, the 13 classes of insurance ('class_* ') were dropped. However, this did not appear to have any effect on the accuracy/scores of the models belows. Therefore, we have decided to leave them in for now."
   ]
  },
  {
   "cell_type": "code",
   "execution_count": 529,
   "metadata": {
    "ExecuteTime": {
     "end_time": "2019-12-03T06:22:23.713757Z",
     "start_time": "2019-12-03T06:22:23.699767Z"
    }
   },
   "outputs": [
    {
     "data": {
      "text/plain": [
       "False"
      ]
     },
     "execution_count": 529,
     "metadata": {},
     "output_type": "execute_result"
    }
   ],
   "source": [
    "df.isna().sum().any()"
   ]
  },
  {
   "cell_type": "code",
   "execution_count": 530,
   "metadata": {
    "ExecuteTime": {
     "end_time": "2019-12-03T06:22:25.484666Z",
     "start_time": "2019-12-03T06:22:25.473672Z"
    }
   },
   "outputs": [
    {
     "name": "stdout",
     "output_type": "stream",
     "text": [
      "(4347, 31)\n",
      "(4347,)\n"
     ]
    }
   ],
   "source": [
    "X = df[features]\n",
    "y = df['classification']\n",
    "print(X.shape)\n",
    "print(y.shape)"
   ]
  },
  {
   "cell_type": "markdown",
   "metadata": {},
   "source": [
    "# Baseline Accuracy"
   ]
  },
  {
   "cell_type": "code",
   "execution_count": 531,
   "metadata": {
    "ExecuteTime": {
     "end_time": "2019-12-03T06:22:28.166008Z",
     "start_time": "2019-12-03T06:22:28.152021Z"
    }
   },
   "outputs": [
    {
     "data": {
      "text/plain": [
       "0    0.319301\n",
       "1    0.680699\n",
       "Name: classification, dtype: float64"
      ]
     },
     "execution_count": 531,
     "metadata": {},
     "output_type": "execute_result"
    }
   ],
   "source": [
    "df['classification'].value_counts(normalize=True).sort_index()"
   ]
  },
  {
   "cell_type": "markdown",
   "metadata": {},
   "source": [
    "**Baseline Accuracy is** $0.68$"
   ]
  },
  {
   "cell_type": "markdown",
   "metadata": {},
   "source": [
    "# Models"
   ]
  },
  {
   "cell_type": "markdown",
   "metadata": {},
   "source": [
    "### Train/Test Split"
   ]
  },
  {
   "cell_type": "code",
   "execution_count": 532,
   "metadata": {
    "ExecuteTime": {
     "end_time": "2019-12-03T06:22:36.291404Z",
     "start_time": "2019-12-03T06:22:36.271416Z"
    }
   },
   "outputs": [
    {
     "name": "stdout",
     "output_type": "stream",
     "text": [
      "(3260, 31) (1087, 31)\n",
      "(3260,) (1087,)\n"
     ]
    }
   ],
   "source": [
    "# split data into training and testing sets\n",
    "X_train, X_test, y_train, y_test = train_test_split(X, y, stratify=y, random_state=42)\n",
    "print(X_train.shape,X_test.shape)\n",
    "print(y_train.shape,y_test.shape)"
   ]
  },
  {
   "cell_type": "markdown",
   "metadata": {},
   "source": [
    "## Logistic Regression Classifier"
   ]
  },
  {
   "cell_type": "code",
   "execution_count": 563,
   "metadata": {
    "ExecuteTime": {
     "end_time": "2019-12-03T06:55:24.423497Z",
     "start_time": "2019-12-03T06:55:24.385520Z"
    }
   },
   "outputs": [
    {
     "name": "stdout",
     "output_type": "stream",
     "text": [
      "Score (train):\t 0.6879194630872483\n",
      "Score (test):\t 0.66\n",
      "TP: 35 \tTN: 31\n",
      "FP: 16 \tFN: 18\n",
      "F1: 0.6730769230769231\n",
      "Acc: 0.6599999999999999\n"
     ]
    },
    {
     "name": "stderr",
     "output_type": "stream",
     "text": [
      "C:\\Users\\XXX\\Anaconda3\\lib\\site-packages\\sklearn\\linear_model\\logistic.py:432: FutureWarning: Default solver will be changed to 'lbfgs' in 0.22. Specify a solver to silence this warning.\n",
      "  FutureWarning)\n"
     ]
    }
   ],
   "source": [
    "# lr = LogisticRegression(fit_intercept=False,C=1.0,tol=0.0001,penalty='l2')\n",
    "lr = LogisticRegression()\n",
    "lr.fit(X_train,y_train)\n",
    "print('Score (train):\\t',lr.score(X_train, y_train))\n",
    "print('Score (test):\\t',lr.score(X_test, y_test))\n",
    "# predict & evaluate\n",
    "predictions = lr.predict(X_test)\n",
    "tn, fp, fn, tp = confusion_matrix(y_test, predictions).ravel()\n",
    "print('TP:',tp,'\\tTN:',tn)\n",
    "print('FP:',fp,'\\tFN:',fn)\n",
    "print('F1:',f1_score(y_test, predictions))\n",
    "print('Acc:',1-(fp+fn)/len(predictions))"
   ]
  },
  {
   "cell_type": "markdown",
   "metadata": {},
   "source": [
    "## Decision Tree Classifier"
   ]
  },
  {
   "cell_type": "markdown",
   "metadata": {},
   "source": [
    "### Initial Hyperparameters"
   ]
  },
  {
   "cell_type": "code",
   "execution_count": 562,
   "metadata": {
    "ExecuteTime": {
     "end_time": "2019-12-03T06:55:14.239160Z",
     "start_time": "2019-12-03T06:55:14.219172Z"
    }
   },
   "outputs": [
    {
     "name": "stdout",
     "output_type": "stream",
     "text": [
      "1.0\n",
      "1.0\n"
     ]
    }
   ],
   "source": [
    "dtcf = DecisionTreeClassifier()\n",
    "dtcf.fit(X_train,y_train) # Use un-scaled data\n",
    "# Evaluate model.\n",
    "print(dtcf.score(X_train,y_train))\n",
    "print(dtcf.score(X_test,y_test))"
   ]
  },
  {
   "cell_type": "code",
   "execution_count": 493,
   "metadata": {
    "ExecuteTime": {
     "end_time": "2019-12-03T06:19:29.954229Z",
     "start_time": "2019-12-03T06:19:29.928245Z"
    }
   },
   "outputs": [
    {
     "name": "stdout",
     "output_type": "stream",
     "text": [
      "TP: 740 \tTN: 347\n",
      "FP: 0 \tFN: 0\n",
      "F1: 1.0\n",
      "Acc: 1.0\n"
     ]
    }
   ],
   "source": [
    "# predict & evaluate\n",
    "predictions = dtcf.predict(X_test)\n",
    "tn, fp, fn, tp = confusion_matrix(y_test, predictions).ravel()\n",
    "print('TP:',tp,'\\tTN:',tn)\n",
    "print('FP:',fp,'\\tFN:',fn)\n",
    "print('F1:',f1_score(y_test, predictions))\n",
    "print('Acc:',1-(fp+fn)/len(predictions))"
   ]
  },
  {
   "cell_type": "markdown",
   "metadata": {},
   "source": [
    "### GridSearchCV"
   ]
  },
  {
   "cell_type": "code",
   "execution_count": null,
   "metadata": {
    "ExecuteTime": {
     "end_time": "2019-11-30T13:35:28.992455Z",
     "start_time": "2019-11-30T13:35:28.987458Z"
    }
   },
   "outputs": [],
   "source": [
    "# param_grid = [{'max_depth':range(2,1000),\n",
    "#                'min_samples_split':range(2,21)\n",
    "#               }]\n",
    "# reg = GridSearchCV(DecisionTreeRegressor(), param_grid, cv=5)\n",
    "# reg.fit(X_train, y_train)\n",
    "# reg.best_params_"
   ]
  },
  {
   "cell_type": "code",
   "execution_count": null,
   "metadata": {
    "ExecuteTime": {
     "end_time": "2019-11-30T13:35:29.022436Z",
     "start_time": "2019-11-30T13:35:28.996452Z"
    }
   },
   "outputs": [],
   "source": [
    "# dtreg = DecisionTreeRegressor(max_depth=2, min_samples_split=15)\n",
    "# dtreg.fit(X_train,y_train) # Use un-scaled data\n",
    "# # Evaluate model.\n",
    "# print(dtreg.score(X_train,y_train))\n",
    "# print(dtreg.score(X_test,y_test))"
   ]
  },
  {
   "cell_type": "markdown",
   "metadata": {},
   "source": [
    "## Random Forest Classifier"
   ]
  },
  {
   "cell_type": "markdown",
   "metadata": {},
   "source": [
    "### Initial Hyperparameters"
   ]
  },
  {
   "cell_type": "code",
   "execution_count": 551,
   "metadata": {
    "ExecuteTime": {
     "end_time": "2019-12-03T06:54:52.765108Z",
     "start_time": "2019-12-03T06:54:52.712146Z"
    }
   },
   "outputs": [
    {
     "name": "stdout",
     "output_type": "stream",
     "text": [
      "1.0\n",
      "0.94\n"
     ]
    },
    {
     "name": "stderr",
     "output_type": "stream",
     "text": [
      "C:\\Users\\XXX\\Anaconda3\\lib\\site-packages\\sklearn\\ensemble\\forest.py:245: FutureWarning: The default value of n_estimators will change from 10 in version 0.20 to 100 in 0.22.\n",
      "  \"10 in version 0.20 to 100 in 0.22.\", FutureWarning)\n"
     ]
    }
   ],
   "source": [
    "rfcf = RandomForestClassifier()\n",
    "rfcf.fit(X_train,y_train)\n",
    "# Evaluate model\n",
    "print(rfcf.score(X_train,y_train))\n",
    "print(rfcf.score(X_test,y_test))"
   ]
  },
  {
   "cell_type": "markdown",
   "metadata": {},
   "source": [
    "### GridSearchCV"
   ]
  },
  {
   "cell_type": "code",
   "execution_count": null,
   "metadata": {
    "ExecuteTime": {
     "end_time": "2019-11-30T13:35:29.819947Z",
     "start_time": "2019-11-30T13:35:29.814950Z"
    }
   },
   "outputs": [],
   "source": [
    "# param_grid = [{'n_estimators':[50,100,200],\n",
    "#                'max_depth':range(2,50),\n",
    "#                'min_samples_split':range(2,20),\n",
    "#                'oob_score':[True]\n",
    "#               }]\n",
    "# reg = GridSearchCV(RandomForestRegressor(), param_grid, cv=5)\n",
    "# reg.fit(X_train, y_train)\n",
    "# reg.best_params_"
   ]
  },
  {
   "cell_type": "code",
   "execution_count": null,
   "metadata": {
    "ExecuteTime": {
     "end_time": "2019-11-30T13:35:29.831941Z",
     "start_time": "2019-11-30T13:35:29.823944Z"
    }
   },
   "outputs": [],
   "source": [
    "# rfreg = RandomForestRegressor(n_estimators=100,max_depth=2,min_samples_split=10,oob_score=True)\n",
    "# rfreg.fit(X_train,y_train) # Use un-scaled data\n",
    "# # Evaluate model\n",
    "# print(rfreg.score(X_train,y_train))\n",
    "# print(rfreg.score(X_test,y_test))"
   ]
  },
  {
   "cell_type": "markdown",
   "metadata": {},
   "source": [
    "## Extra Trees Classifier"
   ]
  },
  {
   "cell_type": "markdown",
   "metadata": {},
   "source": [
    "### Initial Hyperparameters"
   ]
  },
  {
   "cell_type": "code",
   "execution_count": 499,
   "metadata": {
    "ExecuteTime": {
     "end_time": "2019-12-03T06:19:59.181918Z",
     "start_time": "2019-12-03T06:19:58.517822Z"
    }
   },
   "outputs": [
    {
     "name": "stdout",
     "output_type": "stream",
     "text": [
      "1.0\n",
      "1.0\n"
     ]
    }
   ],
   "source": [
    "etcf = ExtraTreesClassifier(bootstrap=True,oob_score=True,warm_start=False,n_estimators=100)\n",
    "etcf.fit(X_train,y_train)\n",
    "# Evaluate Model\n",
    "print(etcf.score(X_train,y_train))\n",
    "print(etcf.score(X_test,y_test))"
   ]
  },
  {
   "cell_type": "markdown",
   "metadata": {},
   "source": [
    "### GridSearchCV"
   ]
  },
  {
   "cell_type": "markdown",
   "metadata": {},
   "source": [
    "The following Grid Search was carried out on Google Colab."
   ]
  },
  {
   "cell_type": "code",
   "execution_count": null,
   "metadata": {
    "ExecuteTime": {
     "end_time": "2019-11-30T13:35:31.926656Z",
     "start_time": "2019-11-30T13:35:31.919662Z"
    }
   },
   "outputs": [],
   "source": [
    "# params = [{'n_estimators':[100,200,300],\n",
    "#                'max_depth':range(2,10),\n",
    "#                'min_samples_split':range(2,20),\n",
    "#                'oob_score':[True],\n",
    "#                'bootstrap':[True]\n",
    "#               }]\n",
    "\n",
    "# gs = GridSearchCV(ExtraTreesClassifier(), param_grid=params, cv=5)\n",
    "# gs.fit(X_train, y_train)\n",
    "# gs.best_params_"
   ]
  },
  {
   "cell_type": "markdown",
   "metadata": {},
   "source": [
    "The Grid Search returned the following best_params_:<br>\n",
    "*{'bootstrap': True,\n",
    " 'max_depth': 2,\n",
    " 'min_samples_split': 2,\n",
    " 'n_estimators': 100,\n",
    " 'oob_score': True}*"
   ]
  },
  {
   "cell_type": "code",
   "execution_count": 523,
   "metadata": {
    "ExecuteTime": {
     "end_time": "2019-12-03T06:21:34.586943Z",
     "start_time": "2019-12-03T06:21:33.282982Z"
    }
   },
   "outputs": [
    {
     "name": "stdout",
     "output_type": "stream",
     "text": [
      "Score (train):\t 1.0\n",
      "Score (test):\t 1.0\n",
      "TP: 740 \tTN: 347\n",
      "FP: 0 \tFN: 0\n",
      "F1: 1.0\n",
      "Acc: 1.0\n"
     ]
    }
   ],
   "source": [
    "# use the best_params_ given by the Grid Search above - \n",
    "etcf = ExtraTreesClassifier(bootstrap=True,max_depth=2,min_samples_split=2,n_estimators=250,oob_score=True)\n",
    "etcf.fit(X_train,y_train)\n",
    "print('Score (train):\\t',etcf.score(X_train, y_train))\n",
    "print('Score (test):\\t',etcf.score(X_test, y_test))\n",
    "# predict & evaluate\n",
    "predictions = etcf.predict(X_test)\n",
    "tn, fp, fn, tp = confusion_matrix(y_test, predictions).ravel()\n",
    "print('TP:',tp,'\\tTN:',tn)\n",
    "print('FP:',fp,'\\tFN:',fn)\n",
    "print('F1:',f1_score(y_test, predictions))\n",
    "print('Acc:',1-(fp+fn)/len(predictions))"
   ]
  },
  {
   "cell_type": "markdown",
   "metadata": {},
   "source": [
    "### Classify for each insurance type"
   ]
  },
  {
   "cell_type": "code",
   "execution_count": 547,
   "metadata": {
    "ExecuteTime": {
     "end_time": "2019-12-03T06:46:44.907249Z",
     "start_time": "2019-12-03T06:24:44.463004Z"
    },
    "scrolled": true
   },
   "outputs": [
    {
     "name": "stdout",
     "output_type": "stream",
     "text": [
      "Baseline accuracy for \"class_bonds\": 0.7591836734693878\n",
      "Shape (train/test): (183, 31) (62, 31)\n",
      "Score (min/max): 0.7741935483870968  ,  0.967741935483871\n"
     ]
    },
    {
     "data": {
      "image/png": "[encoded data removed]",
      "text/plain": [
       "<Figure size 432x288 with 1 Axes>"
      ]
     },
     "metadata": {},
     "output_type": "display_data"
    },
    {
     "name": "stdout",
     "output_type": "stream",
     "text": [
      "Baseline accuracy for \"class_cnstr_engr\": 0.7380952380952381\n",
      "Shape (train/test): (220, 31) (74, 31)\n",
      "Score (min/max): 0.7432432432432432  ,  1.0\n"
     ]
    },
    {
     "data": {
      "image/png": "[encoded data removed]",
      "text/plain": [
       "<Figure size 432x288 with 1 Axes>"
      ]
     },
     "metadata": {},
     "output_type": "display_data"
    },
    {
     "name": "stdout",
     "output_type": "stream",
     "text": [
      "Baseline accuracy for \"class_cpr\": 0.5176470588235295\n",
      "Shape (train/test): (63, 31) (22, 31)\n",
      "Score (min/max): 0.9545454545454546  ,  1.0\n"
     ]
    },
    {
     "data": {
      "image/png": "[encoded data removed]",
      "text/plain": [
       "<Figure size 432x288 with 1 Axes>"
      ]
     },
     "metadata": {},
     "output_type": "display_data"
    },
    {
     "name": "stdout",
     "output_type": "stream",
     "text": [
      "Baseline accuracy for \"class_fire\": 0.7475915221579962\n",
      "Shape (train/test): (389, 31) (130, 31)\n",
      "Score (min/max): 0.7538461538461538  ,  1.0\n"
     ]
    },
    {
     "data": {
      "image/png": "[encoded data removed]",
      "text/plain": [
       "<Figure size 432x288 with 1 Axes>"
      ]
     },
     "metadata": {},
     "output_type": "display_data"
    },
    {
     "name": "stdout",
     "output_type": "stream",
     "text": [
      "Baseline accuracy for \"class_health\": 0.6423357664233577\n",
      "Shape (train/test): (205, 31) (69, 31)\n",
      "Score (min/max): 0.9130434782608695  ,  1.0\n"
     ]
    },
    {
     "data": {
      "image/png": "[encoded data removed]",
      "text/plain": [
       "<Figure size 432x288 with 1 Axes>"
      ]
     },
     "metadata": {},
     "output_type": "display_data"
    },
    {
     "name": "stdout",
     "output_type": "stream",
     "text": [
      "Baseline accuracy for \"class_mac\": 0.7645739910313901\n",
      "Shape (train/test): (334, 31) (112, 31)\n",
      "Score (min/max): 0.7767857142857143  ,  0.9821428571428571\n"
     ]
    },
    {
     "data": {
      "image/png": "[encoded data removed]",
      "text/plain": [
       "<Figure size 432x288 with 1 Axes>"
      ]
     },
     "metadata": {},
     "output_type": "display_data"
    },
    {
     "name": "stdout",
     "output_type": "stream",
     "text": [
      "Baseline accuracy for \"class_mahl\": 0.5260416666666666\n",
      "Shape (train/test): (288, 31) (96, 31)\n",
      "Score (min/max): 1.0  ,  1.0\n"
     ]
    },
    {
     "data": {
      "image/png": "[encoded data removed]",
      "text/plain": [
       "<Figure size 432x288 with 1 Axes>"
      ]
     },
     "metadata": {},
     "output_type": "display_data"
    },
    {
     "name": "stdout",
     "output_type": "stream",
     "text": [
      "Baseline accuracy for \"class_motor\": 0.5229007633587787\n",
      "Shape (train/test): (196, 31) (66, 31)\n",
      "Score (min/max): 1.0  ,  1.0\n"
     ]
    },
    {
     "data": {
      "image/png": "[encoded data removed]",
      "text/plain": [
       "<Figure size 432x288 with 1 Axes>"
      ]
     },
     "metadata": {},
     "output_type": "display_data"
    },
    {
     "name": "stdout",
     "output_type": "stream",
     "text": [
      "Baseline accuracy for \"class_others\": 0.7834821428571429\n",
      "Shape (train/test): (336, 31) (112, 31)\n",
      "Score (min/max): 0.7946428571428571  ,  1.0\n"
     ]
    },
    {
     "data": {
      "image/png": "[encoded data removed]",
      "text/plain": [
       "<Figure size 432x288 with 1 Axes>"
      ]
     },
     "metadata": {},
     "output_type": "display_data"
    },
    {
     "name": "stdout",
     "output_type": "stream",
     "text": [
      "Baseline accuracy for \"class_pa\": 0.7356948228882834\n",
      "Shape (train/test): (275, 31) (92, 31)\n",
      "Score (min/max): 0.75  ,  1.0\n"
     ]
    },
    {
     "data": {
      "image/png": "[encoded data removed]",
      "text/plain": [
       "<Figure size 432x288 with 1 Axes>"
      ]
     },
     "metadata": {},
     "output_type": "display_data"
    },
    {
     "name": "stdout",
     "output_type": "stream",
     "text": [
      "Baseline accuracy for \"class_prof_indm\": 0.6886446886446886\n",
      "Shape (train/test): (204, 31) (69, 31)\n",
      "Score (min/max): 0.8115942028985508  ,  1.0\n"
     ]
    },
    {
     "data": {
      "image/png": "[encoded data removed]",
      "text/plain": [
       "<Figure size 432x288 with 1 Axes>"
      ]
     },
     "metadata": {},
     "output_type": "display_data"
    },
    {
     "name": "stdout",
     "output_type": "stream",
     "text": [
      "Baseline accuracy for \"class_pub_lia\": 0.7443181818181818\n",
      "Shape (train/test): (264, 31) (88, 31)\n",
      "Score (min/max): 0.75  ,  0.9772727272727273\n"
     ]
    },
    {
     "data": {
      "image/png": "[encoded data removed]",
      "text/plain": [
       "<Figure size 432x288 with 1 Axes>"
      ]
     },
     "metadata": {},
     "output_type": "display_data"
    },
    {
     "name": "stdout",
     "output_type": "stream",
     "text": [
      "Baseline accuracy for \"class_wic\": 0.5251256281407035\n",
      "Shape (train/test): (298, 31) (100, 31)\n",
      "Score (min/max): 1.0  ,  1.0\n"
     ]
    },
    {
     "data": {
      "image/png": "[encoded data removed]",
      "text/plain": [
       "<Figure size 432x288 with 1 Axes>"
      ]
     },
     "metadata": {},
     "output_type": "display_data"
    }
   ],
   "source": [
    "ins_classes = ['class_bonds','class_cnstr_engr','class_cpr','class_fire','class_health',\n",
    "               'class_mac','class_mahl','class_motor','class_others','class_pa',\n",
    "               'class_prof_indm','class_pub_lia','class_wic']\n",
    "\n",
    "df_full = pd.read_csv('../data/df_model_trimmed.csv')\n",
    "df_full['classification'] = [0 if i<0 else 1 for i in df_full['auwgr']]\n",
    "\n",
    "for ins_class_item in ins_classes:\n",
    "    \n",
    "    df = df_full[df_full[ins_class_item]==1].copy()\n",
    "    \n",
    "    baseline = max(df['classification'].value_counts(normalize=True).sort_values())\n",
    "    print('Baseline accuracy for \"'+ins_class_item+'\":',baseline)\n",
    "    \n",
    "    features = [col for col in df._get_numeric_data().columns if (col != 'auwgr') and (col != 'year')]\n",
    "    X = df[features]\n",
    "    y = df['classification']\n",
    "    X_train, X_test, y_train, y_test = train_test_split(X, y, stratify=y)\n",
    "    print('Shape (train/test):',X_train.shape,X_test.shape)\n",
    "\n",
    "    score_list=[]\n",
    "    for i in np.arange(0,100,1):\n",
    "        etcf = ExtraTreesClassifier(bootstrap=True,max_depth=2,min_samples_split=2,n_estimators=350,oob_score=True,random_state=i)\n",
    "        etcf.fit(X_train,y_train)\n",
    "        score_list.append(etcf.score(X_test, y_test))\n",
    "\n",
    "    print('Score (min/max):',min(score_list),' , ',max(score_list))\n",
    "    plt.hist(score_list,bins=10,align='left')\n",
    "    plt.vlines(x=baseline,ymin=0,ymax=45,colors='r',linestyles='dashed')\n",
    "    plt.show()"
   ]
  },
  {
   "cell_type": "code",
   "execution_count": null,
   "metadata": {},
   "outputs": [],
   "source": []
  },
  {
   "cell_type": "code",
   "execution_count": null,
   "metadata": {},
   "outputs": [],
   "source": []
  },
  {
   "cell_type": "code",
   "execution_count": null,
   "metadata": {},
   "outputs": [],
   "source": []
  },
  {
   "cell_type": "markdown",
   "metadata": {},
   "source": [
    "## K Nearest Neighbors Classifier"
   ]
  },
  {
   "cell_type": "code",
   "execution_count": 546,
   "metadata": {
    "ExecuteTime": {
     "end_time": "2019-12-03T06:24:28.007772Z",
     "start_time": "2019-12-03T06:24:27.379999Z"
    }
   },
   "outputs": [
    {
     "name": "stdout",
     "output_type": "stream",
     "text": [
      "0.7530674846625767\n",
      "0.7046918123275069\n"
     ]
    }
   ],
   "source": [
    "knncf = KNeighborsClassifier(n_neighbors=11)\n",
    "knncf.fit(X_train,y_train)\n",
    "# Evaluate Model\n",
    "print(knncf.score(X_train,y_train))\n",
    "print(knncf.score(X_test,y_test))"
   ]
  },
  {
   "cell_type": "markdown",
   "metadata": {},
   "source": [
    "## Support Vector Classifier"
   ]
  },
  {
   "cell_type": "code",
   "execution_count": 545,
   "metadata": {
    "ExecuteTime": {
     "end_time": "2019-12-03T06:24:21.063113Z",
     "start_time": "2019-12-03T06:24:19.694169Z"
    }
   },
   "outputs": [
    {
     "name": "stdout",
     "output_type": "stream",
     "text": [
      "0.7079754601226994\n",
      "0.702851885924563\n"
     ]
    }
   ],
   "source": [
    "svcf = SVC(gamma='scale')\n",
    "svcf.fit(X_train,y_train)\n",
    "# Evaluate Model\n",
    "print(svcf.score(X_train,y_train))\n",
    "print(svcf.score(X_test,y_test))"
   ]
  },
  {
   "cell_type": "markdown",
   "metadata": {},
   "source": [
    "## AdaBoost Classifier"
   ]
  },
  {
   "cell_type": "code",
   "execution_count": 544,
   "metadata": {
    "ExecuteTime": {
     "end_time": "2019-12-03T06:24:16.608765Z",
     "start_time": "2019-12-03T06:24:16.549801Z"
    }
   },
   "outputs": [
    {
     "name": "stdout",
     "output_type": "stream",
     "text": [
      "1.0\n",
      "1.0\n",
      "TP: 740 \tTN: 347\n",
      "FP: 0 \tFN: 0\n",
      "F1: 1.0\n",
      "Acc: 1.0\n"
     ]
    }
   ],
   "source": [
    "abcf= AdaBoostClassifier(base_estimator=DecisionTreeClassifier())\n",
    "abcf.fit(X_train,y_train)\n",
    "print(abcf.score(X_train,y_train))\n",
    "print(abcf.score(X_test,y_test))\n",
    "predictions = abcf.predict(X_test)\n",
    "tn, fp, fn, tp = confusion_matrix(y_test, predictions).ravel()\n",
    "print('TP:',tp,'\\tTN:',tn)\n",
    "print('FP:',fp,'\\tFN:',fn)\n",
    "print('F1:',f1_score(y_test, predictions))\n",
    "print('Acc:',1-(fp+fn)/len(predictions))"
   ]
  },
  {
   "cell_type": "markdown",
   "metadata": {},
   "source": [
    "## Gradient Boosting Classifier"
   ]
  },
  {
   "cell_type": "code",
   "execution_count": 543,
   "metadata": {
    "ExecuteTime": {
     "end_time": "2019-12-03T06:24:13.446494Z",
     "start_time": "2019-12-03T06:24:13.012205Z"
    }
   },
   "outputs": [
    {
     "name": "stdout",
     "output_type": "stream",
     "text": [
      "1.0\n",
      "1.0\n",
      "TP: 740 \tTN: 347\n",
      "FP: 0 \tFN: 0\n",
      "F1: 1.0\n",
      "Acc: 1.0\n"
     ]
    }
   ],
   "source": [
    "gbcf = GradientBoostingClassifier()\n",
    "gbcf.fit(X_train,y_train)\n",
    "print(gbcf.score(X_train,y_train))\n",
    "print(gbcf.score(X_test,y_test))\n",
    "# predict & evaluate\n",
    "predictions = gbcf.predict(X_test)\n",
    "tn, fp, fn, tp = confusion_matrix(y_test, predictions).ravel()\n",
    "print('TP:',tp,'\\tTN:',tn)\n",
    "print('FP:',fp,'\\tFN:',fn)\n",
    "print('F1:',f1_score(y_test, predictions))\n",
    "print('Acc:',1-(fp+fn)/len(predictions))"
   ]
  }
 ],
 "metadata": {
  "kernelspec": {
   "display_name": "Python 3",
   "language": "python",
   "name": "python3"
  },
  "language_info": {
   "codemirror_mode": {
    "name": "ipython",
    "version": 3
   },
   "file_extension": ".py",
   "mimetype": "text/x-python",
   "name": "python",
   "nbconvert_exporter": "python",
   "pygments_lexer": "ipython3",
   "version": "3.7.3"
  },
  "toc": {
   "base_numbering": 1,
   "nav_menu": {},
   "number_sections": true,
   "sideBar": true,
   "skip_h1_title": false,
   "title_cell": "Table of Contents",
   "title_sidebar": "Contents",
   "toc_cell": false,
   "toc_position": {
    "height": "calc(100% - 180px)",
    "left": "10px",
    "top": "150px",
    "width": "265px"
   },
   "toc_section_display": true,
   "toc_window_display": true
  },
  "varInspector": {
   "cols": {
    "lenName": 16,
    "lenType": 16,
    "lenVar": 40
   },
   "kernels_config": {
    "python": {
     "delete_cmd_postfix": "",
     "delete_cmd_prefix": "del ",
     "library": "var_list.py",
     "varRefreshCmd": "print(var_dic_list())"
    },
    "r": {
     "delete_cmd_postfix": ") ",
     "delete_cmd_prefix": "rm(",
     "library": "var_list.r",
     "varRefreshCmd": "cat(var_dic_list()) "
    }
   },
   "oldHeight": 390,
   "position": {
    "height": "40px",
    "left": "679px",
    "right": "20px",
    "top": "6px",
    "width": "580px"
   },
   "types_to_exclude": [
    "module",
    "function",
    "builtin_function_or_method",
    "instance",
    "_Feature"
   ],
   "varInspector_section_display": "none",
   "window_display": true
  }
 },
 "nbformat": 4,
 "nbformat_minor": 2
}
